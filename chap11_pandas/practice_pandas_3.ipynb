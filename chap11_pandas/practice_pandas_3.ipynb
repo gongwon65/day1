{
  "cells": [
    {
      "cell_type": "markdown",
      "metadata": {
        "id": "vN2D9cmLHZ3_"
      },
      "source": [
        "# (실습) 데이터프레임 중심 프로그래밍"
      ]
    },
    {
      "cell_type": "code",
      "execution_count": 28,
      "metadata": {
        "id": "6npwBU-pXKc1"
      },
      "outputs": [],
      "source": [
        "import numpy as np\n",
        "import pandas as pd"
      ]
    },
    {
      "cell_type": "markdown",
      "metadata": {
        "id": "UAmW-dG6BhUI"
      },
      "source": [
        "**문제 1**"
      ]
    },
    {
      "cell_type": "markdown",
      "metadata": {
        "id": "jhZpoc8kXA8u"
      },
      "source": [
        "아래의 딕셔너리 `data`를 이용하여 데이터프레임`df1`를 생성하라."
      ]
    },
    {
      "cell_type": "code",
      "execution_count": 29,
      "metadata": {
        "id": "u-2gZxvtLoUF"
      },
      "outputs": [],
      "source": [
        "data = {'A': [0, 5, 15, 20, 25, 30, 35, 40],\n",
        "        'B' : [1, 2, 3, 4, 5, 6, 7, 8]}"
      ]
    },
    {
      "cell_type": "code",
      "execution_count": 49,
      "metadata": {
        "id": "TtJ9dejYJYxV"
      },
      "outputs": [
        {
          "data": {
            "text/html": [
              "<div>\n",
              "<style scoped>\n",
              "    .dataframe tbody tr th:only-of-type {\n",
              "        vertical-align: middle;\n",
              "    }\n",
              "\n",
              "    .dataframe tbody tr th {\n",
              "        vertical-align: top;\n",
              "    }\n",
              "\n",
              "    .dataframe thead th {\n",
              "        text-align: right;\n",
              "    }\n",
              "</style>\n",
              "<table border=\"1\" class=\"dataframe\">\n",
              "  <thead>\n",
              "    <tr style=\"text-align: right;\">\n",
              "      <th></th>\n",
              "      <th>A</th>\n",
              "      <th>B</th>\n",
              "    </tr>\n",
              "  </thead>\n",
              "  <tbody>\n",
              "    <tr>\n",
              "      <th>0</th>\n",
              "      <td>0</td>\n",
              "      <td>1</td>\n",
              "    </tr>\n",
              "    <tr>\n",
              "      <th>1</th>\n",
              "      <td>5</td>\n",
              "      <td>2</td>\n",
              "    </tr>\n",
              "    <tr>\n",
              "      <th>2</th>\n",
              "      <td>15</td>\n",
              "      <td>3</td>\n",
              "    </tr>\n",
              "    <tr>\n",
              "      <th>3</th>\n",
              "      <td>20</td>\n",
              "      <td>4</td>\n",
              "    </tr>\n",
              "    <tr>\n",
              "      <th>4</th>\n",
              "      <td>25</td>\n",
              "      <td>5</td>\n",
              "    </tr>\n",
              "    <tr>\n",
              "      <th>5</th>\n",
              "      <td>30</td>\n",
              "      <td>6</td>\n",
              "    </tr>\n",
              "    <tr>\n",
              "      <th>6</th>\n",
              "      <td>35</td>\n",
              "      <td>7</td>\n",
              "    </tr>\n",
              "    <tr>\n",
              "      <th>7</th>\n",
              "      <td>40</td>\n",
              "      <td>8</td>\n",
              "    </tr>\n",
              "  </tbody>\n",
              "</table>\n",
              "</div>"
            ],
            "text/plain": [
              "    A  B\n",
              "0   0  1\n",
              "1   5  2\n",
              "2  15  3\n",
              "3  20  4\n",
              "4  25  5\n",
              "5  30  6\n",
              "6  35  7\n",
              "7  40  8"
            ]
          },
          "execution_count": 49,
          "metadata": {},
          "output_type": "execute_result"
        }
      ],
      "source": [
        "# None 을 적절한 표현식으로 대체하라.\n",
        "\n",
        "df1 = pd.DataFrame(data)\n",
        "\n",
        "df1"
      ]
    },
    {
      "cell_type": "markdown",
      "metadata": {
        "id": "BRBo8WAiJYxW"
      },
      "source": [
        "**문제 2**"
      ]
    },
    {
      "cell_type": "markdown",
      "metadata": {
        "id": "JfBtyh2QZ_6f"
      },
      "source": [
        "다음 두 리스트를 이용하여 `C`와 `D`열을 `df1`에 추가하라."
      ]
    },
    {
      "cell_type": "code",
      "execution_count": 31,
      "metadata": {
        "id": "QUZtSaA7LzH7"
      },
      "outputs": [],
      "source": [
        "C = [3, 3, 3, 3, 3, 3, 3, 3]\n",
        "D = [4, 2, 9, 1, 20, 3, 15, 17]"
      ]
    },
    {
      "cell_type": "code",
      "execution_count": 52,
      "metadata": {
        "id": "bhP97PWmJYxX"
      },
      "outputs": [
        {
          "data": {
            "text/html": [
              "<div>\n",
              "<style scoped>\n",
              "    .dataframe tbody tr th:only-of-type {\n",
              "        vertical-align: middle;\n",
              "    }\n",
              "\n",
              "    .dataframe tbody tr th {\n",
              "        vertical-align: top;\n",
              "    }\n",
              "\n",
              "    .dataframe thead th {\n",
              "        text-align: right;\n",
              "    }\n",
              "</style>\n",
              "<table border=\"1\" class=\"dataframe\">\n",
              "  <thead>\n",
              "    <tr style=\"text-align: right;\">\n",
              "      <th></th>\n",
              "      <th>A</th>\n",
              "      <th>B</th>\n",
              "      <th>C</th>\n",
              "      <th>D</th>\n",
              "    </tr>\n",
              "  </thead>\n",
              "  <tbody>\n",
              "    <tr>\n",
              "      <th>0</th>\n",
              "      <td>0</td>\n",
              "      <td>1</td>\n",
              "      <td>3</td>\n",
              "      <td>4</td>\n",
              "    </tr>\n",
              "    <tr>\n",
              "      <th>1</th>\n",
              "      <td>5</td>\n",
              "      <td>2</td>\n",
              "      <td>3</td>\n",
              "      <td>2</td>\n",
              "    </tr>\n",
              "    <tr>\n",
              "      <th>2</th>\n",
              "      <td>15</td>\n",
              "      <td>3</td>\n",
              "      <td>3</td>\n",
              "      <td>9</td>\n",
              "    </tr>\n",
              "    <tr>\n",
              "      <th>3</th>\n",
              "      <td>20</td>\n",
              "      <td>4</td>\n",
              "      <td>3</td>\n",
              "      <td>1</td>\n",
              "    </tr>\n",
              "    <tr>\n",
              "      <th>4</th>\n",
              "      <td>25</td>\n",
              "      <td>5</td>\n",
              "      <td>3</td>\n",
              "      <td>20</td>\n",
              "    </tr>\n",
              "    <tr>\n",
              "      <th>5</th>\n",
              "      <td>30</td>\n",
              "      <td>6</td>\n",
              "      <td>3</td>\n",
              "      <td>3</td>\n",
              "    </tr>\n",
              "    <tr>\n",
              "      <th>6</th>\n",
              "      <td>35</td>\n",
              "      <td>7</td>\n",
              "      <td>3</td>\n",
              "      <td>15</td>\n",
              "    </tr>\n",
              "    <tr>\n",
              "      <th>7</th>\n",
              "      <td>40</td>\n",
              "      <td>8</td>\n",
              "      <td>3</td>\n",
              "      <td>17</td>\n",
              "    </tr>\n",
              "  </tbody>\n",
              "</table>\n",
              "</div>"
            ],
            "text/plain": [
              "    A  B  C   D\n",
              "0   0  1  3   4\n",
              "1   5  2  3   2\n",
              "2  15  3  3   9\n",
              "3  20  4  3   1\n",
              "4  25  5  3  20\n",
              "5  30  6  3   3\n",
              "6  35  7  3  15\n",
              "7  40  8  3  17"
            ]
          },
          "execution_count": 52,
          "metadata": {},
          "output_type": "execute_result"
        }
      ],
      "source": [
        "# pass 를 적절한 명령문으로 대체하라.\n",
        "\n",
        "df1['C'] = C\n",
        "df1['D'] = D\n",
        "\n",
        "df1"
      ]
    },
    {
      "cell_type": "markdown",
      "metadata": {
        "id": "CnKkeUL5JYxX"
      },
      "source": [
        "**문제 3**"
      ]
    },
    {
      "cell_type": "markdown",
      "metadata": {
        "id": "NpreNqo_ZuBJ"
      },
      "source": [
        "`df1`의 각 열의 합을 계산하는 한줄 코드를 작성하라."
      ]
    },
    {
      "cell_type": "code",
      "execution_count": null,
      "metadata": {
        "id": "pgq1TBj6a59k"
      },
      "outputs": [
        {
          "ename": "TypeError",
          "evalue": "DataFrame.add() missing 1 required positional argument: 'other'",
          "output_type": "error",
          "traceback": [
            "\u001b[31m---------------------------------------------------------------------------\u001b[39m",
            "\u001b[31mTypeError\u001b[39m                                 Traceback (most recent call last)",
            "\u001b[36mCell\u001b[39m\u001b[36m \u001b[39m\u001b[32mIn[60]\u001b[39m\u001b[32m, line 3\u001b[39m\n\u001b[32m      1\u001b[39m \u001b[38;5;66;03m# pass 를 한줄 코드로 대체하라.\u001b[39;00m\n\u001b[32m----> \u001b[39m\u001b[32m3\u001b[39m \u001b[43mdf1\u001b[49m\u001b[43m.\u001b[49m\u001b[43madd\u001b[49m\u001b[43m(\u001b[49m\u001b[43maxis\u001b[49m\u001b[43m=\u001b[49m\u001b[32;43m1\u001b[39;49m\u001b[43m)\u001b[49m\n",
            "\u001b[31mTypeError\u001b[39m: DataFrame.add() missing 1 required positional argument: 'other'"
          ]
        }
      ],
      "source": [
        "# pass 를 한줄 코드로 대체하라.\n",
        "\n",
        "df1.add()"
      ]
    },
    {
      "cell_type": "markdown",
      "metadata": {
        "id": "yW4xVKZ5JYxX"
      },
      "source": [
        "**문제 4**"
      ]
    },
    {
      "cell_type": "markdown",
      "metadata": {
        "id": "93-CWTIgJYxX"
      },
      "source": [
        "`df1`의 각 행의 합을 계산하는 한줄 코드를 작성하라."
      ]
    },
    {
      "cell_type": "code",
      "execution_count": 34,
      "metadata": {
        "id": "y-8z8yqJJYxY"
      },
      "outputs": [],
      "source": [
        "# pass 를 한줄 코드로 대체하라.\n"
      ]
    },
    {
      "cell_type": "markdown",
      "metadata": {
        "id": "MdXyHAwUJYxY"
      },
      "source": [
        "**문제 5**"
      ]
    },
    {
      "cell_type": "markdown",
      "metadata": {
        "id": "rYOj3OZjbcF_"
      },
      "source": [
        "`A`, `B`, `D`열에서 행 인덱스가 2, 3, 4인 자료를 추출하는\n",
        "한줄 코드를 작성하라."
      ]
    },
    {
      "cell_type": "code",
      "execution_count": 35,
      "metadata": {
        "id": "-PYxZRHpJYxY"
      },
      "outputs": [],
      "source": [
        "# pass 를 한줄 코드로 대체하라.\n",
        "\n",
        "pass"
      ]
    },
    {
      "cell_type": "markdown",
      "metadata": {
        "id": "GwNMNAIhJYxY"
      },
      "source": [
        "**문제 6**"
      ]
    },
    {
      "cell_type": "markdown",
      "metadata": {
        "id": "kCUmr5xTbfrG"
      },
      "source": [
        "`df1`에 `K`열을 추가하여라. 이때, `K`열의 각 항목은 `B`열의 각 항목 곱하기 3이다."
      ]
    },
    {
      "cell_type": "code",
      "execution_count": 36,
      "metadata": {
        "id": "lNGCpaMbTNI1"
      },
      "outputs": [
        {
          "data": {
            "text/html": [
              "<div>\n",
              "<style scoped>\n",
              "    .dataframe tbody tr th:only-of-type {\n",
              "        vertical-align: middle;\n",
              "    }\n",
              "\n",
              "    .dataframe tbody tr th {\n",
              "        vertical-align: top;\n",
              "    }\n",
              "\n",
              "    .dataframe thead th {\n",
              "        text-align: right;\n",
              "    }\n",
              "</style>\n",
              "<table border=\"1\" class=\"dataframe\">\n",
              "  <thead>\n",
              "    <tr style=\"text-align: right;\">\n",
              "      <th></th>\n",
              "      <th>A</th>\n",
              "      <th>B</th>\n",
              "      <th>C</th>\n",
              "      <th>D</th>\n",
              "    </tr>\n",
              "  </thead>\n",
              "  <tbody>\n",
              "    <tr>\n",
              "      <th>0</th>\n",
              "      <td>0</td>\n",
              "      <td>1</td>\n",
              "      <td>3</td>\n",
              "      <td>4</td>\n",
              "    </tr>\n",
              "    <tr>\n",
              "      <th>1</th>\n",
              "      <td>5</td>\n",
              "      <td>2</td>\n",
              "      <td>3</td>\n",
              "      <td>2</td>\n",
              "    </tr>\n",
              "    <tr>\n",
              "      <th>2</th>\n",
              "      <td>15</td>\n",
              "      <td>3</td>\n",
              "      <td>3</td>\n",
              "      <td>9</td>\n",
              "    </tr>\n",
              "    <tr>\n",
              "      <th>3</th>\n",
              "      <td>20</td>\n",
              "      <td>4</td>\n",
              "      <td>3</td>\n",
              "      <td>1</td>\n",
              "    </tr>\n",
              "    <tr>\n",
              "      <th>4</th>\n",
              "      <td>25</td>\n",
              "      <td>5</td>\n",
              "      <td>3</td>\n",
              "      <td>20</td>\n",
              "    </tr>\n",
              "    <tr>\n",
              "      <th>5</th>\n",
              "      <td>30</td>\n",
              "      <td>6</td>\n",
              "      <td>3</td>\n",
              "      <td>3</td>\n",
              "    </tr>\n",
              "    <tr>\n",
              "      <th>6</th>\n",
              "      <td>35</td>\n",
              "      <td>7</td>\n",
              "      <td>3</td>\n",
              "      <td>15</td>\n",
              "    </tr>\n",
              "    <tr>\n",
              "      <th>7</th>\n",
              "      <td>40</td>\n",
              "      <td>8</td>\n",
              "      <td>3</td>\n",
              "      <td>17</td>\n",
              "    </tr>\n",
              "  </tbody>\n",
              "</table>\n",
              "</div>"
            ],
            "text/plain": [
              "    A  B  C   D\n",
              "0   0  1  3   4\n",
              "1   5  2  3   2\n",
              "2  15  3  3   9\n",
              "3  20  4  3   1\n",
              "4  25  5  3  20\n",
              "5  30  6  3   3\n",
              "6  35  7  3  15\n",
              "7  40  8  3  17"
            ]
          },
          "execution_count": 36,
          "metadata": {},
          "output_type": "execute_result"
        }
      ],
      "source": [
        "# pass 를 한줄 코드로 대체하라.\n",
        "\n",
        "pass\n",
        "\n",
        "df1"
      ]
    },
    {
      "cell_type": "markdown",
      "metadata": {
        "id": "jjetExV2JYxY"
      },
      "source": [
        "**문제 7**"
      ]
    },
    {
      "cell_type": "markdown",
      "metadata": {
        "id": "ImowaV1Fcmds"
      },
      "source": [
        "`df1`에 `R`열을 추가하여라.\n",
        "이때, `R`열의 각 항목은 균등분포에 따라 `[0, 1)` 구간에서 선택된 임의의 수로 구성된다.\n",
        "\n",
        "힌트: `numpy.random.rand()`"
      ]
    },
    {
      "cell_type": "code",
      "execution_count": 37,
      "metadata": {
        "id": "smGkz8ERJYxZ"
      },
      "outputs": [
        {
          "data": {
            "text/html": [
              "<div>\n",
              "<style scoped>\n",
              "    .dataframe tbody tr th:only-of-type {\n",
              "        vertical-align: middle;\n",
              "    }\n",
              "\n",
              "    .dataframe tbody tr th {\n",
              "        vertical-align: top;\n",
              "    }\n",
              "\n",
              "    .dataframe thead th {\n",
              "        text-align: right;\n",
              "    }\n",
              "</style>\n",
              "<table border=\"1\" class=\"dataframe\">\n",
              "  <thead>\n",
              "    <tr style=\"text-align: right;\">\n",
              "      <th></th>\n",
              "      <th>A</th>\n",
              "      <th>B</th>\n",
              "      <th>C</th>\n",
              "      <th>D</th>\n",
              "    </tr>\n",
              "  </thead>\n",
              "  <tbody>\n",
              "    <tr>\n",
              "      <th>0</th>\n",
              "      <td>0</td>\n",
              "      <td>1</td>\n",
              "      <td>3</td>\n",
              "      <td>4</td>\n",
              "    </tr>\n",
              "    <tr>\n",
              "      <th>1</th>\n",
              "      <td>5</td>\n",
              "      <td>2</td>\n",
              "      <td>3</td>\n",
              "      <td>2</td>\n",
              "    </tr>\n",
              "    <tr>\n",
              "      <th>2</th>\n",
              "      <td>15</td>\n",
              "      <td>3</td>\n",
              "      <td>3</td>\n",
              "      <td>9</td>\n",
              "    </tr>\n",
              "    <tr>\n",
              "      <th>3</th>\n",
              "      <td>20</td>\n",
              "      <td>4</td>\n",
              "      <td>3</td>\n",
              "      <td>1</td>\n",
              "    </tr>\n",
              "    <tr>\n",
              "      <th>4</th>\n",
              "      <td>25</td>\n",
              "      <td>5</td>\n",
              "      <td>3</td>\n",
              "      <td>20</td>\n",
              "    </tr>\n",
              "    <tr>\n",
              "      <th>5</th>\n",
              "      <td>30</td>\n",
              "      <td>6</td>\n",
              "      <td>3</td>\n",
              "      <td>3</td>\n",
              "    </tr>\n",
              "    <tr>\n",
              "      <th>6</th>\n",
              "      <td>35</td>\n",
              "      <td>7</td>\n",
              "      <td>3</td>\n",
              "      <td>15</td>\n",
              "    </tr>\n",
              "    <tr>\n",
              "      <th>7</th>\n",
              "      <td>40</td>\n",
              "      <td>8</td>\n",
              "      <td>3</td>\n",
              "      <td>17</td>\n",
              "    </tr>\n",
              "  </tbody>\n",
              "</table>\n",
              "</div>"
            ],
            "text/plain": [
              "    A  B  C   D\n",
              "0   0  1  3   4\n",
              "1   5  2  3   2\n",
              "2  15  3  3   9\n",
              "3  20  4  3   1\n",
              "4  25  5  3  20\n",
              "5  30  6  3   3\n",
              "6  35  7  3  15\n",
              "7  40  8  3  17"
            ]
          },
          "execution_count": 37,
          "metadata": {},
          "output_type": "execute_result"
        }
      ],
      "source": [
        "# pass를 한줄 코드로 대체하라.\n",
        "\n",
        "pass\n",
        "\n",
        "df1"
      ]
    },
    {
      "cell_type": "markdown",
      "metadata": {
        "id": "8-ztFb9SJYxZ"
      },
      "source": [
        "**문제 8**"
      ]
    },
    {
      "cell_type": "markdown",
      "metadata": {
        "id": "eC5wU_dKfeyZ"
      },
      "source": [
        "`df1`에서 `C`열에 인덱스가 1, 3, 5인 자료의 값을 6으로 변경하여라."
      ]
    },
    {
      "cell_type": "code",
      "execution_count": 38,
      "metadata": {
        "id": "FBgu9h1CJYxZ"
      },
      "outputs": [
        {
          "data": {
            "text/html": [
              "<div>\n",
              "<style scoped>\n",
              "    .dataframe tbody tr th:only-of-type {\n",
              "        vertical-align: middle;\n",
              "    }\n",
              "\n",
              "    .dataframe tbody tr th {\n",
              "        vertical-align: top;\n",
              "    }\n",
              "\n",
              "    .dataframe thead th {\n",
              "        text-align: right;\n",
              "    }\n",
              "</style>\n",
              "<table border=\"1\" class=\"dataframe\">\n",
              "  <thead>\n",
              "    <tr style=\"text-align: right;\">\n",
              "      <th></th>\n",
              "      <th>A</th>\n",
              "      <th>B</th>\n",
              "      <th>C</th>\n",
              "      <th>D</th>\n",
              "    </tr>\n",
              "  </thead>\n",
              "  <tbody>\n",
              "    <tr>\n",
              "      <th>0</th>\n",
              "      <td>0</td>\n",
              "      <td>1</td>\n",
              "      <td>3</td>\n",
              "      <td>4</td>\n",
              "    </tr>\n",
              "    <tr>\n",
              "      <th>1</th>\n",
              "      <td>5</td>\n",
              "      <td>2</td>\n",
              "      <td>3</td>\n",
              "      <td>2</td>\n",
              "    </tr>\n",
              "    <tr>\n",
              "      <th>2</th>\n",
              "      <td>15</td>\n",
              "      <td>3</td>\n",
              "      <td>3</td>\n",
              "      <td>9</td>\n",
              "    </tr>\n",
              "    <tr>\n",
              "      <th>3</th>\n",
              "      <td>20</td>\n",
              "      <td>4</td>\n",
              "      <td>3</td>\n",
              "      <td>1</td>\n",
              "    </tr>\n",
              "    <tr>\n",
              "      <th>4</th>\n",
              "      <td>25</td>\n",
              "      <td>5</td>\n",
              "      <td>3</td>\n",
              "      <td>20</td>\n",
              "    </tr>\n",
              "    <tr>\n",
              "      <th>5</th>\n",
              "      <td>30</td>\n",
              "      <td>6</td>\n",
              "      <td>3</td>\n",
              "      <td>3</td>\n",
              "    </tr>\n",
              "    <tr>\n",
              "      <th>6</th>\n",
              "      <td>35</td>\n",
              "      <td>7</td>\n",
              "      <td>3</td>\n",
              "      <td>15</td>\n",
              "    </tr>\n",
              "    <tr>\n",
              "      <th>7</th>\n",
              "      <td>40</td>\n",
              "      <td>8</td>\n",
              "      <td>3</td>\n",
              "      <td>17</td>\n",
              "    </tr>\n",
              "  </tbody>\n",
              "</table>\n",
              "</div>"
            ],
            "text/plain": [
              "    A  B  C   D\n",
              "0   0  1  3   4\n",
              "1   5  2  3   2\n",
              "2  15  3  3   9\n",
              "3  20  4  3   1\n",
              "4  25  5  3  20\n",
              "5  30  6  3   3\n",
              "6  35  7  3  15\n",
              "7  40  8  3  17"
            ]
          },
          "execution_count": 38,
          "metadata": {},
          "output_type": "execute_result"
        }
      ],
      "source": [
        "# pass 를 한줄 코드로 대체하라.\n",
        "\n",
        "pass\n",
        "\n",
        "df1"
      ]
    },
    {
      "cell_type": "markdown",
      "metadata": {
        "id": "KBdpvaNEh4tc"
      },
      "source": [
        "**성적 데이터 분석**"
      ]
    },
    {
      "cell_type": "markdown",
      "metadata": {
        "id": "HMI1XX8TSSDB"
      },
      "source": [
        "학생 100명의 국어, 영어, 수학, 사회, 과학 점수가 들어 있는\n",
        "`score.txt` 파일을 다운로드 한다."
      ]
    },
    {
      "cell_type": "markdown",
      "metadata": {
        "id": "C8vYgE72JYxZ"
      },
      "source": [
        "- 다운로드 경로 지정"
      ]
    },
    {
      "cell_type": "code",
      "execution_count": 39,
      "metadata": {
        "id": "o9LcWOmbJYxZ"
      },
      "outputs": [],
      "source": [
        "from pathlib import Path\n",
        "\n",
        "data_path = Path() / \"data\"\n",
        "\n",
        "data_path.mkdir(parents=True, exist_ok=True)"
      ]
    },
    {
      "cell_type": "markdown",
      "metadata": {
        "id": "U1RyckB9JYxZ"
      },
      "source": [
        "- 다운로드 함수 선언"
      ]
    },
    {
      "cell_type": "code",
      "execution_count": 40,
      "metadata": {
        "id": "tbBV_MAxJYxZ"
      },
      "outputs": [],
      "source": [
        "from urllib.request import urlretrieve\n",
        "\n",
        "# 파일 서버 기본 주소\n",
        "base_url = \"https://raw.githubusercontent.com/codingalzi/datapy/master/jupyter-book/data/\"\n",
        "\n",
        "def myWget(filename):\n",
        "    # 다운로드 대상 파일 경로\n",
        "    file_url = base_url + filename\n",
        "\n",
        "    # 저장 경로와 파일명\n",
        "    target_path = data_path / filename\n",
        "\n",
        "    return urlretrieve(file_url, target_path)"
      ]
    },
    {
      "cell_type": "markdown",
      "metadata": {
        "id": "dqKStrdHJYxa"
      },
      "source": [
        "* `score.txt` 파일 다운로드"
      ]
    },
    {
      "cell_type": "code",
      "execution_count": 41,
      "metadata": {
        "id": "UmjWUYpNJYxa"
      },
      "outputs": [
        {
          "data": {
            "text/plain": [
              "(WindowsPath('data/score.txt'), <http.client.HTTPMessage at 0x20fa5ae15e0>)"
            ]
          },
          "execution_count": 41,
          "metadata": {},
          "output_type": "execute_result"
        }
      ],
      "source": [
        "myWget(\"score.txt\")"
      ]
    },
    {
      "cell_type": "markdown",
      "metadata": {
        "id": "3KSyibWcJYxa"
      },
      "source": [
        "파일의 내용을 데이터프레임으로 다음과 같이 불러온다."
      ]
    },
    {
      "cell_type": "code",
      "execution_count": 42,
      "metadata": {
        "id": "wPUQBRZDJYxa"
      },
      "outputs": [],
      "source": [
        "df_score = pd.read_csv(data_path / 'score.txt', header=0)"
      ]
    },
    {
      "cell_type": "code",
      "execution_count": 43,
      "metadata": {
        "id": "1uSlzpZjJYxa"
      },
      "outputs": [
        {
          "data": {
            "text/html": [
              "<div>\n",
              "<style scoped>\n",
              "    .dataframe tbody tr th:only-of-type {\n",
              "        vertical-align: middle;\n",
              "    }\n",
              "\n",
              "    .dataframe tbody tr th {\n",
              "        vertical-align: top;\n",
              "    }\n",
              "\n",
              "    .dataframe thead th {\n",
              "        text-align: right;\n",
              "    }\n",
              "</style>\n",
              "<table border=\"1\" class=\"dataframe\">\n",
              "  <thead>\n",
              "    <tr style=\"text-align: right;\">\n",
              "      <th></th>\n",
              "      <th># 국어</th>\n",
              "      <th>영어</th>\n",
              "      <th>수학</th>\n",
              "      <th>사회</th>\n",
              "      <th>과학</th>\n",
              "    </tr>\n",
              "  </thead>\n",
              "  <tbody>\n",
              "    <tr>\n",
              "      <th>0</th>\n",
              "      <td>15</td>\n",
              "      <td>16</td>\n",
              "      <td>21</td>\n",
              "      <td>0</td>\n",
              "      <td>14</td>\n",
              "    </tr>\n",
              "    <tr>\n",
              "      <th>1</th>\n",
              "      <td>96</td>\n",
              "      <td>91</td>\n",
              "      <td>14</td>\n",
              "      <td>11</td>\n",
              "      <td>75</td>\n",
              "    </tr>\n",
              "    <tr>\n",
              "      <th>2</th>\n",
              "      <td>49</td>\n",
              "      <td>63</td>\n",
              "      <td>15</td>\n",
              "      <td>18</td>\n",
              "      <td>61</td>\n",
              "    </tr>\n",
              "    <tr>\n",
              "      <th>3</th>\n",
              "      <td>54</td>\n",
              "      <td>4</td>\n",
              "      <td>20</td>\n",
              "      <td>21</td>\n",
              "      <td>1</td>\n",
              "    </tr>\n",
              "    <tr>\n",
              "      <th>4</th>\n",
              "      <td>46</td>\n",
              "      <td>8</td>\n",
              "      <td>7</td>\n",
              "      <td>23</td>\n",
              "      <td>9</td>\n",
              "    </tr>\n",
              "    <tr>\n",
              "      <th>...</th>\n",
              "      <td>...</td>\n",
              "      <td>...</td>\n",
              "      <td>...</td>\n",
              "      <td>...</td>\n",
              "      <td>...</td>\n",
              "    </tr>\n",
              "    <tr>\n",
              "      <th>95</th>\n",
              "      <td>69</td>\n",
              "      <td>61</td>\n",
              "      <td>11</td>\n",
              "      <td>28</td>\n",
              "      <td>97</td>\n",
              "    </tr>\n",
              "    <tr>\n",
              "      <th>96</th>\n",
              "      <td>41</td>\n",
              "      <td>97</td>\n",
              "      <td>16</td>\n",
              "      <td>13</td>\n",
              "      <td>8</td>\n",
              "    </tr>\n",
              "    <tr>\n",
              "      <th>97</th>\n",
              "      <td>0</td>\n",
              "      <td>84</td>\n",
              "      <td>18</td>\n",
              "      <td>9</td>\n",
              "      <td>15</td>\n",
              "    </tr>\n",
              "    <tr>\n",
              "      <th>98</th>\n",
              "      <td>19</td>\n",
              "      <td>11</td>\n",
              "      <td>15</td>\n",
              "      <td>2</td>\n",
              "      <td>90</td>\n",
              "    </tr>\n",
              "    <tr>\n",
              "      <th>99</th>\n",
              "      <td>0</td>\n",
              "      <td>7</td>\n",
              "      <td>33</td>\n",
              "      <td>7</td>\n",
              "      <td>58</td>\n",
              "    </tr>\n",
              "  </tbody>\n",
              "</table>\n",
              "<p>100 rows × 5 columns</p>\n",
              "</div>"
            ],
            "text/plain": [
              "    # 국어   영어   수학   사회   과학\n",
              "0     15   16   21    0   14\n",
              "1     96   91   14   11   75\n",
              "2     49   63   15   18   61\n",
              "3     54    4   20   21    1\n",
              "4     46    8    7   23    9\n",
              "..   ...  ...  ...  ...  ...\n",
              "95    69   61   11   28   97\n",
              "96    41   97   16   13    8\n",
              "97     0   84   18    9   15\n",
              "98    19   11   15    2   90\n",
              "99     0    7   33    7   58\n",
              "\n",
              "[100 rows x 5 columns]"
            ]
          },
          "execution_count": 43,
          "metadata": {},
          "output_type": "execute_result"
        }
      ],
      "source": [
        "df_score"
      ]
    },
    {
      "cell_type": "markdown",
      "metadata": {
        "id": "LPraFXlVJYxd"
      },
      "source": [
        "**문제 9**"
      ]
    },
    {
      "cell_type": "markdown",
      "metadata": {
        "id": "L0Xx2FPFJYxd"
      },
      "source": [
        "첫째 열의 라벨인 `# 국어` 를 `국어`로 수정하라."
      ]
    },
    {
      "cell_type": "code",
      "execution_count": 44,
      "metadata": {
        "id": "hAte2vIxJYxe"
      },
      "outputs": [
        {
          "ename": "NameError",
          "evalue": "name 'passs' is not defined",
          "output_type": "error",
          "traceback": [
            "\u001b[31m---------------------------------------------------------------------------\u001b[39m",
            "\u001b[31mNameError\u001b[39m                                 Traceback (most recent call last)",
            "\u001b[36mCell\u001b[39m\u001b[36m \u001b[39m\u001b[32mIn[44]\u001b[39m\u001b[32m, line 3\u001b[39m\n\u001b[32m      1\u001b[39m \u001b[38;5;66;03m# pass 를 한줄 코드로 대체하라.\u001b[39;00m\n\u001b[32m----> \u001b[39m\u001b[32m3\u001b[39m \u001b[43mpasss\u001b[49m\n\u001b[32m      5\u001b[39m df_score\n",
            "\u001b[31mNameError\u001b[39m: name 'passs' is not defined"
          ]
        }
      ],
      "source": [
        "# pass 를 한줄 코드로 대체하라.\n",
        "\n",
        "passs\n",
        "\n",
        "df_score"
      ]
    },
    {
      "cell_type": "markdown",
      "metadata": {
        "id": "qaFN0cvJJYxe"
      },
      "source": [
        "**문제 10**"
      ]
    },
    {
      "cell_type": "markdown",
      "metadata": {
        "id": "jiFCWbMbU12N"
      },
      "source": [
        "`df_score`의 처음부터 5개의 행을 확인하라.\n",
        "\n",
        "힌트: `head()` 메서드"
      ]
    },
    {
      "cell_type": "code",
      "execution_count": null,
      "metadata": {
        "id": "HxT7MVpBJYxe"
      },
      "outputs": [],
      "source": [
        "# pass 를 한줄 코드로 대체하라.\n",
        "\n",
        "pass"
      ]
    },
    {
      "cell_type": "markdown",
      "metadata": {
        "id": "7PFXAXHRJYxe"
      },
      "source": [
        "**문제 11**"
      ]
    },
    {
      "cell_type": "markdown",
      "metadata": {
        "id": "BGwZCQzVVBTF"
      },
      "source": [
        "`df_score`의 마지막 10개의 행을 확인하라."
      ]
    },
    {
      "cell_type": "code",
      "execution_count": null,
      "metadata": {
        "id": "IgnsBuZnJYxe"
      },
      "outputs": [],
      "source": [
        "# pass 를 한줄 코드로 대체하라.\n",
        "\n",
        "pass"
      ]
    },
    {
      "cell_type": "markdown",
      "metadata": {
        "id": "QDSe0nI3JYxe"
      },
      "source": [
        "**문제 12**"
      ]
    },
    {
      "cell_type": "markdown",
      "metadata": {
        "id": "zYdW1oUQVmu5"
      },
      "source": [
        "국어 점수가 90점 이상인 학생들의 데이터만 추출하라."
      ]
    },
    {
      "cell_type": "code",
      "execution_count": null,
      "metadata": {
        "id": "5TuUztt9JYxe"
      },
      "outputs": [],
      "source": [
        "# pass 를 한줄 코드로 대체하라.\n",
        "\n",
        "pass"
      ]
    },
    {
      "cell_type": "markdown",
      "metadata": {
        "id": "nlOwHnRaJYxf"
      },
      "source": [
        "**문제 13**"
      ]
    },
    {
      "cell_type": "markdown",
      "metadata": {
        "id": "Yz-xgw89TESs"
      },
      "source": [
        "각 과목에서 10점 이하의 값들은 `np.nan`으로 변경하여라."
      ]
    },
    {
      "cell_type": "code",
      "execution_count": null,
      "metadata": {
        "id": "HP9XOMV6JYxf"
      },
      "outputs": [],
      "source": [
        "# pass 를 한줄 코드로 대체하라.\n",
        "\n",
        "pass\n",
        "\n",
        "df_score"
      ]
    },
    {
      "cell_type": "markdown",
      "metadata": {
        "id": "jGLn6CLqJYxf"
      },
      "source": [
        "**문제 14**"
      ]
    },
    {
      "cell_type": "markdown",
      "metadata": {
        "id": "Vz1SXKNnTeyr"
      },
      "source": [
        "각 열에 있는 결측치의 수를 확인하라."
      ]
    },
    {
      "cell_type": "code",
      "execution_count": null,
      "metadata": {
        "id": "wxeU4sj1JYxf"
      },
      "outputs": [],
      "source": [
        "# pass 를 한줄 코드로 대체하라.\n",
        "\n",
        "pass"
      ]
    },
    {
      "cell_type": "markdown",
      "metadata": {
        "id": "sQMpFNmfJYxf"
      },
      "source": [
        "**문제 15**"
      ]
    },
    {
      "cell_type": "markdown",
      "metadata": {
        "id": "lMNIWjUNTsC1"
      },
      "source": [
        "결측치의 개수가 20%인 이하인 열들만 담은 데이터프레임`df_score_20`을 만들어라."
      ]
    },
    {
      "cell_type": "code",
      "execution_count": null,
      "metadata": {
        "id": "ZAZyjT5pJYxg"
      },
      "outputs": [],
      "source": [
        "# pass와 None을 각각 적절한 코드와 표현식으로 대체하라.\n",
        "\n",
        "pass\n",
        "df_score_20 = None\n",
        "\n",
        "df_score_20"
      ]
    },
    {
      "cell_type": "markdown",
      "metadata": {
        "id": "YF8iVOESJYxg"
      },
      "source": [
        "**문제 16**"
      ]
    },
    {
      "cell_type": "markdown",
      "metadata": {
        "id": "aD9iaR7wJYxg"
      },
      "source": [
        "아래 데이터프레임을 생성하기 위해 `pd.date_range()` 함수는 시간으로 구성된 인덱스 자료형을 생성한다.\n",
        "함수 호출에 사용된 키워드 인자의 의미는 다음과 같다.\n",
        "\n",
        "- `start=\"20130101`: 2013년 1월 1일부터 시작\n",
        "- `periods=6`: 첫째 인자로 지정된 시간부터 6 개의 시간 데이터 샘플 생성\n",
        "- `freq=\"D\"`: 시간 데이터 샘플을 일(day) 단위로 생성"
      ]
    },
    {
      "cell_type": "code",
      "execution_count": null,
      "metadata": {
        "id": "uq0ocEi-JYxg",
        "outputId": "ebcc24b0-5b27-41a4-e1db-8a4df5b78f70"
      },
      "outputs": [
        {
          "data": {
            "text/plain": [
              "DatetimeIndex(['2013-01-01', '2013-01-02', '2013-01-03', '2013-01-04',\n",
              "               '2013-01-05', '2013-01-06'],\n",
              "              dtype='datetime64[ns]', freq='D')"
            ]
          },
          "execution_count": 2,
          "metadata": {},
          "output_type": "execute_result"
        }
      ],
      "source": [
        "dates = pd.date_range(start=\"20130101\", periods=6, freq=\"D\")\n",
        "dates"
      ]
    },
    {
      "cell_type": "code",
      "execution_count": null,
      "metadata": {
        "id": "i4M2DaNrJYxg",
        "outputId": "4ad7c24d-9d9a-49fd-b6b2-64be8dbbddbb"
      },
      "outputs": [
        {
          "data": {
            "text/html": [
              "<div>\n",
              "<style scoped>\n",
              "    .dataframe tbody tr th:only-of-type {\n",
              "        vertical-align: middle;\n",
              "    }\n",
              "\n",
              "    .dataframe tbody tr th {\n",
              "        vertical-align: top;\n",
              "    }\n",
              "\n",
              "    .dataframe thead th {\n",
              "        text-align: right;\n",
              "    }\n",
              "</style>\n",
              "<table border=\"1\" class=\"dataframe\">\n",
              "  <thead>\n",
              "    <tr style=\"text-align: right;\">\n",
              "      <th></th>\n",
              "      <th>A</th>\n",
              "      <th>B</th>\n",
              "      <th>C</th>\n",
              "      <th>D</th>\n",
              "    </tr>\n",
              "  </thead>\n",
              "  <tbody>\n",
              "    <tr>\n",
              "      <th>2013-01-01</th>\n",
              "      <td>1.764052</td>\n",
              "      <td>0.400157</td>\n",
              "      <td>0.978738</td>\n",
              "      <td>2.240893</td>\n",
              "    </tr>\n",
              "    <tr>\n",
              "      <th>2013-01-02</th>\n",
              "      <td>1.867558</td>\n",
              "      <td>-0.977278</td>\n",
              "      <td>0.950088</td>\n",
              "      <td>-0.151357</td>\n",
              "    </tr>\n",
              "    <tr>\n",
              "      <th>2013-01-03</th>\n",
              "      <td>-0.103219</td>\n",
              "      <td>0.410599</td>\n",
              "      <td>0.144044</td>\n",
              "      <td>1.454274</td>\n",
              "    </tr>\n",
              "    <tr>\n",
              "      <th>2013-01-04</th>\n",
              "      <td>0.761038</td>\n",
              "      <td>0.121675</td>\n",
              "      <td>0.443863</td>\n",
              "      <td>0.333674</td>\n",
              "    </tr>\n",
              "    <tr>\n",
              "      <th>2013-01-05</th>\n",
              "      <td>1.494079</td>\n",
              "      <td>-0.205158</td>\n",
              "      <td>0.313068</td>\n",
              "      <td>-0.854096</td>\n",
              "    </tr>\n",
              "    <tr>\n",
              "      <th>2013-01-06</th>\n",
              "      <td>-2.552990</td>\n",
              "      <td>0.653619</td>\n",
              "      <td>0.864436</td>\n",
              "      <td>-0.742165</td>\n",
              "    </tr>\n",
              "  </tbody>\n",
              "</table>\n",
              "</div>"
            ],
            "text/plain": [
              "                   A         B         C         D\n",
              "2013-01-01  1.764052  0.400157  0.978738  2.240893\n",
              "2013-01-02  1.867558 -0.977278  0.950088 -0.151357\n",
              "2013-01-03 -0.103219  0.410599  0.144044  1.454274\n",
              "2013-01-04  0.761038  0.121675  0.443863  0.333674\n",
              "2013-01-05  1.494079 -0.205158  0.313068 -0.854096\n",
              "2013-01-06 -2.552990  0.653619  0.864436 -0.742165"
            ]
          },
          "execution_count": 3,
          "metadata": {},
          "output_type": "execute_result"
        }
      ],
      "source": [
        "np.random.seed(0)\n",
        "\n",
        "df = pd.DataFrame(np.random.randn(6, 4), index=dates, columns=list(\"ABCD\"))\n",
        "df"
      ]
    },
    {
      "cell_type": "markdown",
      "metadata": {
        "id": "aLIzfkguR6hY"
      },
      "source": [
        "(1) 열 라벨을 기준으로 오름차순으로 정렬하라."
      ]
    },
    {
      "cell_type": "code",
      "execution_count": null,
      "metadata": {
        "id": "yuWbmU8fR8hp"
      },
      "outputs": [],
      "source": [
        "# pass와 None을 각각 적절한 코드와 표현식으로 대체하라.\n",
        "\n",
        "None"
      ]
    },
    {
      "cell_type": "markdown",
      "metadata": {
        "id": "r4HC03XuJYxh"
      },
      "source": [
        "(2) 열 라벨을 기준으로 내림차순으로 정렬하라."
      ]
    },
    {
      "cell_type": "code",
      "execution_count": null,
      "metadata": {
        "id": "ySrR5CynJYxh"
      },
      "outputs": [],
      "source": [
        "# pass와 None을 각각 적절한 코드와 표현식으로 대체하라.\n",
        "\n",
        "None"
      ]
    },
    {
      "cell_type": "markdown",
      "metadata": {
        "id": "hwDfS1_sJYxh"
      },
      "source": [
        "(2) `'B'` 라벨 열의 항목을 기준으로 오름차순으로 정렬하라."
      ]
    },
    {
      "cell_type": "code",
      "execution_count": null,
      "metadata": {
        "id": "lXYW2fvPJYxh"
      },
      "outputs": [],
      "source": [
        "# pass와 None을 각각 적절한 코드와 표현식으로 대체하라.\n",
        "\n",
        "None"
      ]
    }
  ],
  "metadata": {
    "colab": {
      "name": "practice-dataframe_core.ipynb",
      "provenance": []
    },
    "kernelspec": {
      "display_name": "base",
      "language": "python",
      "name": "python3"
    },
    "language_info": {
      "codemirror_mode": {
        "name": "ipython",
        "version": 3
      },
      "file_extension": ".py",
      "mimetype": "text/x-python",
      "name": "python",
      "nbconvert_exporter": "python",
      "pygments_lexer": "ipython3",
      "version": "3.12.3"
    }
  },
  "nbformat": 4,
  "nbformat_minor": 0
}

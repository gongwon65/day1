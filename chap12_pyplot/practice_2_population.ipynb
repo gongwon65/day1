{
 "cells": [
  {
   "cell_type": "markdown",
   "metadata": {},
   "source": [
    "# 헬스케어 빅데이터 분석의 정석(김선일) chap6_practice"
   ]
  },
  {
   "cell_type": "code",
   "execution_count": 13,
   "metadata": {},
   "outputs": [],
   "source": [
    "import numpy as np\n",
    "import pandas as pd\n",
    "import matplotlib.pyplot as plt"
   ]
  },
  {
   "cell_type": "markdown",
   "metadata": {},
   "source": [
    "데이터 불러오기"
   ]
  },
  {
   "cell_type": "code",
   "execution_count": 16,
   "metadata": {},
   "outputs": [
    {
     "name": "stdout",
     "output_type": "stream",
     "text": [
      "<class 'pandas.core.frame.DataFrame'>\n",
      "DatetimeIndex: 97 entries, 1925-01-01 to 2021-01-01\n",
      "Data columns (total 5 columns):\n",
      " #   Column      Non-Null Count  Dtype  \n",
      "---  ------      --------------  -----  \n",
      " 0   population  97 non-null     int64  \n",
      " 1   birth       97 non-null     int64  \n",
      " 2   death       97 non-null     int64  \n",
      " 3   increments  97 non-null     int64  \n",
      " 4   birthrate   69 non-null     float64\n",
      "dtypes: float64(1), int64(4)\n",
      "memory usage: 4.5 KB\n",
      "None\n",
      "<class 'pandas.core.frame.DataFrame'>\n",
      "Index: 97 entries, 1925 to 2021\n",
      "Data columns (total 5 columns):\n",
      " #   Column      Non-Null Count  Dtype  \n",
      "---  ------      --------------  -----  \n",
      " 0   population  97 non-null     int64  \n",
      " 1   birth       97 non-null     int64  \n",
      " 2   death       97 non-null     int64  \n",
      " 3   increments  97 non-null     int64  \n",
      " 4   birthrate   69 non-null     float64\n",
      "dtypes: float64(1), int64(4)\n",
      "memory usage: 4.5 KB\n",
      "None\n"
     ]
    },
    {
     "name": "stderr",
     "output_type": "stream",
     "text": [
      "<>:1: SyntaxWarning: invalid escape sequence '\\p'\n",
      "<>:6: SyntaxWarning: invalid escape sequence '\\p'\n",
      "<>:1: SyntaxWarning: invalid escape sequence '\\p'\n",
      "<>:6: SyntaxWarning: invalid escape sequence '\\p'\n",
      "C:\\Users\\302-1\\AppData\\Local\\Temp\\ipykernel_11276\\802028546.py:1: SyntaxWarning: invalid escape sequence '\\p'\n",
      "  df = pd.read_csv('.\\practice_2_kr_population.csv', index_col=0, parse_dates=True)\n",
      "C:\\Users\\302-1\\AppData\\Local\\Temp\\ipykernel_11276\\802028546.py:6: SyntaxWarning: invalid escape sequence '\\p'\n",
      "  df = pd.read_csv('.\\practice_2_kr_population.csv', index_col=0)\n"
     ]
    }
   ],
   "source": [
    "df = pd.read_csv('.\\practice_2_kr_population.csv', index_col=0, parse_dates=True)\n",
    "#index_col=0 : 0번 열을 행 인덱스로 지정\n",
    "#parse_dates=True : 날짜를 시계열 데이터로 전환\n",
    "print(df.info())\n",
    "#DatetimeIndex라고 확인됨 | 설정하지 않으면 그냥 Index로 표시\n",
    "df = pd.read_csv('.\\practice_2_kr_population.csv', index_col=0)\n",
    "print(df.info())"
   ]
  },
  {
   "cell_type": "code",
   "execution_count": 15,
   "metadata": {},
   "outputs": [
    {
     "data": {
      "text/html": [
       "<div>\n",
       "<style scoped>\n",
       "    .dataframe tbody tr th:only-of-type {\n",
       "        vertical-align: middle;\n",
       "    }\n",
       "\n",
       "    .dataframe tbody tr th {\n",
       "        vertical-align: top;\n",
       "    }\n",
       "\n",
       "    .dataframe thead th {\n",
       "        text-align: right;\n",
       "    }\n",
       "</style>\n",
       "<table border=\"1\" class=\"dataframe\">\n",
       "  <thead>\n",
       "    <tr style=\"text-align: right;\">\n",
       "      <th></th>\n",
       "      <th>population</th>\n",
       "      <th>birth</th>\n",
       "      <th>death</th>\n",
       "      <th>increments</th>\n",
       "      <th>birthrate</th>\n",
       "    </tr>\n",
       "    <tr>\n",
       "      <th>Year</th>\n",
       "      <th></th>\n",
       "      <th></th>\n",
       "      <th></th>\n",
       "      <th></th>\n",
       "      <th></th>\n",
       "    </tr>\n",
       "  </thead>\n",
       "  <tbody>\n",
       "    <tr>\n",
       "      <th>1925-01-01</th>\n",
       "      <td>12997611</td>\n",
       "      <td>558897</td>\n",
       "      <td>359042</td>\n",
       "      <td>199855</td>\n",
       "      <td>6.590</td>\n",
       "    </tr>\n",
       "    <tr>\n",
       "      <th>1926-01-01</th>\n",
       "      <td>13052741</td>\n",
       "      <td>511667</td>\n",
       "      <td>337948</td>\n",
       "      <td>173719</td>\n",
       "      <td>NaN</td>\n",
       "    </tr>\n",
       "    <tr>\n",
       "      <th>1927-01-01</th>\n",
       "      <td>13037169</td>\n",
       "      <td>534524</td>\n",
       "      <td>353818</td>\n",
       "      <td>180706</td>\n",
       "      <td>NaN</td>\n",
       "    </tr>\n",
       "    <tr>\n",
       "      <th>1928-01-01</th>\n",
       "      <td>13105131</td>\n",
       "      <td>566142</td>\n",
       "      <td>357701</td>\n",
       "      <td>208441</td>\n",
       "      <td>NaN</td>\n",
       "    </tr>\n",
       "    <tr>\n",
       "      <th>1929-01-01</th>\n",
       "      <td>13124279</td>\n",
       "      <td>566969</td>\n",
       "      <td>414366</td>\n",
       "      <td>152603</td>\n",
       "      <td>NaN</td>\n",
       "    </tr>\n",
       "    <tr>\n",
       "      <th>...</th>\n",
       "      <td>...</td>\n",
       "      <td>...</td>\n",
       "      <td>...</td>\n",
       "      <td>...</td>\n",
       "      <td>...</td>\n",
       "    </tr>\n",
       "    <tr>\n",
       "      <th>2017-01-01</th>\n",
       "      <td>51361911</td>\n",
       "      <td>357771</td>\n",
       "      <td>285534</td>\n",
       "      <td>72237</td>\n",
       "      <td>1.052</td>\n",
       "    </tr>\n",
       "    <tr>\n",
       "      <th>2018-01-01</th>\n",
       "      <td>51585058</td>\n",
       "      <td>326822</td>\n",
       "      <td>298820</td>\n",
       "      <td>28002</td>\n",
       "      <td>0.977</td>\n",
       "    </tr>\n",
       "    <tr>\n",
       "      <th>2019-01-01</th>\n",
       "      <td>51764822</td>\n",
       "      <td>303054</td>\n",
       "      <td>295132</td>\n",
       "      <td>7922</td>\n",
       "      <td>0.918</td>\n",
       "    </tr>\n",
       "    <tr>\n",
       "      <th>2020-01-01</th>\n",
       "      <td>51836239</td>\n",
       "      <td>272337</td>\n",
       "      <td>304948</td>\n",
       "      <td>-32611</td>\n",
       "      <td>0.837</td>\n",
       "    </tr>\n",
       "    <tr>\n",
       "      <th>2021-01-01</th>\n",
       "      <td>51744876</td>\n",
       "      <td>260562</td>\n",
       "      <td>317680</td>\n",
       "      <td>-57118</td>\n",
       "      <td>0.808</td>\n",
       "    </tr>\n",
       "  </tbody>\n",
       "</table>\n",
       "<p>97 rows × 5 columns</p>\n",
       "</div>"
      ],
      "text/plain": [
       "            population   birth   death  increments  birthrate\n",
       "Year                                                         \n",
       "1925-01-01    12997611  558897  359042      199855      6.590\n",
       "1926-01-01    13052741  511667  337948      173719        NaN\n",
       "1927-01-01    13037169  534524  353818      180706        NaN\n",
       "1928-01-01    13105131  566142  357701      208441        NaN\n",
       "1929-01-01    13124279  566969  414366      152603        NaN\n",
       "...                ...     ...     ...         ...        ...\n",
       "2017-01-01    51361911  357771  285534       72237      1.052\n",
       "2018-01-01    51585058  326822  298820       28002      0.977\n",
       "2019-01-01    51764822  303054  295132        7922      0.918\n",
       "2020-01-01    51836239  272337  304948      -32611      0.837\n",
       "2021-01-01    51744876  260562  317680      -57118      0.808\n",
       "\n",
       "[97 rows x 5 columns]"
      ]
     },
     "execution_count": 15,
     "metadata": {},
     "output_type": "execute_result"
    }
   ],
   "source": [
    "df"
   ]
  },
  {
   "cell_type": "markdown",
   "metadata": {},
   "source": [
    "전체적인 그래프"
   ]
  },
  {
   "cell_type": "code",
   "execution_count": 25,
   "metadata": {},
   "outputs": [
    {
     "data": {
      "text/plain": [
       "<Axes: xlabel='Year'>"
      ]
     },
     "execution_count": 25,
     "metadata": {},
     "output_type": "execute_result"
    },
    {
     "data": {
      "image/png": "[encoded data removed]",
      "text/plain": [
       "<Figure size 640x480 with 1 Axes>"
      ]
     },
     "metadata": {},
     "output_type": "display_data"
    }
   ],
   "source": [
    "plt.figure(facecolor='white')\n",
    "\n",
    "df.iloc[:,1].plot(label='출생자 수', color='b')\n",
    "df.iloc[:,2].plot(label='사망자 수', color='k')\n",
    "df.iloc[:,3].plot(label='증분', linestyle=':', color='gray')"
   ]
  }
 ],
 "metadata": {
  "kernelspec": {
   "display_name": "base",
   "language": "python",
   "name": "python3"
  },
  "language_info": {
   "codemirror_mode": {
    "name": "ipython",
    "version": 3
   },
   "file_extension": ".py",
   "mimetype": "text/x-python",
   "name": "python",
   "nbconvert_exporter": "python",
   "pygments_lexer": "ipython3",
   "version": "3.12.3"
  }
 },
 "nbformat": 4,
 "nbformat_minor": 2
}

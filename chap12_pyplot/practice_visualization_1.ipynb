{
  "cells": [
    {
      "cell_type": "markdown",
      "id": "f3c17522",
      "metadata": {
        "id": "f3c17522"
      },
      "source": [
        "# (실습) matplotlib.pyplot 1부"
      ]
    },
    {
      "cell_type": "markdown",
      "id": "47758ef7",
      "metadata": {
        "id": "47758ef7"
      },
      "source": [
        "**기본 설정**"
      ]
    },
    {
      "cell_type": "code",
      "execution_count": 2,
      "id": "7309d4a3",
      "metadata": {
        "id": "7309d4a3"
      },
      "outputs": [],
      "source": [
        "import numpy as np"
      ]
    },
    {
      "cell_type": "markdown",
      "id": "708a6c52",
      "metadata": {
        "id": "708a6c52"
      },
      "source": [
        "맷플롯립<font size='2'>Matplotlib</font>은 간단한 그래프 도구를 제공하는 라이브러리다.\n",
        "맷플롯립의 대부분의 함수는 파이플롯<font size='2'>pyplot</font> 모듈에 포함되어 있으며\n",
        "관행적으로 `plt` 별칭으로 불러온다."
      ]
    },
    {
      "cell_type": "code",
      "execution_count": 3,
      "id": "c70b4ad3",
      "metadata": {
        "id": "c70b4ad3"
      },
      "outputs": [],
      "source": [
        "import matplotlib.pyplot as plt"
      ]
    },
    {
      "cell_type": "markdown",
      "id": "74225175",
      "metadata": {
        "id": "74225175"
      },
      "source": [
        "## 미니 프로젝트: 붓꽃 데이터셋 분류 그래프"
      ]
    },
    {
      "cell_type": "markdown",
      "id": "1c5dcf48",
      "metadata": {
        "id": "1c5dcf48"
      },
      "source": [
        "붓꽃 데이터셋을 아래 방식으로 불러온다."
      ]
    },
    {
      "cell_type": "code",
      "execution_count": 4,
      "id": "4473806b",
      "metadata": {
        "id": "4473806b"
      },
      "outputs": [],
      "source": [
        "from sklearn.datasets import load_iris \n",
        "\n",
        "iris = load_iris(as_frame=True)"
      ]
    },
    {
      "cell_type": "markdown",
      "id": "3afd1a9e",
      "metadata": {
        "id": "3afd1a9e"
      },
      "source": [
        ":::{admonition} 사이킷런<font size='2'>scikit-learn</font> 라이브러리\n",
        ":class:\n",
        "\n",
        "사이킷런 라이브러리는 머신러닝에 가장 중요한 라이브러리 중 하나며,\n",
        "다양한 데이터셋을 기본으로 제공한다.\n",
        ":::"
      ]
    },
    {
      "cell_type": "code",
      "execution_count": 5,
      "id": "61473248",
      "metadata": {},
      "outputs": [],
      "source": [
        "#pip install scikit-learn #머신러닝 핵심 라이브러리리"
      ]
    },
    {
      "cell_type": "markdown",
      "id": "73477dfa",
      "metadata": {
        "id": "73477dfa"
      },
      "source": [
        "`load_iris()` 함수의 반환값은 사이킷런 라이브리의 `utils` 모듈에서 정의된 `Bunch` 자료형이다."
      ]
    },
    {
      "cell_type": "code",
      "execution_count": 6,
      "id": "279541cb",
      "metadata": {
        "id": "279541cb",
        "outputId": "60a4e28c-7f8c-43e5-c0f0-814985436318"
      },
      "outputs": [
        {
          "data": {
            "text/plain": [
              "sklearn.utils._bunch.Bunch"
            ]
          },
          "execution_count": 6,
          "metadata": {},
          "output_type": "execute_result"
        }
      ],
      "source": [
        "type(iris) # dict와 유사"
      ]
    },
    {
      "cell_type": "markdown",
      "id": "5af29aef",
      "metadata": {
        "id": "5af29aef"
      },
      "source": [
        "`Bunch` 객체는 데이터셋을 사전 형식으로 담으며, 키를 객체의 속성처럼 다룰 수 있다.\n",
        "사용된 키를 확인해보자."
      ]
    },
    {
      "cell_type": "code",
      "execution_count": 7,
      "id": "74ab550d",
      "metadata": {
        "id": "74ab550d",
        "outputId": "3e83f6af-59eb-4737-fb72-476276e53298"
      },
      "outputs": [
        {
          "name": "stdout",
          "output_type": "stream",
          "text": [
            "dict_keys(['data', 'target', 'frame', 'target_names', 'DESCR', 'feature_names', 'filename', 'data_module'])\n",
            "dict_values([     sepal length (cm)  sepal width (cm)  petal length (cm)  petal width (cm)\n",
            "0                  5.1               3.5                1.4               0.2\n",
            "1                  4.9               3.0                1.4               0.2\n",
            "2                  4.7               3.2                1.3               0.2\n",
            "3                  4.6               3.1                1.5               0.2\n",
            "4                  5.0               3.6                1.4               0.2\n",
            "..                 ...               ...                ...               ...\n",
            "145                6.7               3.0                5.2               2.3\n",
            "146                6.3               2.5                5.0               1.9\n",
            "147                6.5               3.0                5.2               2.0\n",
            "148                6.2               3.4                5.4               2.3\n",
            "149                5.9               3.0                5.1               1.8\n",
            "\n",
            "[150 rows x 4 columns], 0      0\n",
            "1      0\n",
            "2      0\n",
            "3      0\n",
            "4      0\n",
            "      ..\n",
            "145    2\n",
            "146    2\n",
            "147    2\n",
            "148    2\n",
            "149    2\n",
            "Name: target, Length: 150, dtype: int64,      sepal length (cm)  sepal width (cm)  petal length (cm)  petal width (cm)  \\\n",
            "0                  5.1               3.5                1.4               0.2   \n",
            "1                  4.9               3.0                1.4               0.2   \n",
            "2                  4.7               3.2                1.3               0.2   \n",
            "3                  4.6               3.1                1.5               0.2   \n",
            "4                  5.0               3.6                1.4               0.2   \n",
            "..                 ...               ...                ...               ...   \n",
            "145                6.7               3.0                5.2               2.3   \n",
            "146                6.3               2.5                5.0               1.9   \n",
            "147                6.5               3.0                5.2               2.0   \n",
            "148                6.2               3.4                5.4               2.3   \n",
            "149                5.9               3.0                5.1               1.8   \n",
            "\n",
            "     target  \n",
            "0         0  \n",
            "1         0  \n",
            "2         0  \n",
            "3         0  \n",
            "4         0  \n",
            "..      ...  \n",
            "145       2  \n",
            "146       2  \n",
            "147       2  \n",
            "148       2  \n",
            "149       2  \n",
            "\n",
            "[150 rows x 5 columns], array(['setosa', 'versicolor', 'virginica'], dtype='<U10'), '.. _iris_dataset:\\n\\nIris plants dataset\\n--------------------\\n\\n**Data Set Characteristics:**\\n\\n:Number of Instances: 150 (50 in each of three classes)\\n:Number of Attributes: 4 numeric, predictive attributes and the class\\n:Attribute Information:\\n    - sepal length in cm\\n    - sepal width in cm\\n    - petal length in cm\\n    - petal width in cm\\n    - class:\\n            - Iris-Setosa\\n            - Iris-Versicolour\\n            - Iris-Virginica\\n\\n:Summary Statistics:\\n\\n============== ==== ==== ======= ===== ====================\\n                Min  Max   Mean    SD   Class Correlation\\n============== ==== ==== ======= ===== ====================\\nsepal length:   4.3  7.9   5.84   0.83    0.7826\\nsepal width:    2.0  4.4   3.05   0.43   -0.4194\\npetal length:   1.0  6.9   3.76   1.76    0.9490  (high!)\\npetal width:    0.1  2.5   1.20   0.76    0.9565  (high!)\\n============== ==== ==== ======= ===== ====================\\n\\n:Missing Attribute Values: None\\n:Class Distribution: 33.3% for each of 3 classes.\\n:Creator: R.A. Fisher\\n:Donor: Michael Marshall (MARSHALL%PLU@io.arc.nasa.gov)\\n:Date: July, 1988\\n\\nThe famous Iris database, first used by Sir R.A. Fisher. The dataset is taken\\nfrom Fisher\\'s paper. Note that it\\'s the same as in R, but not as in the UCI\\nMachine Learning Repository, which has two wrong data points.\\n\\nThis is perhaps the best known database to be found in the\\npattern recognition literature.  Fisher\\'s paper is a classic in the field and\\nis referenced frequently to this day.  (See Duda & Hart, for example.)  The\\ndata set contains 3 classes of 50 instances each, where each class refers to a\\ntype of iris plant.  One class is linearly separable from the other 2; the\\nlatter are NOT linearly separable from each other.\\n\\n.. dropdown:: References\\n\\n  - Fisher, R.A. \"The use of multiple measurements in taxonomic problems\"\\n    Annual Eugenics, 7, Part II, 179-188 (1936); also in \"Contributions to\\n    Mathematical Statistics\" (John Wiley, NY, 1950).\\n  - Duda, R.O., & Hart, P.E. (1973) Pattern Classification and Scene Analysis.\\n    (Q327.D83) John Wiley & Sons.  ISBN 0-471-22361-1.  See page 218.\\n  - Dasarathy, B.V. (1980) \"Nosing Around the Neighborhood: A New System\\n    Structure and Classification Rule for Recognition in Partially Exposed\\n    Environments\".  IEEE Transactions on Pattern Analysis and Machine\\n    Intelligence, Vol. PAMI-2, No. 1, 67-71.\\n  - Gates, G.W. (1972) \"The Reduced Nearest Neighbor Rule\".  IEEE Transactions\\n    on Information Theory, May 1972, 431-433.\\n  - See also: 1988 MLC Proceedings, 54-64.  Cheeseman et al\"s AUTOCLASS II\\n    conceptual clustering system finds 3 classes in the data.\\n  - Many, many more ...\\n', ['sepal length (cm)', 'sepal width (cm)', 'petal length (cm)', 'petal width (cm)'], 'iris.csv', 'sklearn.datasets.data'])\n"
          ]
        }
      ],
      "source": [
        "print(iris.keys())\n",
        "print(iris.values())"
      ]
    },
    {
      "cell_type": "markdown",
      "id": "a2b2e9ff",
      "metadata": {
        "id": "a2b2e9ff"
      },
      "source": [
        "이중에 붓꽃 데이터는 `'data'` 키의 값으로 저장되어 있으며, 데이터프레임 객체다."
      ]
    },
    {
      "cell_type": "code",
      "execution_count": 8,
      "id": "e7eab57d",
      "metadata": {
        "id": "e7eab57d",
        "outputId": "b4256cab-478d-41da-a731-1ae37297fd9a"
      },
      "outputs": [
        {
          "data": {
            "text/html": [
              "<div>\n",
              "<style scoped>\n",
              "    .dataframe tbody tr th:only-of-type {\n",
              "        vertical-align: middle;\n",
              "    }\n",
              "\n",
              "    .dataframe tbody tr th {\n",
              "        vertical-align: top;\n",
              "    }\n",
              "\n",
              "    .dataframe thead th {\n",
              "        text-align: right;\n",
              "    }\n",
              "</style>\n",
              "<table border=\"1\" class=\"dataframe\">\n",
              "  <thead>\n",
              "    <tr style=\"text-align: right;\">\n",
              "      <th></th>\n",
              "      <th>sepal length (cm)</th>\n",
              "      <th>sepal width (cm)</th>\n",
              "      <th>petal length (cm)</th>\n",
              "      <th>petal width (cm)</th>\n",
              "    </tr>\n",
              "  </thead>\n",
              "  <tbody>\n",
              "    <tr>\n",
              "      <th>0</th>\n",
              "      <td>5.1</td>\n",
              "      <td>3.5</td>\n",
              "      <td>1.4</td>\n",
              "      <td>0.2</td>\n",
              "    </tr>\n",
              "    <tr>\n",
              "      <th>1</th>\n",
              "      <td>4.9</td>\n",
              "      <td>3.0</td>\n",
              "      <td>1.4</td>\n",
              "      <td>0.2</td>\n",
              "    </tr>\n",
              "    <tr>\n",
              "      <th>2</th>\n",
              "      <td>4.7</td>\n",
              "      <td>3.2</td>\n",
              "      <td>1.3</td>\n",
              "      <td>0.2</td>\n",
              "    </tr>\n",
              "    <tr>\n",
              "      <th>3</th>\n",
              "      <td>4.6</td>\n",
              "      <td>3.1</td>\n",
              "      <td>1.5</td>\n",
              "      <td>0.2</td>\n",
              "    </tr>\n",
              "    <tr>\n",
              "      <th>4</th>\n",
              "      <td>5.0</td>\n",
              "      <td>3.6</td>\n",
              "      <td>1.4</td>\n",
              "      <td>0.2</td>\n",
              "    </tr>\n",
              "    <tr>\n",
              "      <th>...</th>\n",
              "      <td>...</td>\n",
              "      <td>...</td>\n",
              "      <td>...</td>\n",
              "      <td>...</td>\n",
              "    </tr>\n",
              "    <tr>\n",
              "      <th>145</th>\n",
              "      <td>6.7</td>\n",
              "      <td>3.0</td>\n",
              "      <td>5.2</td>\n",
              "      <td>2.3</td>\n",
              "    </tr>\n",
              "    <tr>\n",
              "      <th>146</th>\n",
              "      <td>6.3</td>\n",
              "      <td>2.5</td>\n",
              "      <td>5.0</td>\n",
              "      <td>1.9</td>\n",
              "    </tr>\n",
              "    <tr>\n",
              "      <th>147</th>\n",
              "      <td>6.5</td>\n",
              "      <td>3.0</td>\n",
              "      <td>5.2</td>\n",
              "      <td>2.0</td>\n",
              "    </tr>\n",
              "    <tr>\n",
              "      <th>148</th>\n",
              "      <td>6.2</td>\n",
              "      <td>3.4</td>\n",
              "      <td>5.4</td>\n",
              "      <td>2.3</td>\n",
              "    </tr>\n",
              "    <tr>\n",
              "      <th>149</th>\n",
              "      <td>5.9</td>\n",
              "      <td>3.0</td>\n",
              "      <td>5.1</td>\n",
              "      <td>1.8</td>\n",
              "    </tr>\n",
              "  </tbody>\n",
              "</table>\n",
              "<p>150 rows × 4 columns</p>\n",
              "</div>"
            ],
            "text/plain": [
              "     sepal length (cm)  sepal width (cm)  petal length (cm)  petal width (cm)\n",
              "0                  5.1               3.5                1.4               0.2\n",
              "1                  4.9               3.0                1.4               0.2\n",
              "2                  4.7               3.2                1.3               0.2\n",
              "3                  4.6               3.1                1.5               0.2\n",
              "4                  5.0               3.6                1.4               0.2\n",
              "..                 ...               ...                ...               ...\n",
              "145                6.7               3.0                5.2               2.3\n",
              "146                6.3               2.5                5.0               1.9\n",
              "147                6.5               3.0                5.2               2.0\n",
              "148                6.2               3.4                5.4               2.3\n",
              "149                5.9               3.0                5.1               1.8\n",
              "\n",
              "[150 rows x 4 columns]"
            ]
          },
          "execution_count": 8,
          "metadata": {},
          "output_type": "execute_result"
        }
      ],
      "source": [
        "iris.data # iris['data'] #/변수로 접근 , 인덱싱 접근 | 단, 변수이름에 띄어쓰기가 있다면 사용불가가"
      ]
    },
    {
      "cell_type": "markdown",
      "id": "a754cb02",
      "metadata": {
        "id": "a754cb02"
      },
      "source": [
        "품종 데이터는 `'target'` 키의 값으로 저장되어 있으려, 시리즈 객체다.\n",
        "\n",
        "| 기호 | 품종 |\n",
        "| :---: | :---: |\n",
        "| 0 | 세토사(Iris setosa) |\n",
        "| 1 | 버시컬러(Iris versicolor) |\n",
        "| 2 | 버지니카(Iris verginica) |"
      ]
    },
    {
      "cell_type": "code",
      "execution_count": 9,
      "id": "b55d33fa",
      "metadata": {
        "id": "b55d33fa",
        "outputId": "d09fde81-94c7-4a0a-acab-9d53f1f9b129"
      },
      "outputs": [
        {
          "data": {
            "text/plain": [
              "0      0\n",
              "1      0\n",
              "2      0\n",
              "3      0\n",
              "4      0\n",
              "      ..\n",
              "145    2\n",
              "146    2\n",
              "147    2\n",
              "148    2\n",
              "149    2\n",
              "Name: target, Length: 150, dtype: int64"
            ]
          },
          "execution_count": 9,
          "metadata": {},
          "output_type": "execute_result"
        }
      ],
      "source": [
        "iris.target # iris['target']"
      ]
    },
    {
      "cell_type": "markdown",
      "id": "2ab46442",
      "metadata": {
        "id": "2ab46442"
      },
      "source": [
        "시각화를 위해 꽃잎<font size='2'>petal</font>의 길이와 너비 두 개의 특성만 선택한다.\n",
        "\n",
        "* `values` 속성: 데이터프레임 또는 시리즈의 항목으로 구성된 넘파이 어레이"
      ]
    },
    {
      "cell_type": "code",
      "execution_count": 29,
      "id": "bba6ffa0",
      "metadata": {
        "id": "bba6ffa0"
      },
      "outputs": [],
      "source": [
        "X = iris.data[[\"petal length (cm)\", \"petal width (cm)\"]].values\n",
        "y = iris.target.values"
      ]
    },
    {
      "cell_type": "markdown",
      "id": "79d611ea",
      "metadata": {
        "id": "79d611ea"
      },
      "source": [
        "꽃잎의 길이와 너비를 이용하여 품종별로 산점도를 그려보자.\n",
        "먼저 세토사 품종의 데이터는 다음과 같다."
      ]
    },
    {
      "cell_type": "code",
      "execution_count": 30,
      "id": "ebec8e6d",
      "metadata": {
        "id": "ebec8e6d"
      },
      "outputs": [],
      "source": [
        "mask_setosa = (y == 0)\n",
        "X_setosa = X[mask_setosa]"
      ]
    },
    {
      "cell_type": "markdown",
      "id": "d3c3547c",
      "metadata": {
        "id": "d3c3547c"
      },
      "source": [
        "50개의 샘플로 구성된다."
      ]
    },
    {
      "cell_type": "code",
      "execution_count": 31,
      "id": "9eee7836",
      "metadata": {
        "id": "9eee7836",
        "outputId": "b96c9b28-ac9c-4a31-ff30-7b3aab98736d"
      },
      "outputs": [
        {
          "data": {
            "text/plain": [
              "(50, 2)"
            ]
          },
          "execution_count": 31,
          "metadata": {},
          "output_type": "execute_result"
        }
      ],
      "source": [
        "X_setosa.shape"
      ]
    },
    {
      "cell_type": "markdown",
      "id": "8716c34d",
      "metadata": {
        "id": "8716c34d"
      },
      "source": [
        "버시컬러 데이터셋과 버지니카 데이터셋도 동일한 방식으로 구해진다."
      ]
    },
    {
      "cell_type": "code",
      "execution_count": 32,
      "id": "79eb1641",
      "metadata": {
        "id": "79eb1641"
      },
      "outputs": [],
      "source": [
        "mask_versicolor = (y == 1)\n",
        "X_versicolor = X[mask_versicolor]"
      ]
    },
    {
      "cell_type": "code",
      "execution_count": 33,
      "id": "0ed1d738",
      "metadata": {
        "id": "0ed1d738"
      },
      "outputs": [],
      "source": [
        "mask_verginica = (y == 2)\n",
        "X_verginica = X[mask_verginica]"
      ]
    },
    {
      "cell_type": "markdown",
      "id": "3ac463c8",
      "metadata": {
        "id": "3ac463c8"
      },
      "source": [
        "각 데이터셋의 산점도를 다른 색을 이용하여 그리면 다음과 같다."
      ]
    },
    {
      "cell_type": "code",
      "execution_count": 27,
      "id": "7f260360",
      "metadata": {},
      "outputs": [],
      "source": [
        "import platform\n",
        "import matplotlib as mpl\n",
        "\n",
        "# 윈도우 설정\n",
        "if platform.system() == 'Windows':\n",
        "    try:\n",
        "        font_path = \"C:/Windows/Fonts/malgun.ttf\"  # '맑은 고딕' 폰트를 사용\n",
        "        font = mpl.font_manager.FontProperties(fname=font_path).get_name()\n",
        "        plt.rc('font', family=font)\n",
        "    except FileNotFoundError:\n",
        "        print(\"폰트 파일을 찾을 수 없습니다. 다른 경로를 확인하세요.\")"
      ]
    },
    {
      "cell_type": "code",
      "execution_count": 35,
      "id": "4efe591e",
      "metadata": {
        "id": "4efe591e",
        "outputId": "ae490f42-10ea-4f1c-e10c-0f4b7cbc736f"
      },
      "outputs": [
        {
          "data": {
            "image/png": "[encoded data removed]",
            "text/plain": [
              "<Figure size 640x480 with 1 Axes>"
            ]
          },
          "metadata": {},
          "output_type": "display_data"
        }
      ],
      "source": [
        "plt.plot(X_setosa[:, 0], X_setosa[:, 1], \"yo\", label=\"Iris setosa\")             # 노랑 원\n",
        "plt.plot(X_versicolor[:, 0], X_versicolor[:, 1], \"bs\", label=\"Iris versicolor\") # 파랑 네모\n",
        "plt.plot(X_verginica[:, 0], X_verginica[:, 1], \"r^\", label=\"Iris verginica\")    # 빨강 세모\n",
        "\n",
        "plt.xlabel(\"꽃잎 길이\")\n",
        "plt.ylabel(\"꽃잎 넓이\")\n",
        "plt.legend(loc=\"upper left\")\n",
        "plt.grid()\n",
        "\n",
        "\n",
        "plt.show()"
      ]
    },
    {
      "cell_type": "markdown",
      "id": "9b9f4623",
      "metadata": {
        "id": "9b9f4623"
      },
      "source": [
        "범위를 x 축은 0에서 7.5 사이로,\n",
        "y 축은 0에서 3 사이로 지정한 다음에\n",
        "축의 척도를 일치 시키면 그림이 사뭇 다르게 보인다."
      ]
    },
    {
      "cell_type": "code",
      "execution_count": 17,
      "id": "5e167fb1",
      "metadata": {
        "id": "5e167fb1",
        "outputId": "499d7223-3dd0-4d64-bbe9-2a64fa824e07"
      },
      "outputs": [
        {
          "data": {
            "image/png": "[encoded data removed]",
            "text/plain": [
              "<Figure size 640x480 with 1 Axes>"
            ]
          },
          "metadata": {},
          "output_type": "display_data"
        }
      ],
      "source": [
        "plt.plot(X[:, 0][y == 0], X[:, 1][y == 0], \"yo\", label=\"Iris setosa\")     # 노랑 원\n",
        "plt.plot(X[:, 0][y == 1], X[:, 1][y == 1], \"bs\", label=\"Iris versicolor\") # 파랑 네모\n",
        "plt.plot(X[:, 0][y == 2], X[:, 1][y == 2], \"r^\", label=\"Iris verginica\")  # 빨강 세모\n",
        "\n",
        "plt.xlabel(\"Petal length\")\n",
        "plt.ylabel(\"Petal width\")\n",
        "plt.legend(loc=\"upper left\")\n",
        "\n",
        "plt.axis([0, 7.5, 0, 3])\n",
        "plt.gca().set_aspect(\"equal\")\n",
        "\n",
        "plt.show()"
      ]
    },
    {
      "cell_type": "markdown",
      "id": "793e2045",
      "metadata": {
        "id": "793e2045"
      },
      "source": [
        "격자 무늬 배경도 추가하자."
      ]
    },
    {
      "cell_type": "code",
      "execution_count": 18,
      "id": "91f0caf0",
      "metadata": {
        "id": "91f0caf0",
        "outputId": "ba7fcdd1-99d4-4bd5-f45e-0349bc537b23"
      },
      "outputs": [
        {
          "data": {
            "image/png": "[encoded data removed]",
            "text/plain": [
              "<Figure size 640x480 with 1 Axes>"
            ]
          },
          "metadata": {},
          "output_type": "display_data"
        }
      ],
      "source": [
        "plt.plot(X[:, 0][y == 0], X[:, 1][y == 0], \"yo\", label=\"Iris setosa\")     # 노랑 원\n",
        "plt.plot(X[:, 0][y == 1], X[:, 1][y == 1], \"bs\", label=\"Iris versicolor\") # 파랑 네모\n",
        "plt.plot(X[:, 0][y == 2], X[:, 1][y == 2], \"rs\", label=\"Iris verginica\")  # 빨강 세모\n",
        "\n",
        "plt.xlabel(\"Petal length\")\n",
        "plt.ylabel(\"Petal width\")\n",
        "plt.legend(loc=\"upper left\")\n",
        "\n",
        "plt.axis([0, 7.5, 0, 3])\n",
        "plt.gca().set_aspect(\"equal\")\n",
        "plt.grid()\n",
        "\n",
        "plt.show()"
      ]
    },
    {
      "cell_type": "markdown",
      "id": "a0e88985",
      "metadata": {
        "id": "a0e88985"
      },
      "source": [
        "아래 코드는 두 개의 직선을 그린다."
      ]
    },
    {
      "cell_type": "code",
      "execution_count": 19,
      "id": "8a527769",
      "metadata": {
        "id": "8a527769",
        "outputId": "cd5709dd-38ba-4122-f0d9-d401d58862b3"
      },
      "outputs": [
        {
          "data": {
            "image/png": "[encoded data removed]",
            "text/plain": [
              "<Figure size 640x480 with 1 Axes>"
            ]
          },
          "metadata": {},
          "output_type": "display_data"
        }
      ],
      "source": [
        "# x 좌표\n",
        "x0 = np.linspace(0, 7.5, 200) # 0부터 7.5 사이를 200개의 작은 구간으로 균등하게 쪼갠 x 좌표값\n",
        "\n",
        "# 두 개의 직선에 대한 y 좌표값\n",
        "pred_1 = 5 * x0 - 12  # 직선 1의 y 좌표\n",
        "pred_2 = -x0 + 6.5    # 직선 2의 y 좌표\n",
        "\n",
        "plt.plot(x0, pred_1, \"g--\", linewidth=2) # 직선 1\n",
        "plt.plot(x0, pred_2, \"m-.\", linewidth=2) # 직선 2\n",
        "\n",
        "plt.axis([0, 7.5, 0, 3])\n",
        "plt.gca().set_aspect(\"equal\")\n",
        "plt.grid()\n",
        "\n",
        "plt.show()"
      ]
    },
    {
      "cell_type": "markdown",
      "id": "a202461f",
      "metadata": {
        "id": "a202461f"
      },
      "source": [
        "위 두 직선과 붓꽃 데이터셋의 산포도를 합치면\n",
        "품종을 구별하는 경계선을 얻는다."
      ]
    },
    {
      "cell_type": "code",
      "execution_count": 20,
      "id": "92ebe882",
      "metadata": {
        "id": "92ebe882",
        "outputId": "cb50b01f-e90f-436a-e41a-7bbe8252f047"
      },
      "outputs": [
        {
          "data": {
            "image/png": "[encoded data removed]",
            "text/plain": [
              "<Figure size 640x480 with 1 Axes>"
            ]
          },
          "metadata": {},
          "output_type": "display_data"
        }
      ],
      "source": [
        "x0 = np.linspace(0, 7.5, 200)\n",
        "pred_1 = 5 * x0 - 12\n",
        "pred_2 = -x0 + 6.5\n",
        "pred_3 = 0.05 * x0 + 0.6\n",
        "\n",
        "plt.plot(x0, pred_1, \"g--\", linewidth=2)\n",
        "plt.plot(x0, pred_2, \"m-.\", linewidth=2)\n",
        "# plt.plot(x0, pred_3, \"y-\", linewidth=2)\n",
        "\n",
        "plt.plot(X[:, 0][y==0], X[:, 1][y==0], \"yo\", label=\"Iris setosa\")     # 노랑 원\n",
        "plt.plot(X[:, 0][y==1], X[:, 1][y==1], \"bs\", label=\"Iris versicolor\") # 파랑 네모\n",
        "plt.plot(X[:, 0][y==2], X[:, 1][y==2], \"rs\", label=\"Iris verginica\")  # 빨강 세모\n",
        "plt.xlabel(\"Petal length\")\n",
        "plt.ylabel(\"Petal width\")\n",
        "plt.legend(loc=\"upper left\")\n",
        "plt.axis([0, 7.5, 0, 3])\n",
        "plt.gca().set_aspect(\"equal\")\n",
        "plt.grid()\n",
        "\n",
        "plt.show()"
      ]
    }
  ],
  "metadata": {
    "colab": {
      "provenance": []
    },
    "kernelspec": {
      "display_name": "base",
      "language": "python",
      "name": "python3"
    },
    "language_info": {
      "codemirror_mode": {
        "name": "ipython",
        "version": 3
      },
      "file_extension": ".py",
      "mimetype": "text/x-python",
      "name": "python",
      "nbconvert_exporter": "python",
      "pygments_lexer": "ipython3",
      "version": "3.12.3"
    }
  },
  "nbformat": 4,
  "nbformat_minor": 5
}

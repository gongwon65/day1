{
 "cells": [
  {
   "cell_type": "markdown",
   "metadata": {
    "id": "bdWDoY8cxVTn"
   },
   "source": [
    "* 아래 실습을 위한 파일은 eTL에서 다운받을 수 있습니다.  \n",
    "\n",
    "  * `covid19_seoul.csv` 서울 열린데이터 광장에서 다운로드 받은 파일로, 서울시 기준의 코로나19 확진자 관련 정보를 확인할 수 있습니다.  \n",
    "\n",
    "  * `environment1.csv`와 `environment2.csv`는 공공 데이터 포털(data.go.kr)에서 다운로드 받은 파일를 분할한 것으로, 도로 재비산먼지 측정 정보를 확인할 수 있습니다.  \n",
    "    * 설명) 한국환경공단_도로 재비산먼지 측정 정보는 특수제작한 이동측정차량으로 주행하는 차량의 타이어(휠)와 도로면의 마찰에 의해서 재비산되는 먼지(PM10)를 측정한 월간 평균 자료입니다.  \n",
    "    * 주의) 데이터의 결측치는 실습을 위해서 임의로 비워둔 값입니다. \n"
   ]
  },
  {
   "cell_type": "markdown",
   "metadata": {
    "id": "SLSZHynKXIWU"
   },
   "source": [
    "**수업에 필요한 모듈을 임포트하여라.** "
   ]
  },
  {
   "cell_type": "code",
   "execution_count": null,
   "metadata": {
    "id": "6npwBU-pXKc1"
   },
   "outputs": [],
   "source": [
    "import numpy as np\n",
    "import pandas as pd\n",
    "import matplotlib.pyplot as plt"
   ]
  },
  {
   "cell_type": "markdown",
   "metadata": {
    "id": "ZtqxmgNRF8Z0"
   },
   "source": [
    "실습에 앞서, `matplotlib` 패키지의 글꼴을 한글 표시가 가능하도록 한글을 지원하는 글꼴로 바꿔준다. 혹시 한글 표시에 오류가 발생한다면 상단 메뉴에서 [런타임]>[런타임 다시 시작] 또는 [다시 시작 및 모두 실행] 을 눌러 런타임을 재시작하면 된다.  "
   ]
  },
  {
   "cell_type": "code",
   "execution_count": null,
   "metadata": {
    "colab": {
     "base_uri": "https://localhost:8080/"
    },
    "executionInfo": {
     "elapsed": 11491,
     "status": "ok",
     "timestamp": 1621352088304,
     "user": {
      "displayName": "KyeongRyong Lee",
      "photoUrl": "",
      "userId": "08575822710201651490"
     },
     "user_tz": -540
    },
    "id": "YR0-A780ORfI",
    "outputId": "6fa46612-027c-4337-8977-025a5b468c3f"
   },
   "outputs": [
    {
     "name": "stdout",
     "output_type": "stream",
     "text": [
      "Reading package lists... Done\n",
      "Building dependency tree       \n",
      "Reading state information... Done\n",
      "The following package was automatically installed and is no longer required:\n",
      "  libnvidia-common-460\n",
      "Use 'apt autoremove' to remove it.\n",
      "The following NEW packages will be installed:\n",
      "  fonts-nanum\n",
      "0 upgraded, 1 newly installed, 0 to remove and 34 not upgraded.\n",
      "Need to get 9,604 kB of archives.\n",
      "After this operation, 29.5 MB of additional disk space will be used.\n",
      "Get:1 http://archive.ubuntu.com/ubuntu bionic/universe amd64 fonts-nanum all 20170925-1 [9,604 kB]\n",
      "Fetched 9,604 kB in 1s (8,550 kB/s)\n",
      "Selecting previously unselected package fonts-nanum.\n",
      "(Reading database ... 160706 files and directories currently installed.)\n",
      "Preparing to unpack .../fonts-nanum_20170925-1_all.deb ...\n",
      "Unpacking fonts-nanum (20170925-1) ...\n",
      "Setting up fonts-nanum (20170925-1) ...\n",
      "Processing triggers for fontconfig (2.12.6-0ubuntu2) ...\n",
      "/usr/share/fonts: caching, new cache contents: 0 fonts, 1 dirs\n",
      "/usr/share/fonts/truetype: caching, new cache contents: 0 fonts, 3 dirs\n",
      "/usr/share/fonts/truetype/humor-sans: caching, new cache contents: 1 fonts, 0 dirs\n",
      "/usr/share/fonts/truetype/liberation: caching, new cache contents: 16 fonts, 0 dirs\n",
      "/usr/share/fonts/truetype/nanum: caching, new cache contents: 10 fonts, 0 dirs\n",
      "/usr/local/share/fonts: caching, new cache contents: 0 fonts, 0 dirs\n",
      "/root/.local/share/fonts: skipping, no such directory\n",
      "/root/.fonts: skipping, no such directory\n",
      "/var/cache/fontconfig: cleaning cache directory\n",
      "/root/.cache/fontconfig: not cleaning non-existent cache directory\n",
      "/root/.fontconfig: not cleaning non-existent cache directory\n",
      "fc-cache: succeeded\n"
     ]
    }
   ],
   "source": [
    "!apt install -y fonts-nanum\n",
    "!fc-cache -fv\n",
    "\n",
    "applyfont = \"NanumBarunGothic\"\n",
    "\n",
    "import matplotlib.font_manager as fm\n",
    "if not any(map(lambda ft: ft.name == applyfont, fm.fontManager.ttflist)):\n",
    "  fm.fontManager.addfont(\"/usr/share/fonts/truetype/nanum/NanumBarunGothic.ttf\")\n",
    "\n",
    "plt.rc(\"font\", family=applyfont)\n",
    "plt.rc(\"axes\", unicode_minus=False)"
   ]
  },
  {
   "cell_type": "markdown",
   "metadata": {
    "id": "-EkwIgGdGXDG"
   },
   "source": [
    "한글이 잘 표시되는지 아래 코드를 실행시켜서 확인해보면 좋다. 한글이 정상적으로 나온다면 잘 적용된 것이다. "
   ]
  },
  {
   "cell_type": "code",
   "execution_count": null,
   "metadata": {
    "colab": {
     "base_uri": "https://localhost:8080/",
     "height": 280
    },
    "executionInfo": {
     "elapsed": 11482,
     "status": "ok",
     "timestamp": 1621352088305,
     "user": {
      "displayName": "KyeongRyong Lee",
      "photoUrl": "",
      "userId": "08575822710201651490"
     },
     "user_tz": -540
    },
    "id": "bfwI_LInGWlt",
    "outputId": "201f9dbc-cd2c-4257-c1df-ddcf188f3bc4"
   },
   "outputs": [
    {
     "data": {
      "image/png": "[encoded data removed]",
      "text/plain": [
       "<Figure size 432x288 with 1 Axes>"
      ]
     },
     "metadata": {
      "needs_background": "light",
      "tags": []
     },
     "output_type": "display_data"
    }
   ],
   "source": [
    "dat = pd.Series({'가': 3, '나': 5, '다': 7})\n",
    "\n",
    "plt.bar(dat.index, dat)\n",
    "plt.title(\"한글 사용 테스트\")\n",
    "plt.show()"
   ]
  },
  {
   "cell_type": "markdown",
   "metadata": {
    "id": "UAmW-dG6BhUI"
   },
   "source": [
    "**문제1) 아래의 질문에 답하여라.**"
   ]
  },
  {
   "cell_type": "markdown",
   "metadata": {
    "id": "jhZpoc8kXA8u"
   },
   "source": [
    "1) `covid19_seoul.csv` 파일을 읽어 데이터프레임 `df_covid`를 만들어라. "
   ]
  },
  {
   "cell_type": "code",
   "execution_count": null,
   "metadata": {
    "colab": {
     "base_uri": "https://localhost:8080/",
     "height": 419
    },
    "executionInfo": {
     "elapsed": 12036,
     "status": "ok",
     "timestamp": 1621352088869,
     "user": {
      "displayName": "KyeongRyong Lee",
      "photoUrl": "",
      "userId": "08575822710201651490"
     },
     "user_tz": -540
    },
    "id": "3h82yFLlK8G1",
    "outputId": "a1167ba4-94d0-4a54-8487-749e7131d8ae"
   },
   "outputs": [
    {
     "data": {
      "text/html": [
       "<div>\n",
       "<style scoped>\n",
       "    .dataframe tbody tr th:only-of-type {\n",
       "        vertical-align: middle;\n",
       "    }\n",
       "\n",
       "    .dataframe tbody tr th {\n",
       "        vertical-align: top;\n",
       "    }\n",
       "\n",
       "    .dataframe thead th {\n",
       "        text-align: right;\n",
       "    }\n",
       "</style>\n",
       "<table border=\"1\" class=\"dataframe\">\n",
       "  <thead>\n",
       "    <tr style=\"text-align: right;\">\n",
       "      <th></th>\n",
       "      <th>연번</th>\n",
       "      <th>확진일</th>\n",
       "      <th>환자번호</th>\n",
       "      <th>국적</th>\n",
       "      <th>환자정보</th>\n",
       "      <th>지역</th>\n",
       "      <th>여행력</th>\n",
       "      <th>접촉력</th>\n",
       "      <th>조치사항</th>\n",
       "      <th>상태</th>\n",
       "      <th>이동경로</th>\n",
       "      <th>등록일</th>\n",
       "      <th>수정일</th>\n",
       "      <th>노출여부</th>\n",
       "    </tr>\n",
       "  </thead>\n",
       "  <tbody>\n",
       "    <tr>\n",
       "      <th>0</th>\n",
       "      <td>40830</td>\n",
       "      <td>2021-05-14</td>\n",
       "      <td>NaN</td>\n",
       "      <td>NaN</td>\n",
       "      <td>NaN</td>\n",
       "      <td>마포구</td>\n",
       "      <td>NaN</td>\n",
       "      <td>해외유입</td>\n",
       "      <td>NaN</td>\n",
       "      <td>-</td>\n",
       "      <td>NaN</td>\n",
       "      <td>2021-05-15 10:52</td>\n",
       "      <td>2021-05-15 10:52</td>\n",
       "      <td>Y</td>\n",
       "    </tr>\n",
       "    <tr>\n",
       "      <th>1</th>\n",
       "      <td>40829</td>\n",
       "      <td>2021-05-14</td>\n",
       "      <td>NaN</td>\n",
       "      <td>NaN</td>\n",
       "      <td>NaN</td>\n",
       "      <td>은평구</td>\n",
       "      <td>NaN</td>\n",
       "      <td>타시도 확진자 접촉</td>\n",
       "      <td>NaN</td>\n",
       "      <td>-</td>\n",
       "      <td>NaN</td>\n",
       "      <td>2021-05-15 10:52</td>\n",
       "      <td>2021-05-15 10:52</td>\n",
       "      <td>Y</td>\n",
       "    </tr>\n",
       "    <tr>\n",
       "      <th>2</th>\n",
       "      <td>40828</td>\n",
       "      <td>2021-05-14</td>\n",
       "      <td>NaN</td>\n",
       "      <td>NaN</td>\n",
       "      <td>NaN</td>\n",
       "      <td>은평구</td>\n",
       "      <td>NaN</td>\n",
       "      <td>타시도 확진자 접촉</td>\n",
       "      <td>NaN</td>\n",
       "      <td>-</td>\n",
       "      <td>NaN</td>\n",
       "      <td>2021-05-15 10:52</td>\n",
       "      <td>2021-05-15 10:52</td>\n",
       "      <td>Y</td>\n",
       "    </tr>\n",
       "    <tr>\n",
       "      <th>3</th>\n",
       "      <td>40827</td>\n",
       "      <td>2021-05-14</td>\n",
       "      <td>NaN</td>\n",
       "      <td>NaN</td>\n",
       "      <td>NaN</td>\n",
       "      <td>은평구</td>\n",
       "      <td>NaN</td>\n",
       "      <td>타시도 확진자 접촉</td>\n",
       "      <td>NaN</td>\n",
       "      <td>-</td>\n",
       "      <td>NaN</td>\n",
       "      <td>2021-05-15 10:52</td>\n",
       "      <td>2021-05-15 10:52</td>\n",
       "      <td>Y</td>\n",
       "    </tr>\n",
       "    <tr>\n",
       "      <th>4</th>\n",
       "      <td>40826</td>\n",
       "      <td>2021-05-14</td>\n",
       "      <td>NaN</td>\n",
       "      <td>NaN</td>\n",
       "      <td>NaN</td>\n",
       "      <td>구로구</td>\n",
       "      <td>NaN</td>\n",
       "      <td>타시도 확진자 접촉</td>\n",
       "      <td>NaN</td>\n",
       "      <td>-</td>\n",
       "      <td>NaN</td>\n",
       "      <td>2021-05-15 10:52</td>\n",
       "      <td>2021-05-15 10:52</td>\n",
       "      <td>Y</td>\n",
       "    </tr>\n",
       "    <tr>\n",
       "      <th>...</th>\n",
       "      <td>...</td>\n",
       "      <td>...</td>\n",
       "      <td>...</td>\n",
       "      <td>...</td>\n",
       "      <td>...</td>\n",
       "      <td>...</td>\n",
       "      <td>...</td>\n",
       "      <td>...</td>\n",
       "      <td>...</td>\n",
       "      <td>...</td>\n",
       "      <td>...</td>\n",
       "      <td>...</td>\n",
       "      <td>...</td>\n",
       "      <td>...</td>\n",
       "    </tr>\n",
       "    <tr>\n",
       "      <th>40825</th>\n",
       "      <td>5</td>\n",
       "      <td>2020-01-31</td>\n",
       "      <td>NaN</td>\n",
       "      <td>NaN</td>\n",
       "      <td>NaN</td>\n",
       "      <td>성북구</td>\n",
       "      <td>NaN</td>\n",
       "      <td>기타 확진자 접촉</td>\n",
       "      <td>NaN</td>\n",
       "      <td>퇴원</td>\n",
       "      <td>NaN</td>\n",
       "      <td>2021-03-24 10:53</td>\n",
       "      <td>2021-03-24 13:05</td>\n",
       "      <td>Y</td>\n",
       "    </tr>\n",
       "    <tr>\n",
       "      <th>40826</th>\n",
       "      <td>4</td>\n",
       "      <td>2020-01-30</td>\n",
       "      <td>NaN</td>\n",
       "      <td>NaN</td>\n",
       "      <td>NaN</td>\n",
       "      <td>마포구</td>\n",
       "      <td>중국</td>\n",
       "      <td>해외유입</td>\n",
       "      <td>NaN</td>\n",
       "      <td>퇴원</td>\n",
       "      <td>NaN</td>\n",
       "      <td>2021-03-24 10:53</td>\n",
       "      <td>2021-03-24 13:05</td>\n",
       "      <td>Y</td>\n",
       "    </tr>\n",
       "    <tr>\n",
       "      <th>40827</th>\n",
       "      <td>3</td>\n",
       "      <td>2020-01-30</td>\n",
       "      <td>NaN</td>\n",
       "      <td>NaN</td>\n",
       "      <td>NaN</td>\n",
       "      <td>종로구</td>\n",
       "      <td>NaN</td>\n",
       "      <td>종로구 집단발병</td>\n",
       "      <td>NaN</td>\n",
       "      <td>퇴원</td>\n",
       "      <td>NaN</td>\n",
       "      <td>2021-03-24 10:53</td>\n",
       "      <td>2021-03-24 13:05</td>\n",
       "      <td>Y</td>\n",
       "    </tr>\n",
       "    <tr>\n",
       "      <th>40828</th>\n",
       "      <td>2</td>\n",
       "      <td>2020-01-30</td>\n",
       "      <td>NaN</td>\n",
       "      <td>NaN</td>\n",
       "      <td>NaN</td>\n",
       "      <td>중랑구</td>\n",
       "      <td>중국</td>\n",
       "      <td>해외유입</td>\n",
       "      <td>NaN</td>\n",
       "      <td>퇴원</td>\n",
       "      <td>NaN</td>\n",
       "      <td>2021-03-24 10:53</td>\n",
       "      <td>2021-03-24 13:05</td>\n",
       "      <td>Y</td>\n",
       "    </tr>\n",
       "    <tr>\n",
       "      <th>40829</th>\n",
       "      <td>1</td>\n",
       "      <td>2020-01-24</td>\n",
       "      <td>NaN</td>\n",
       "      <td>NaN</td>\n",
       "      <td>NaN</td>\n",
       "      <td>강서구</td>\n",
       "      <td>중국</td>\n",
       "      <td>해외유입</td>\n",
       "      <td>NaN</td>\n",
       "      <td>퇴원</td>\n",
       "      <td>NaN</td>\n",
       "      <td>2021-03-24 10:53</td>\n",
       "      <td>2021-03-24 13:05</td>\n",
       "      <td>Y</td>\n",
       "    </tr>\n",
       "  </tbody>\n",
       "</table>\n",
       "<p>40830 rows × 14 columns</p>\n",
       "</div>"
      ],
      "text/plain": [
       "          연번         확진일  환자번호  ...               등록일               수정일 노출여부\n",
       "0      40830  2021-05-14   NaN  ...  2021-05-15 10:52  2021-05-15 10:52    Y\n",
       "1      40829  2021-05-14   NaN  ...  2021-05-15 10:52  2021-05-15 10:52    Y\n",
       "2      40828  2021-05-14   NaN  ...  2021-05-15 10:52  2021-05-15 10:52    Y\n",
       "3      40827  2021-05-14   NaN  ...  2021-05-15 10:52  2021-05-15 10:52    Y\n",
       "4      40826  2021-05-14   NaN  ...  2021-05-15 10:52  2021-05-15 10:52    Y\n",
       "...      ...         ...   ...  ...               ...               ...  ...\n",
       "40825      5  2020-01-31   NaN  ...  2021-03-24 10:53  2021-03-24 13:05    Y\n",
       "40826      4  2020-01-30   NaN  ...  2021-03-24 10:53  2021-03-24 13:05    Y\n",
       "40827      3  2020-01-30   NaN  ...  2021-03-24 10:53  2021-03-24 13:05    Y\n",
       "40828      2  2020-01-30   NaN  ...  2021-03-24 10:53  2021-03-24 13:05    Y\n",
       "40829      1  2020-01-24   NaN  ...  2021-03-24 10:53  2021-03-24 13:05    Y\n",
       "\n",
       "[40830 rows x 14 columns]"
      ]
     },
     "execution_count": 4,
     "metadata": {
      "tags": []
     },
     "output_type": "execute_result"
    }
   ],
   "source": [
    "df_covid = pd.read_csv(\"covid19_seoul.csv\")\n",
    "df_covid"
   ]
  },
  {
   "cell_type": "markdown",
   "metadata": {
    "id": "hr_sOQDy3Zqj"
   },
   "source": [
    "2) `df_covid`의 열(column)에는 어떠한 것이 있는가? 열의 개수는 몇 개인가?"
   ]
  },
  {
   "cell_type": "code",
   "execution_count": null,
   "metadata": {
    "colab": {
     "base_uri": "https://localhost:8080/"
    },
    "executionInfo": {
     "elapsed": 12028,
     "status": "ok",
     "timestamp": 1621352088871,
     "user": {
      "displayName": "KyeongRyong Lee",
      "photoUrl": "",
      "userId": "08575822710201651490"
     },
     "user_tz": -540
    },
    "id": "93Rm7UJoLAhm",
    "outputId": "ec38a62b-f0a8-42ee-90a9-283c46140e35"
   },
   "outputs": [
    {
     "data": {
      "text/plain": [
       "Index(['연번', '확진일', '환자번호', '국적', '환자정보', '지역', '여행력', '접촉력', '조치사항', '상태',\n",
       "       '이동경로', '등록일', '수정일', '노출여부'],\n",
       "      dtype='object')"
      ]
     },
     "execution_count": 5,
     "metadata": {
      "tags": []
     },
     "output_type": "execute_result"
    }
   ],
   "source": [
    "df_covid.columns"
   ]
  },
  {
   "cell_type": "code",
   "execution_count": null,
   "metadata": {
    "colab": {
     "base_uri": "https://localhost:8080/"
    },
    "executionInfo": {
     "elapsed": 12021,
     "status": "ok",
     "timestamp": 1621352088873,
     "user": {
      "displayName": "KyeongRyong Lee",
      "photoUrl": "",
      "userId": "08575822710201651490"
     },
     "user_tz": -540
    },
    "id": "UD5RFKzbLjIM",
    "outputId": "68bcc981-7c1d-4bdf-ff39-1f4d277c1cd7"
   },
   "outputs": [
    {
     "data": {
      "text/plain": [
       "14"
      ]
     },
     "execution_count": 6,
     "metadata": {
      "tags": []
     },
     "output_type": "execute_result"
    }
   ],
   "source": [
    "len(df_covid.columns)"
   ]
  },
  {
   "cell_type": "markdown",
   "metadata": {
    "id": "eXDF17qyl92l"
   },
   "source": [
    "연번, 확진일 등의 정보를 담은 열(column)이 존재하고, 총 개수는 14개이다."
   ]
  },
  {
   "cell_type": "markdown",
   "metadata": {
    "id": "hcFQ8kHnmIIL"
   },
   "source": [
    "참고: 사람에게 보기 좋게 정보를 출력해주는 `info()`라는 메소드를 제공하고 있다. 해당 메소드를 이용하면 전체적인 정보를 빠르게 확인할 수 있다. "
   ]
  },
  {
   "cell_type": "code",
   "execution_count": null,
   "metadata": {
    "colab": {
     "base_uri": "https://localhost:8080/"
    },
    "executionInfo": {
     "elapsed": 12013,
     "status": "ok",
     "timestamp": 1621352088875,
     "user": {
      "displayName": "KyeongRyong Lee",
      "photoUrl": "",
      "userId": "08575822710201651490"
     },
     "user_tz": -540
    },
    "id": "7ZeBLIH0LtLX",
    "outputId": "2d9d11e6-e3f2-46e1-86d8-c0d3e21b0318"
   },
   "outputs": [
    {
     "name": "stdout",
     "output_type": "stream",
     "text": [
      "<class 'pandas.core.frame.DataFrame'>\n",
      "RangeIndex: 40830 entries, 0 to 40829\n",
      "Data columns (total 14 columns):\n",
      " #   Column  Non-Null Count  Dtype  \n",
      "---  ------  --------------  -----  \n",
      " 0   연번      40830 non-null  int64  \n",
      " 1   확진일     40830 non-null  object \n",
      " 2   환자번호    0 non-null      float64\n",
      " 3   국적      0 non-null      float64\n",
      " 4   환자정보    0 non-null      float64\n",
      " 5   지역      40830 non-null  object \n",
      " 6   여행력     1087 non-null   object \n",
      " 7   접촉력     40830 non-null  object \n",
      " 8   조치사항    0 non-null      float64\n",
      " 9   상태      40802 non-null  object \n",
      " 10  이동경로    0 non-null      float64\n",
      " 11  등록일     40830 non-null  object \n",
      " 12  수정일     40830 non-null  object \n",
      " 13  노출여부    40830 non-null  object \n",
      "dtypes: float64(5), int64(1), object(8)\n",
      "memory usage: 4.4+ MB\n"
     ]
    }
   ],
   "source": [
    "df_covid.info()"
   ]
  },
  {
   "cell_type": "markdown",
   "metadata": {
    "id": "YPPn4B4d3mF1"
   },
   "source": [
    "3) `df_covid`에는 몇 개의 관측치가 있는가?"
   ]
  },
  {
   "cell_type": "markdown",
   "metadata": {
    "id": "joFZDNyWnfiC"
   },
   "source": [
    "데이터프레임에서 관측치의 개수, 즉, 행의 개수는 `len()`  함수를 통해 구할 수 있다. "
   ]
  },
  {
   "cell_type": "code",
   "execution_count": null,
   "metadata": {
    "colab": {
     "base_uri": "https://localhost:8080/"
    },
    "executionInfo": {
     "elapsed": 12004,
     "status": "ok",
     "timestamp": 1621352088876,
     "user": {
      "displayName": "KyeongRyong Lee",
      "photoUrl": "",
      "userId": "08575822710201651490"
     },
     "user_tz": -540
    },
    "id": "JDRHrKwsLDsn",
    "outputId": "c674462a-4020-4c88-e27d-a1cd0198a246"
   },
   "outputs": [
    {
     "data": {
      "text/plain": [
       "40830"
      ]
     },
     "execution_count": 8,
     "metadata": {
      "tags": []
     },
     "output_type": "execute_result"
    }
   ],
   "source": [
    "len(df_covid)"
   ]
  },
  {
   "cell_type": "markdown",
   "metadata": {
    "id": "sUg-0tlh3sxB"
   },
   "source": [
    "4) 가장 많은 확진자가 나온 날은 언제인가? 그때의 확진자 수는 몇 명인가?"
   ]
  },
  {
   "cell_type": "markdown",
   "metadata": {
    "id": "vBBPHc6Lo0Aw"
   },
   "source": [
    "먼저, 각 날짜별 확진자수를 구하기 위하여 `value_counts()` 메소드를 사용한다. \n"
   ]
  },
  {
   "cell_type": "code",
   "execution_count": null,
   "metadata": {
    "colab": {
     "base_uri": "https://localhost:8080/"
    },
    "executionInfo": {
     "elapsed": 11996,
     "status": "ok",
     "timestamp": 1621352088877,
     "user": {
      "displayName": "KyeongRyong Lee",
      "photoUrl": "",
      "userId": "08575822710201651490"
     },
     "user_tz": -540
    },
    "id": "S588ikAv1gDE",
    "outputId": "f2d6819d-3495-49c5-b00c-9c2f919e3c96"
   },
   "outputs": [
    {
     "data": {
      "text/plain": [
       "2020-12-17    588\n",
       "2020-12-24    567\n",
       "2020-12-28    523\n",
       "2020-12-25    428\n",
       "2020-12-16    425\n",
       "             ... \n",
       "2020-04-15      1\n",
       "2020-02-02      1\n",
       "2020-04-24      1\n",
       "2020-05-01      1\n",
       "2020-05-17      1\n",
       "Name: 확진일, Length: 445, dtype: int64"
      ]
     },
     "execution_count": 9,
     "metadata": {
      "tags": []
     },
     "output_type": "execute_result"
    }
   ],
   "source": [
    "covid_per_day = df_covid[\"확진일\"].value_counts()\n",
    "covid_per_day"
   ]
  },
  {
   "cell_type": "markdown",
   "metadata": {
    "id": "jXAapJV9oM7V"
   },
   "source": [
    "방법 1: 내림차순 정렬 후 `head()` 메소드를 통해 가장 상위에 나타난 행을 확인"
   ]
  },
  {
   "cell_type": "code",
   "execution_count": null,
   "metadata": {
    "colab": {
     "base_uri": "https://localhost:8080/"
    },
    "executionInfo": {
     "elapsed": 11988,
     "status": "ok",
     "timestamp": 1621352088878,
     "user": {
      "displayName": "KyeongRyong Lee",
      "photoUrl": "",
      "userId": "08575822710201651490"
     },
     "user_tz": -540
    },
    "id": "d-R0nK9ZoVms",
    "outputId": "04f432c3-e4f2-4c45-e0aa-a023b1243be3"
   },
   "outputs": [
    {
     "data": {
      "text/plain": [
       "2020-12-17    588\n",
       "2020-12-24    567\n",
       "2020-12-28    523\n",
       "2020-12-25    428\n",
       "2020-12-16    425\n",
       "Name: 확진일, dtype: int64"
      ]
     },
     "execution_count": 10,
     "metadata": {
      "tags": []
     },
     "output_type": "execute_result"
    }
   ],
   "source": [
    "covid_per_day.sort_values(ascending=False).head()"
   ]
  },
  {
   "cell_type": "markdown",
   "metadata": {
    "id": "wNrOMpJ41yiz"
   },
   "source": [
    "방법 2: `max()` 메소드를 이용한 후 해당 행을 찾는 방법"
   ]
  },
  {
   "cell_type": "code",
   "execution_count": null,
   "metadata": {
    "colab": {
     "base_uri": "https://localhost:8080/"
    },
    "executionInfo": {
     "elapsed": 11979,
     "status": "ok",
     "timestamp": 1621352088878,
     "user": {
      "displayName": "KyeongRyong Lee",
      "photoUrl": "",
      "userId": "08575822710201651490"
     },
     "user_tz": -540
    },
    "id": "xkjTNDmS14xN",
    "outputId": "119629d1-1c45-41d1-a692-002a21b43471"
   },
   "outputs": [
    {
     "data": {
      "text/plain": [
       "2020-12-17    588\n",
       "Name: 확진일, dtype: int64"
      ]
     },
     "execution_count": 11,
     "metadata": {
      "tags": []
     },
     "output_type": "execute_result"
    }
   ],
   "source": [
    "covid_per_day[covid_per_day == covid_per_day.max()]"
   ]
  },
  {
   "cell_type": "markdown",
   "metadata": {
    "id": "PhfnpS0l3xOc"
   },
   "source": [
    "5) 일별 확진자수를 선 그래프로 시각화하여라. "
   ]
  },
  {
   "cell_type": "markdown",
   "metadata": {
    "id": "pJKlgaMiAC9O"
   },
   "source": [
    "시간 순으로 보기 위해서 시리즈의 인덱스인 날짜로 정렬한다. 이를 위해 `sort_index()` 메소드를 이용한다. "
   ]
  },
  {
   "cell_type": "code",
   "execution_count": null,
   "metadata": {
    "colab": {
     "base_uri": "https://localhost:8080/"
    },
    "executionInfo": {
     "elapsed": 11970,
     "status": "ok",
     "timestamp": 1621352088879,
     "user": {
      "displayName": "KyeongRyong Lee",
      "photoUrl": "",
      "userId": "08575822710201651490"
     },
     "user_tz": -540
    },
    "id": "KaZ11wwt_9gL",
    "outputId": "563d3a08-8689-49b7-cba5-4ec3ff15a39a"
   },
   "outputs": [
    {
     "data": {
      "text/plain": [
       "2020-01-24      1\n",
       "2020-01-30      3\n",
       "2020-01-31      3\n",
       "2020-02-02      1\n",
       "2020-02-05      2\n",
       "             ... \n",
       "2021-05-10    163\n",
       "2021-05-11    223\n",
       "2021-05-12    227\n",
       "2021-05-13    231\n",
       "2021-05-14    254\n",
       "Name: 확진일, Length: 445, dtype: int64"
      ]
     },
     "execution_count": 12,
     "metadata": {
      "tags": []
     },
     "output_type": "execute_result"
    }
   ],
   "source": [
    "covid_per_day = covid_per_day.sort_index()\n",
    "covid_per_day"
   ]
  },
  {
   "cell_type": "markdown",
   "metadata": {
    "id": "mkJ7X6tt-ieU"
   },
   "source": [
    "`matplotlib.pyplot` 모듈에서 `plt()` 함수를 이용하면 꺾은선 그래프를 그릴 수 있다. "
   ]
  },
  {
   "cell_type": "code",
   "execution_count": null,
   "metadata": {
    "colab": {
     "base_uri": "https://localhost:8080/",
     "height": 265
    },
    "executionInfo": {
     "elapsed": 16043,
     "status": "ok",
     "timestamp": 1621352092962,
     "user": {
      "displayName": "KyeongRyong Lee",
      "photoUrl": "",
      "userId": "08575822710201651490"
     },
     "user_tz": -540
    },
    "id": "nkoym-Hs2Yyo",
    "outputId": "3f11ee41-21bc-41d2-8f96-39fef7dcf5b7"
   },
   "outputs": [
    {
     "data": {
      "image/png": "[encoded data removed]",
      "text/plain": [
       "<Figure size 432x288 with 1 Axes>"
      ]
     },
     "metadata": {
      "needs_background": "light",
      "tags": []
     },
     "output_type": "display_data"
    }
   ],
   "source": [
    "plt.plot(covid_per_day)\n",
    "plt.show()"
   ]
  },
  {
   "cell_type": "markdown",
   "metadata": {
    "id": "WlRYrgFj_qcu"
   },
   "source": [
    "참고: 아래와 같이 여러 정보를 같이 넣어주면 시각적으로 좋다. "
   ]
  },
  {
   "cell_type": "code",
   "execution_count": null,
   "metadata": {
    "colab": {
     "base_uri": "https://localhost:8080/",
     "height": 295
    },
    "executionInfo": {
     "elapsed": 16037,
     "status": "ok",
     "timestamp": 1621352092965,
     "user": {
      "displayName": "KyeongRyong Lee",
      "photoUrl": "",
      "userId": "08575822710201651490"
     },
     "user_tz": -540
    },
    "id": "28A_OR-6Ac3R",
    "outputId": "06caffd3-bf17-49e3-81cd-86f26d6f39e4"
   },
   "outputs": [
    {
     "data": {
      "image/png": "[encoded data removed]",
      "text/plain": [
       "<Figure size 432x288 with 1 Axes>"
      ]
     },
     "metadata": {
      "needs_background": "light",
      "tags": []
     },
     "output_type": "display_data"
    }
   ],
   "source": [
    "plt.plot(covid_per_day)\n",
    "\n",
    "plt.title(\"COVID-19 infected per day\")\n",
    "plt.xlabel(\"Date\")\n",
    "plt.ylabel(\"Number of infected people\")\n",
    "plt.xticks(covid_per_day.index[::100])\n",
    "\n",
    "plt.show()"
   ]
  },
  {
   "cell_type": "markdown",
   "metadata": {
    "id": "6i3tB4624ERT"
   },
   "source": [
    "6) 지역별 확진자 수를 막대 그래프로 시각화하여라. 단, 관악구는 다른 색으로 표시하여, 잘 보이도록 한다. "
   ]
  },
  {
   "cell_type": "markdown",
   "metadata": {
    "id": "ZKrOLBU6E4gP"
   },
   "source": [
    "먼저, 지역별 확진자수를 구한다. "
   ]
  },
  {
   "cell_type": "code",
   "execution_count": null,
   "metadata": {
    "colab": {
     "base_uri": "https://localhost:8080/"
    },
    "executionInfo": {
     "elapsed": 16028,
     "status": "ok",
     "timestamp": 1621352092966,
     "user": {
      "displayName": "KyeongRyong Lee",
      "photoUrl": "",
      "userId": "08575822710201651490"
     },
     "user_tz": -540
    },
    "id": "6A1Y9Bm5E2LV",
    "outputId": "8837caa0-9915-4719-a819-5756c1faa6c2"
   },
   "outputs": [
    {
     "data": {
      "text/plain": [
       "송파구     2314\n",
       "강남구     2191\n",
       "강서구     2088\n",
       "기타      2088\n",
       "관악구     1933\n",
       "타시도     1923\n",
       "노원구     1852\n",
       "은평구     1833\n",
       "중랑구     1830\n",
       "서초구     1729\n",
       "동작구     1723\n",
       "성북구     1696\n",
       "강동구     1549\n",
       "동대문구    1534\n",
       "영등포구    1496\n",
       "양천구     1463\n",
       "구로구     1383\n",
       "광진구     1317\n",
       "도봉구     1305\n",
       "마포구     1290\n",
       "강북구     1139\n",
       "성동구     1118\n",
       "용산구     1073\n",
       "서대문구     979\n",
       "종로구      716\n",
       "금천구      638\n",
       "중구       630\n",
       "Name: 지역, dtype: int64"
      ]
     },
     "execution_count": 15,
     "metadata": {
      "tags": []
     },
     "output_type": "execute_result"
    }
   ],
   "source": [
    "covid_per_area = df_covid[\"지역\"].value_counts()\n",
    "covid_per_area"
   ]
  },
  {
   "cell_type": "markdown",
   "metadata": {
    "id": "4m2nAay5FdFD"
   },
   "source": [
    "그 후, `plt.bar()` 메소드를 이용해 막대그래프를 그려준다. "
   ]
  },
  {
   "cell_type": "code",
   "execution_count": null,
   "metadata": {
    "colab": {
     "base_uri": "https://localhost:8080/",
     "height": 283
    },
    "executionInfo": {
     "elapsed": 16501,
     "status": "ok",
     "timestamp": 1621352093453,
     "user": {
      "displayName": "KyeongRyong Lee",
      "photoUrl": "",
      "userId": "08575822710201651490"
     },
     "user_tz": -540
    },
    "id": "r7H48CLuFcy0",
    "outputId": "7960675c-5a21-4dc2-fa7a-729e041232dc"
   },
   "outputs": [
    {
     "data": {
      "text/plain": [
       "<BarContainer object of 27 artists>"
      ]
     },
     "execution_count": 16,
     "metadata": {
      "tags": []
     },
     "output_type": "execute_result"
    },
    {
     "data": {
      "image/png": "[encoded data removed]",
      "text/plain": [
       "<Figure size 432x288 with 1 Axes>"
      ]
     },
     "metadata": {
      "needs_background": "light",
      "tags": []
     },
     "output_type": "display_data"
    }
   ],
   "source": [
    "colors = pd.Series(\"gray\", index=covid_per_area.index)\n",
    "colors[\"관악구\"] = \"red\"\n",
    "\n",
    "plt.bar(covid_per_area.index, covid_per_area, color=colors)"
   ]
  },
  {
   "cell_type": "markdown",
   "metadata": {
    "id": "PlqU-4nlphdV"
   },
   "source": [
    "아래와 같이 정보를 더 표시하고 사이즈를 키우면 시각적으로 좋다."
   ]
  },
  {
   "cell_type": "code",
   "execution_count": null,
   "metadata": {
    "colab": {
     "base_uri": "https://localhost:8080/",
     "height": 744
    },
    "executionInfo": {
     "elapsed": 16436,
     "status": "ok",
     "timestamp": 1621352093455,
     "user": {
      "displayName": "KyeongRyong Lee",
      "photoUrl": "",
      "userId": "08575822710201651490"
     },
     "user_tz": -540
    },
    "id": "hIJGaqhIphNE",
    "outputId": "1d0bbb9f-3d70-4d8c-bed9-76626ca784a3"
   },
   "outputs": [
    {
     "data": {
      "image/png": "[encoded data removed]",
      "text/plain": [
       "<Figure size 1440x864 with 1 Axes>"
      ]
     },
     "metadata": {
      "needs_background": "light",
      "tags": []
     },
     "output_type": "display_data"
    }
   ],
   "source": [
    "fig = plt.figure(figsize=(20, 12)) #figsize로 그래프의 크기 변경 가능\n",
    "\n",
    "colors = pd.Series(\"gray\", index=covid_per_area.index)\n",
    "colors[\"관악구\"] = \"red\"\n",
    "\n",
    "plt.bar(covid_per_area.index, covid_per_area, color=colors)\n",
    "\n",
    "plt.title(\"코로나19 지역별 확진자수\", fontsize=24)\n",
    "plt.xlabel(\"지역\", fontsize=14)\n",
    "plt.ylabel(\"확진자수\", fontsize=14)\n",
    "\n",
    "plt.show()"
   ]
  },
  {
   "cell_type": "markdown",
   "metadata": {
    "id": "jl3SwrXv5cgP"
   },
   "source": [
    "**문제2) 아래의 질문에 답하여라.**"
   ]
  },
  {
   "cell_type": "markdown",
   "metadata": {
    "id": "ICQToPml5f_k"
   },
   "source": [
    "1) `environment1.csv`와 `environment2.csv` 파일을 읽어 데이터프레임 `df1`과 `df2`를 만들어라. "
   ]
  },
  {
   "cell_type": "code",
   "execution_count": null,
   "metadata": {
    "colab": {
     "base_uri": "https://localhost:8080/",
     "height": 419
    },
    "executionInfo": {
     "elapsed": 17751,
     "status": "ok",
     "timestamp": 1621352094786,
     "user": {
      "displayName": "KyeongRyong Lee",
      "photoUrl": "",
      "userId": "08575822710201651490"
     },
     "user_tz": -540
    },
    "id": "HtJYmrsUp5il",
    "outputId": "5bd372ae-cb78-4265-e3f0-da401f1330a1"
   },
   "outputs": [
    {
     "data": {
      "text/html": [
       "<div>\n",
       "<style scoped>\n",
       "    .dataframe tbody tr th:only-of-type {\n",
       "        vertical-align: middle;\n",
       "    }\n",
       "\n",
       "    .dataframe tbody tr th {\n",
       "        vertical-align: top;\n",
       "    }\n",
       "\n",
       "    .dataframe thead th {\n",
       "        text-align: right;\n",
       "    }\n",
       "</style>\n",
       "<table border=\"1\" class=\"dataframe\">\n",
       "  <thead>\n",
       "    <tr style=\"text-align: right;\">\n",
       "      <th></th>\n",
       "      <th>측정일자</th>\n",
       "      <th>측정시간</th>\n",
       "      <th>지역</th>\n",
       "      <th>지역명</th>\n",
       "      <th>도로명</th>\n",
       "      <th>시작점</th>\n",
       "      <th>종점</th>\n",
       "      <th>기온 (℃)</th>\n",
       "      <th>습도 (%)</th>\n",
       "      <th>재비산먼지 평균농도(㎍/㎥)</th>\n",
       "      <th>오염범례</th>\n",
       "    </tr>\n",
       "  </thead>\n",
       "  <tbody>\n",
       "    <tr>\n",
       "      <th>0</th>\n",
       "      <td>2021-03-02</td>\n",
       "      <td>11:07</td>\n",
       "      <td>경기</td>\n",
       "      <td>안산시 상록구</td>\n",
       "      <td>성호로</td>\n",
       "      <td>경기도 안산시상록구 일동 634도</td>\n",
       "      <td>경기도 안산시상록구 부곡동 598도</td>\n",
       "      <td>5.0</td>\n",
       "      <td>63.0</td>\n",
       "      <td>324</td>\n",
       "      <td>매우나쁨</td>\n",
       "    </tr>\n",
       "    <tr>\n",
       "      <th>1</th>\n",
       "      <td>2021-03-02</td>\n",
       "      <td>11:27</td>\n",
       "      <td>경기</td>\n",
       "      <td>안산시 상록구</td>\n",
       "      <td>충장로</td>\n",
       "      <td>경기도 안산시상록구 부곡동 739-21도</td>\n",
       "      <td>경기도 안산시상록구 본오동 1158도</td>\n",
       "      <td>4.0</td>\n",
       "      <td>61.0</td>\n",
       "      <td>230</td>\n",
       "      <td>매우나쁨</td>\n",
       "    </tr>\n",
       "    <tr>\n",
       "      <th>2</th>\n",
       "      <td>2021-03-02</td>\n",
       "      <td>11:54</td>\n",
       "      <td>경기</td>\n",
       "      <td>안산시 상록구</td>\n",
       "      <td>해안로</td>\n",
       "      <td>경기도 안산시상록구 팔곡일동 557-3도</td>\n",
       "      <td>경기도 안산시상록구 사동 1634 천</td>\n",
       "      <td>5.0</td>\n",
       "      <td>59.0</td>\n",
       "      <td>80</td>\n",
       "      <td>좋음</td>\n",
       "    </tr>\n",
       "    <tr>\n",
       "      <th>3</th>\n",
       "      <td>2021-03-02</td>\n",
       "      <td>12:09</td>\n",
       "      <td>경기</td>\n",
       "      <td>안산시 단원구</td>\n",
       "      <td>해안로</td>\n",
       "      <td>경기도 안산시단원구 초지동 795 천</td>\n",
       "      <td>경기도 안산시단원구 성곡동 619-1도</td>\n",
       "      <td>NaN</td>\n",
       "      <td>56.0</td>\n",
       "      <td>88</td>\n",
       "      <td>좋음</td>\n",
       "    </tr>\n",
       "    <tr>\n",
       "      <th>4</th>\n",
       "      <td>2021-03-02</td>\n",
       "      <td>12:22</td>\n",
       "      <td>경기</td>\n",
       "      <td>안산시 단원구</td>\n",
       "      <td>첨단로</td>\n",
       "      <td>경기도 안산시단원구 초지동 660-10도</td>\n",
       "      <td>경기도 안산시단원구 성곡동 780천</td>\n",
       "      <td>5.0</td>\n",
       "      <td>54.0</td>\n",
       "      <td>178</td>\n",
       "      <td>나쁨</td>\n",
       "    </tr>\n",
       "    <tr>\n",
       "      <th>...</th>\n",
       "      <td>...</td>\n",
       "      <td>...</td>\n",
       "      <td>...</td>\n",
       "      <td>...</td>\n",
       "      <td>...</td>\n",
       "      <td>...</td>\n",
       "      <td>...</td>\n",
       "      <td>...</td>\n",
       "      <td>...</td>\n",
       "      <td>...</td>\n",
       "      <td>...</td>\n",
       "    </tr>\n",
       "    <tr>\n",
       "      <th>495</th>\n",
       "      <td>2021-03-12</td>\n",
       "      <td>12:14</td>\n",
       "      <td>경기</td>\n",
       "      <td>김포시</td>\n",
       "      <td>김포한강11로</td>\n",
       "      <td>경기도 김포시 운양동 1400-3도</td>\n",
       "      <td>경기도 김포시 운양동 1400 도</td>\n",
       "      <td>14.0</td>\n",
       "      <td>52.0</td>\n",
       "      <td>86</td>\n",
       "      <td>좋음</td>\n",
       "    </tr>\n",
       "    <tr>\n",
       "      <th>496</th>\n",
       "      <td>2021-03-12</td>\n",
       "      <td>12:51</td>\n",
       "      <td>경기</td>\n",
       "      <td>김포시</td>\n",
       "      <td>돌문로</td>\n",
       "      <td>경기도 김포시 사우동 186-20도</td>\n",
       "      <td>경기도 김포시 사우동 838-45도</td>\n",
       "      <td>15.0</td>\n",
       "      <td>48.0</td>\n",
       "      <td>456</td>\n",
       "      <td>매우나쁨</td>\n",
       "    </tr>\n",
       "    <tr>\n",
       "      <th>497</th>\n",
       "      <td>2021-03-12</td>\n",
       "      <td>14:10</td>\n",
       "      <td>경기</td>\n",
       "      <td>김포시</td>\n",
       "      <td>마송1로</td>\n",
       "      <td>경기도 김포시 통진읍 마송리 592 도</td>\n",
       "      <td>경기도 김포시 통진읍 마송리 592 도</td>\n",
       "      <td>15.0</td>\n",
       "      <td>57.0</td>\n",
       "      <td>27</td>\n",
       "      <td>매우좋음</td>\n",
       "    </tr>\n",
       "    <tr>\n",
       "      <th>498</th>\n",
       "      <td>2021-03-12</td>\n",
       "      <td>14:17</td>\n",
       "      <td>경기</td>\n",
       "      <td>김포시</td>\n",
       "      <td>마송로</td>\n",
       "      <td>경기도 김포시 통진읍 마송리 159-37 임</td>\n",
       "      <td>경기도 김포시 통진읍 마송리 592-9도</td>\n",
       "      <td>14.0</td>\n",
       "      <td>57.0</td>\n",
       "      <td>453</td>\n",
       "      <td>매우나쁨</td>\n",
       "    </tr>\n",
       "    <tr>\n",
       "      <th>499</th>\n",
       "      <td>2021-03-12</td>\n",
       "      <td>14:54</td>\n",
       "      <td>경기</td>\n",
       "      <td>김포시</td>\n",
       "      <td>양곡4로</td>\n",
       "      <td>경기도 김포시 구래동 5403도</td>\n",
       "      <td>경기도 김포시 양촌읍 양곡리 1503 도</td>\n",
       "      <td>14.0</td>\n",
       "      <td>62.0</td>\n",
       "      <td>47</td>\n",
       "      <td>매우좋음</td>\n",
       "    </tr>\n",
       "  </tbody>\n",
       "</table>\n",
       "<p>500 rows × 11 columns</p>\n",
       "</div>"
      ],
      "text/plain": [
       "           측정일자   측정시간  지역      지역명  ... 기온 (℃) 습도 (%) 재비산먼지 평균농도(㎍/㎥)  오염범례\n",
       "0    2021-03-02  11:07  경기  안산시 상록구  ...    5.0   63.0             324  매우나쁨\n",
       "1    2021-03-02  11:27  경기  안산시 상록구  ...    4.0   61.0             230  매우나쁨\n",
       "2    2021-03-02  11:54  경기  안산시 상록구  ...    5.0   59.0              80    좋음\n",
       "3    2021-03-02  12:09  경기  안산시 단원구  ...    NaN   56.0              88    좋음\n",
       "4    2021-03-02  12:22  경기  안산시 단원구  ...    5.0   54.0             178    나쁨\n",
       "..          ...    ...  ..      ...  ...    ...    ...             ...   ...\n",
       "495  2021-03-12  12:14  경기      김포시  ...   14.0   52.0              86    좋음\n",
       "496  2021-03-12  12:51  경기      김포시  ...   15.0   48.0             456  매우나쁨\n",
       "497  2021-03-12  14:10  경기      김포시  ...   15.0   57.0              27  매우좋음\n",
       "498  2021-03-12  14:17  경기      김포시  ...   14.0   57.0             453  매우나쁨\n",
       "499  2021-03-12  14:54  경기      김포시  ...   14.0   62.0              47  매우좋음\n",
       "\n",
       "[500 rows x 11 columns]"
      ]
     },
     "execution_count": 18,
     "metadata": {
      "tags": []
     },
     "output_type": "execute_result"
    }
   ],
   "source": [
    "df1 = pd.read_csv(\"environment1.csv\")\n",
    "df1"
   ]
  },
  {
   "cell_type": "code",
   "execution_count": null,
   "metadata": {
    "colab": {
     "base_uri": "https://localhost:8080/",
     "height": 419
    },
    "executionInfo": {
     "elapsed": 17739,
     "status": "ok",
     "timestamp": 1621352094787,
     "user": {
      "displayName": "KyeongRyong Lee",
      "photoUrl": "",
      "userId": "08575822710201651490"
     },
     "user_tz": -540
    },
    "id": "SWqTROJLp9uH",
    "outputId": "57db2277-5bfa-48ce-d358-e2021f3eefac"
   },
   "outputs": [
    {
     "data": {
      "text/html": [
       "<div>\n",
       "<style scoped>\n",
       "    .dataframe tbody tr th:only-of-type {\n",
       "        vertical-align: middle;\n",
       "    }\n",
       "\n",
       "    .dataframe tbody tr th {\n",
       "        vertical-align: top;\n",
       "    }\n",
       "\n",
       "    .dataframe thead th {\n",
       "        text-align: right;\n",
       "    }\n",
       "</style>\n",
       "<table border=\"1\" class=\"dataframe\">\n",
       "  <thead>\n",
       "    <tr style=\"text-align: right;\">\n",
       "      <th></th>\n",
       "      <th>측정일자</th>\n",
       "      <th>측정시간</th>\n",
       "      <th>지역</th>\n",
       "      <th>지역명</th>\n",
       "      <th>도로명</th>\n",
       "      <th>시작점</th>\n",
       "      <th>종점</th>\n",
       "      <th>기온 (℃)</th>\n",
       "      <th>습도 (%)</th>\n",
       "      <th>재비산먼지 평균농도(㎍/㎥)</th>\n",
       "      <th>오염범례</th>\n",
       "    </tr>\n",
       "  </thead>\n",
       "  <tbody>\n",
       "    <tr>\n",
       "      <th>0</th>\n",
       "      <td>2021-03-12</td>\n",
       "      <td>15:04</td>\n",
       "      <td>경기</td>\n",
       "      <td>김포시</td>\n",
       "      <td>양곡2로</td>\n",
       "      <td>경기도 김포시 양촌읍 양곡리 248-3 답</td>\n",
       "      <td>경기도 김포시 구래동 5419전</td>\n",
       "      <td>14.0</td>\n",
       "      <td>63.0</td>\n",
       "      <td>24</td>\n",
       "      <td>매우좋음</td>\n",
       "    </tr>\n",
       "    <tr>\n",
       "      <th>1</th>\n",
       "      <td>2021-03-12</td>\n",
       "      <td>9:54</td>\n",
       "      <td>경기</td>\n",
       "      <td>안산시 단원구</td>\n",
       "      <td>선부로</td>\n",
       "      <td>경기도 안산시단원구 선부동 1158-7도</td>\n",
       "      <td>경기도 안산시단원구 와동 268-1도</td>\n",
       "      <td>11.0</td>\n",
       "      <td>66.0</td>\n",
       "      <td>161</td>\n",
       "      <td>나쁨</td>\n",
       "    </tr>\n",
       "    <tr>\n",
       "      <th>2</th>\n",
       "      <td>2021-03-12</td>\n",
       "      <td>10:18</td>\n",
       "      <td>경기</td>\n",
       "      <td>안산시 단원구</td>\n",
       "      <td>지곡로</td>\n",
       "      <td>경기도 안산시단원구 선부동 1158-12도</td>\n",
       "      <td>경기도 안산시단원구 원곡동 993-1도</td>\n",
       "      <td>11.0</td>\n",
       "      <td>63.0</td>\n",
       "      <td>401</td>\n",
       "      <td>매우나쁨</td>\n",
       "    </tr>\n",
       "    <tr>\n",
       "      <th>3</th>\n",
       "      <td>2021-03-12</td>\n",
       "      <td>12:00</td>\n",
       "      <td>경기</td>\n",
       "      <td>광명시</td>\n",
       "      <td>금오로</td>\n",
       "      <td>경기도 광명시 옥길동 45-2도</td>\n",
       "      <td>경기도 광명시 옥길동 340-1도</td>\n",
       "      <td>14.0</td>\n",
       "      <td>47.0</td>\n",
       "      <td>833</td>\n",
       "      <td>매우나쁨</td>\n",
       "    </tr>\n",
       "    <tr>\n",
       "      <th>4</th>\n",
       "      <td>2021-03-12</td>\n",
       "      <td>12:10</td>\n",
       "      <td>서울</td>\n",
       "      <td>구로구</td>\n",
       "      <td>금오로</td>\n",
       "      <td>서울특별시 구로구 천왕동 278-3 도</td>\n",
       "      <td>서울특별시 구로구 천왕동 12-2도</td>\n",
       "      <td>14.0</td>\n",
       "      <td>49.0</td>\n",
       "      <td>103</td>\n",
       "      <td>보통</td>\n",
       "    </tr>\n",
       "    <tr>\n",
       "      <th>...</th>\n",
       "      <td>...</td>\n",
       "      <td>...</td>\n",
       "      <td>...</td>\n",
       "      <td>...</td>\n",
       "      <td>...</td>\n",
       "      <td>...</td>\n",
       "      <td>...</td>\n",
       "      <td>...</td>\n",
       "      <td>...</td>\n",
       "      <td>...</td>\n",
       "      <td>...</td>\n",
       "    </tr>\n",
       "    <tr>\n",
       "      <th>819</th>\n",
       "      <td>2021-03-31</td>\n",
       "      <td>13:16</td>\n",
       "      <td>경기</td>\n",
       "      <td>용인시 기흥구</td>\n",
       "      <td>흥덕2로</td>\n",
       "      <td>경기도 용인시기흥구 영덕동 1202천</td>\n",
       "      <td>경기도 용인시기흥구 영덕동 889도</td>\n",
       "      <td>21.0</td>\n",
       "      <td>22.0</td>\n",
       "      <td>155</td>\n",
       "      <td>나쁨</td>\n",
       "    </tr>\n",
       "    <tr>\n",
       "      <th>820</th>\n",
       "      <td>2021-03-31</td>\n",
       "      <td>13:56</td>\n",
       "      <td>경기</td>\n",
       "      <td>용인시 기흥구</td>\n",
       "      <td>흥덕1로</td>\n",
       "      <td>경기도 용인시기흥구 영덕동 1152도</td>\n",
       "      <td>경기도 용인시기흥구 영덕동 1144도</td>\n",
       "      <td>24.0</td>\n",
       "      <td>16.0</td>\n",
       "      <td>114</td>\n",
       "      <td>보통</td>\n",
       "    </tr>\n",
       "    <tr>\n",
       "      <th>821</th>\n",
       "      <td>2021-03-31</td>\n",
       "      <td>14:02</td>\n",
       "      <td>경기</td>\n",
       "      <td>용인시 기흥구</td>\n",
       "      <td>중부대로</td>\n",
       "      <td>경기도 용인시기흥구 영덕동 889도</td>\n",
       "      <td>경기도 용인시기흥구 상하동 산 46-107도</td>\n",
       "      <td>22.0</td>\n",
       "      <td>18.0</td>\n",
       "      <td>187</td>\n",
       "      <td>나쁨</td>\n",
       "    </tr>\n",
       "    <tr>\n",
       "      <th>822</th>\n",
       "      <td>2021-03-31</td>\n",
       "      <td>14:36</td>\n",
       "      <td>경기</td>\n",
       "      <td>용인시 기흥구</td>\n",
       "      <td>한보라1로</td>\n",
       "      <td>경기도 용인시기흥구 보라동 636-1 도</td>\n",
       "      <td>경기도 용인시기흥구 공세동 690도</td>\n",
       "      <td>23.0</td>\n",
       "      <td>17.0</td>\n",
       "      <td>57</td>\n",
       "      <td>좋음</td>\n",
       "    </tr>\n",
       "    <tr>\n",
       "      <th>823</th>\n",
       "      <td>2021-03-31</td>\n",
       "      <td>14:49</td>\n",
       "      <td>경기</td>\n",
       "      <td>용인시 기흥구</td>\n",
       "      <td>탑실로</td>\n",
       "      <td>경기도 용인시기흥구 공세동 731 도</td>\n",
       "      <td>경기도 용인시기흥구 공세동 307-27답</td>\n",
       "      <td>22.0</td>\n",
       "      <td>17.0</td>\n",
       "      <td>73</td>\n",
       "      <td>좋음</td>\n",
       "    </tr>\n",
       "  </tbody>\n",
       "</table>\n",
       "<p>824 rows × 11 columns</p>\n",
       "</div>"
      ],
      "text/plain": [
       "           측정일자   측정시간  지역      지역명  ... 기온 (℃) 습도 (%) 재비산먼지 평균농도(㎍/㎥)  오염범례\n",
       "0    2021-03-12  15:04  경기      김포시  ...   14.0   63.0              24  매우좋음\n",
       "1    2021-03-12   9:54  경기  안산시 단원구  ...   11.0   66.0             161    나쁨\n",
       "2    2021-03-12  10:18  경기  안산시 단원구  ...   11.0   63.0             401  매우나쁨\n",
       "3    2021-03-12  12:00  경기      광명시  ...   14.0   47.0             833  매우나쁨\n",
       "4    2021-03-12  12:10  서울      구로구  ...   14.0   49.0             103    보통\n",
       "..          ...    ...  ..      ...  ...    ...    ...             ...   ...\n",
       "819  2021-03-31  13:16  경기  용인시 기흥구  ...   21.0   22.0             155    나쁨\n",
       "820  2021-03-31  13:56  경기  용인시 기흥구  ...   24.0   16.0             114    보통\n",
       "821  2021-03-31  14:02  경기  용인시 기흥구  ...   22.0   18.0             187    나쁨\n",
       "822  2021-03-31  14:36  경기  용인시 기흥구  ...   23.0   17.0              57    좋음\n",
       "823  2021-03-31  14:49  경기  용인시 기흥구  ...   22.0   17.0              73    좋음\n",
       "\n",
       "[824 rows x 11 columns]"
      ]
     },
     "execution_count": 19,
     "metadata": {
      "tags": []
     },
     "output_type": "execute_result"
    }
   ],
   "source": [
    "df2 = pd.read_csv(\"environment2.csv\")\n",
    "df2"
   ]
  },
  {
   "cell_type": "markdown",
   "metadata": {
    "id": "k8-qFBE95p-B"
   },
   "source": [
    "2) `df1`과 `df2`의 처음 10개와 끝 10개의 행을 확인하여라."
   ]
  },
  {
   "cell_type": "markdown",
   "metadata": {
    "id": "heST-VUFqCa3"
   },
   "source": [
    "`head()`와 `tail()` 메소드를 이용하며, 10개의 행을 표시하기 위하여 인자로 숫자 `10`을 준다. "
   ]
  },
  {
   "cell_type": "code",
   "execution_count": null,
   "metadata": {
    "colab": {
     "base_uri": "https://localhost:8080/",
     "height": 359
    },
    "executionInfo": {
     "elapsed": 17726,
     "status": "ok",
     "timestamp": 1621352094788,
     "user": {
      "displayName": "KyeongRyong Lee",
      "photoUrl": "",
      "userId": "08575822710201651490"
     },
     "user_tz": -540
    },
    "id": "Z3eZ-I_3qAtC",
    "outputId": "dd049ebd-9dcb-4c44-b3a0-78fd378a2810"
   },
   "outputs": [
    {
     "data": {
      "text/html": [
       "<div>\n",
       "<style scoped>\n",
       "    .dataframe tbody tr th:only-of-type {\n",
       "        vertical-align: middle;\n",
       "    }\n",
       "\n",
       "    .dataframe tbody tr th {\n",
       "        vertical-align: top;\n",
       "    }\n",
       "\n",
       "    .dataframe thead th {\n",
       "        text-align: right;\n",
       "    }\n",
       "</style>\n",
       "<table border=\"1\" class=\"dataframe\">\n",
       "  <thead>\n",
       "    <tr style=\"text-align: right;\">\n",
       "      <th></th>\n",
       "      <th>측정일자</th>\n",
       "      <th>측정시간</th>\n",
       "      <th>지역</th>\n",
       "      <th>지역명</th>\n",
       "      <th>도로명</th>\n",
       "      <th>시작점</th>\n",
       "      <th>종점</th>\n",
       "      <th>기온 (℃)</th>\n",
       "      <th>습도 (%)</th>\n",
       "      <th>재비산먼지 평균농도(㎍/㎥)</th>\n",
       "      <th>오염범례</th>\n",
       "    </tr>\n",
       "  </thead>\n",
       "  <tbody>\n",
       "    <tr>\n",
       "      <th>0</th>\n",
       "      <td>2021-03-02</td>\n",
       "      <td>11:07</td>\n",
       "      <td>경기</td>\n",
       "      <td>안산시 상록구</td>\n",
       "      <td>성호로</td>\n",
       "      <td>경기도 안산시상록구 일동 634도</td>\n",
       "      <td>경기도 안산시상록구 부곡동 598도</td>\n",
       "      <td>5.0</td>\n",
       "      <td>63.0</td>\n",
       "      <td>324</td>\n",
       "      <td>매우나쁨</td>\n",
       "    </tr>\n",
       "    <tr>\n",
       "      <th>1</th>\n",
       "      <td>2021-03-02</td>\n",
       "      <td>11:27</td>\n",
       "      <td>경기</td>\n",
       "      <td>안산시 상록구</td>\n",
       "      <td>충장로</td>\n",
       "      <td>경기도 안산시상록구 부곡동 739-21도</td>\n",
       "      <td>경기도 안산시상록구 본오동 1158도</td>\n",
       "      <td>4.0</td>\n",
       "      <td>61.0</td>\n",
       "      <td>230</td>\n",
       "      <td>매우나쁨</td>\n",
       "    </tr>\n",
       "    <tr>\n",
       "      <th>2</th>\n",
       "      <td>2021-03-02</td>\n",
       "      <td>11:54</td>\n",
       "      <td>경기</td>\n",
       "      <td>안산시 상록구</td>\n",
       "      <td>해안로</td>\n",
       "      <td>경기도 안산시상록구 팔곡일동 557-3도</td>\n",
       "      <td>경기도 안산시상록구 사동 1634 천</td>\n",
       "      <td>5.0</td>\n",
       "      <td>59.0</td>\n",
       "      <td>80</td>\n",
       "      <td>좋음</td>\n",
       "    </tr>\n",
       "    <tr>\n",
       "      <th>3</th>\n",
       "      <td>2021-03-02</td>\n",
       "      <td>12:09</td>\n",
       "      <td>경기</td>\n",
       "      <td>안산시 단원구</td>\n",
       "      <td>해안로</td>\n",
       "      <td>경기도 안산시단원구 초지동 795 천</td>\n",
       "      <td>경기도 안산시단원구 성곡동 619-1도</td>\n",
       "      <td>NaN</td>\n",
       "      <td>56.0</td>\n",
       "      <td>88</td>\n",
       "      <td>좋음</td>\n",
       "    </tr>\n",
       "    <tr>\n",
       "      <th>4</th>\n",
       "      <td>2021-03-02</td>\n",
       "      <td>12:22</td>\n",
       "      <td>경기</td>\n",
       "      <td>안산시 단원구</td>\n",
       "      <td>첨단로</td>\n",
       "      <td>경기도 안산시단원구 초지동 660-10도</td>\n",
       "      <td>경기도 안산시단원구 성곡동 780천</td>\n",
       "      <td>5.0</td>\n",
       "      <td>54.0</td>\n",
       "      <td>178</td>\n",
       "      <td>나쁨</td>\n",
       "    </tr>\n",
       "    <tr>\n",
       "      <th>5</th>\n",
       "      <td>2021-03-02</td>\n",
       "      <td>12:38</td>\n",
       "      <td>경기</td>\n",
       "      <td>안산시 단원구</td>\n",
       "      <td>시화로</td>\n",
       "      <td>경기도 안산시단원구 성곡동 695천</td>\n",
       "      <td>경기도 안산시단원구 성곡동 773도</td>\n",
       "      <td>6.0</td>\n",
       "      <td>52.0</td>\n",
       "      <td>82</td>\n",
       "      <td>좋음</td>\n",
       "    </tr>\n",
       "    <tr>\n",
       "      <th>6</th>\n",
       "      <td>2021-03-02</td>\n",
       "      <td>12:53</td>\n",
       "      <td>경기</td>\n",
       "      <td>안산시 단원구</td>\n",
       "      <td>별망로</td>\n",
       "      <td>경기도 안산시단원구 성곡동 721도</td>\n",
       "      <td>경기도 안산시단원구 초지동 634도</td>\n",
       "      <td>NaN</td>\n",
       "      <td>51.0</td>\n",
       "      <td>57</td>\n",
       "      <td>좋음</td>\n",
       "    </tr>\n",
       "    <tr>\n",
       "      <th>7</th>\n",
       "      <td>2021-03-02</td>\n",
       "      <td>13:21</td>\n",
       "      <td>경기</td>\n",
       "      <td>안산시 단원구</td>\n",
       "      <td>광덕4로</td>\n",
       "      <td>경기도 안산시단원구 초지동 793 도</td>\n",
       "      <td>경기도 안산시단원구 고잔동 831천</td>\n",
       "      <td>6.0</td>\n",
       "      <td>51.0</td>\n",
       "      <td>240</td>\n",
       "      <td>매우나쁨</td>\n",
       "    </tr>\n",
       "    <tr>\n",
       "      <th>8</th>\n",
       "      <td>2021-03-02</td>\n",
       "      <td>13:30</td>\n",
       "      <td>경기</td>\n",
       "      <td>안산시 상록구</td>\n",
       "      <td>광덕4로</td>\n",
       "      <td>경기도 안산시상록구 이동 759천</td>\n",
       "      <td>경기도 안산시상록구 사동 1212-5도</td>\n",
       "      <td>6.0</td>\n",
       "      <td>51.0</td>\n",
       "      <td>114</td>\n",
       "      <td>보통</td>\n",
       "    </tr>\n",
       "    <tr>\n",
       "      <th>9</th>\n",
       "      <td>2021-03-02</td>\n",
       "      <td>14:36</td>\n",
       "      <td>경기</td>\n",
       "      <td>안산시 단원구</td>\n",
       "      <td>중앙대로</td>\n",
       "      <td>경기도 안산시단원구 고잔동 554-2도</td>\n",
       "      <td>경기도 안산시단원구 성곡동 693도</td>\n",
       "      <td>7.0</td>\n",
       "      <td>46.0</td>\n",
       "      <td>85</td>\n",
       "      <td>좋음</td>\n",
       "    </tr>\n",
       "  </tbody>\n",
       "</table>\n",
       "</div>"
      ],
      "text/plain": [
       "         측정일자   측정시간  지역      지역명  ... 기온 (℃) 습도 (%) 재비산먼지 평균농도(㎍/㎥)  오염범례\n",
       "0  2021-03-02  11:07  경기  안산시 상록구  ...    5.0   63.0             324  매우나쁨\n",
       "1  2021-03-02  11:27  경기  안산시 상록구  ...    4.0   61.0             230  매우나쁨\n",
       "2  2021-03-02  11:54  경기  안산시 상록구  ...    5.0   59.0              80    좋음\n",
       "3  2021-03-02  12:09  경기  안산시 단원구  ...    NaN   56.0              88    좋음\n",
       "4  2021-03-02  12:22  경기  안산시 단원구  ...    5.0   54.0             178    나쁨\n",
       "5  2021-03-02  12:38  경기  안산시 단원구  ...    6.0   52.0              82    좋음\n",
       "6  2021-03-02  12:53  경기  안산시 단원구  ...    NaN   51.0              57    좋음\n",
       "7  2021-03-02  13:21  경기  안산시 단원구  ...    6.0   51.0             240  매우나쁨\n",
       "8  2021-03-02  13:30  경기  안산시 상록구  ...    6.0   51.0             114    보통\n",
       "9  2021-03-02  14:36  경기  안산시 단원구  ...    7.0   46.0              85    좋음\n",
       "\n",
       "[10 rows x 11 columns]"
      ]
     },
     "execution_count": 20,
     "metadata": {
      "tags": []
     },
     "output_type": "execute_result"
    }
   ],
   "source": [
    "df1.head(10)"
   ]
  },
  {
   "cell_type": "code",
   "execution_count": null,
   "metadata": {
    "colab": {
     "base_uri": "https://localhost:8080/",
     "height": 359
    },
    "executionInfo": {
     "elapsed": 17711,
     "status": "ok",
     "timestamp": 1621352094789,
     "user": {
      "displayName": "KyeongRyong Lee",
      "photoUrl": "",
      "userId": "08575822710201651490"
     },
     "user_tz": -540
    },
    "id": "akj6edx3qIZb",
    "outputId": "f7d58fe5-1b58-4b26-cb5d-e68d8456a27e"
   },
   "outputs": [
    {
     "data": {
      "text/html": [
       "<div>\n",
       "<style scoped>\n",
       "    .dataframe tbody tr th:only-of-type {\n",
       "        vertical-align: middle;\n",
       "    }\n",
       "\n",
       "    .dataframe tbody tr th {\n",
       "        vertical-align: top;\n",
       "    }\n",
       "\n",
       "    .dataframe thead th {\n",
       "        text-align: right;\n",
       "    }\n",
       "</style>\n",
       "<table border=\"1\" class=\"dataframe\">\n",
       "  <thead>\n",
       "    <tr style=\"text-align: right;\">\n",
       "      <th></th>\n",
       "      <th>측정일자</th>\n",
       "      <th>측정시간</th>\n",
       "      <th>지역</th>\n",
       "      <th>지역명</th>\n",
       "      <th>도로명</th>\n",
       "      <th>시작점</th>\n",
       "      <th>종점</th>\n",
       "      <th>기온 (℃)</th>\n",
       "      <th>습도 (%)</th>\n",
       "      <th>재비산먼지 평균농도(㎍/㎥)</th>\n",
       "      <th>오염범례</th>\n",
       "    </tr>\n",
       "  </thead>\n",
       "  <tbody>\n",
       "    <tr>\n",
       "      <th>490</th>\n",
       "      <td>2021-03-12</td>\n",
       "      <td>12:25</td>\n",
       "      <td>서울</td>\n",
       "      <td>은평구</td>\n",
       "      <td>진관1로</td>\n",
       "      <td>서울특별시 은평구 진관동 234-30도</td>\n",
       "      <td>서울특별시 은평구 진관동 159-9답</td>\n",
       "      <td>15.0</td>\n",
       "      <td>41.0</td>\n",
       "      <td>22</td>\n",
       "      <td>매우좋음</td>\n",
       "    </tr>\n",
       "    <tr>\n",
       "      <th>491</th>\n",
       "      <td>2021-03-12</td>\n",
       "      <td>12:49</td>\n",
       "      <td>서울</td>\n",
       "      <td>은평구</td>\n",
       "      <td>통일로</td>\n",
       "      <td>서울특별시 은평구 진관동 75-1도</td>\n",
       "      <td>서울특별시 은평구 응암동 32-1도</td>\n",
       "      <td>15.0</td>\n",
       "      <td>39.0</td>\n",
       "      <td>19</td>\n",
       "      <td>매우좋음</td>\n",
       "    </tr>\n",
       "    <tr>\n",
       "      <th>492</th>\n",
       "      <td>2021-03-12</td>\n",
       "      <td>13:11</td>\n",
       "      <td>서울</td>\n",
       "      <td>은평구</td>\n",
       "      <td>은평로</td>\n",
       "      <td>서울특별시 은평구 녹번동 55도</td>\n",
       "      <td>서울특별시 은평구 신사동 41-3도</td>\n",
       "      <td>15.0</td>\n",
       "      <td>39.0</td>\n",
       "      <td>24</td>\n",
       "      <td>매우좋음</td>\n",
       "    </tr>\n",
       "    <tr>\n",
       "      <th>493</th>\n",
       "      <td>2021-03-12</td>\n",
       "      <td>9:55</td>\n",
       "      <td>인천</td>\n",
       "      <td>강화군</td>\n",
       "      <td>길상로</td>\n",
       "      <td>인천광역시 강화군 길상면 온수리 550-4도</td>\n",
       "      <td>인천광역시 강화군 길상면 초지리 1934-2 답</td>\n",
       "      <td>12.0</td>\n",
       "      <td>58.0</td>\n",
       "      <td>846</td>\n",
       "      <td>매우나쁨</td>\n",
       "    </tr>\n",
       "    <tr>\n",
       "      <th>494</th>\n",
       "      <td>2021-03-12</td>\n",
       "      <td>10:52</td>\n",
       "      <td>경기</td>\n",
       "      <td>고양시 일산서구</td>\n",
       "      <td>고양대로</td>\n",
       "      <td>경기도 고양시일산서구 법곳동 740천</td>\n",
       "      <td>경기도 고양시일산서구 일산동 1653도</td>\n",
       "      <td>13.0</td>\n",
       "      <td>53.0</td>\n",
       "      <td>25</td>\n",
       "      <td>매우좋음</td>\n",
       "    </tr>\n",
       "    <tr>\n",
       "      <th>495</th>\n",
       "      <td>2021-03-12</td>\n",
       "      <td>12:14</td>\n",
       "      <td>경기</td>\n",
       "      <td>김포시</td>\n",
       "      <td>김포한강11로</td>\n",
       "      <td>경기도 김포시 운양동 1400-3도</td>\n",
       "      <td>경기도 김포시 운양동 1400 도</td>\n",
       "      <td>14.0</td>\n",
       "      <td>52.0</td>\n",
       "      <td>86</td>\n",
       "      <td>좋음</td>\n",
       "    </tr>\n",
       "    <tr>\n",
       "      <th>496</th>\n",
       "      <td>2021-03-12</td>\n",
       "      <td>12:51</td>\n",
       "      <td>경기</td>\n",
       "      <td>김포시</td>\n",
       "      <td>돌문로</td>\n",
       "      <td>경기도 김포시 사우동 186-20도</td>\n",
       "      <td>경기도 김포시 사우동 838-45도</td>\n",
       "      <td>15.0</td>\n",
       "      <td>48.0</td>\n",
       "      <td>456</td>\n",
       "      <td>매우나쁨</td>\n",
       "    </tr>\n",
       "    <tr>\n",
       "      <th>497</th>\n",
       "      <td>2021-03-12</td>\n",
       "      <td>14:10</td>\n",
       "      <td>경기</td>\n",
       "      <td>김포시</td>\n",
       "      <td>마송1로</td>\n",
       "      <td>경기도 김포시 통진읍 마송리 592 도</td>\n",
       "      <td>경기도 김포시 통진읍 마송리 592 도</td>\n",
       "      <td>15.0</td>\n",
       "      <td>57.0</td>\n",
       "      <td>27</td>\n",
       "      <td>매우좋음</td>\n",
       "    </tr>\n",
       "    <tr>\n",
       "      <th>498</th>\n",
       "      <td>2021-03-12</td>\n",
       "      <td>14:17</td>\n",
       "      <td>경기</td>\n",
       "      <td>김포시</td>\n",
       "      <td>마송로</td>\n",
       "      <td>경기도 김포시 통진읍 마송리 159-37 임</td>\n",
       "      <td>경기도 김포시 통진읍 마송리 592-9도</td>\n",
       "      <td>14.0</td>\n",
       "      <td>57.0</td>\n",
       "      <td>453</td>\n",
       "      <td>매우나쁨</td>\n",
       "    </tr>\n",
       "    <tr>\n",
       "      <th>499</th>\n",
       "      <td>2021-03-12</td>\n",
       "      <td>14:54</td>\n",
       "      <td>경기</td>\n",
       "      <td>김포시</td>\n",
       "      <td>양곡4로</td>\n",
       "      <td>경기도 김포시 구래동 5403도</td>\n",
       "      <td>경기도 김포시 양촌읍 양곡리 1503 도</td>\n",
       "      <td>14.0</td>\n",
       "      <td>62.0</td>\n",
       "      <td>47</td>\n",
       "      <td>매우좋음</td>\n",
       "    </tr>\n",
       "  </tbody>\n",
       "</table>\n",
       "</div>"
      ],
      "text/plain": [
       "           측정일자   측정시간  지역       지역명  ... 기온 (℃) 습도 (%) 재비산먼지 평균농도(㎍/㎥)  오염범례\n",
       "490  2021-03-12  12:25  서울       은평구  ...   15.0   41.0              22  매우좋음\n",
       "491  2021-03-12  12:49  서울       은평구  ...   15.0   39.0              19  매우좋음\n",
       "492  2021-03-12  13:11  서울       은평구  ...   15.0   39.0              24  매우좋음\n",
       "493  2021-03-12   9:55  인천       강화군  ...   12.0   58.0             846  매우나쁨\n",
       "494  2021-03-12  10:52  경기  고양시 일산서구  ...   13.0   53.0              25  매우좋음\n",
       "495  2021-03-12  12:14  경기       김포시  ...   14.0   52.0              86    좋음\n",
       "496  2021-03-12  12:51  경기       김포시  ...   15.0   48.0             456  매우나쁨\n",
       "497  2021-03-12  14:10  경기       김포시  ...   15.0   57.0              27  매우좋음\n",
       "498  2021-03-12  14:17  경기       김포시  ...   14.0   57.0             453  매우나쁨\n",
       "499  2021-03-12  14:54  경기       김포시  ...   14.0   62.0              47  매우좋음\n",
       "\n",
       "[10 rows x 11 columns]"
      ]
     },
     "execution_count": 21,
     "metadata": {
      "tags": []
     },
     "output_type": "execute_result"
    }
   ],
   "source": [
    "df1.tail(10)"
   ]
  },
  {
   "cell_type": "code",
   "execution_count": null,
   "metadata": {
    "colab": {
     "base_uri": "https://localhost:8080/",
     "height": 359
    },
    "executionInfo": {
     "elapsed": 17697,
     "status": "ok",
     "timestamp": 1621352094790,
     "user": {
      "displayName": "KyeongRyong Lee",
      "photoUrl": "",
      "userId": "08575822710201651490"
     },
     "user_tz": -540
    },
    "id": "w0sqIJNGqKQb",
    "outputId": "233f5d49-02de-4229-b26d-8d66b3f32e18"
   },
   "outputs": [
    {
     "data": {
      "text/html": [
       "<div>\n",
       "<style scoped>\n",
       "    .dataframe tbody tr th:only-of-type {\n",
       "        vertical-align: middle;\n",
       "    }\n",
       "\n",
       "    .dataframe tbody tr th {\n",
       "        vertical-align: top;\n",
       "    }\n",
       "\n",
       "    .dataframe thead th {\n",
       "        text-align: right;\n",
       "    }\n",
       "</style>\n",
       "<table border=\"1\" class=\"dataframe\">\n",
       "  <thead>\n",
       "    <tr style=\"text-align: right;\">\n",
       "      <th></th>\n",
       "      <th>측정일자</th>\n",
       "      <th>측정시간</th>\n",
       "      <th>지역</th>\n",
       "      <th>지역명</th>\n",
       "      <th>도로명</th>\n",
       "      <th>시작점</th>\n",
       "      <th>종점</th>\n",
       "      <th>기온 (℃)</th>\n",
       "      <th>습도 (%)</th>\n",
       "      <th>재비산먼지 평균농도(㎍/㎥)</th>\n",
       "      <th>오염범례</th>\n",
       "    </tr>\n",
       "  </thead>\n",
       "  <tbody>\n",
       "    <tr>\n",
       "      <th>0</th>\n",
       "      <td>2021-03-12</td>\n",
       "      <td>15:04</td>\n",
       "      <td>경기</td>\n",
       "      <td>김포시</td>\n",
       "      <td>양곡2로</td>\n",
       "      <td>경기도 김포시 양촌읍 양곡리 248-3 답</td>\n",
       "      <td>경기도 김포시 구래동 5419전</td>\n",
       "      <td>14.0</td>\n",
       "      <td>63.0</td>\n",
       "      <td>24</td>\n",
       "      <td>매우좋음</td>\n",
       "    </tr>\n",
       "    <tr>\n",
       "      <th>1</th>\n",
       "      <td>2021-03-12</td>\n",
       "      <td>9:54</td>\n",
       "      <td>경기</td>\n",
       "      <td>안산시 단원구</td>\n",
       "      <td>선부로</td>\n",
       "      <td>경기도 안산시단원구 선부동 1158-7도</td>\n",
       "      <td>경기도 안산시단원구 와동 268-1도</td>\n",
       "      <td>11.0</td>\n",
       "      <td>66.0</td>\n",
       "      <td>161</td>\n",
       "      <td>나쁨</td>\n",
       "    </tr>\n",
       "    <tr>\n",
       "      <th>2</th>\n",
       "      <td>2021-03-12</td>\n",
       "      <td>10:18</td>\n",
       "      <td>경기</td>\n",
       "      <td>안산시 단원구</td>\n",
       "      <td>지곡로</td>\n",
       "      <td>경기도 안산시단원구 선부동 1158-12도</td>\n",
       "      <td>경기도 안산시단원구 원곡동 993-1도</td>\n",
       "      <td>11.0</td>\n",
       "      <td>63.0</td>\n",
       "      <td>401</td>\n",
       "      <td>매우나쁨</td>\n",
       "    </tr>\n",
       "    <tr>\n",
       "      <th>3</th>\n",
       "      <td>2021-03-12</td>\n",
       "      <td>12:00</td>\n",
       "      <td>경기</td>\n",
       "      <td>광명시</td>\n",
       "      <td>금오로</td>\n",
       "      <td>경기도 광명시 옥길동 45-2도</td>\n",
       "      <td>경기도 광명시 옥길동 340-1도</td>\n",
       "      <td>14.0</td>\n",
       "      <td>47.0</td>\n",
       "      <td>833</td>\n",
       "      <td>매우나쁨</td>\n",
       "    </tr>\n",
       "    <tr>\n",
       "      <th>4</th>\n",
       "      <td>2021-03-12</td>\n",
       "      <td>12:10</td>\n",
       "      <td>서울</td>\n",
       "      <td>구로구</td>\n",
       "      <td>금오로</td>\n",
       "      <td>서울특별시 구로구 천왕동 278-3 도</td>\n",
       "      <td>서울특별시 구로구 천왕동 12-2도</td>\n",
       "      <td>14.0</td>\n",
       "      <td>49.0</td>\n",
       "      <td>103</td>\n",
       "      <td>보통</td>\n",
       "    </tr>\n",
       "    <tr>\n",
       "      <th>5</th>\n",
       "      <td>2021-03-12</td>\n",
       "      <td>12:40</td>\n",
       "      <td>서울</td>\n",
       "      <td>구로구</td>\n",
       "      <td>신도림로</td>\n",
       "      <td>서울특별시 구로구 신도림동 290-10 도</td>\n",
       "      <td>서울특별시 구로구 신도림동 312-16도</td>\n",
       "      <td>15.0</td>\n",
       "      <td>46.0</td>\n",
       "      <td>64</td>\n",
       "      <td>좋음</td>\n",
       "    </tr>\n",
       "    <tr>\n",
       "      <th>6</th>\n",
       "      <td>2021-03-12</td>\n",
       "      <td>13:16</td>\n",
       "      <td>서울</td>\n",
       "      <td>영등포구</td>\n",
       "      <td>가마산로</td>\n",
       "      <td>서울특별시 영등포구 대림동 774도</td>\n",
       "      <td>서울특별시 영등포구 신길동 4880도</td>\n",
       "      <td>15.0</td>\n",
       "      <td>44.0</td>\n",
       "      <td>48</td>\n",
       "      <td>매우좋음</td>\n",
       "    </tr>\n",
       "    <tr>\n",
       "      <th>7</th>\n",
       "      <td>2021-03-12</td>\n",
       "      <td>15:13</td>\n",
       "      <td>인천</td>\n",
       "      <td>서구</td>\n",
       "      <td>로봇랜드로</td>\n",
       "      <td>인천광역시 서구 경서동 514도</td>\n",
       "      <td>인천광역시 서구 원창동 437-27 잡</td>\n",
       "      <td>14.0</td>\n",
       "      <td>60.0</td>\n",
       "      <td>182</td>\n",
       "      <td>나쁨</td>\n",
       "    </tr>\n",
       "    <tr>\n",
       "      <th>8</th>\n",
       "      <td>2021-03-12</td>\n",
       "      <td>15:29</td>\n",
       "      <td>인천</td>\n",
       "      <td>서구</td>\n",
       "      <td>비지니스로</td>\n",
       "      <td>인천광역시 서구 경서동 920-10도</td>\n",
       "      <td>인천광역시 서구 경서동 979-5도</td>\n",
       "      <td>13.0</td>\n",
       "      <td>64.0</td>\n",
       "      <td>27</td>\n",
       "      <td>매우좋음</td>\n",
       "    </tr>\n",
       "    <tr>\n",
       "      <th>9</th>\n",
       "      <td>2021-03-12</td>\n",
       "      <td>15:37</td>\n",
       "      <td>인천</td>\n",
       "      <td>서구</td>\n",
       "      <td>청라한내로</td>\n",
       "      <td>인천광역시 서구 경서동 973-7도</td>\n",
       "      <td>인천광역시 서구 경서동 834-138도</td>\n",
       "      <td>13.0</td>\n",
       "      <td>67.0</td>\n",
       "      <td>28</td>\n",
       "      <td>매우좋음</td>\n",
       "    </tr>\n",
       "  </tbody>\n",
       "</table>\n",
       "</div>"
      ],
      "text/plain": [
       "         측정일자   측정시간  지역      지역명  ... 기온 (℃) 습도 (%) 재비산먼지 평균농도(㎍/㎥)  오염범례\n",
       "0  2021-03-12  15:04  경기      김포시  ...   14.0   63.0              24  매우좋음\n",
       "1  2021-03-12   9:54  경기  안산시 단원구  ...   11.0   66.0             161    나쁨\n",
       "2  2021-03-12  10:18  경기  안산시 단원구  ...   11.0   63.0             401  매우나쁨\n",
       "3  2021-03-12  12:00  경기      광명시  ...   14.0   47.0             833  매우나쁨\n",
       "4  2021-03-12  12:10  서울      구로구  ...   14.0   49.0             103    보통\n",
       "5  2021-03-12  12:40  서울      구로구  ...   15.0   46.0              64    좋음\n",
       "6  2021-03-12  13:16  서울     영등포구  ...   15.0   44.0              48  매우좋음\n",
       "7  2021-03-12  15:13  인천       서구  ...   14.0   60.0             182    나쁨\n",
       "8  2021-03-12  15:29  인천       서구  ...   13.0   64.0              27  매우좋음\n",
       "9  2021-03-12  15:37  인천       서구  ...   13.0   67.0              28  매우좋음\n",
       "\n",
       "[10 rows x 11 columns]"
      ]
     },
     "execution_count": 22,
     "metadata": {
      "tags": []
     },
     "output_type": "execute_result"
    }
   ],
   "source": [
    "df2.head(10)"
   ]
  },
  {
   "cell_type": "code",
   "execution_count": null,
   "metadata": {
    "colab": {
     "base_uri": "https://localhost:8080/",
     "height": 359
    },
    "executionInfo": {
     "elapsed": 17674,
     "status": "ok",
     "timestamp": 1621352094791,
     "user": {
      "displayName": "KyeongRyong Lee",
      "photoUrl": "",
      "userId": "08575822710201651490"
     },
     "user_tz": -540
    },
    "id": "t7Mus19hqKOj",
    "outputId": "c2c7b99a-ccf6-45ba-bab1-f582e30ba6e0"
   },
   "outputs": [
    {
     "data": {
      "text/html": [
       "<div>\n",
       "<style scoped>\n",
       "    .dataframe tbody tr th:only-of-type {\n",
       "        vertical-align: middle;\n",
       "    }\n",
       "\n",
       "    .dataframe tbody tr th {\n",
       "        vertical-align: top;\n",
       "    }\n",
       "\n",
       "    .dataframe thead th {\n",
       "        text-align: right;\n",
       "    }\n",
       "</style>\n",
       "<table border=\"1\" class=\"dataframe\">\n",
       "  <thead>\n",
       "    <tr style=\"text-align: right;\">\n",
       "      <th></th>\n",
       "      <th>측정일자</th>\n",
       "      <th>측정시간</th>\n",
       "      <th>지역</th>\n",
       "      <th>지역명</th>\n",
       "      <th>도로명</th>\n",
       "      <th>시작점</th>\n",
       "      <th>종점</th>\n",
       "      <th>기온 (℃)</th>\n",
       "      <th>습도 (%)</th>\n",
       "      <th>재비산먼지 평균농도(㎍/㎥)</th>\n",
       "      <th>오염범례</th>\n",
       "    </tr>\n",
       "  </thead>\n",
       "  <tbody>\n",
       "    <tr>\n",
       "      <th>814</th>\n",
       "      <td>2021-03-31</td>\n",
       "      <td>12:07</td>\n",
       "      <td>경기</td>\n",
       "      <td>용인시 기흥구</td>\n",
       "      <td>기흥로</td>\n",
       "      <td>경기도 용인시기흥구 구갈동 373-6전</td>\n",
       "      <td>경기도 용인시기흥구 신갈동 679도</td>\n",
       "      <td>20.0</td>\n",
       "      <td>23.0</td>\n",
       "      <td>628</td>\n",
       "      <td>매우나쁨</td>\n",
       "    </tr>\n",
       "    <tr>\n",
       "      <th>815</th>\n",
       "      <td>2021-03-31</td>\n",
       "      <td>12:14</td>\n",
       "      <td>경기</td>\n",
       "      <td>용인시 기흥구</td>\n",
       "      <td>관곡로</td>\n",
       "      <td>경기도 용인시기흥구 신갈동 614도</td>\n",
       "      <td>경기도 용인시기흥구 구갈동 290-1도</td>\n",
       "      <td>20.0</td>\n",
       "      <td>23.0</td>\n",
       "      <td>55</td>\n",
       "      <td>좋음</td>\n",
       "    </tr>\n",
       "    <tr>\n",
       "      <th>816</th>\n",
       "      <td>2021-03-31</td>\n",
       "      <td>12:31</td>\n",
       "      <td>경기</td>\n",
       "      <td>용인시 기흥구</td>\n",
       "      <td>신갈로</td>\n",
       "      <td>경기도 용인시기흥구 신갈동 388-434도</td>\n",
       "      <td>경기도 용인시기흥구 상갈동 126도</td>\n",
       "      <td>20.0</td>\n",
       "      <td>22.0</td>\n",
       "      <td>362</td>\n",
       "      <td>매우나쁨</td>\n",
       "    </tr>\n",
       "    <tr>\n",
       "      <th>817</th>\n",
       "      <td>2021-03-31</td>\n",
       "      <td>12:39</td>\n",
       "      <td>경기</td>\n",
       "      <td>용인시 기흥구</td>\n",
       "      <td>금화로</td>\n",
       "      <td>경기도 용인시기흥구 상갈동 96-2도</td>\n",
       "      <td>경기도 용인시기흥구 상갈동 34-5답</td>\n",
       "      <td>21.0</td>\n",
       "      <td>22.0</td>\n",
       "      <td>31</td>\n",
       "      <td>매우좋음</td>\n",
       "    </tr>\n",
       "    <tr>\n",
       "      <th>818</th>\n",
       "      <td>2021-03-31</td>\n",
       "      <td>13:06</td>\n",
       "      <td>경기</td>\n",
       "      <td>용인시 기흥구</td>\n",
       "      <td>흥덕중앙로</td>\n",
       "      <td>경기도 용인시기흥구 영덕동 1186도</td>\n",
       "      <td>경기도 용인시기흥구 영덕동 1256천</td>\n",
       "      <td>21.0</td>\n",
       "      <td>22.0</td>\n",
       "      <td>47</td>\n",
       "      <td>매우좋음</td>\n",
       "    </tr>\n",
       "    <tr>\n",
       "      <th>819</th>\n",
       "      <td>2021-03-31</td>\n",
       "      <td>13:16</td>\n",
       "      <td>경기</td>\n",
       "      <td>용인시 기흥구</td>\n",
       "      <td>흥덕2로</td>\n",
       "      <td>경기도 용인시기흥구 영덕동 1202천</td>\n",
       "      <td>경기도 용인시기흥구 영덕동 889도</td>\n",
       "      <td>21.0</td>\n",
       "      <td>22.0</td>\n",
       "      <td>155</td>\n",
       "      <td>나쁨</td>\n",
       "    </tr>\n",
       "    <tr>\n",
       "      <th>820</th>\n",
       "      <td>2021-03-31</td>\n",
       "      <td>13:56</td>\n",
       "      <td>경기</td>\n",
       "      <td>용인시 기흥구</td>\n",
       "      <td>흥덕1로</td>\n",
       "      <td>경기도 용인시기흥구 영덕동 1152도</td>\n",
       "      <td>경기도 용인시기흥구 영덕동 1144도</td>\n",
       "      <td>24.0</td>\n",
       "      <td>16.0</td>\n",
       "      <td>114</td>\n",
       "      <td>보통</td>\n",
       "    </tr>\n",
       "    <tr>\n",
       "      <th>821</th>\n",
       "      <td>2021-03-31</td>\n",
       "      <td>14:02</td>\n",
       "      <td>경기</td>\n",
       "      <td>용인시 기흥구</td>\n",
       "      <td>중부대로</td>\n",
       "      <td>경기도 용인시기흥구 영덕동 889도</td>\n",
       "      <td>경기도 용인시기흥구 상하동 산 46-107도</td>\n",
       "      <td>22.0</td>\n",
       "      <td>18.0</td>\n",
       "      <td>187</td>\n",
       "      <td>나쁨</td>\n",
       "    </tr>\n",
       "    <tr>\n",
       "      <th>822</th>\n",
       "      <td>2021-03-31</td>\n",
       "      <td>14:36</td>\n",
       "      <td>경기</td>\n",
       "      <td>용인시 기흥구</td>\n",
       "      <td>한보라1로</td>\n",
       "      <td>경기도 용인시기흥구 보라동 636-1 도</td>\n",
       "      <td>경기도 용인시기흥구 공세동 690도</td>\n",
       "      <td>23.0</td>\n",
       "      <td>17.0</td>\n",
       "      <td>57</td>\n",
       "      <td>좋음</td>\n",
       "    </tr>\n",
       "    <tr>\n",
       "      <th>823</th>\n",
       "      <td>2021-03-31</td>\n",
       "      <td>14:49</td>\n",
       "      <td>경기</td>\n",
       "      <td>용인시 기흥구</td>\n",
       "      <td>탑실로</td>\n",
       "      <td>경기도 용인시기흥구 공세동 731 도</td>\n",
       "      <td>경기도 용인시기흥구 공세동 307-27답</td>\n",
       "      <td>22.0</td>\n",
       "      <td>17.0</td>\n",
       "      <td>73</td>\n",
       "      <td>좋음</td>\n",
       "    </tr>\n",
       "  </tbody>\n",
       "</table>\n",
       "</div>"
      ],
      "text/plain": [
       "           측정일자   측정시간  지역      지역명  ... 기온 (℃) 습도 (%) 재비산먼지 평균농도(㎍/㎥)  오염범례\n",
       "814  2021-03-31  12:07  경기  용인시 기흥구  ...   20.0   23.0             628  매우나쁨\n",
       "815  2021-03-31  12:14  경기  용인시 기흥구  ...   20.0   23.0              55    좋음\n",
       "816  2021-03-31  12:31  경기  용인시 기흥구  ...   20.0   22.0             362  매우나쁨\n",
       "817  2021-03-31  12:39  경기  용인시 기흥구  ...   21.0   22.0              31  매우좋음\n",
       "818  2021-03-31  13:06  경기  용인시 기흥구  ...   21.0   22.0              47  매우좋음\n",
       "819  2021-03-31  13:16  경기  용인시 기흥구  ...   21.0   22.0             155    나쁨\n",
       "820  2021-03-31  13:56  경기  용인시 기흥구  ...   24.0   16.0             114    보통\n",
       "821  2021-03-31  14:02  경기  용인시 기흥구  ...   22.0   18.0             187    나쁨\n",
       "822  2021-03-31  14:36  경기  용인시 기흥구  ...   23.0   17.0              57    좋음\n",
       "823  2021-03-31  14:49  경기  용인시 기흥구  ...   22.0   17.0              73    좋음\n",
       "\n",
       "[10 rows x 11 columns]"
      ]
     },
     "execution_count": 23,
     "metadata": {
      "tags": []
     },
     "output_type": "execute_result"
    }
   ],
   "source": [
    "df2.tail(10)"
   ]
  },
  {
   "cell_type": "markdown",
   "metadata": {
    "id": "MhVYGRA855Hc"
   },
   "source": [
    "3) `df1`과 `df2`에는 각각 몇 개의 관측치가 있는가?"
   ]
  },
  {
   "cell_type": "markdown",
   "metadata": {
    "id": "4eNXXZraqa4O"
   },
   "source": [
    "아래와 같이 `df1`에는 500개, `df2`에는 824개의 관측치가 존재한다. "
   ]
  },
  {
   "cell_type": "code",
   "execution_count": null,
   "metadata": {
    "colab": {
     "base_uri": "https://localhost:8080/"
    },
    "executionInfo": {
     "elapsed": 17665,
     "status": "ok",
     "timestamp": 1621352094791,
     "user": {
      "displayName": "KyeongRyong Lee",
      "photoUrl": "",
      "userId": "08575822710201651490"
     },
     "user_tz": -540
    },
    "id": "UqX2c2zXqUqf",
    "outputId": "38773302-606c-44b3-fede-c559ce188165"
   },
   "outputs": [
    {
     "data": {
      "text/plain": [
       "500"
      ]
     },
     "execution_count": 24,
     "metadata": {
      "tags": []
     },
     "output_type": "execute_result"
    }
   ],
   "source": [
    "len(df1)"
   ]
  },
  {
   "cell_type": "code",
   "execution_count": null,
   "metadata": {
    "colab": {
     "base_uri": "https://localhost:8080/"
    },
    "executionInfo": {
     "elapsed": 17656,
     "status": "ok",
     "timestamp": 1621352094792,
     "user": {
      "displayName": "KyeongRyong Lee",
      "photoUrl": "",
      "userId": "08575822710201651490"
     },
     "user_tz": -540
    },
    "id": "IcFd4Cn4qWJ4",
    "outputId": "19560137-ce2f-4012-8cdd-43606d1d8872"
   },
   "outputs": [
    {
     "data": {
      "text/plain": [
       "824"
      ]
     },
     "execution_count": 25,
     "metadata": {
      "tags": []
     },
     "output_type": "execute_result"
    }
   ],
   "source": [
    "len(df2)"
   ]
  },
  {
   "cell_type": "markdown",
   "metadata": {
    "id": "uehsetm_6Kpa"
   },
   "source": [
    "4) `df1`과 `df2`를 합하여 데이터프레임 `df`를 만들어라."
   ]
  },
  {
   "cell_type": "markdown",
   "metadata": {
    "id": "AJOtshcCq5Lu"
   },
   "source": [
    "데이터프레임을 합치기 위하여 판다스 `concat()` 함수를 이용하면 된다. 이 때, 인덱스 재배열을 위해 `ignore_index=True`를 인자로 주었다. "
   ]
  },
  {
   "cell_type": "code",
   "execution_count": null,
   "metadata": {
    "colab": {
     "base_uri": "https://localhost:8080/",
     "height": 419
    },
    "executionInfo": {
     "elapsed": 17643,
     "status": "ok",
     "timestamp": 1621352094793,
     "user": {
      "displayName": "KyeongRyong Lee",
      "photoUrl": "",
      "userId": "08575822710201651490"
     },
     "user_tz": -540
    },
    "id": "UmyThgMTqhdr",
    "outputId": "ba0c2721-ae77-45b7-c916-83c03a1da135"
   },
   "outputs": [
    {
     "data": {
      "text/html": [
       "<div>\n",
       "<style scoped>\n",
       "    .dataframe tbody tr th:only-of-type {\n",
       "        vertical-align: middle;\n",
       "    }\n",
       "\n",
       "    .dataframe tbody tr th {\n",
       "        vertical-align: top;\n",
       "    }\n",
       "\n",
       "    .dataframe thead th {\n",
       "        text-align: right;\n",
       "    }\n",
       "</style>\n",
       "<table border=\"1\" class=\"dataframe\">\n",
       "  <thead>\n",
       "    <tr style=\"text-align: right;\">\n",
       "      <th></th>\n",
       "      <th>측정일자</th>\n",
       "      <th>측정시간</th>\n",
       "      <th>지역</th>\n",
       "      <th>지역명</th>\n",
       "      <th>도로명</th>\n",
       "      <th>시작점</th>\n",
       "      <th>종점</th>\n",
       "      <th>기온 (℃)</th>\n",
       "      <th>습도 (%)</th>\n",
       "      <th>재비산먼지 평균농도(㎍/㎥)</th>\n",
       "      <th>오염범례</th>\n",
       "    </tr>\n",
       "  </thead>\n",
       "  <tbody>\n",
       "    <tr>\n",
       "      <th>0</th>\n",
       "      <td>2021-03-02</td>\n",
       "      <td>11:07</td>\n",
       "      <td>경기</td>\n",
       "      <td>안산시 상록구</td>\n",
       "      <td>성호로</td>\n",
       "      <td>경기도 안산시상록구 일동 634도</td>\n",
       "      <td>경기도 안산시상록구 부곡동 598도</td>\n",
       "      <td>5.0</td>\n",
       "      <td>63.0</td>\n",
       "      <td>324</td>\n",
       "      <td>매우나쁨</td>\n",
       "    </tr>\n",
       "    <tr>\n",
       "      <th>1</th>\n",
       "      <td>2021-03-02</td>\n",
       "      <td>11:27</td>\n",
       "      <td>경기</td>\n",
       "      <td>안산시 상록구</td>\n",
       "      <td>충장로</td>\n",
       "      <td>경기도 안산시상록구 부곡동 739-21도</td>\n",
       "      <td>경기도 안산시상록구 본오동 1158도</td>\n",
       "      <td>4.0</td>\n",
       "      <td>61.0</td>\n",
       "      <td>230</td>\n",
       "      <td>매우나쁨</td>\n",
       "    </tr>\n",
       "    <tr>\n",
       "      <th>2</th>\n",
       "      <td>2021-03-02</td>\n",
       "      <td>11:54</td>\n",
       "      <td>경기</td>\n",
       "      <td>안산시 상록구</td>\n",
       "      <td>해안로</td>\n",
       "      <td>경기도 안산시상록구 팔곡일동 557-3도</td>\n",
       "      <td>경기도 안산시상록구 사동 1634 천</td>\n",
       "      <td>5.0</td>\n",
       "      <td>59.0</td>\n",
       "      <td>80</td>\n",
       "      <td>좋음</td>\n",
       "    </tr>\n",
       "    <tr>\n",
       "      <th>3</th>\n",
       "      <td>2021-03-02</td>\n",
       "      <td>12:09</td>\n",
       "      <td>경기</td>\n",
       "      <td>안산시 단원구</td>\n",
       "      <td>해안로</td>\n",
       "      <td>경기도 안산시단원구 초지동 795 천</td>\n",
       "      <td>경기도 안산시단원구 성곡동 619-1도</td>\n",
       "      <td>NaN</td>\n",
       "      <td>56.0</td>\n",
       "      <td>88</td>\n",
       "      <td>좋음</td>\n",
       "    </tr>\n",
       "    <tr>\n",
       "      <th>4</th>\n",
       "      <td>2021-03-02</td>\n",
       "      <td>12:22</td>\n",
       "      <td>경기</td>\n",
       "      <td>안산시 단원구</td>\n",
       "      <td>첨단로</td>\n",
       "      <td>경기도 안산시단원구 초지동 660-10도</td>\n",
       "      <td>경기도 안산시단원구 성곡동 780천</td>\n",
       "      <td>5.0</td>\n",
       "      <td>54.0</td>\n",
       "      <td>178</td>\n",
       "      <td>나쁨</td>\n",
       "    </tr>\n",
       "    <tr>\n",
       "      <th>...</th>\n",
       "      <td>...</td>\n",
       "      <td>...</td>\n",
       "      <td>...</td>\n",
       "      <td>...</td>\n",
       "      <td>...</td>\n",
       "      <td>...</td>\n",
       "      <td>...</td>\n",
       "      <td>...</td>\n",
       "      <td>...</td>\n",
       "      <td>...</td>\n",
       "      <td>...</td>\n",
       "    </tr>\n",
       "    <tr>\n",
       "      <th>1319</th>\n",
       "      <td>2021-03-31</td>\n",
       "      <td>13:16</td>\n",
       "      <td>경기</td>\n",
       "      <td>용인시 기흥구</td>\n",
       "      <td>흥덕2로</td>\n",
       "      <td>경기도 용인시기흥구 영덕동 1202천</td>\n",
       "      <td>경기도 용인시기흥구 영덕동 889도</td>\n",
       "      <td>21.0</td>\n",
       "      <td>22.0</td>\n",
       "      <td>155</td>\n",
       "      <td>나쁨</td>\n",
       "    </tr>\n",
       "    <tr>\n",
       "      <th>1320</th>\n",
       "      <td>2021-03-31</td>\n",
       "      <td>13:56</td>\n",
       "      <td>경기</td>\n",
       "      <td>용인시 기흥구</td>\n",
       "      <td>흥덕1로</td>\n",
       "      <td>경기도 용인시기흥구 영덕동 1152도</td>\n",
       "      <td>경기도 용인시기흥구 영덕동 1144도</td>\n",
       "      <td>24.0</td>\n",
       "      <td>16.0</td>\n",
       "      <td>114</td>\n",
       "      <td>보통</td>\n",
       "    </tr>\n",
       "    <tr>\n",
       "      <th>1321</th>\n",
       "      <td>2021-03-31</td>\n",
       "      <td>14:02</td>\n",
       "      <td>경기</td>\n",
       "      <td>용인시 기흥구</td>\n",
       "      <td>중부대로</td>\n",
       "      <td>경기도 용인시기흥구 영덕동 889도</td>\n",
       "      <td>경기도 용인시기흥구 상하동 산 46-107도</td>\n",
       "      <td>22.0</td>\n",
       "      <td>18.0</td>\n",
       "      <td>187</td>\n",
       "      <td>나쁨</td>\n",
       "    </tr>\n",
       "    <tr>\n",
       "      <th>1322</th>\n",
       "      <td>2021-03-31</td>\n",
       "      <td>14:36</td>\n",
       "      <td>경기</td>\n",
       "      <td>용인시 기흥구</td>\n",
       "      <td>한보라1로</td>\n",
       "      <td>경기도 용인시기흥구 보라동 636-1 도</td>\n",
       "      <td>경기도 용인시기흥구 공세동 690도</td>\n",
       "      <td>23.0</td>\n",
       "      <td>17.0</td>\n",
       "      <td>57</td>\n",
       "      <td>좋음</td>\n",
       "    </tr>\n",
       "    <tr>\n",
       "      <th>1323</th>\n",
       "      <td>2021-03-31</td>\n",
       "      <td>14:49</td>\n",
       "      <td>경기</td>\n",
       "      <td>용인시 기흥구</td>\n",
       "      <td>탑실로</td>\n",
       "      <td>경기도 용인시기흥구 공세동 731 도</td>\n",
       "      <td>경기도 용인시기흥구 공세동 307-27답</td>\n",
       "      <td>22.0</td>\n",
       "      <td>17.0</td>\n",
       "      <td>73</td>\n",
       "      <td>좋음</td>\n",
       "    </tr>\n",
       "  </tbody>\n",
       "</table>\n",
       "<p>1324 rows × 11 columns</p>\n",
       "</div>"
      ],
      "text/plain": [
       "            측정일자   측정시간  지역      지역명  ... 기온 (℃) 습도 (%) 재비산먼지 평균농도(㎍/㎥)  오염범례\n",
       "0     2021-03-02  11:07  경기  안산시 상록구  ...    5.0   63.0             324  매우나쁨\n",
       "1     2021-03-02  11:27  경기  안산시 상록구  ...    4.0   61.0             230  매우나쁨\n",
       "2     2021-03-02  11:54  경기  안산시 상록구  ...    5.0   59.0              80    좋음\n",
       "3     2021-03-02  12:09  경기  안산시 단원구  ...    NaN   56.0              88    좋음\n",
       "4     2021-03-02  12:22  경기  안산시 단원구  ...    5.0   54.0             178    나쁨\n",
       "...          ...    ...  ..      ...  ...    ...    ...             ...   ...\n",
       "1319  2021-03-31  13:16  경기  용인시 기흥구  ...   21.0   22.0             155    나쁨\n",
       "1320  2021-03-31  13:56  경기  용인시 기흥구  ...   24.0   16.0             114    보통\n",
       "1321  2021-03-31  14:02  경기  용인시 기흥구  ...   22.0   18.0             187    나쁨\n",
       "1322  2021-03-31  14:36  경기  용인시 기흥구  ...   23.0   17.0              57    좋음\n",
       "1323  2021-03-31  14:49  경기  용인시 기흥구  ...   22.0   17.0              73    좋음\n",
       "\n",
       "[1324 rows x 11 columns]"
      ]
     },
     "execution_count": 26,
     "metadata": {
      "tags": []
     },
     "output_type": "execute_result"
    }
   ],
   "source": [
    "df = pd.concat([df1, df2], ignore_index=True)\n",
    "df"
   ]
  },
  {
   "cell_type": "markdown",
   "metadata": {
    "id": "MvJ_Kr9z6XM-"
   },
   "source": [
    "5) `df`의 각 열에는 몇 개의 결측치가 있는가?"
   ]
  },
  {
   "cell_type": "markdown",
   "metadata": {
    "id": "zHdsth6FrSjv"
   },
   "source": [
    "데이터프레임의 결측치의 개수를 세기 위하여 `isnull()` 메소드와 `sum()` 메소드를 이용한다. "
   ]
  },
  {
   "cell_type": "code",
   "execution_count": null,
   "metadata": {
    "colab": {
     "base_uri": "https://localhost:8080/"
    },
    "executionInfo": {
     "elapsed": 17636,
     "status": "ok",
     "timestamp": 1621352094796,
     "user": {
      "displayName": "KyeongRyong Lee",
      "photoUrl": "",
      "userId": "08575822710201651490"
     },
     "user_tz": -540
    },
    "id": "zNM1t1dSrZOo",
    "outputId": "a7698bd7-e418-44e3-c270-1f306d651077"
   },
   "outputs": [
    {
     "data": {
      "text/plain": [
       "측정일자                0\n",
       "측정시간                0\n",
       "지역                  0\n",
       "지역명                 0\n",
       "도로명                 0\n",
       "시작점                 0\n",
       "종점                  0\n",
       "기온 (℃)             11\n",
       "습도 (%)              4\n",
       "재비산먼지 평균농도(㎍/㎥)     0\n",
       "오염범례                0\n",
       "dtype: int64"
      ]
     },
     "execution_count": 27,
     "metadata": {
      "tags": []
     },
     "output_type": "execute_result"
    }
   ],
   "source": [
    "df.isnull().sum()"
   ]
  },
  {
   "cell_type": "markdown",
   "metadata": {
    "id": "u30YwKCk6btp"
   },
   "source": [
    "6) `df`의 각 열의 결측치를 각 열의 평균으로 대체하여라. "
   ]
  },
  {
   "cell_type": "markdown",
   "metadata": {
    "id": "KnZrvwojsQkM"
   },
   "source": [
    "결측치가 제대로 대체되었는지 확인하기 위하여 값 대입 전의 데이터프레임을 `df_old` 변수에 저장하였다. "
   ]
  },
  {
   "cell_type": "code",
   "execution_count": null,
   "metadata": {
    "id": "UrNd3eytsN77"
   },
   "outputs": [],
   "source": [
    "df_old = df"
   ]
  },
  {
   "cell_type": "code",
   "execution_count": null,
   "metadata": {
    "colab": {
     "base_uri": "https://localhost:8080/",
     "height": 419
    },
    "executionInfo": {
     "elapsed": 17620,
     "status": "ok",
     "timestamp": 1621352094798,
     "user": {
      "displayName": "KyeongRyong Lee",
      "photoUrl": "",
      "userId": "08575822710201651490"
     },
     "user_tz": -540
    },
    "id": "iLeNF-h4sgfK",
    "outputId": "0ba56675-52ba-4548-bbff-8d530c8fbb44"
   },
   "outputs": [
    {
     "data": {
      "text/html": [
       "<div>\n",
       "<style scoped>\n",
       "    .dataframe tbody tr th:only-of-type {\n",
       "        vertical-align: middle;\n",
       "    }\n",
       "\n",
       "    .dataframe tbody tr th {\n",
       "        vertical-align: top;\n",
       "    }\n",
       "\n",
       "    .dataframe thead th {\n",
       "        text-align: right;\n",
       "    }\n",
       "</style>\n",
       "<table border=\"1\" class=\"dataframe\">\n",
       "  <thead>\n",
       "    <tr style=\"text-align: right;\">\n",
       "      <th></th>\n",
       "      <th>측정일자</th>\n",
       "      <th>측정시간</th>\n",
       "      <th>지역</th>\n",
       "      <th>지역명</th>\n",
       "      <th>도로명</th>\n",
       "      <th>시작점</th>\n",
       "      <th>종점</th>\n",
       "      <th>기온 (℃)</th>\n",
       "      <th>습도 (%)</th>\n",
       "      <th>재비산먼지 평균농도(㎍/㎥)</th>\n",
       "      <th>오염범례</th>\n",
       "    </tr>\n",
       "  </thead>\n",
       "  <tbody>\n",
       "    <tr>\n",
       "      <th>0</th>\n",
       "      <td>2021-03-02</td>\n",
       "      <td>11:07</td>\n",
       "      <td>경기</td>\n",
       "      <td>안산시 상록구</td>\n",
       "      <td>성호로</td>\n",
       "      <td>경기도 안산시상록구 일동 634도</td>\n",
       "      <td>경기도 안산시상록구 부곡동 598도</td>\n",
       "      <td>5.0</td>\n",
       "      <td>63.0</td>\n",
       "      <td>324</td>\n",
       "      <td>매우나쁨</td>\n",
       "    </tr>\n",
       "    <tr>\n",
       "      <th>1</th>\n",
       "      <td>2021-03-02</td>\n",
       "      <td>11:27</td>\n",
       "      <td>경기</td>\n",
       "      <td>안산시 상록구</td>\n",
       "      <td>충장로</td>\n",
       "      <td>경기도 안산시상록구 부곡동 739-21도</td>\n",
       "      <td>경기도 안산시상록구 본오동 1158도</td>\n",
       "      <td>4.0</td>\n",
       "      <td>61.0</td>\n",
       "      <td>230</td>\n",
       "      <td>매우나쁨</td>\n",
       "    </tr>\n",
       "    <tr>\n",
       "      <th>2</th>\n",
       "      <td>2021-03-02</td>\n",
       "      <td>11:54</td>\n",
       "      <td>경기</td>\n",
       "      <td>안산시 상록구</td>\n",
       "      <td>해안로</td>\n",
       "      <td>경기도 안산시상록구 팔곡일동 557-3도</td>\n",
       "      <td>경기도 안산시상록구 사동 1634 천</td>\n",
       "      <td>5.0</td>\n",
       "      <td>59.0</td>\n",
       "      <td>80</td>\n",
       "      <td>좋음</td>\n",
       "    </tr>\n",
       "    <tr>\n",
       "      <th>3</th>\n",
       "      <td>2021-03-02</td>\n",
       "      <td>12:09</td>\n",
       "      <td>경기</td>\n",
       "      <td>안산시 단원구</td>\n",
       "      <td>해안로</td>\n",
       "      <td>경기도 안산시단원구 초지동 795 천</td>\n",
       "      <td>경기도 안산시단원구 성곡동 619-1도</td>\n",
       "      <td>NaN</td>\n",
       "      <td>56.0</td>\n",
       "      <td>88</td>\n",
       "      <td>좋음</td>\n",
       "    </tr>\n",
       "    <tr>\n",
       "      <th>4</th>\n",
       "      <td>2021-03-02</td>\n",
       "      <td>12:22</td>\n",
       "      <td>경기</td>\n",
       "      <td>안산시 단원구</td>\n",
       "      <td>첨단로</td>\n",
       "      <td>경기도 안산시단원구 초지동 660-10도</td>\n",
       "      <td>경기도 안산시단원구 성곡동 780천</td>\n",
       "      <td>5.0</td>\n",
       "      <td>54.0</td>\n",
       "      <td>178</td>\n",
       "      <td>나쁨</td>\n",
       "    </tr>\n",
       "    <tr>\n",
       "      <th>...</th>\n",
       "      <td>...</td>\n",
       "      <td>...</td>\n",
       "      <td>...</td>\n",
       "      <td>...</td>\n",
       "      <td>...</td>\n",
       "      <td>...</td>\n",
       "      <td>...</td>\n",
       "      <td>...</td>\n",
       "      <td>...</td>\n",
       "      <td>...</td>\n",
       "      <td>...</td>\n",
       "    </tr>\n",
       "    <tr>\n",
       "      <th>1319</th>\n",
       "      <td>2021-03-31</td>\n",
       "      <td>13:16</td>\n",
       "      <td>경기</td>\n",
       "      <td>용인시 기흥구</td>\n",
       "      <td>흥덕2로</td>\n",
       "      <td>경기도 용인시기흥구 영덕동 1202천</td>\n",
       "      <td>경기도 용인시기흥구 영덕동 889도</td>\n",
       "      <td>21.0</td>\n",
       "      <td>22.0</td>\n",
       "      <td>155</td>\n",
       "      <td>나쁨</td>\n",
       "    </tr>\n",
       "    <tr>\n",
       "      <th>1320</th>\n",
       "      <td>2021-03-31</td>\n",
       "      <td>13:56</td>\n",
       "      <td>경기</td>\n",
       "      <td>용인시 기흥구</td>\n",
       "      <td>흥덕1로</td>\n",
       "      <td>경기도 용인시기흥구 영덕동 1152도</td>\n",
       "      <td>경기도 용인시기흥구 영덕동 1144도</td>\n",
       "      <td>24.0</td>\n",
       "      <td>16.0</td>\n",
       "      <td>114</td>\n",
       "      <td>보통</td>\n",
       "    </tr>\n",
       "    <tr>\n",
       "      <th>1321</th>\n",
       "      <td>2021-03-31</td>\n",
       "      <td>14:02</td>\n",
       "      <td>경기</td>\n",
       "      <td>용인시 기흥구</td>\n",
       "      <td>중부대로</td>\n",
       "      <td>경기도 용인시기흥구 영덕동 889도</td>\n",
       "      <td>경기도 용인시기흥구 상하동 산 46-107도</td>\n",
       "      <td>22.0</td>\n",
       "      <td>18.0</td>\n",
       "      <td>187</td>\n",
       "      <td>나쁨</td>\n",
       "    </tr>\n",
       "    <tr>\n",
       "      <th>1322</th>\n",
       "      <td>2021-03-31</td>\n",
       "      <td>14:36</td>\n",
       "      <td>경기</td>\n",
       "      <td>용인시 기흥구</td>\n",
       "      <td>한보라1로</td>\n",
       "      <td>경기도 용인시기흥구 보라동 636-1 도</td>\n",
       "      <td>경기도 용인시기흥구 공세동 690도</td>\n",
       "      <td>23.0</td>\n",
       "      <td>17.0</td>\n",
       "      <td>57</td>\n",
       "      <td>좋음</td>\n",
       "    </tr>\n",
       "    <tr>\n",
       "      <th>1323</th>\n",
       "      <td>2021-03-31</td>\n",
       "      <td>14:49</td>\n",
       "      <td>경기</td>\n",
       "      <td>용인시 기흥구</td>\n",
       "      <td>탑실로</td>\n",
       "      <td>경기도 용인시기흥구 공세동 731 도</td>\n",
       "      <td>경기도 용인시기흥구 공세동 307-27답</td>\n",
       "      <td>22.0</td>\n",
       "      <td>17.0</td>\n",
       "      <td>73</td>\n",
       "      <td>좋음</td>\n",
       "    </tr>\n",
       "  </tbody>\n",
       "</table>\n",
       "<p>1324 rows × 11 columns</p>\n",
       "</div>"
      ],
      "text/plain": [
       "            측정일자   측정시간  지역      지역명  ... 기온 (℃) 습도 (%) 재비산먼지 평균농도(㎍/㎥)  오염범례\n",
       "0     2021-03-02  11:07  경기  안산시 상록구  ...    5.0   63.0             324  매우나쁨\n",
       "1     2021-03-02  11:27  경기  안산시 상록구  ...    4.0   61.0             230  매우나쁨\n",
       "2     2021-03-02  11:54  경기  안산시 상록구  ...    5.0   59.0              80    좋음\n",
       "3     2021-03-02  12:09  경기  안산시 단원구  ...    NaN   56.0              88    좋음\n",
       "4     2021-03-02  12:22  경기  안산시 단원구  ...    5.0   54.0             178    나쁨\n",
       "...          ...    ...  ..      ...  ...    ...    ...             ...   ...\n",
       "1319  2021-03-31  13:16  경기  용인시 기흥구  ...   21.0   22.0             155    나쁨\n",
       "1320  2021-03-31  13:56  경기  용인시 기흥구  ...   24.0   16.0             114    보통\n",
       "1321  2021-03-31  14:02  경기  용인시 기흥구  ...   22.0   18.0             187    나쁨\n",
       "1322  2021-03-31  14:36  경기  용인시 기흥구  ...   23.0   17.0              57    좋음\n",
       "1323  2021-03-31  14:49  경기  용인시 기흥구  ...   22.0   17.0              73    좋음\n",
       "\n",
       "[1324 rows x 11 columns]"
      ]
     },
     "execution_count": 29,
     "metadata": {
      "tags": []
     },
     "output_type": "execute_result"
    }
   ],
   "source": [
    "df_old"
   ]
  },
  {
   "cell_type": "markdown",
   "metadata": {
    "id": "e91zCso5rioj"
   },
   "source": [
    "`fillna()` 메소드를 이용하여 결측치의 대체값을 넣어줄 수 있다. 이 때, 각 열 별로 대체값을 다르게 하기 위하여 `value` 인자를 사용하며 그 값으로는 `mean()` 메소드를 사용하여 각 열의 평균을 구하여 넣어주면 된다. "
   ]
  },
  {
   "cell_type": "code",
   "execution_count": null,
   "metadata": {
    "colab": {
     "base_uri": "https://localhost:8080/",
     "height": 419
    },
    "executionInfo": {
     "elapsed": 17616,
     "status": "ok",
     "timestamp": 1621352094798,
     "user": {
      "displayName": "KyeongRyong Lee",
      "photoUrl": "",
      "userId": "08575822710201651490"
     },
     "user_tz": -540
    },
    "id": "iuVTGowCriJr",
    "outputId": "999f8da9-d454-4875-b10c-30a2d5428bc3"
   },
   "outputs": [
    {
     "data": {
      "text/html": [
       "<div>\n",
       "<style scoped>\n",
       "    .dataframe tbody tr th:only-of-type {\n",
       "        vertical-align: middle;\n",
       "    }\n",
       "\n",
       "    .dataframe tbody tr th {\n",
       "        vertical-align: top;\n",
       "    }\n",
       "\n",
       "    .dataframe thead th {\n",
       "        text-align: right;\n",
       "    }\n",
       "</style>\n",
       "<table border=\"1\" class=\"dataframe\">\n",
       "  <thead>\n",
       "    <tr style=\"text-align: right;\">\n",
       "      <th></th>\n",
       "      <th>측정일자</th>\n",
       "      <th>측정시간</th>\n",
       "      <th>지역</th>\n",
       "      <th>지역명</th>\n",
       "      <th>도로명</th>\n",
       "      <th>시작점</th>\n",
       "      <th>종점</th>\n",
       "      <th>기온 (℃)</th>\n",
       "      <th>습도 (%)</th>\n",
       "      <th>재비산먼지 평균농도(㎍/㎥)</th>\n",
       "      <th>오염범례</th>\n",
       "    </tr>\n",
       "  </thead>\n",
       "  <tbody>\n",
       "    <tr>\n",
       "      <th>0</th>\n",
       "      <td>2021-03-02</td>\n",
       "      <td>11:07</td>\n",
       "      <td>경기</td>\n",
       "      <td>안산시 상록구</td>\n",
       "      <td>성호로</td>\n",
       "      <td>경기도 안산시상록구 일동 634도</td>\n",
       "      <td>경기도 안산시상록구 부곡동 598도</td>\n",
       "      <td>5.000000</td>\n",
       "      <td>63.0</td>\n",
       "      <td>324</td>\n",
       "      <td>매우나쁨</td>\n",
       "    </tr>\n",
       "    <tr>\n",
       "      <th>1</th>\n",
       "      <td>2021-03-02</td>\n",
       "      <td>11:27</td>\n",
       "      <td>경기</td>\n",
       "      <td>안산시 상록구</td>\n",
       "      <td>충장로</td>\n",
       "      <td>경기도 안산시상록구 부곡동 739-21도</td>\n",
       "      <td>경기도 안산시상록구 본오동 1158도</td>\n",
       "      <td>4.000000</td>\n",
       "      <td>61.0</td>\n",
       "      <td>230</td>\n",
       "      <td>매우나쁨</td>\n",
       "    </tr>\n",
       "    <tr>\n",
       "      <th>2</th>\n",
       "      <td>2021-03-02</td>\n",
       "      <td>11:54</td>\n",
       "      <td>경기</td>\n",
       "      <td>안산시 상록구</td>\n",
       "      <td>해안로</td>\n",
       "      <td>경기도 안산시상록구 팔곡일동 557-3도</td>\n",
       "      <td>경기도 안산시상록구 사동 1634 천</td>\n",
       "      <td>5.000000</td>\n",
       "      <td>59.0</td>\n",
       "      <td>80</td>\n",
       "      <td>좋음</td>\n",
       "    </tr>\n",
       "    <tr>\n",
       "      <th>3</th>\n",
       "      <td>2021-03-02</td>\n",
       "      <td>12:09</td>\n",
       "      <td>경기</td>\n",
       "      <td>안산시 단원구</td>\n",
       "      <td>해안로</td>\n",
       "      <td>경기도 안산시단원구 초지동 795 천</td>\n",
       "      <td>경기도 안산시단원구 성곡동 619-1도</td>\n",
       "      <td>13.488195</td>\n",
       "      <td>56.0</td>\n",
       "      <td>88</td>\n",
       "      <td>좋음</td>\n",
       "    </tr>\n",
       "    <tr>\n",
       "      <th>4</th>\n",
       "      <td>2021-03-02</td>\n",
       "      <td>12:22</td>\n",
       "      <td>경기</td>\n",
       "      <td>안산시 단원구</td>\n",
       "      <td>첨단로</td>\n",
       "      <td>경기도 안산시단원구 초지동 660-10도</td>\n",
       "      <td>경기도 안산시단원구 성곡동 780천</td>\n",
       "      <td>5.000000</td>\n",
       "      <td>54.0</td>\n",
       "      <td>178</td>\n",
       "      <td>나쁨</td>\n",
       "    </tr>\n",
       "    <tr>\n",
       "      <th>...</th>\n",
       "      <td>...</td>\n",
       "      <td>...</td>\n",
       "      <td>...</td>\n",
       "      <td>...</td>\n",
       "      <td>...</td>\n",
       "      <td>...</td>\n",
       "      <td>...</td>\n",
       "      <td>...</td>\n",
       "      <td>...</td>\n",
       "      <td>...</td>\n",
       "      <td>...</td>\n",
       "    </tr>\n",
       "    <tr>\n",
       "      <th>1319</th>\n",
       "      <td>2021-03-31</td>\n",
       "      <td>13:16</td>\n",
       "      <td>경기</td>\n",
       "      <td>용인시 기흥구</td>\n",
       "      <td>흥덕2로</td>\n",
       "      <td>경기도 용인시기흥구 영덕동 1202천</td>\n",
       "      <td>경기도 용인시기흥구 영덕동 889도</td>\n",
       "      <td>21.000000</td>\n",
       "      <td>22.0</td>\n",
       "      <td>155</td>\n",
       "      <td>나쁨</td>\n",
       "    </tr>\n",
       "    <tr>\n",
       "      <th>1320</th>\n",
       "      <td>2021-03-31</td>\n",
       "      <td>13:56</td>\n",
       "      <td>경기</td>\n",
       "      <td>용인시 기흥구</td>\n",
       "      <td>흥덕1로</td>\n",
       "      <td>경기도 용인시기흥구 영덕동 1152도</td>\n",
       "      <td>경기도 용인시기흥구 영덕동 1144도</td>\n",
       "      <td>24.000000</td>\n",
       "      <td>16.0</td>\n",
       "      <td>114</td>\n",
       "      <td>보통</td>\n",
       "    </tr>\n",
       "    <tr>\n",
       "      <th>1321</th>\n",
       "      <td>2021-03-31</td>\n",
       "      <td>14:02</td>\n",
       "      <td>경기</td>\n",
       "      <td>용인시 기흥구</td>\n",
       "      <td>중부대로</td>\n",
       "      <td>경기도 용인시기흥구 영덕동 889도</td>\n",
       "      <td>경기도 용인시기흥구 상하동 산 46-107도</td>\n",
       "      <td>22.000000</td>\n",
       "      <td>18.0</td>\n",
       "      <td>187</td>\n",
       "      <td>나쁨</td>\n",
       "    </tr>\n",
       "    <tr>\n",
       "      <th>1322</th>\n",
       "      <td>2021-03-31</td>\n",
       "      <td>14:36</td>\n",
       "      <td>경기</td>\n",
       "      <td>용인시 기흥구</td>\n",
       "      <td>한보라1로</td>\n",
       "      <td>경기도 용인시기흥구 보라동 636-1 도</td>\n",
       "      <td>경기도 용인시기흥구 공세동 690도</td>\n",
       "      <td>23.000000</td>\n",
       "      <td>17.0</td>\n",
       "      <td>57</td>\n",
       "      <td>좋음</td>\n",
       "    </tr>\n",
       "    <tr>\n",
       "      <th>1323</th>\n",
       "      <td>2021-03-31</td>\n",
       "      <td>14:49</td>\n",
       "      <td>경기</td>\n",
       "      <td>용인시 기흥구</td>\n",
       "      <td>탑실로</td>\n",
       "      <td>경기도 용인시기흥구 공세동 731 도</td>\n",
       "      <td>경기도 용인시기흥구 공세동 307-27답</td>\n",
       "      <td>22.000000</td>\n",
       "      <td>17.0</td>\n",
       "      <td>73</td>\n",
       "      <td>좋음</td>\n",
       "    </tr>\n",
       "  </tbody>\n",
       "</table>\n",
       "<p>1324 rows × 11 columns</p>\n",
       "</div>"
      ],
      "text/plain": [
       "            측정일자   측정시간  지역      지역명  ...     기온 (℃) 습도 (%) 재비산먼지 평균농도(㎍/㎥)  오염범례\n",
       "0     2021-03-02  11:07  경기  안산시 상록구  ...   5.000000   63.0             324  매우나쁨\n",
       "1     2021-03-02  11:27  경기  안산시 상록구  ...   4.000000   61.0             230  매우나쁨\n",
       "2     2021-03-02  11:54  경기  안산시 상록구  ...   5.000000   59.0              80    좋음\n",
       "3     2021-03-02  12:09  경기  안산시 단원구  ...  13.488195   56.0              88    좋음\n",
       "4     2021-03-02  12:22  경기  안산시 단원구  ...   5.000000   54.0             178    나쁨\n",
       "...          ...    ...  ..      ...  ...        ...    ...             ...   ...\n",
       "1319  2021-03-31  13:16  경기  용인시 기흥구  ...  21.000000   22.0             155    나쁨\n",
       "1320  2021-03-31  13:56  경기  용인시 기흥구  ...  24.000000   16.0             114    보통\n",
       "1321  2021-03-31  14:02  경기  용인시 기흥구  ...  22.000000   18.0             187    나쁨\n",
       "1322  2021-03-31  14:36  경기  용인시 기흥구  ...  23.000000   17.0              57    좋음\n",
       "1323  2021-03-31  14:49  경기  용인시 기흥구  ...  22.000000   17.0              73    좋음\n",
       "\n",
       "[1324 rows x 11 columns]"
      ]
     },
     "execution_count": 30,
     "metadata": {
      "tags": []
     },
     "output_type": "execute_result"
    }
   ],
   "source": [
    "df = df.fillna(value=df.mean())\n",
    "df"
   ]
  },
  {
   "cell_type": "markdown",
   "metadata": {
    "id": "B5Xf7GP7syhQ"
   },
   "source": [
    "아래와 같이 결측치가 존재하는 기온과 습도 열에서 결측치가 존재했던 행을 조회해보면 정상적으로 대체값이 대입되었음을 알 수 있다. "
   ]
  },
  {
   "cell_type": "code",
   "execution_count": null,
   "metadata": {
    "colab": {
     "base_uri": "https://localhost:8080/",
     "height": 173
    },
    "executionInfo": {
     "elapsed": 17605,
     "status": "ok",
     "timestamp": 1621352094799,
     "user": {
      "displayName": "KyeongRyong Lee",
      "photoUrl": "",
      "userId": "08575822710201651490"
     },
     "user_tz": -540
    },
    "id": "oCuQJvG5sKPy",
    "outputId": "7a6dd2b9-9c1c-4a56-b3b0-4389068a0468"
   },
   "outputs": [
    {
     "data": {
      "text/html": [
       "<div>\n",
       "<style scoped>\n",
       "    .dataframe tbody tr th:only-of-type {\n",
       "        vertical-align: middle;\n",
       "    }\n",
       "\n",
       "    .dataframe tbody tr th {\n",
       "        vertical-align: top;\n",
       "    }\n",
       "\n",
       "    .dataframe thead th {\n",
       "        text-align: right;\n",
       "    }\n",
       "</style>\n",
       "<table border=\"1\" class=\"dataframe\">\n",
       "  <thead>\n",
       "    <tr style=\"text-align: right;\">\n",
       "      <th></th>\n",
       "      <th>측정일자</th>\n",
       "      <th>측정시간</th>\n",
       "      <th>지역</th>\n",
       "      <th>지역명</th>\n",
       "      <th>도로명</th>\n",
       "      <th>시작점</th>\n",
       "      <th>종점</th>\n",
       "      <th>기온 (℃)</th>\n",
       "      <th>습도 (%)</th>\n",
       "      <th>재비산먼지 평균농도(㎍/㎥)</th>\n",
       "      <th>오염범례</th>\n",
       "    </tr>\n",
       "  </thead>\n",
       "  <tbody>\n",
       "    <tr>\n",
       "      <th>385</th>\n",
       "      <td>2021-03-10</td>\n",
       "      <td>12:23</td>\n",
       "      <td>경기</td>\n",
       "      <td>양주시</td>\n",
       "      <td>회정로</td>\n",
       "      <td>경기도 양주시 회정동 203-1천</td>\n",
       "      <td>경기도 양주시 고암동 119도</td>\n",
       "      <td>13.0</td>\n",
       "      <td>45.487121</td>\n",
       "      <td>317</td>\n",
       "      <td>매우나쁨</td>\n",
       "    </tr>\n",
       "    <tr>\n",
       "      <th>408</th>\n",
       "      <td>2021-03-10</td>\n",
       "      <td>13:25</td>\n",
       "      <td>경기</td>\n",
       "      <td>수원시 팔달구</td>\n",
       "      <td>수성로</td>\n",
       "      <td>경기도 수원시 팔달구 화서동 360-1도</td>\n",
       "      <td>경기도 수원시 팔달구 화서동 360-1도</td>\n",
       "      <td>15.0</td>\n",
       "      <td>45.487121</td>\n",
       "      <td>173</td>\n",
       "      <td>나쁨</td>\n",
       "    </tr>\n",
       "    <tr>\n",
       "      <th>559</th>\n",
       "      <td>2021-03-15</td>\n",
       "      <td>11:52</td>\n",
       "      <td>경기</td>\n",
       "      <td>고양시 일산서구</td>\n",
       "      <td>월드고양로</td>\n",
       "      <td>경기도 고양시일산동구 장항동 1592 전</td>\n",
       "      <td>경기도 고양시일산서구 대화동 2732 도</td>\n",
       "      <td>14.0</td>\n",
       "      <td>45.487121</td>\n",
       "      <td>176</td>\n",
       "      <td>나쁨</td>\n",
       "    </tr>\n",
       "    <tr>\n",
       "      <th>618</th>\n",
       "      <td>2021-03-16</td>\n",
       "      <td>14:47</td>\n",
       "      <td>경기</td>\n",
       "      <td>의정부시</td>\n",
       "      <td>시민로</td>\n",
       "      <td>경기도 의정부시 의정부동 617도</td>\n",
       "      <td>경기도 의정부시 용현동 65-7도</td>\n",
       "      <td>14.0</td>\n",
       "      <td>45.487121</td>\n",
       "      <td>142</td>\n",
       "      <td>보통</td>\n",
       "    </tr>\n",
       "  </tbody>\n",
       "</table>\n",
       "</div>"
      ],
      "text/plain": [
       "           측정일자   측정시간  지역       지역명  ... 기온 (℃)     습도 (%) 재비산먼지 평균농도(㎍/㎥)  오염범례\n",
       "385  2021-03-10  12:23  경기       양주시  ...   13.0  45.487121             317  매우나쁨\n",
       "408  2021-03-10  13:25  경기   수원시 팔달구  ...   15.0  45.487121             173    나쁨\n",
       "559  2021-03-15  11:52  경기  고양시 일산서구  ...   14.0  45.487121             176    나쁨\n",
       "618  2021-03-16  14:47  경기      의정부시  ...   14.0  45.487121             142    보통\n",
       "\n",
       "[4 rows x 11 columns]"
      ]
     },
     "execution_count": 31,
     "metadata": {
      "tags": []
     },
     "output_type": "execute_result"
    }
   ],
   "source": [
    "df[df_old[\"습도 (%)\"].isnull()]"
   ]
  },
  {
   "cell_type": "code",
   "execution_count": null,
   "metadata": {
    "colab": {
     "base_uri": "https://localhost:8080/",
     "height": 390
    },
    "executionInfo": {
     "elapsed": 17592,
     "status": "ok",
     "timestamp": 1621352094800,
     "user": {
      "displayName": "KyeongRyong Lee",
      "photoUrl": "",
      "userId": "08575822710201651490"
     },
     "user_tz": -540
    },
    "id": "XtzOno2lst1O",
    "outputId": "235ce47f-2842-49bc-da52-366d1c5b3ef6"
   },
   "outputs": [
    {
     "data": {
      "text/html": [
       "<div>\n",
       "<style scoped>\n",
       "    .dataframe tbody tr th:only-of-type {\n",
       "        vertical-align: middle;\n",
       "    }\n",
       "\n",
       "    .dataframe tbody tr th {\n",
       "        vertical-align: top;\n",
       "    }\n",
       "\n",
       "    .dataframe thead th {\n",
       "        text-align: right;\n",
       "    }\n",
       "</style>\n",
       "<table border=\"1\" class=\"dataframe\">\n",
       "  <thead>\n",
       "    <tr style=\"text-align: right;\">\n",
       "      <th></th>\n",
       "      <th>측정일자</th>\n",
       "      <th>측정시간</th>\n",
       "      <th>지역</th>\n",
       "      <th>지역명</th>\n",
       "      <th>도로명</th>\n",
       "      <th>시작점</th>\n",
       "      <th>종점</th>\n",
       "      <th>기온 (℃)</th>\n",
       "      <th>습도 (%)</th>\n",
       "      <th>재비산먼지 평균농도(㎍/㎥)</th>\n",
       "      <th>오염범례</th>\n",
       "    </tr>\n",
       "  </thead>\n",
       "  <tbody>\n",
       "    <tr>\n",
       "      <th>3</th>\n",
       "      <td>2021-03-02</td>\n",
       "      <td>12:09</td>\n",
       "      <td>경기</td>\n",
       "      <td>안산시 단원구</td>\n",
       "      <td>해안로</td>\n",
       "      <td>경기도 안산시단원구 초지동 795 천</td>\n",
       "      <td>경기도 안산시단원구 성곡동 619-1도</td>\n",
       "      <td>13.488195</td>\n",
       "      <td>56.0</td>\n",
       "      <td>88</td>\n",
       "      <td>좋음</td>\n",
       "    </tr>\n",
       "    <tr>\n",
       "      <th>6</th>\n",
       "      <td>2021-03-02</td>\n",
       "      <td>12:53</td>\n",
       "      <td>경기</td>\n",
       "      <td>안산시 단원구</td>\n",
       "      <td>별망로</td>\n",
       "      <td>경기도 안산시단원구 성곡동 721도</td>\n",
       "      <td>경기도 안산시단원구 초지동 634도</td>\n",
       "      <td>13.488195</td>\n",
       "      <td>51.0</td>\n",
       "      <td>57</td>\n",
       "      <td>좋음</td>\n",
       "    </tr>\n",
       "    <tr>\n",
       "      <th>10</th>\n",
       "      <td>2021-03-02</td>\n",
       "      <td>15:15</td>\n",
       "      <td>경기</td>\n",
       "      <td>안산시 단원구</td>\n",
       "      <td>삼일로</td>\n",
       "      <td>경기도 안산시단원구 신길동 1375 도</td>\n",
       "      <td>경기도 안산시단원구 고잔동 570-2천</td>\n",
       "      <td>13.488195</td>\n",
       "      <td>46.0</td>\n",
       "      <td>116</td>\n",
       "      <td>보통</td>\n",
       "    </tr>\n",
       "    <tr>\n",
       "      <th>24</th>\n",
       "      <td>2021-03-02</td>\n",
       "      <td>13:37</td>\n",
       "      <td>경기</td>\n",
       "      <td>수원시 팔달구</td>\n",
       "      <td>중부대로</td>\n",
       "      <td>경기도 수원시 팔달구 중동 153도</td>\n",
       "      <td>경기도 수원시 팔달구 우만동 447도</td>\n",
       "      <td>13.488195</td>\n",
       "      <td>62.0</td>\n",
       "      <td>17</td>\n",
       "      <td>매우좋음</td>\n",
       "    </tr>\n",
       "    <tr>\n",
       "      <th>39</th>\n",
       "      <td>2021-03-02</td>\n",
       "      <td>13:43</td>\n",
       "      <td>경기</td>\n",
       "      <td>고양시 덕양구</td>\n",
       "      <td>백양로</td>\n",
       "      <td>경기도 고양시덕양구 화정동 1068도</td>\n",
       "      <td>경기도 고양시덕양구 화정동 1152도</td>\n",
       "      <td>13.488195</td>\n",
       "      <td>59.0</td>\n",
       "      <td>831</td>\n",
       "      <td>매우나쁨</td>\n",
       "    </tr>\n",
       "    <tr>\n",
       "      <th>64</th>\n",
       "      <td>2021-03-03</td>\n",
       "      <td>14:55</td>\n",
       "      <td>경기</td>\n",
       "      <td>안산시 단원구</td>\n",
       "      <td>선부로</td>\n",
       "      <td>경기도 안산시단원구 선부동 1158-7도</td>\n",
       "      <td>경기도 안산시단원구 와동 268-1도</td>\n",
       "      <td>13.488195</td>\n",
       "      <td>44.0</td>\n",
       "      <td>181</td>\n",
       "      <td>나쁨</td>\n",
       "    </tr>\n",
       "    <tr>\n",
       "      <th>116</th>\n",
       "      <td>2021-03-03</td>\n",
       "      <td>14:17</td>\n",
       "      <td>인천</td>\n",
       "      <td>서구</td>\n",
       "      <td>북항로207번길</td>\n",
       "      <td>인천광역시 서구 원창동 485-1 도</td>\n",
       "      <td>인천광역시 서구 원창동 485-3 도</td>\n",
       "      <td>13.488195</td>\n",
       "      <td>69.0</td>\n",
       "      <td>253</td>\n",
       "      <td>매우나쁨</td>\n",
       "    </tr>\n",
       "    <tr>\n",
       "      <th>132</th>\n",
       "      <td>2021-03-04</td>\n",
       "      <td>13:01</td>\n",
       "      <td>경기</td>\n",
       "      <td>안산시 단원구</td>\n",
       "      <td>와동공원로</td>\n",
       "      <td>경기도 안산시단원구 와동 863도</td>\n",
       "      <td>경기도 안산시단원구 선부동 1158-12도</td>\n",
       "      <td>13.488195</td>\n",
       "      <td>49.0</td>\n",
       "      <td>250</td>\n",
       "      <td>매우나쁨</td>\n",
       "    </tr>\n",
       "    <tr>\n",
       "      <th>146</th>\n",
       "      <td>2021-03-04</td>\n",
       "      <td>12:50</td>\n",
       "      <td>경기</td>\n",
       "      <td>수원시 권선구</td>\n",
       "      <td>매실로</td>\n",
       "      <td>경기도 수원시 권선구 호매실동 36-11 답</td>\n",
       "      <td>경기도 수원시 권선구 호매실동 471-3임</td>\n",
       "      <td>13.488195</td>\n",
       "      <td>55.0</td>\n",
       "      <td>90</td>\n",
       "      <td>좋음</td>\n",
       "    </tr>\n",
       "    <tr>\n",
       "      <th>274</th>\n",
       "      <td>2021-03-08</td>\n",
       "      <td>12:44</td>\n",
       "      <td>경기</td>\n",
       "      <td>수원시 영통구</td>\n",
       "      <td>센트럴파크로</td>\n",
       "      <td>경기도 수원시 영통구 이의동 1379-5도</td>\n",
       "      <td>경기도 수원시 영통구 하동 1044-2도</td>\n",
       "      <td>13.488195</td>\n",
       "      <td>57.0</td>\n",
       "      <td>22</td>\n",
       "      <td>매우좋음</td>\n",
       "    </tr>\n",
       "    <tr>\n",
       "      <th>373</th>\n",
       "      <td>2021-03-10</td>\n",
       "      <td>9:27</td>\n",
       "      <td>울산</td>\n",
       "      <td>울주군</td>\n",
       "      <td>원봉로</td>\n",
       "      <td>울산광역시 울주군 온산읍 원산리 839-1도</td>\n",
       "      <td>울산광역시 울주군 온산읍 당월리 309도</td>\n",
       "      <td>13.488195</td>\n",
       "      <td>52.0</td>\n",
       "      <td>536</td>\n",
       "      <td>매우나쁨</td>\n",
       "    </tr>\n",
       "  </tbody>\n",
       "</table>\n",
       "</div>"
      ],
      "text/plain": [
       "           측정일자   측정시간  지역      지역명  ...     기온 (℃) 습도 (%) 재비산먼지 평균농도(㎍/㎥)  오염범례\n",
       "3    2021-03-02  12:09  경기  안산시 단원구  ...  13.488195   56.0              88    좋음\n",
       "6    2021-03-02  12:53  경기  안산시 단원구  ...  13.488195   51.0              57    좋음\n",
       "10   2021-03-02  15:15  경기  안산시 단원구  ...  13.488195   46.0             116    보통\n",
       "24   2021-03-02  13:37  경기  수원시 팔달구  ...  13.488195   62.0              17  매우좋음\n",
       "39   2021-03-02  13:43  경기  고양시 덕양구  ...  13.488195   59.0             831  매우나쁨\n",
       "64   2021-03-03  14:55  경기  안산시 단원구  ...  13.488195   44.0             181    나쁨\n",
       "116  2021-03-03  14:17  인천       서구  ...  13.488195   69.0             253  매우나쁨\n",
       "132  2021-03-04  13:01  경기  안산시 단원구  ...  13.488195   49.0             250  매우나쁨\n",
       "146  2021-03-04  12:50  경기  수원시 권선구  ...  13.488195   55.0              90    좋음\n",
       "274  2021-03-08  12:44  경기  수원시 영통구  ...  13.488195   57.0              22  매우좋음\n",
       "373  2021-03-10   9:27  울산      울주군  ...  13.488195   52.0             536  매우나쁨\n",
       "\n",
       "[11 rows x 11 columns]"
      ]
     },
     "execution_count": 32,
     "metadata": {
      "tags": []
     },
     "output_type": "execute_result"
    }
   ],
   "source": [
    "df[df_old[\"기온 (℃)\"].isnull()]"
   ]
  },
  {
   "cell_type": "markdown",
   "metadata": {
    "id": "aSQcrSfrLUGY"
   },
   "source": [
    "아래와 같이 코드를 작성할 수도 있다. "
   ]
  },
  {
   "cell_type": "code",
   "execution_count": null,
   "metadata": {
    "colab": {
     "base_uri": "https://localhost:8080/",
     "height": 586
    },
    "executionInfo": {
     "elapsed": 608,
     "status": "ok",
     "timestamp": 1621387565901,
     "user": {
      "displayName": "HJ Kim",
      "photoUrl": "",
      "userId": "16634276932240017990"
     },
     "user_tz": -540
    },
    "id": "9uu8J8sALepL",
    "outputId": "faa14eb9-6f5e-4826-9c03-a69d998a99e1"
   },
   "outputs": [
    {
     "data": {
      "text/html": [
       "<div>\n",
       "<style scoped>\n",
       "    .dataframe tbody tr th:only-of-type {\n",
       "        vertical-align: middle;\n",
       "    }\n",
       "\n",
       "    .dataframe tbody tr th {\n",
       "        vertical-align: top;\n",
       "    }\n",
       "\n",
       "    .dataframe thead th {\n",
       "        text-align: right;\n",
       "    }\n",
       "</style>\n",
       "<table border=\"1\" class=\"dataframe\">\n",
       "  <thead>\n",
       "    <tr style=\"text-align: right;\">\n",
       "      <th></th>\n",
       "      <th>측정일자</th>\n",
       "      <th>측정시간</th>\n",
       "      <th>지역</th>\n",
       "      <th>지역명</th>\n",
       "      <th>도로명</th>\n",
       "      <th>시작점</th>\n",
       "      <th>종점</th>\n",
       "      <th>기온 (℃)</th>\n",
       "      <th>습도 (%)</th>\n",
       "      <th>재비산먼지 평균농도(㎍/㎥)</th>\n",
       "      <th>오염범례</th>\n",
       "    </tr>\n",
       "  </thead>\n",
       "  <tbody>\n",
       "    <tr>\n",
       "      <th>0</th>\n",
       "      <td>2021-03-02</td>\n",
       "      <td>11:07</td>\n",
       "      <td>경기</td>\n",
       "      <td>안산시 상록구</td>\n",
       "      <td>성호로</td>\n",
       "      <td>경기도 안산시상록구 일동 634도</td>\n",
       "      <td>경기도 안산시상록구 부곡동 598도</td>\n",
       "      <td>5.000000</td>\n",
       "      <td>63.0</td>\n",
       "      <td>324</td>\n",
       "      <td>매우나쁨</td>\n",
       "    </tr>\n",
       "    <tr>\n",
       "      <th>1</th>\n",
       "      <td>2021-03-02</td>\n",
       "      <td>11:27</td>\n",
       "      <td>경기</td>\n",
       "      <td>안산시 상록구</td>\n",
       "      <td>충장로</td>\n",
       "      <td>경기도 안산시상록구 부곡동 739-21도</td>\n",
       "      <td>경기도 안산시상록구 본오동 1158도</td>\n",
       "      <td>4.000000</td>\n",
       "      <td>61.0</td>\n",
       "      <td>230</td>\n",
       "      <td>매우나쁨</td>\n",
       "    </tr>\n",
       "    <tr>\n",
       "      <th>2</th>\n",
       "      <td>2021-03-02</td>\n",
       "      <td>11:54</td>\n",
       "      <td>경기</td>\n",
       "      <td>안산시 상록구</td>\n",
       "      <td>해안로</td>\n",
       "      <td>경기도 안산시상록구 팔곡일동 557-3도</td>\n",
       "      <td>경기도 안산시상록구 사동 1634 천</td>\n",
       "      <td>5.000000</td>\n",
       "      <td>59.0</td>\n",
       "      <td>80</td>\n",
       "      <td>좋음</td>\n",
       "    </tr>\n",
       "    <tr>\n",
       "      <th>3</th>\n",
       "      <td>2021-03-02</td>\n",
       "      <td>12:09</td>\n",
       "      <td>경기</td>\n",
       "      <td>안산시 단원구</td>\n",
       "      <td>해안로</td>\n",
       "      <td>경기도 안산시단원구 초지동 795 천</td>\n",
       "      <td>경기도 안산시단원구 성곡동 619-1도</td>\n",
       "      <td>13.488195</td>\n",
       "      <td>56.0</td>\n",
       "      <td>88</td>\n",
       "      <td>좋음</td>\n",
       "    </tr>\n",
       "    <tr>\n",
       "      <th>4</th>\n",
       "      <td>2021-03-02</td>\n",
       "      <td>12:22</td>\n",
       "      <td>경기</td>\n",
       "      <td>안산시 단원구</td>\n",
       "      <td>첨단로</td>\n",
       "      <td>경기도 안산시단원구 초지동 660-10도</td>\n",
       "      <td>경기도 안산시단원구 성곡동 780천</td>\n",
       "      <td>5.000000</td>\n",
       "      <td>54.0</td>\n",
       "      <td>178</td>\n",
       "      <td>나쁨</td>\n",
       "    </tr>\n",
       "    <tr>\n",
       "      <th>...</th>\n",
       "      <td>...</td>\n",
       "      <td>...</td>\n",
       "      <td>...</td>\n",
       "      <td>...</td>\n",
       "      <td>...</td>\n",
       "      <td>...</td>\n",
       "      <td>...</td>\n",
       "      <td>...</td>\n",
       "      <td>...</td>\n",
       "      <td>...</td>\n",
       "      <td>...</td>\n",
       "    </tr>\n",
       "    <tr>\n",
       "      <th>1319</th>\n",
       "      <td>2021-03-31</td>\n",
       "      <td>13:16</td>\n",
       "      <td>경기</td>\n",
       "      <td>용인시 기흥구</td>\n",
       "      <td>흥덕2로</td>\n",
       "      <td>경기도 용인시기흥구 영덕동 1202천</td>\n",
       "      <td>경기도 용인시기흥구 영덕동 889도</td>\n",
       "      <td>21.000000</td>\n",
       "      <td>22.0</td>\n",
       "      <td>155</td>\n",
       "      <td>나쁨</td>\n",
       "    </tr>\n",
       "    <tr>\n",
       "      <th>1320</th>\n",
       "      <td>2021-03-31</td>\n",
       "      <td>13:56</td>\n",
       "      <td>경기</td>\n",
       "      <td>용인시 기흥구</td>\n",
       "      <td>흥덕1로</td>\n",
       "      <td>경기도 용인시기흥구 영덕동 1152도</td>\n",
       "      <td>경기도 용인시기흥구 영덕동 1144도</td>\n",
       "      <td>24.000000</td>\n",
       "      <td>16.0</td>\n",
       "      <td>114</td>\n",
       "      <td>보통</td>\n",
       "    </tr>\n",
       "    <tr>\n",
       "      <th>1321</th>\n",
       "      <td>2021-03-31</td>\n",
       "      <td>14:02</td>\n",
       "      <td>경기</td>\n",
       "      <td>용인시 기흥구</td>\n",
       "      <td>중부대로</td>\n",
       "      <td>경기도 용인시기흥구 영덕동 889도</td>\n",
       "      <td>경기도 용인시기흥구 상하동 산 46-107도</td>\n",
       "      <td>22.000000</td>\n",
       "      <td>18.0</td>\n",
       "      <td>187</td>\n",
       "      <td>나쁨</td>\n",
       "    </tr>\n",
       "    <tr>\n",
       "      <th>1322</th>\n",
       "      <td>2021-03-31</td>\n",
       "      <td>14:36</td>\n",
       "      <td>경기</td>\n",
       "      <td>용인시 기흥구</td>\n",
       "      <td>한보라1로</td>\n",
       "      <td>경기도 용인시기흥구 보라동 636-1 도</td>\n",
       "      <td>경기도 용인시기흥구 공세동 690도</td>\n",
       "      <td>23.000000</td>\n",
       "      <td>17.0</td>\n",
       "      <td>57</td>\n",
       "      <td>좋음</td>\n",
       "    </tr>\n",
       "    <tr>\n",
       "      <th>1323</th>\n",
       "      <td>2021-03-31</td>\n",
       "      <td>14:49</td>\n",
       "      <td>경기</td>\n",
       "      <td>용인시 기흥구</td>\n",
       "      <td>탑실로</td>\n",
       "      <td>경기도 용인시기흥구 공세동 731 도</td>\n",
       "      <td>경기도 용인시기흥구 공세동 307-27답</td>\n",
       "      <td>22.000000</td>\n",
       "      <td>17.0</td>\n",
       "      <td>73</td>\n",
       "      <td>좋음</td>\n",
       "    </tr>\n",
       "  </tbody>\n",
       "</table>\n",
       "<p>1324 rows × 11 columns</p>\n",
       "</div>"
      ],
      "text/plain": [
       "            측정일자   측정시간  지역      지역명  ...     기온 (℃) 습도 (%) 재비산먼지 평균농도(㎍/㎥)  오염범례\n",
       "0     2021-03-02  11:07  경기  안산시 상록구  ...   5.000000   63.0             324  매우나쁨\n",
       "1     2021-03-02  11:27  경기  안산시 상록구  ...   4.000000   61.0             230  매우나쁨\n",
       "2     2021-03-02  11:54  경기  안산시 상록구  ...   5.000000   59.0              80    좋음\n",
       "3     2021-03-02  12:09  경기  안산시 단원구  ...  13.488195   56.0              88    좋음\n",
       "4     2021-03-02  12:22  경기  안산시 단원구  ...   5.000000   54.0             178    나쁨\n",
       "...          ...    ...  ..      ...  ...        ...    ...             ...   ...\n",
       "1319  2021-03-31  13:16  경기  용인시 기흥구  ...  21.000000   22.0             155    나쁨\n",
       "1320  2021-03-31  13:56  경기  용인시 기흥구  ...  24.000000   16.0             114    보통\n",
       "1321  2021-03-31  14:02  경기  용인시 기흥구  ...  22.000000   18.0             187    나쁨\n",
       "1322  2021-03-31  14:36  경기  용인시 기흥구  ...  23.000000   17.0              57    좋음\n",
       "1323  2021-03-31  14:49  경기  용인시 기흥구  ...  22.000000   17.0              73    좋음\n",
       "\n",
       "[1324 rows x 11 columns]"
      ]
     },
     "execution_count": 93,
     "metadata": {
      "tags": []
     },
     "output_type": "execute_result"
    }
   ],
   "source": [
    "df = df.fillna(df.mean())\n",
    "df"
   ]
  },
  {
   "cell_type": "markdown",
   "metadata": {
    "id": "Iq13dbsVO8_f"
   },
   "source": [
    "딕셔너리로 만들어 볼 수도 있다."
   ]
  },
  {
   "cell_type": "code",
   "execution_count": null,
   "metadata": {
    "colab": {
     "base_uri": "https://localhost:8080/"
    },
    "executionInfo": {
     "elapsed": 599,
     "status": "ok",
     "timestamp": 1621386609611,
     "user": {
      "displayName": "HJ Kim",
      "photoUrl": "",
      "userId": "16634276932240017990"
     },
     "user_tz": -540
    },
    "id": "IhC6n7CNKiiE",
    "outputId": "c93128af-ce0c-4623-f86f-fd686918fce5"
   },
   "outputs": [
    {
     "data": {
      "text/plain": [
       "{'기온 (℃)': 13.488194973343488, '습도 (%)': 45.48712121212121}"
      ]
     },
     "execution_count": 56,
     "metadata": {
      "tags": []
     },
     "output_type": "execute_result"
    }
   ],
   "source": [
    "values = {'기온 (℃)' : df['기온 (℃)'].mean(), '습도 (%)' : df['습도 (%)'].mean()}\n",
    "values"
   ]
  },
  {
   "cell_type": "code",
   "execution_count": null,
   "metadata": {
    "colab": {
     "base_uri": "https://localhost:8080/",
     "height": 586
    },
    "executionInfo": {
     "elapsed": 690,
     "status": "ok",
     "timestamp": 1621386650485,
     "user": {
      "displayName": "HJ Kim",
      "photoUrl": "",
      "userId": "16634276932240017990"
     },
     "user_tz": -540
    },
    "id": "ybV7yhMYLJIF",
    "outputId": "70d919fa-adb9-4252-a62f-827a41492203"
   },
   "outputs": [
    {
     "data": {
      "text/html": [
       "<div>\n",
       "<style scoped>\n",
       "    .dataframe tbody tr th:only-of-type {\n",
       "        vertical-align: middle;\n",
       "    }\n",
       "\n",
       "    .dataframe tbody tr th {\n",
       "        vertical-align: top;\n",
       "    }\n",
       "\n",
       "    .dataframe thead th {\n",
       "        text-align: right;\n",
       "    }\n",
       "</style>\n",
       "<table border=\"1\" class=\"dataframe\">\n",
       "  <thead>\n",
       "    <tr style=\"text-align: right;\">\n",
       "      <th></th>\n",
       "      <th>측정일자</th>\n",
       "      <th>측정시간</th>\n",
       "      <th>지역</th>\n",
       "      <th>지역명</th>\n",
       "      <th>도로명</th>\n",
       "      <th>시작점</th>\n",
       "      <th>종점</th>\n",
       "      <th>기온 (℃)</th>\n",
       "      <th>습도 (%)</th>\n",
       "      <th>재비산먼지 평균농도(㎍/㎥)</th>\n",
       "      <th>오염범례</th>\n",
       "    </tr>\n",
       "  </thead>\n",
       "  <tbody>\n",
       "    <tr>\n",
       "      <th>0</th>\n",
       "      <td>2021-03-02</td>\n",
       "      <td>11:07</td>\n",
       "      <td>경기</td>\n",
       "      <td>안산시 상록구</td>\n",
       "      <td>성호로</td>\n",
       "      <td>경기도 안산시상록구 일동 634도</td>\n",
       "      <td>경기도 안산시상록구 부곡동 598도</td>\n",
       "      <td>5.000000</td>\n",
       "      <td>63.0</td>\n",
       "      <td>324</td>\n",
       "      <td>매우나쁨</td>\n",
       "    </tr>\n",
       "    <tr>\n",
       "      <th>1</th>\n",
       "      <td>2021-03-02</td>\n",
       "      <td>11:27</td>\n",
       "      <td>경기</td>\n",
       "      <td>안산시 상록구</td>\n",
       "      <td>충장로</td>\n",
       "      <td>경기도 안산시상록구 부곡동 739-21도</td>\n",
       "      <td>경기도 안산시상록구 본오동 1158도</td>\n",
       "      <td>4.000000</td>\n",
       "      <td>61.0</td>\n",
       "      <td>230</td>\n",
       "      <td>매우나쁨</td>\n",
       "    </tr>\n",
       "    <tr>\n",
       "      <th>2</th>\n",
       "      <td>2021-03-02</td>\n",
       "      <td>11:54</td>\n",
       "      <td>경기</td>\n",
       "      <td>안산시 상록구</td>\n",
       "      <td>해안로</td>\n",
       "      <td>경기도 안산시상록구 팔곡일동 557-3도</td>\n",
       "      <td>경기도 안산시상록구 사동 1634 천</td>\n",
       "      <td>5.000000</td>\n",
       "      <td>59.0</td>\n",
       "      <td>80</td>\n",
       "      <td>좋음</td>\n",
       "    </tr>\n",
       "    <tr>\n",
       "      <th>3</th>\n",
       "      <td>2021-03-02</td>\n",
       "      <td>12:09</td>\n",
       "      <td>경기</td>\n",
       "      <td>안산시 단원구</td>\n",
       "      <td>해안로</td>\n",
       "      <td>경기도 안산시단원구 초지동 795 천</td>\n",
       "      <td>경기도 안산시단원구 성곡동 619-1도</td>\n",
       "      <td>13.488195</td>\n",
       "      <td>56.0</td>\n",
       "      <td>88</td>\n",
       "      <td>좋음</td>\n",
       "    </tr>\n",
       "    <tr>\n",
       "      <th>4</th>\n",
       "      <td>2021-03-02</td>\n",
       "      <td>12:22</td>\n",
       "      <td>경기</td>\n",
       "      <td>안산시 단원구</td>\n",
       "      <td>첨단로</td>\n",
       "      <td>경기도 안산시단원구 초지동 660-10도</td>\n",
       "      <td>경기도 안산시단원구 성곡동 780천</td>\n",
       "      <td>5.000000</td>\n",
       "      <td>54.0</td>\n",
       "      <td>178</td>\n",
       "      <td>나쁨</td>\n",
       "    </tr>\n",
       "    <tr>\n",
       "      <th>...</th>\n",
       "      <td>...</td>\n",
       "      <td>...</td>\n",
       "      <td>...</td>\n",
       "      <td>...</td>\n",
       "      <td>...</td>\n",
       "      <td>...</td>\n",
       "      <td>...</td>\n",
       "      <td>...</td>\n",
       "      <td>...</td>\n",
       "      <td>...</td>\n",
       "      <td>...</td>\n",
       "    </tr>\n",
       "    <tr>\n",
       "      <th>1319</th>\n",
       "      <td>2021-03-31</td>\n",
       "      <td>13:16</td>\n",
       "      <td>경기</td>\n",
       "      <td>용인시 기흥구</td>\n",
       "      <td>흥덕2로</td>\n",
       "      <td>경기도 용인시기흥구 영덕동 1202천</td>\n",
       "      <td>경기도 용인시기흥구 영덕동 889도</td>\n",
       "      <td>21.000000</td>\n",
       "      <td>22.0</td>\n",
       "      <td>155</td>\n",
       "      <td>나쁨</td>\n",
       "    </tr>\n",
       "    <tr>\n",
       "      <th>1320</th>\n",
       "      <td>2021-03-31</td>\n",
       "      <td>13:56</td>\n",
       "      <td>경기</td>\n",
       "      <td>용인시 기흥구</td>\n",
       "      <td>흥덕1로</td>\n",
       "      <td>경기도 용인시기흥구 영덕동 1152도</td>\n",
       "      <td>경기도 용인시기흥구 영덕동 1144도</td>\n",
       "      <td>24.000000</td>\n",
       "      <td>16.0</td>\n",
       "      <td>114</td>\n",
       "      <td>보통</td>\n",
       "    </tr>\n",
       "    <tr>\n",
       "      <th>1321</th>\n",
       "      <td>2021-03-31</td>\n",
       "      <td>14:02</td>\n",
       "      <td>경기</td>\n",
       "      <td>용인시 기흥구</td>\n",
       "      <td>중부대로</td>\n",
       "      <td>경기도 용인시기흥구 영덕동 889도</td>\n",
       "      <td>경기도 용인시기흥구 상하동 산 46-107도</td>\n",
       "      <td>22.000000</td>\n",
       "      <td>18.0</td>\n",
       "      <td>187</td>\n",
       "      <td>나쁨</td>\n",
       "    </tr>\n",
       "    <tr>\n",
       "      <th>1322</th>\n",
       "      <td>2021-03-31</td>\n",
       "      <td>14:36</td>\n",
       "      <td>경기</td>\n",
       "      <td>용인시 기흥구</td>\n",
       "      <td>한보라1로</td>\n",
       "      <td>경기도 용인시기흥구 보라동 636-1 도</td>\n",
       "      <td>경기도 용인시기흥구 공세동 690도</td>\n",
       "      <td>23.000000</td>\n",
       "      <td>17.0</td>\n",
       "      <td>57</td>\n",
       "      <td>좋음</td>\n",
       "    </tr>\n",
       "    <tr>\n",
       "      <th>1323</th>\n",
       "      <td>2021-03-31</td>\n",
       "      <td>14:49</td>\n",
       "      <td>경기</td>\n",
       "      <td>용인시 기흥구</td>\n",
       "      <td>탑실로</td>\n",
       "      <td>경기도 용인시기흥구 공세동 731 도</td>\n",
       "      <td>경기도 용인시기흥구 공세동 307-27답</td>\n",
       "      <td>22.000000</td>\n",
       "      <td>17.0</td>\n",
       "      <td>73</td>\n",
       "      <td>좋음</td>\n",
       "    </tr>\n",
       "  </tbody>\n",
       "</table>\n",
       "<p>1324 rows × 11 columns</p>\n",
       "</div>"
      ],
      "text/plain": [
       "            측정일자   측정시간  지역      지역명  ...     기온 (℃) 습도 (%) 재비산먼지 평균농도(㎍/㎥)  오염범례\n",
       "0     2021-03-02  11:07  경기  안산시 상록구  ...   5.000000   63.0             324  매우나쁨\n",
       "1     2021-03-02  11:27  경기  안산시 상록구  ...   4.000000   61.0             230  매우나쁨\n",
       "2     2021-03-02  11:54  경기  안산시 상록구  ...   5.000000   59.0              80    좋음\n",
       "3     2021-03-02  12:09  경기  안산시 단원구  ...  13.488195   56.0              88    좋음\n",
       "4     2021-03-02  12:22  경기  안산시 단원구  ...   5.000000   54.0             178    나쁨\n",
       "...          ...    ...  ..      ...  ...        ...    ...             ...   ...\n",
       "1319  2021-03-31  13:16  경기  용인시 기흥구  ...  21.000000   22.0             155    나쁨\n",
       "1320  2021-03-31  13:56  경기  용인시 기흥구  ...  24.000000   16.0             114    보통\n",
       "1321  2021-03-31  14:02  경기  용인시 기흥구  ...  22.000000   18.0             187    나쁨\n",
       "1322  2021-03-31  14:36  경기  용인시 기흥구  ...  23.000000   17.0              57    좋음\n",
       "1323  2021-03-31  14:49  경기  용인시 기흥구  ...  22.000000   17.0              73    좋음\n",
       "\n",
       "[1324 rows x 11 columns]"
      ]
     },
     "execution_count": 57,
     "metadata": {
      "tags": []
     },
     "output_type": "execute_result"
    }
   ],
   "source": [
    "df = df.fillna(value = values)\n",
    "df"
   ]
  },
  {
   "cell_type": "markdown",
   "metadata": {
    "id": "WepzIUgs6hwh"
   },
   "source": [
    "7) `df`에 있는 서울시 데이터로 기온과 습도의 산점도를 그려라. 이때, 각 점의 크기는 재비산먼지에 따라 다르게 한다. "
   ]
  },
  {
   "cell_type": "markdown",
   "metadata": {
    "id": "vOfwm8JxtzXA"
   },
   "source": [
    "산점도는 `plt.scatter()` 함수로 그릴 수 있다. 여기서 점의 크기가 너무 커져서 `20`으로 나누어주었다. "
   ]
  },
  {
   "cell_type": "code",
   "execution_count": null,
   "metadata": {
    "colab": {
     "base_uri": "https://localhost:8080/",
     "height": 265
    },
    "executionInfo": {
     "elapsed": 17580,
     "status": "ok",
     "timestamp": 1621352094801,
     "user": {
      "displayName": "KyeongRyong Lee",
      "photoUrl": "",
      "userId": "08575822710201651490"
     },
     "user_tz": -540
    },
    "id": "o_G1q8VbtUo9",
    "outputId": "bf8ebaca-811f-49f5-b894-4e5b26206230"
   },
   "outputs": [
    {
     "data": {
      "image/png": "[encoded data removed]",
      "text/plain": [
       "<Figure size 432x288 with 1 Axes>"
      ]
     },
     "metadata": {
      "needs_background": "light",
      "tags": []
     },
     "output_type": "display_data"
    }
   ],
   "source": [
    "col_x = \"기온 (℃)\"\n",
    "col_y = \"습도 (%)\"\n",
    "col_size = \"재비산먼지 평균농도(㎍/㎥)\"\n",
    "\n",
    "plt.scatter(df[col_x], df[col_y], s=df[col_size] / 20)\n",
    "plt.show()"
   ]
  },
  {
   "cell_type": "markdown",
   "metadata": {
    "id": "KkzV13BfuF_b"
   },
   "source": [
    "이 그래프 또한 정보를 더 표시할 수 있다. "
   ]
  },
  {
   "cell_type": "code",
   "execution_count": null,
   "metadata": {
    "colab": {
     "base_uri": "https://localhost:8080/",
     "height": 294
    },
    "executionInfo": {
     "elapsed": 17568,
     "status": "ok",
     "timestamp": 1621352094802,
     "user": {
      "displayName": "KyeongRyong Lee",
      "photoUrl": "",
      "userId": "08575822710201651490"
     },
     "user_tz": -540
    },
    "id": "9XomfGbGuE7m",
    "outputId": "1c3bbcb4-e4e8-43f9-b9a4-7f9b187bb5a6"
   },
   "outputs": [
    {
     "data": {
      "image/png": "[encoded data removed]",
      "text/plain": [
       "<Figure size 432x288 with 1 Axes>"
      ]
     },
     "metadata": {
      "needs_background": "light",
      "tags": []
     },
     "output_type": "display_data"
    }
   ],
   "source": [
    "col_x = \"기온 (℃)\"\n",
    "col_y = \"습도 (%)\"\n",
    "col_size = \"재비산먼지 평균농도(㎍/㎥)\"\n",
    "\n",
    "plt.scatter(df[col_x], df[col_y], s=df[col_size] / 20)\n",
    "plt.title(\"기온과 습도, 그리고 재비산먼지의 관계\")\n",
    "plt.xlabel(col_x)\n",
    "plt.ylabel(col_y)\n",
    "\n",
    "plt.show()"
   ]
  },
  {
   "cell_type": "markdown",
   "metadata": {
    "id": "iDzpAWGFF0CC"
   },
   "source": [
    "연습을 더 하고 싶다면, 아래의 문제를 풀어보세요!  "
   ]
  },
  {
   "cell_type": "markdown",
   "metadata": {
    "id": "qKzgDbzQNQ7B"
   },
   "source": [
    "**[추가문제1] 아래의 질문에 답하여라.**\n",
    "\n",
    "1) 원 그래프를 그려라.     \n",
    "* 문제1)에서 만든 데이터프레임 `df_covid`을 이용한다.\n",
    "* 관악구와 관악구가 아닌 지역으로만 구분한다.\n",
    "* 관악구 조각은 돌출되게 만들고, 다른 색으로 표시하여 잘 보이도록 한다. \n"
   ]
  },
  {
   "cell_type": "markdown",
   "metadata": {
    "id": "c_QI9zV8x7XR"
   },
   "source": [
    "`df_covid`의 정보를 이용하여 지역별 확진자수를 원 그래프로 그려보도록 한다.  \n",
    "  \n",
    "관악구 지역만 다른 색깔과 돌출된 특징을 부여하기 위하여 두개의 시리즈를 만들고, 관악구 지역만 특별히 다른 값을 부여하여 사용한다. 색깔은 `colors` 인자에, 돌출값은 `explode` 인자를 통해 전달되었다. "
   ]
  },
  {
   "cell_type": "code",
   "execution_count": null,
   "metadata": {
    "colab": {
     "base_uri": "https://localhost:8080/",
     "height": 542
    },
    "executionInfo": {
     "elapsed": 18249,
     "status": "ok",
     "timestamp": 1621352095496,
     "user": {
      "displayName": "KyeongRyong Lee",
      "photoUrl": "",
      "userId": "08575822710201651490"
     },
     "user_tz": -540
    },
    "id": "hfPrvoO7unVz",
    "outputId": "320df11d-88f0-4c6c-b98f-613d3485fcfd"
   },
   "outputs": [
    {
     "data": {
      "image/png": "[encoded data removed]",
      "text/plain": [
       "<Figure size 1152x648 with 1 Axes>"
      ]
     },
     "metadata": {
      "tags": []
     },
     "output_type": "display_data"
    }
   ],
   "source": [
    "covid_per_area = df_covid[\"지역\"].value_counts()\n",
    "\n",
    "fig = plt.figure(figsize=(16, 9))\n",
    "\n",
    "# 색깔\n",
    "colors = pd.Series(\"gray\", index=covid_per_area.index)\n",
    "colors[\"관악구\"] = \"red\"\n",
    "\n",
    "# 돌출\n",
    "explode = pd.Series(0.0, index=covid_per_area.index)\n",
    "explode[\"관악구\"] = 0.2\n",
    "\n",
    "plt.pie(covid_per_area, labels=covid_per_area.index, \n",
    "        autopct = '%.2f%%', pctdistance=0.8, \n",
    "        colors=colors, explode=explode, radius=0.8)\n",
    "\n",
    "plt.title(\"지역별 확진자수\", fontsize=20)\n",
    "plt.legend(covid_per_area.index, loc=(1, 0.1))\n",
    "\n",
    "plt.show()"
   ]
  },
  {
   "cell_type": "markdown",
   "metadata": {
    "id": "GhCBQCu9f2hF"
   },
   "source": [
    "**[추가문제2] 아래의 질문에 답하여라.**\n",
    "\n",
    "`seaborn` 모듈은 파이썬 데이터 시각화 모듈로, 그래프를 그리는 연습을 할 수 있도록 여러 데이터셋도 제공한다. `iris`에는 붓꽃 유형과 꽃잎과 꽃받침의 길이와 너비 정보가 담겨져 있다.   \n",
    "\n",
    "1) 아래의 코드를 사용하여, 데이터프레임 `iris`를 만들어라.   \n",
    "(여기서는 아래의 코드를 복사하여 붙여넣기 하면 된다.)\n",
    "\n",
    "```\n",
    "import seaborn as sns\n",
    "iris = sns.load_dataset('iris')  #iris을 가져오는 코드\n",
    "```\n"
   ]
  },
  {
   "cell_type": "code",
   "execution_count": null,
   "metadata": {
    "id": "V-pHSpNfx9SB"
   },
   "outputs": [],
   "source": [
    "import seaborn as sns\n",
    "iris = sns.load_dataset('iris')  #iris을 가져오는 코드"
   ]
  },
  {
   "cell_type": "code",
   "execution_count": null,
   "metadata": {
    "colab": {
     "base_uri": "https://localhost:8080/",
     "height": 419
    },
    "executionInfo": {
     "elapsed": 19547,
     "status": "ok",
     "timestamp": 1621352096808,
     "user": {
      "displayName": "KyeongRyong Lee",
      "photoUrl": "",
      "userId": "08575822710201651490"
     },
     "user_tz": -540
    },
    "id": "S3QsVZrRx_Qg",
    "outputId": "37801b50-10f3-4f35-8898-07e407211464"
   },
   "outputs": [
    {
     "data": {
      "text/html": [
       "<div>\n",
       "<style scoped>\n",
       "    .dataframe tbody tr th:only-of-type {\n",
       "        vertical-align: middle;\n",
       "    }\n",
       "\n",
       "    .dataframe tbody tr th {\n",
       "        vertical-align: top;\n",
       "    }\n",
       "\n",
       "    .dataframe thead th {\n",
       "        text-align: right;\n",
       "    }\n",
       "</style>\n",
       "<table border=\"1\" class=\"dataframe\">\n",
       "  <thead>\n",
       "    <tr style=\"text-align: right;\">\n",
       "      <th></th>\n",
       "      <th>sepal_length</th>\n",
       "      <th>sepal_width</th>\n",
       "      <th>petal_length</th>\n",
       "      <th>petal_width</th>\n",
       "      <th>species</th>\n",
       "    </tr>\n",
       "  </thead>\n",
       "  <tbody>\n",
       "    <tr>\n",
       "      <th>0</th>\n",
       "      <td>5.1</td>\n",
       "      <td>3.5</td>\n",
       "      <td>1.4</td>\n",
       "      <td>0.2</td>\n",
       "      <td>setosa</td>\n",
       "    </tr>\n",
       "    <tr>\n",
       "      <th>1</th>\n",
       "      <td>4.9</td>\n",
       "      <td>3.0</td>\n",
       "      <td>1.4</td>\n",
       "      <td>0.2</td>\n",
       "      <td>setosa</td>\n",
       "    </tr>\n",
       "    <tr>\n",
       "      <th>2</th>\n",
       "      <td>4.7</td>\n",
       "      <td>3.2</td>\n",
       "      <td>1.3</td>\n",
       "      <td>0.2</td>\n",
       "      <td>setosa</td>\n",
       "    </tr>\n",
       "    <tr>\n",
       "      <th>3</th>\n",
       "      <td>4.6</td>\n",
       "      <td>3.1</td>\n",
       "      <td>1.5</td>\n",
       "      <td>0.2</td>\n",
       "      <td>setosa</td>\n",
       "    </tr>\n",
       "    <tr>\n",
       "      <th>4</th>\n",
       "      <td>5.0</td>\n",
       "      <td>3.6</td>\n",
       "      <td>1.4</td>\n",
       "      <td>0.2</td>\n",
       "      <td>setosa</td>\n",
       "    </tr>\n",
       "    <tr>\n",
       "      <th>...</th>\n",
       "      <td>...</td>\n",
       "      <td>...</td>\n",
       "      <td>...</td>\n",
       "      <td>...</td>\n",
       "      <td>...</td>\n",
       "    </tr>\n",
       "    <tr>\n",
       "      <th>145</th>\n",
       "      <td>6.7</td>\n",
       "      <td>3.0</td>\n",
       "      <td>5.2</td>\n",
       "      <td>2.3</td>\n",
       "      <td>virginica</td>\n",
       "    </tr>\n",
       "    <tr>\n",
       "      <th>146</th>\n",
       "      <td>6.3</td>\n",
       "      <td>2.5</td>\n",
       "      <td>5.0</td>\n",
       "      <td>1.9</td>\n",
       "      <td>virginica</td>\n",
       "    </tr>\n",
       "    <tr>\n",
       "      <th>147</th>\n",
       "      <td>6.5</td>\n",
       "      <td>3.0</td>\n",
       "      <td>5.2</td>\n",
       "      <td>2.0</td>\n",
       "      <td>virginica</td>\n",
       "    </tr>\n",
       "    <tr>\n",
       "      <th>148</th>\n",
       "      <td>6.2</td>\n",
       "      <td>3.4</td>\n",
       "      <td>5.4</td>\n",
       "      <td>2.3</td>\n",
       "      <td>virginica</td>\n",
       "    </tr>\n",
       "    <tr>\n",
       "      <th>149</th>\n",
       "      <td>5.9</td>\n",
       "      <td>3.0</td>\n",
       "      <td>5.1</td>\n",
       "      <td>1.8</td>\n",
       "      <td>virginica</td>\n",
       "    </tr>\n",
       "  </tbody>\n",
       "</table>\n",
       "<p>150 rows × 5 columns</p>\n",
       "</div>"
      ],
      "text/plain": [
       "     sepal_length  sepal_width  petal_length  petal_width    species\n",
       "0             5.1          3.5           1.4          0.2     setosa\n",
       "1             4.9          3.0           1.4          0.2     setosa\n",
       "2             4.7          3.2           1.3          0.2     setosa\n",
       "3             4.6          3.1           1.5          0.2     setosa\n",
       "4             5.0          3.6           1.4          0.2     setosa\n",
       "..            ...          ...           ...          ...        ...\n",
       "145           6.7          3.0           5.2          2.3  virginica\n",
       "146           6.3          2.5           5.0          1.9  virginica\n",
       "147           6.5          3.0           5.2          2.0  virginica\n",
       "148           6.2          3.4           5.4          2.3  virginica\n",
       "149           5.9          3.0           5.1          1.8  virginica\n",
       "\n",
       "[150 rows x 5 columns]"
      ]
     },
     "execution_count": 37,
     "metadata": {
      "tags": []
     },
     "output_type": "execute_result"
    }
   ],
   "source": [
    "iris"
   ]
  },
  {
   "cell_type": "markdown",
   "metadata": {
    "id": "HpqYSfCmGS08"
   },
   "source": [
    "2) 붓꽃 유형은 `iris`의 `species`열에 저장되어 있다. `species`열에 있는 유일한 값과 개수를 확인하여라.  "
   ]
  },
  {
   "cell_type": "markdown",
   "metadata": {
    "id": "cj3xXYo1yFub"
   },
   "source": [
    "`value_counts()` 메소드를 이용하면 유일한 값과 개수를 한번에 확인할 수 있다. "
   ]
  },
  {
   "cell_type": "code",
   "execution_count": null,
   "metadata": {
    "colab": {
     "base_uri": "https://localhost:8080/"
    },
    "executionInfo": {
     "elapsed": 19537,
     "status": "ok",
     "timestamp": 1621352096810,
     "user": {
      "displayName": "KyeongRyong Lee",
      "photoUrl": "",
      "userId": "08575822710201651490"
     },
     "user_tz": -540
    },
    "id": "qovrBLUDyYxB",
    "outputId": "e43afaf8-7bf8-4a60-c1d0-0d821115f435"
   },
   "outputs": [
    {
     "data": {
      "text/plain": [
       "versicolor    50\n",
       "virginica     50\n",
       "setosa        50\n",
       "Name: species, dtype: int64"
      ]
     },
     "execution_count": 38,
     "metadata": {
      "tags": []
     },
     "output_type": "execute_result"
    }
   ],
   "source": [
    "iris[\"species\"].value_counts()"
   ]
  },
  {
   "cell_type": "markdown",
   "metadata": {
    "id": "mcSa9O7mybvD"
   },
   "source": [
    "참고: `unique()` 메소드를 이용하면 유일한 값의 배열을 얻을 수 있다. "
   ]
  },
  {
   "cell_type": "code",
   "execution_count": null,
   "metadata": {
    "colab": {
     "base_uri": "https://localhost:8080/"
    },
    "executionInfo": {
     "elapsed": 19529,
     "status": "ok",
     "timestamp": 1621352096811,
     "user": {
      "displayName": "KyeongRyong Lee",
      "photoUrl": "",
      "userId": "08575822710201651490"
     },
     "user_tz": -540
    },
    "id": "mWNMNVg_yFHj",
    "outputId": "c119a4a5-801e-4736-dd2a-8ddf188c7957"
   },
   "outputs": [
    {
     "data": {
      "text/plain": [
       "array(['setosa', 'versicolor', 'virginica'], dtype=object)"
      ]
     },
     "execution_count": 39,
     "metadata": {
      "tags": []
     },
     "output_type": "execute_result"
    }
   ],
   "source": [
    "iris[\"species\"].unique()"
   ]
  },
  {
   "cell_type": "markdown",
   "metadata": {
    "id": "XfEnuKwuG1XO"
   },
   "source": [
    "3) 꽃잎 길이(petal_length)와 꽃잎 너비(petal_width)의 산점도를 그려라.  "
   ]
  },
  {
   "cell_type": "code",
   "execution_count": null,
   "metadata": {
    "colab": {
     "base_uri": "https://localhost:8080/",
     "height": 295
    },
    "executionInfo": {
     "elapsed": 19518,
     "status": "ok",
     "timestamp": 1621352096812,
     "user": {
      "displayName": "KyeongRyong Lee",
      "photoUrl": "",
      "userId": "08575822710201651490"
     },
     "user_tz": -540
    },
    "id": "ApBYFQAeyf6-",
    "outputId": "fc57db93-3db3-413d-b70b-60e45cb41e86"
   },
   "outputs": [
    {
     "data": {
      "image/png": "[encoded data removed]",
      "text/plain": [
       "<Figure size 432x288 with 1 Axes>"
      ]
     },
     "metadata": {
      "needs_background": "light",
      "tags": []
     },
     "output_type": "display_data"
    }
   ],
   "source": [
    "plt.scatter(iris[\"petal_length\"], iris[\"petal_width\"])\n",
    "\n",
    "plt.title(\"Scatter plot of petal length and petal width\")\n",
    "plt.xlabel(\"petal length\")\n",
    "plt.ylabel(\"petal width\")\n",
    "\n",
    "plt.show()"
   ]
  },
  {
   "cell_type": "markdown",
   "metadata": {
    "id": "MsnoBbnSHWVE"
   },
   "source": [
    "4) 위의 3) 산점도에서 꽃 유형(species)이 다르면, 다른 색으로 표시되도록 하여라. 이때 범례(legend)도 표시되게 한다. "
   ]
  },
  {
   "cell_type": "markdown",
   "metadata": {
    "id": "XhdgbnHJErkT"
   },
   "source": [
    "서로 다른 색깔로 표시되도록 그룹으로 나누어주는 `groupby()` 메소드를 사용한 후 for문을 통해 각 경우에 대해 처리해준다. 색깔은 `colors` 리스트에 담겨 있는 순서대로 사용되며, `color` 인자를 통해 넘겨준다. 또한, 범례에 사용될 이름은 `label` 인자를 통해 넘겨준다.  \n",
    "  \n",
    "참고: `(name, df_group)`과 같이 따로 괄호를 통해 묶여있는 부분은 괄호 안의 변수에 대한 값이 첫번째 인자를 풀어서 받음을 의미한다. "
   ]
  },
  {
   "cell_type": "code",
   "execution_count": null,
   "metadata": {
    "colab": {
     "base_uri": "https://localhost:8080/",
     "height": 295
    },
    "executionInfo": {
     "elapsed": 19506,
     "status": "ok",
     "timestamp": 1621352096813,
     "user": {
      "displayName": "KyeongRyong Lee",
      "photoUrl": "",
      "userId": "08575822710201651490"
     },
     "user_tz": -540
    },
    "id": "nAFNLmfpyvx6",
    "outputId": "0329b8bd-3e05-422e-8f44-65cec5214a32"
   },
   "outputs": [
    {
     "data": {
      "image/png": "[encoded data removed]",
      "text/plain": [
       "<Figure size 432x288 with 1 Axes>"
      ]
     },
     "metadata": {
      "needs_background": "light",
      "tags": []
     },
     "output_type": "display_data"
    }
   ],
   "source": [
    "colors = [\"red\", \"green\", \"blue\"]\n",
    "\n",
    "for (name, df_group), color in zip(iris.groupby(\"species\"), colors):\n",
    "  plt.scatter(df_group[\"petal_length\"], df_group[\"petal_width\"], color=color, label=name)\n",
    "\n",
    "plt.title(\"Scatter plot of petal length and petal width\")\n",
    "plt.xlabel(\"petal length\")\n",
    "plt.ylabel(\"petal width\")\n",
    "plt.legend()\n",
    "\n",
    "plt.show()"
   ]
  }
 ],
 "metadata": {
  "colab": {
   "authorship_tag": "ABX9TyMW6uNxSdf97jZpanlTMFKz",
   "collapsed_sections": [],
   "name": "실습답안12.ipynb",
   "provenance": []
  },
  "kernelspec": {
   "display_name": "Python 3 (ipykernel)",
   "language": "python",
   "name": "python3"
  },
  "language_info": {
   "codemirror_mode": {
    "name": "ipython",
    "version": 3
   },
   "file_extension": ".py",
   "mimetype": "text/x-python",
   "name": "python",
   "nbconvert_exporter": "python",
   "pygments_lexer": "ipython3",
   "version": "3.9.7"
  }
 },
 "nbformat": 4,
 "nbformat_minor": 1
}

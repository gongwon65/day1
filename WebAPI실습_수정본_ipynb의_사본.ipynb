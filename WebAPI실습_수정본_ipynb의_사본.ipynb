{
  "cells": [
    {
      "cell_type": "code",
      "execution_count": 47,
      "metadata": {
        "colab": {
          "base_uri": "https://localhost:8080/",
          "height": 35
        },
        "id": "uQR_3OvPNqsH",
        "outputId": "f858485f-9e50-4f89-d94c-5cb1a15fc9b8"
      },
      "outputs": [
        {
          "data": {
            "text/plain": [
              "''"
            ]
          },
          "execution_count": 47,
          "metadata": {},
          "output_type": "execute_result"
        }
      ],
      "source": [
        "import requests\n",
        "\n",
        "API_KEY = '' # 자신의 인증키\n",
        "API_KEY_decode = requests.utils.unquote(API_KEY)\n",
        "API_KEY_decode"
      ]
    },
    {
      "cell_type": "code",
      "execution_count": 48,
      "metadata": {
        "colab": {
          "base_uri": "https://localhost:8080/",
          "height": 143
        },
        "id": "goXgZBjDXXBy",
        "outputId": "c5bbe429-8987-4e96-c604-de1670c80601"
      },
      "outputs": [
        {
          "ename": "MissingSchema",
          "evalue": "Invalid URL '': No scheme supplied. Perhaps you meant https://?",
          "output_type": "error",
          "traceback": [
            "\u001b[1;31m---------------------------------------------------------------------------\u001b[0m",
            "\u001b[1;31mMissingSchema\u001b[0m                             Traceback (most recent call last)",
            "Cell \u001b[1;32mIn[48], line 9\u001b[0m\n\u001b[0;32m      7\u001b[0m num_of_rows \u001b[38;5;241m=\u001b[39m \u001b[38;5;241m100\u001b[39m\n\u001b[0;32m      8\u001b[0m parameter \u001b[38;5;241m=\u001b[39m {\u001b[38;5;124m\"\u001b[39m\u001b[38;5;124mServiceKey\u001b[39m\u001b[38;5;124m\"\u001b[39m: API_KEY_decode,\u001b[38;5;124m\"\u001b[39m\u001b[38;5;124mnumOfRows\u001b[39m\u001b[38;5;124m\"\u001b[39m:num_of_rows, \u001b[38;5;124m\"\u001b[39m\u001b[38;5;124mreturnType\u001b[39m\u001b[38;5;124m\"\u001b[39m : return_Type, \u001b[38;5;124m\"\u001b[39m\u001b[38;5;124mpageNo\u001b[39m\u001b[38;5;124m\"\u001b[39m : page_No, \u001b[38;5;124m\"\u001b[39m\u001b[38;5;124maddr\u001b[39m\u001b[38;5;124m\"\u001b[39m : addr, \u001b[38;5;124m\"\u001b[39m\u001b[38;5;124mstationNAME\u001b[39m\u001b[38;5;124m\"\u001b[39m : station_NAMe }\n\u001b[1;32m----> 9\u001b[0m result \u001b[38;5;241m=\u001b[39m requests\u001b[38;5;241m.\u001b[39mget(url, params \u001b[38;5;241m=\u001b[39m parameter)\n\u001b[0;32m     11\u001b[0m \u001b[38;5;28mprint\u001b[39m(result) \u001b[38;5;66;03m# 응답코드 확인\u001b[39;00m\n\u001b[0;32m     12\u001b[0m xml_data \u001b[38;5;241m=\u001b[39m result\u001b[38;5;241m.\u001b[39mcontent\n",
            "File \u001b[1;32mc:\\Users\\302-1\\anaconda3\\Lib\\site-packages\\requests\\api.py:73\u001b[0m, in \u001b[0;36mget\u001b[1;34m(url, params, **kwargs)\u001b[0m\n\u001b[0;32m     62\u001b[0m \u001b[38;5;28;01mdef\u001b[39;00m \u001b[38;5;21mget\u001b[39m(url, params\u001b[38;5;241m=\u001b[39m\u001b[38;5;28;01mNone\u001b[39;00m, \u001b[38;5;241m*\u001b[39m\u001b[38;5;241m*\u001b[39mkwargs):\n\u001b[0;32m     63\u001b[0m \u001b[38;5;250m    \u001b[39m\u001b[38;5;124mr\u001b[39m\u001b[38;5;124;03m\"\"\"Sends a GET request.\u001b[39;00m\n\u001b[0;32m     64\u001b[0m \n\u001b[0;32m     65\u001b[0m \u001b[38;5;124;03m    :param url: URL for the new :class:`Request` object.\u001b[39;00m\n\u001b[1;32m   (...)\u001b[0m\n\u001b[0;32m     70\u001b[0m \u001b[38;5;124;03m    :rtype: requests.Response\u001b[39;00m\n\u001b[0;32m     71\u001b[0m \u001b[38;5;124;03m    \"\"\"\u001b[39;00m\n\u001b[1;32m---> 73\u001b[0m     \u001b[38;5;28;01mreturn\u001b[39;00m request(\u001b[38;5;124m\"\u001b[39m\u001b[38;5;124mget\u001b[39m\u001b[38;5;124m\"\u001b[39m, url, params\u001b[38;5;241m=\u001b[39mparams, \u001b[38;5;241m*\u001b[39m\u001b[38;5;241m*\u001b[39mkwargs)\n",
            "File \u001b[1;32mc:\\Users\\302-1\\anaconda3\\Lib\\site-packages\\requests\\api.py:59\u001b[0m, in \u001b[0;36mrequest\u001b[1;34m(method, url, **kwargs)\u001b[0m\n\u001b[0;32m     55\u001b[0m \u001b[38;5;66;03m# By using the 'with' statement we are sure the session is closed, thus we\u001b[39;00m\n\u001b[0;32m     56\u001b[0m \u001b[38;5;66;03m# avoid leaving sockets open which can trigger a ResourceWarning in some\u001b[39;00m\n\u001b[0;32m     57\u001b[0m \u001b[38;5;66;03m# cases, and look like a memory leak in others.\u001b[39;00m\n\u001b[0;32m     58\u001b[0m \u001b[38;5;28;01mwith\u001b[39;00m sessions\u001b[38;5;241m.\u001b[39mSession() \u001b[38;5;28;01mas\u001b[39;00m session:\n\u001b[1;32m---> 59\u001b[0m     \u001b[38;5;28;01mreturn\u001b[39;00m session\u001b[38;5;241m.\u001b[39mrequest(method\u001b[38;5;241m=\u001b[39mmethod, url\u001b[38;5;241m=\u001b[39murl, \u001b[38;5;241m*\u001b[39m\u001b[38;5;241m*\u001b[39mkwargs)\n",
            "File \u001b[1;32mc:\\Users\\302-1\\anaconda3\\Lib\\site-packages\\requests\\sessions.py:575\u001b[0m, in \u001b[0;36mSession.request\u001b[1;34m(self, method, url, params, data, headers, cookies, files, auth, timeout, allow_redirects, proxies, hooks, stream, verify, cert, json)\u001b[0m\n\u001b[0;32m    562\u001b[0m \u001b[38;5;66;03m# Create the Request.\u001b[39;00m\n\u001b[0;32m    563\u001b[0m req \u001b[38;5;241m=\u001b[39m Request(\n\u001b[0;32m    564\u001b[0m     method\u001b[38;5;241m=\u001b[39mmethod\u001b[38;5;241m.\u001b[39mupper(),\n\u001b[0;32m    565\u001b[0m     url\u001b[38;5;241m=\u001b[39murl,\n\u001b[1;32m   (...)\u001b[0m\n\u001b[0;32m    573\u001b[0m     hooks\u001b[38;5;241m=\u001b[39mhooks,\n\u001b[0;32m    574\u001b[0m )\n\u001b[1;32m--> 575\u001b[0m prep \u001b[38;5;241m=\u001b[39m \u001b[38;5;28mself\u001b[39m\u001b[38;5;241m.\u001b[39mprepare_request(req)\n\u001b[0;32m    577\u001b[0m proxies \u001b[38;5;241m=\u001b[39m proxies \u001b[38;5;129;01mor\u001b[39;00m {}\n\u001b[0;32m    579\u001b[0m settings \u001b[38;5;241m=\u001b[39m \u001b[38;5;28mself\u001b[39m\u001b[38;5;241m.\u001b[39mmerge_environment_settings(\n\u001b[0;32m    580\u001b[0m     prep\u001b[38;5;241m.\u001b[39murl, proxies, stream, verify, cert\n\u001b[0;32m    581\u001b[0m )\n",
            "File \u001b[1;32mc:\\Users\\302-1\\anaconda3\\Lib\\site-packages\\requests\\sessions.py:484\u001b[0m, in \u001b[0;36mSession.prepare_request\u001b[1;34m(self, request)\u001b[0m\n\u001b[0;32m    481\u001b[0m     auth \u001b[38;5;241m=\u001b[39m get_netrc_auth(request\u001b[38;5;241m.\u001b[39murl)\n\u001b[0;32m    483\u001b[0m p \u001b[38;5;241m=\u001b[39m PreparedRequest()\n\u001b[1;32m--> 484\u001b[0m p\u001b[38;5;241m.\u001b[39mprepare(\n\u001b[0;32m    485\u001b[0m     method\u001b[38;5;241m=\u001b[39mrequest\u001b[38;5;241m.\u001b[39mmethod\u001b[38;5;241m.\u001b[39mupper(),\n\u001b[0;32m    486\u001b[0m     url\u001b[38;5;241m=\u001b[39mrequest\u001b[38;5;241m.\u001b[39murl,\n\u001b[0;32m    487\u001b[0m     files\u001b[38;5;241m=\u001b[39mrequest\u001b[38;5;241m.\u001b[39mfiles,\n\u001b[0;32m    488\u001b[0m     data\u001b[38;5;241m=\u001b[39mrequest\u001b[38;5;241m.\u001b[39mdata,\n\u001b[0;32m    489\u001b[0m     json\u001b[38;5;241m=\u001b[39mrequest\u001b[38;5;241m.\u001b[39mjson,\n\u001b[0;32m    490\u001b[0m     headers\u001b[38;5;241m=\u001b[39mmerge_setting(\n\u001b[0;32m    491\u001b[0m         request\u001b[38;5;241m.\u001b[39mheaders, \u001b[38;5;28mself\u001b[39m\u001b[38;5;241m.\u001b[39mheaders, dict_class\u001b[38;5;241m=\u001b[39mCaseInsensitiveDict\n\u001b[0;32m    492\u001b[0m     ),\n\u001b[0;32m    493\u001b[0m     params\u001b[38;5;241m=\u001b[39mmerge_setting(request\u001b[38;5;241m.\u001b[39mparams, \u001b[38;5;28mself\u001b[39m\u001b[38;5;241m.\u001b[39mparams),\n\u001b[0;32m    494\u001b[0m     auth\u001b[38;5;241m=\u001b[39mmerge_setting(auth, \u001b[38;5;28mself\u001b[39m\u001b[38;5;241m.\u001b[39mauth),\n\u001b[0;32m    495\u001b[0m     cookies\u001b[38;5;241m=\u001b[39mmerged_cookies,\n\u001b[0;32m    496\u001b[0m     hooks\u001b[38;5;241m=\u001b[39mmerge_hooks(request\u001b[38;5;241m.\u001b[39mhooks, \u001b[38;5;28mself\u001b[39m\u001b[38;5;241m.\u001b[39mhooks),\n\u001b[0;32m    497\u001b[0m )\n\u001b[0;32m    498\u001b[0m \u001b[38;5;28;01mreturn\u001b[39;00m p\n",
            "File \u001b[1;32mc:\\Users\\302-1\\anaconda3\\Lib\\site-packages\\requests\\models.py:367\u001b[0m, in \u001b[0;36mPreparedRequest.prepare\u001b[1;34m(self, method, url, headers, files, data, params, auth, cookies, hooks, json)\u001b[0m\n\u001b[0;32m    364\u001b[0m \u001b[38;5;250m\u001b[39m\u001b[38;5;124;03m\"\"\"Prepares the entire request with the given parameters.\"\"\"\u001b[39;00m\n\u001b[0;32m    366\u001b[0m \u001b[38;5;28mself\u001b[39m\u001b[38;5;241m.\u001b[39mprepare_method(method)\n\u001b[1;32m--> 367\u001b[0m \u001b[38;5;28mself\u001b[39m\u001b[38;5;241m.\u001b[39mprepare_url(url, params)\n\u001b[0;32m    368\u001b[0m \u001b[38;5;28mself\u001b[39m\u001b[38;5;241m.\u001b[39mprepare_headers(headers)\n\u001b[0;32m    369\u001b[0m \u001b[38;5;28mself\u001b[39m\u001b[38;5;241m.\u001b[39mprepare_cookies(cookies)\n",
            "File \u001b[1;32mc:\\Users\\302-1\\anaconda3\\Lib\\site-packages\\requests\\models.py:438\u001b[0m, in \u001b[0;36mPreparedRequest.prepare_url\u001b[1;34m(self, url, params)\u001b[0m\n\u001b[0;32m    435\u001b[0m     \u001b[38;5;28;01mraise\u001b[39;00m InvalidURL(\u001b[38;5;241m*\u001b[39me\u001b[38;5;241m.\u001b[39margs)\n\u001b[0;32m    437\u001b[0m \u001b[38;5;28;01mif\u001b[39;00m \u001b[38;5;129;01mnot\u001b[39;00m scheme:\n\u001b[1;32m--> 438\u001b[0m     \u001b[38;5;28;01mraise\u001b[39;00m MissingSchema(\n\u001b[0;32m    439\u001b[0m         \u001b[38;5;124mf\u001b[39m\u001b[38;5;124m\"\u001b[39m\u001b[38;5;124mInvalid URL \u001b[39m\u001b[38;5;132;01m{\u001b[39;00murl\u001b[38;5;132;01m!r}\u001b[39;00m\u001b[38;5;124m: No scheme supplied. \u001b[39m\u001b[38;5;124m\"\u001b[39m\n\u001b[0;32m    440\u001b[0m         \u001b[38;5;124mf\u001b[39m\u001b[38;5;124m\"\u001b[39m\u001b[38;5;124mPerhaps you meant https://\u001b[39m\u001b[38;5;132;01m{\u001b[39;00murl\u001b[38;5;132;01m}\u001b[39;00m\u001b[38;5;124m?\u001b[39m\u001b[38;5;124m\"\u001b[39m\n\u001b[0;32m    441\u001b[0m     )\n\u001b[0;32m    443\u001b[0m \u001b[38;5;28;01mif\u001b[39;00m \u001b[38;5;129;01mnot\u001b[39;00m host:\n\u001b[0;32m    444\u001b[0m     \u001b[38;5;28;01mraise\u001b[39;00m InvalidURL(\u001b[38;5;124mf\u001b[39m\u001b[38;5;124m\"\u001b[39m\u001b[38;5;124mInvalid URL \u001b[39m\u001b[38;5;132;01m{\u001b[39;00murl\u001b[38;5;132;01m!r}\u001b[39;00m\u001b[38;5;124m: No host supplied\u001b[39m\u001b[38;5;124m\"\u001b[39m)\n",
            "\u001b[1;31mMissingSchema\u001b[0m: Invalid URL '': No scheme supplied. Perhaps you meant https://?"
          ]
        }
      ],
      "source": [
        "url = ''\n",
        "\n",
        "return_Type = 'xml'\n",
        "page_No = 1\n",
        "addr = '대전'\n",
        "station_NAMe = '서구'\n",
        "num_of_rows = 100\n",
        "parameter = {\"ServiceKey\": API_KEY_decode,\"numOfRows\":num_of_rows, \"returnType\" : return_Type, \"pageNo\" : page_No, \"addr\" : addr, \"stationNAME\" : station_NAMe }\n",
        "result = requests.get(url, params = parameter)\n",
        "\n",
        "print(result) # 응답코드 확인\n",
        "xml_data = result.content\n",
        "xml_data"
      ]
    },
    {
      "cell_type": "code",
      "execution_count": 39,
      "metadata": {
        "colab": {
          "base_uri": "https://localhost:8080/"
        },
        "id": "LT4198prYx2X",
        "outputId": "05d4564d-9f65-405d-fe1a-2214991d931e"
      },
      "outputs": [
        {
          "name": "stdout",
          "output_type": "stream",
          "text": [
            "^C\n",
            "Note: you may need to restart the kernel to use updated packages.\n"
          ]
        }
      ],
      "source": [
        "%pip install xmltodict"
      ]
    },
    {
      "cell_type": "code",
      "execution_count": 46,
      "metadata": {
        "colab": {
          "base_uri": "https://localhost:8080/"
        },
        "id": "KIsXdaW9Y5PI",
        "outputId": "753f1f21-d06b-412d-9c96-f45aad4e067a"
      },
      "outputs": [
        {
          "data": {
            "text/plain": [
              "{'response': {'header': {'resultCode': '00', 'resultMsg': 'NORMAL_CODE'},\n",
              "  'body': {'items': {'item': [{'dmX': '36.372778',\n",
              "      'item': 'SO2, CO, O3, NO2, PM10, PM2.5',\n",
              "      'mangName': '도시대기',\n",
              "      'year': '1988',\n",
              "      'addr': '대전 대덕구 대전로 1331번길 75(태아산업(주)) 태아산업(주)',\n",
              "      'stationName': '읍내동',\n",
              "      'dmY': '127.417222'},\n",
              "     {'dmX': '36.446944',\n",
              "      'item': 'SO2, CO, O3, NO2, PM10, PM2.5',\n",
              "      'mangName': '도시대기',\n",
              "      'year': '2002',\n",
              "      'addr': '대전 대덕구 문평동로 18번길 34(문평동 119안전센터) 문평동 119안전센터',\n",
              "      'stationName': '문평동',\n",
              "      'dmY': '127.404722'},\n",
              "     {'dmX': '36.316111',\n",
              "      'item': 'SO2, CO, O3, NO2, PM10, PM2.5',\n",
              "      'mangName': '도시대기',\n",
              "      'year': '1986',\n",
              "      'addr': '대전 중구 보문로 20번길 38(문창동 주민센터) 문창동 주민센터',\n",
              "      'stationName': '문창동',\n",
              "      'dmY': '127.437778'},\n",
              "     {'dmX': '36.372411',\n",
              "      'item': 'SO2, CO, O3, NO2, PM10, PM2.5',\n",
              "      'mangName': '도시대기',\n",
              "      'year': '2007',\n",
              "      'addr': '대전 유성구 대학로 407 보건환경연구원 보건환경연구원',\n",
              "      'stationName': '구성동',\n",
              "      'dmY': '127.373938'},\n",
              "     {'dmX': '36.3682',\n",
              "      'item': 'SO2, CO, O3, NO2, PM10, PM2.5',\n",
              "      'mangName': '도시대기',\n",
              "      'year': '2011',\n",
              "      'addr': '대전 유성구 노은동로 87번길 89(노은1동 주민센터) 노은1동 주민센터 3층 옥상',\n",
              "      'stationName': '노은동',\n",
              "      'dmY': '127.3185'},\n",
              "     {'dmX': '36.3364108',\n",
              "      'item': 'SO2, CO, O3, NO2, PM10, PM2.5',\n",
              "      'mangName': '도시대기',\n",
              "      'year': '2018',\n",
              "      'addr': '대전광역시 유성구 도안대로 398 대전역사박물관 (상대동)',\n",
              "      'stationName': '상대동(대전)',\n",
              "      'dmY': '127.3349525'},\n",
              "     {'dmX': '36.425168',\n",
              "      'item': 'SO2, CO, O3, NO2, PM10, PM2.5',\n",
              "      'mangName': '도시대기',\n",
              "      'year': '2020',\n",
              "      'addr': '대전광역시 유성구 테크노중앙로 88 동화울수변공원 내 (관평동)',\n",
              "      'stationName': '관평동',\n",
              "      'dmY': '127.395931'},\n",
              "     {'dmX': '36.376236',\n",
              "      'item': 'SO2, CO, O3, NO2, PM10, PM2.5',\n",
              "      'mangName': '도로변대기',\n",
              "      'year': '2024',\n",
              "      'addr': '대전광역시 유성구 지족동 881-1 두루봉근린공원 내',\n",
              "      'stationName': '지족동',\n",
              "      'dmY': '127.323475'},\n",
              "     {'dmX': '36.323889',\n",
              "      'item': 'SO2, CO, O3, NO2, PM10, PM2.5',\n",
              "      'mangName': '도로변대기',\n",
              "      'year': '1997',\n",
              "      'addr': '대전 중구 중앙로 58 도로변',\n",
              "      'stationName': '대흥동1',\n",
              "      'dmY': '127.418333'},\n",
              "     {'dmX': '36.344444',\n",
              "      'item': 'SO2, CO, O3, NO2, PM10, PM2.5',\n",
              "      'mangName': '도시대기',\n",
              "      'year': '2003',\n",
              "      'addr': '대전 동구 계족로 368번길 70(성남동 주민센터) 성남동 주민센터',\n",
              "      'stationName': '성남동1',\n",
              "      'dmY': '127.437222'},\n",
              "     {'dmX': '36.3018429',\n",
              "      'item': 'SO2, CO, O3, NO2, PM10, PM2.5',\n",
              "      'mangName': '도시대기',\n",
              "      'year': '2018',\n",
              "      'addr': '대전광역시 동구 동구청로 36 남부여성가족원 (대성동)',\n",
              "      'stationName': '대성동',\n",
              "      'dmY': '127.4602048'},\n",
              "     {'dmX': '36.304667',\n",
              "      'item': 'SO2, CO, O3, NO2, PM10, PM2.5',\n",
              "      'mangName': '도시대기',\n",
              "      'year': '2004',\n",
              "      'addr': '대전 서구 정림동로 10(정림동 주민센터) 정림동 주민센터',\n",
              "      'stationName': '정림동',\n",
              "      'dmY': '127.366717'},\n",
              "     {'dmX': '36.354444',\n",
              "      'item': 'SO2, CO, O3, NO2, PM10, PM2.5',\n",
              "      'mangName': '도시대기',\n",
              "      'year': '2006',\n",
              "      'addr': '대전 서구 둔산서로 84(근로자 종합복지회관) 근로자 종합복지회관(3층 옥상)',\n",
              "      'stationName': '둔산동',\n",
              "      'dmY': '127.383056'},\n",
              "     {'dmX': '36.351111',\n",
              "      'item': 'SO2, CO, O3, NO2, PM10, PM2.5',\n",
              "      'mangName': '도로변대기',\n",
              "      'year': '2007',\n",
              "      'addr': '대전 서구 월평동160-5 도로변(월평자동차종합시장앞)',\n",
              "      'stationName': '월평동',\n",
              "      'dmY': '127.354167'}]},\n",
              "   'numOfRows': '100',\n",
              "   'pageNo': '1',\n",
              "   'totalCount': '14'}}}"
            ]
          },
          "execution_count": 46,
          "metadata": {},
          "output_type": "execute_result"
        }
      ],
      "source": [
        "import xmltodict\n",
        "\n",
        "dict_data = xmltodict.parse(xml_data) # xml -> dict\n",
        "dict_data"
      ]
    },
    {
      "cell_type": "code",
      "execution_count": 7,
      "metadata": {
        "colab": {
          "base_uri": "https://localhost:8080/"
        },
        "id": "JafxpZpXZeG6",
        "outputId": "cdbe53d6-2240-406e-899b-99dae6bb302f"
      },
      "outputs": [
        {
          "ename": "KeyError",
          "evalue": "'newAddressListAreaCd'",
          "output_type": "error",
          "traceback": [
            "\u001b[1;31m---------------------------------------------------------------------------\u001b[0m",
            "\u001b[1;31mKeyError\u001b[0m                                  Traceback (most recent call last)",
            "Cell \u001b[1;32mIn[7], line 1\u001b[0m\n\u001b[1;32m----> 1\u001b[0m address_list \u001b[38;5;241m=\u001b[39m dict_data[\u001b[38;5;124m'\u001b[39m\u001b[38;5;124mNewAddressListResponse\u001b[39m\u001b[38;5;124m'\u001b[39m][\u001b[38;5;124m'\u001b[39m\u001b[38;5;124mnewAddressListAreaCd\u001b[39m\u001b[38;5;124m'\u001b[39m]\n\u001b[0;32m      2\u001b[0m \u001b[38;5;28mprint\u001b[39m(address_list)\n\u001b[0;32m      4\u001b[0m \u001b[38;5;28mprint\u001b[39m(\u001b[38;5;124m\"\u001b[39m\u001b[38;5;124m[입력한 도로명 주소]\u001b[39m\u001b[38;5;124m\"\u001b[39m, srch_wrd)\n",
            "\u001b[1;31mKeyError\u001b[0m: 'newAddressListAreaCd'"
          ]
        }
      ],
      "source": [
        "address_list = dict_data['NewAddressListResponse']['newAddressListAreaCd']\n",
        "print(address_list)\n",
        "\n",
        "print(\"[입력한 도로명 주소]\", srch_wrd)\n",
        "print(\"[응답 데이터에서 추출한 결과]\")\n",
        "print(\"-우편번호\", address_list['zipNo'])\n",
        "print(\"-도로명주소\", address_list['lnmAdres'])\n",
        "print(\"-지번주소\", address_list['rnAdres'])"
      ]
    },
    {
      "cell_type": "markdown",
      "metadata": {
        "id": "PM4AYpYvc5yM"
      },
      "source": [
        "날씨 정보 가져오기"
      ]
    },
    {
      "cell_type": "code",
      "execution_count": 49,
      "metadata": {
        "colab": {
          "base_uri": "https://localhost:8080/",
          "height": 35
        },
        "id": "p2bJWCYvc8jV",
        "outputId": "70805af8-699c-4623-91cb-1e672031327a"
      },
      "outputs": [
        {
          "data": {
            "text/plain": [
              "''"
            ]
          },
          "execution_count": 49,
          "metadata": {},
          "output_type": "execute_result"
        }
      ],
      "source": [
        "import requests\n",
        "\n",
        "API_KEY = '' # 자신의 인증키\n",
        "API_KEY_decode = requests.utils.unquote(API_KEY)\n",
        "API_KEY_decode"
      ]
    },
    {
      "cell_type": "code",
      "execution_count": 17,
      "metadata": {
        "colab": {
          "base_uri": "https://localhost:8080/"
        },
        "id": "DNszisFBrZ7h",
        "outputId": "0a60b5c5-71c9-4860-93b5-18410a9d2e2a"
      },
      "outputs": [
        {
          "name": "stdout",
          "output_type": "stream",
          "text": [
            "Requirement already satisfied: pytz in c:\\users\\302-1\\anaconda3\\lib\\site-packages (2024.1)\n",
            "Note: you may need to restart the kernel to use updated packages.\n"
          ]
        }
      ],
      "source": [
        "%pip install pytz"
      ]
    },
    {
      "cell_type": "code",
      "execution_count": null,
      "metadata": {
        "colab": {
          "base_uri": "https://localhost:8080/"
        },
        "id": "H7Y18aLxdEG-",
        "outputId": "6c836049-731b-49c9-eaef-7d09fbb40551"
      },
      "outputs": [
        {
          "name": "stdout",
          "output_type": "stream",
          "text": [
            "2025-03-04 12:35:12.617685+09:00\n",
            "20250304 1200\n",
            "20250304 1200\n",
            "<Response [500]>\n",
            "<?xml version=\"1.0\" encoding=\"UTF-8\"?>\n",
            "<soapenv:Envelope xmlns:soapenv=\"http://schemas.xmlsoap.org/soap/envelope/\">\n",
            "    <soapenv:Body>\n",
            "        <soapenv:Fault>\n",
            "            <faultcode>soapenv:Server</faultcode>\n",
            "            <faultstring>Policy Falsified</faultstring>\n",
            "            <faultactor>http://apis.data.go.kr/1360000/VilageFcstInfoService_2.0?ServiceKey=O8HYCHcySgani2J7WUNThK9IyZEUGXYf3pjJIVyr%2FDmDrj4m%2B8uB%2F0cXKsfWUHMjVS2P73TNnyDl78Tddz74rg%3D%3D&amp;pageNo=1&amp;numOfRows=6&amp;dataType=XML&amp;base_date=20250304&amp;base_time=1200&amp;nx=67&amp;ny=100</faultactor>\n",
            "            <detail>\n",
            "                <l7:policyResult\n",
            "                    status=\"Service Not Found.  The request may have been sent to an invalid URL, or intended for an unsupported operation.\" xmlns:l7=\"http://www.layer7tech.com/ws/policy/fault\"/>\n",
            "            </detail>\n",
            "        </soapenv:Fault>\n",
            "    </soapenv:Body>\n",
            "</soapenv:Envelope>\n",
            "\n"
          ]
        },
        {
          "ename": "AttributeError",
          "evalue": "'Response' object has no attribute 'XML'",
          "output_type": "error",
          "traceback": [
            "\u001b[1;31m---------------------------------------------------------------------------\u001b[0m",
            "\u001b[1;31mAttributeError\u001b[0m                            Traceback (most recent call last)",
            "Cell \u001b[1;32mIn[27], line 38\u001b[0m\n\u001b[0;32m     36\u001b[0m \u001b[38;5;28mprint\u001b[39m(r)\n\u001b[0;32m     37\u001b[0m \u001b[38;5;28mprint\u001b[39m(r\u001b[38;5;241m.\u001b[39mtext)\n\u001b[1;32m---> 38\u001b[0m dict_data \u001b[38;5;241m=\u001b[39m r\u001b[38;5;241m.\u001b[39mXML() \u001b[38;5;66;03m# json -> dict\u001b[39;00m\n\u001b[0;32m     39\u001b[0m dict_data\n",
            "\u001b[1;31mAttributeError\u001b[0m: 'Response' object has no attribute 'XML'"
          ]
        }
      ],
      "source": [
        "import json, datetime\n",
        "from pytz import timezone\n",
        "\n",
        "now = datetime.datetime.now()\n",
        "local_time = datetime.datetime.now(timezone('Asia/Seoul')) # 현재 한국 로컬 시간 적용\n",
        "print(local_time)\n",
        "\n",
        "date = \"{:%Y%m%d}\".format(local_time)\n",
        "time = \"{:%H00}\".format(local_time) # 분은 무시하고 시간만\n",
        "print(date, time)\n",
        "\n",
        "if (local_time.minute >= 30): # 현재 분이 30분 이전이면\n",
        "  time = \"{0}00\".format(local_time.hour) # 이전 시간의 정시로 설정\n",
        "  if len(time) == 3: # 231230 추가, ex) 600 => 0600으로 처리\n",
        "      time = \"0{0}00\".format(local_time.hour)\n",
        "else:\n",
        "  time = \"{0}00\".format(local_time.hour-1)\n",
        "  if len(time) == 3:\n",
        "      time = \"0{0}00\".format(local_time.hour)\n",
        "\n",
        "url = ''\n",
        "\n",
        "baseDate = date\n",
        "print(baseDate, time)\n",
        "\n",
        "nx_val = 67 # 예보지점 x\n",
        "ny_val = 100 # 예보지점 y\n",
        "num_of_rows = 6\n",
        "page_no = 1\n",
        "output_type = \"JSON\" # XML 택 일\n",
        "\n",
        "parameter = {\"ServiceKey\":API_KEY_decode, \"pageNo\":page_no, \"numOfRows\":num_of_rows, \"dataType\":output_type,\n",
        "             \"base_date\":baseDate, \"base_time\":time, \"nx\":nx_val, \"ny\":ny_val\n",
        "            }\n",
        "r = requests.get(url, params=parameter)\n",
        "print(r)\n",
        "print(r.text)\n",
        "dict_data = r.json() # json -> dict\n",
        "dict_data"
      ]
    },
    {
      "cell_type": "code",
      "execution_count": 22,
      "metadata": {
        "colab": {
          "base_uri": "https://localhost:8080/"
        },
        "id": "mmrIOSqNim2k",
        "outputId": "91adad6d-fadf-467d-8fc6-0946accd4eb9"
      },
      "outputs": [
        {
          "name": "stdout",
          "output_type": "stream",
          "text": [
            "[{'baseDate': '20250304', 'baseTime': '1100', 'category': 'PTY', 'nx': 67, 'ny': 100, 'obsrValue': '2'}, {'baseDate': '20250304', 'baseTime': '1100', 'category': 'REH', 'nx': 67, 'ny': 100, 'obsrValue': '80'}, {'baseDate': '20250304', 'baseTime': '1100', 'category': 'RN1', 'nx': 67, 'ny': 100, 'obsrValue': '0.2'}, {'baseDate': '20250304', 'baseTime': '1100', 'category': 'T1H', 'nx': 67, 'ny': 100, 'obsrValue': '3.3'}, {'baseDate': '20250304', 'baseTime': '1100', 'category': 'UUU', 'nx': 67, 'ny': 100, 'obsrValue': '-4.5'}, {'baseDate': '20250304', 'baseTime': '1100', 'category': 'VEC', 'nx': 67, 'ny': 100, 'obsrValue': '95'}]\n",
            "[발표 날짜]: 20250304\n",
            "[발표 시간]: 1100\n",
            "['없음', '비', '진눈개비', '눈']\n",
            "2\n",
            "* 강수: 진눈개비\n",
            "* 습도 : 80퍼센트\n",
            "* 기온 : 3.3도\n"
          ]
        }
      ],
      "source": [
        "weather_items = dict_data['response']['body']['items']['item']\n",
        "print(weather_items)\n",
        "sky_cond = [\"맑음\", \"구름 조금\", \"구름 많음\", \"흐림\"]\n",
        "rain_type = [\"없음\", \"비\", \"진눈개비\", \"눈\"]\n",
        "\n",
        "print(\"[발표 날짜]: {}\".format(weather_items[0]['baseDate']))\n",
        "print(\"[발표 시간]: {}\".format(weather_items[0]['baseTime']))\n",
        "\n",
        "for k in range(len(weather_items)):\n",
        "  weather_item = weather_items[k]\n",
        "  obsrValue = weather_item['obsrValue']\n",
        "  if(weather_item['category'] == 'T1H'):\n",
        "    print(\"* 기온 : {}도\".format(obsrValue))\n",
        "  elif(weather_item['category'] == 'REH'):\n",
        "    print(\"* 습도 : {}퍼센트\".format(obsrValue))\n",
        "  elif(weather_item['category'] == 'SKY'):\n",
        "    print(sky_cond)\n",
        "    print(\"* 하늘 : {}\".format(sky_cond[obsrValue]-1))\n",
        "  elif(weather_item['category'] == 'PTY'):\n",
        "    print(rain_type)\n",
        "    print(obsrValue)\n",
        "    print(\"* 강수: {}\".format(rain_type[int(obsrValue)]))"
      ]
    },
    {
      "cell_type": "code",
      "execution_count": 50,
      "metadata": {
        "colab": {
          "base_uri": "https://localhost:8080/",
          "height": 35
        },
        "id": "mR9lYhkgvxPX",
        "outputId": "6b3b6b99-82bc-4cfd-c0d5-845e67c89555"
      },
      "outputs": [
        {
          "data": {
            "text/plain": [
              "''"
            ]
          },
          "execution_count": 50,
          "metadata": {},
          "output_type": "execute_result"
        }
      ],
      "source": [
        "import requests\n",
        "\n",
        "API_KEY = '' # 자신의 인증키\n",
        "API_KEY_decode = requests.utils.unquote(API_KEY)\n",
        "API_KEY_decode"
      ]
    },
    {
      "cell_type": "code",
      "execution_count": null,
      "metadata": {
        "colab": {
          "base_uri": "https://localhost:8080/"
        },
        "id": "FXg6Cjb5v1kI",
        "outputId": "fe9afb0a-2a34-47e9-dfb4-d1a7070a4d9b"
      },
      "outputs": [
        {
          "name": "stdout",
          "output_type": "stream",
          "text": [
            "{'response': {'body': {'totalCount': 3, 'items': [{'sggName': '유성구', 'umdName': '봉명동', 'tmX': '231010.830978', 'tmY': '317078.29673', 'sidoName': '대전광역시'}, {'sggName': '천안시', 'umdName': '봉명동', 'tmX': '211899.479261', 'tmY': '367622.349549', 'sidoName': '충청남도'}, {'sggName': '청주시 흥덕구', 'umdName': '봉명동', 'tmX': '240905.896227', 'tmY': '349789.505711', 'sidoName': '충청북도'}], 'pageNo': 1, 'numOfRows': 10}, 'header': {'resultMsg': 'NORMAL_CODE', 'resultCode': '00'}}}\n"
          ]
        }
      ],
      "source": [
        "url = ''\n",
        "\n",
        "umd_name = \"봉명동\"\n",
        "num_of_rows = 10 # 한 페이지에 포함된 결과 수\n",
        "page_no = 1 # 페이지 번호\n",
        "output_type = 'json'\n",
        "\n",
        "parameter = {\"serviceKey\": API_KEY_decode, \"returnType\":output_type, \"numOfRows\":num_of_rows,\n",
        "             \"pageNo\":page_no, \"umdName\":umd_name\n",
        "             }\n",
        "dict_data = requests.get(url, params = parameter).json()\n",
        "print(dict_data)\n",
        "dict_data['response']['body']['totalCount'] # 전체 결과의 개수\n",
        "total = dict_data['response']['body']['totalCount']\n",
        "#print(total)"
      ]
    },
    {
      "cell_type": "code",
      "execution_count": null,
      "metadata": {
        "colab": {
          "base_uri": "https://localhost:8080/"
        },
        "id": "xrCA4XAqxhvJ",
        "outputId": "72c039cc-7c8c-4577-cfd5-b3eac8dd1808"
      },
      "outputs": [
        {
          "name": "stdout",
          "output_type": "stream",
          "text": [
            "[입력한 읍/면/동명] 봉명동\n",
            "[TM 기준 좌표 조회 결과]\n",
            "3\n",
            "[{'sggName': '유성구', 'umdName': '봉명동', 'tmX': '231010.830978', 'tmY': '317078.29673', 'sidoName': '대전광역시'}, {'sggName': '천안시', 'umdName': '봉명동', 'tmX': '211899.479261', 'tmY': '367622.349549', 'sidoName': '충청남도'}, {'sggName': '청주시 흥덕구', 'umdName': '봉명동', 'tmX': '240905.896227', 'tmY': '349789.505711', 'sidoName': '충청북도'}]\n",
            "- 위치: 대전광역시 유성구 봉명동\n",
            "- k = 0, TM좌표(X, Y): 231010.830978 317078.29673\n",
            "\n",
            "- 위치: 충청남도 천안시 봉명동\n",
            "- k = 1, TM좌표(X, Y): 211899.479261 367622.349549\n",
            "\n",
            "- 위치: 충청북도 청주시 흥덕구 봉명동\n",
            "- k = 2, TM좌표(X, Y): 240905.896227 349789.505711\n",
            "\n"
          ]
        }
      ],
      "source": [
        "print(\"[입력한 읍/면/동명]\", umd_name)\n",
        "print(\"[TM 기준 좌표 조회 결과]\")\n",
        "print(dict_data['response']['body']['totalCount'])\n",
        "dict_data['list'] = dict_data['response']['body']['items']\n",
        "print(dict_data['list'])\n",
        "\n",
        "for k in range(total):\n",
        "  sgg = dict_data['list'][k]['sggName']\n",
        "  umd = dict_data['list'][k]['umdName']\n",
        "  tmX = dict_data['list'][k]['tmX']\n",
        "  tmY = dict_data['list'][k]['tmY']\n",
        "  sido = dict_data['list'][k]['sidoName']\n",
        "\n",
        "  print('- 위치: {0} {1} {2}'.format(sido, sgg, umd))\n",
        "  print('- k = {0}, TM좌표(X, Y): {1} {2}\\n'.format(k, tmX, tmY))"
      ]
    },
    {
      "cell_type": "code",
      "execution_count": null,
      "metadata": {
        "colab": {
          "base_uri": "https://localhost:8080/"
        },
        "id": "EC-UmK0Dzo_j",
        "outputId": "7cf6c4e8-fe89-40a7-b42d-1a1042cbbc95"
      },
      "outputs": [
        {
          "name": "stdout",
          "output_type": "stream",
          "text": [
            "TM 좌표(X, Y : 231010.830978 317078.29673\n"
          ]
        }
      ],
      "source": [
        "k = 0 # 대전껄로\n",
        "TM_X = dict_data['list'][k]['tmX']\n",
        "TM_Y = dict_data['list'][k]['tmY']\n",
        "print(\"TM 좌표(X, Y : {0} {1}\".format(TM_X, TM_Y))"
      ]
    },
    {
      "cell_type": "code",
      "execution_count": null,
      "metadata": {
        "colab": {
          "base_uri": "https://localhost:8080/"
        },
        "id": "lYl-Ycu30Iif",
        "outputId": "6f3d340b-9e88-4178-ac12-72e8495768c8"
      },
      "outputs": [
        {
          "name": "stdout",
          "output_type": "stream",
          "text": [
            "{'response': {'body': {'totalCount': 3, 'items': [{'stationCode': '525173', 'tm': 0.8, 'addr': '대전 서구 월평동160-5 도로변(월평자동차종합시장앞)', 'stationName': '월평동'}, {'stationCode': '525143', 'tm': 2.2, 'addr': '대전광역시 유성구 도안대로 398 대전역사박물관 (상대동)', 'stationName': '상대동(대전)'}, {'stationCode': '525142', 'tm': 3, 'addr': '대전 유성구 노은동로 87번길 89(노은1동 주민센터) 노은1동 주민센터 3층 옥상', 'stationName': '노은동'}], 'pageNo': 1, 'numOfRows': 10}, 'header': {'resultMsg': 'NORMAL_CODE', 'resultCode': '00'}}}\n",
            "해당 지역 근처에 있는 측정소의 개수 3\n"
          ]
        }
      ],
      "source": [
        "# 근접측정소 찾기\n",
        "req_url = ''\n",
        "\n",
        "x_value = TM_X\n",
        "y_value = TM_Y\n",
        "num_of_rows = 10 # 한 페이지에 포함된 결과 수\n",
        "page_no = 1 # 페이지 번호\n",
        "ver = 1.1 # 차후 확인\n",
        "output_type : 'json'\n",
        "\n",
        "req_parameter = {\"serviceKey\":API_KEY_decode, \"tmX\":x_value, \"tmY\":y_value, \"ver\":ver, \"returnType\":output_type}\n",
        "dict_data = requests.get(req_url, params = req_parameter).json()\n",
        "print(dict_data)\n",
        "print(\"해당 지역 근처에 있는 측정소의 개수\", dict_data['response']['body']['totalCount'])\n",
        "total2 = dict_data['response']['body']['totalCount']"
      ]
    },
    {
      "cell_type": "code",
      "execution_count": null,
      "metadata": {
        "colab": {
          "base_uri": "https://localhost:8080/"
        },
        "id": "X6ZAFloE1zJt",
        "outputId": "be7431a3-682b-459b-bbca-5df557b72554"
      },
      "outputs": [
        {
          "name": "stdout",
          "output_type": "stream",
          "text": [
            "[측정소 정보]\n",
            "- 측정소 이름:월평동, 거리 0.8[km]\n",
            "- 측정소 주소:대전 서구 월평동160-5 도로변(월평자동차종합시장앞) \n",
            "\n",
            "- 측정소 이름:상대동(대전), 거리 2.2[km]\n",
            "- 측정소 주소:대전광역시 유성구 도안대로 398 대전역사박물관 (상대동) \n",
            "\n",
            "- 측정소 이름:노은동, 거리 3[km]\n",
            "- 측정소 주소:대전 유성구 노은동로 87번길 89(노은1동 주민센터) 노은1동 주민센터 3층 옥상 \n",
            "\n"
          ]
        }
      ],
      "source": [
        "print(\"[측정소 정보]\")\n",
        "dict_data['list'] = dict_data['response']['body']['items']\n",
        "#print(dict_data['list'])\n",
        "\n",
        "for k in range(total2):\n",
        "  stationName = dict_data['list'][k]['stationName']\n",
        "  distance = dict_data['list'][k]['tm']\n",
        "  addr = dict_data['list'][k]['addr']\n",
        "  print(\"- 측정소 이름:{0}, 거리 {1}[km]\".format(stationName, distance))\n",
        "  print(\"- 측정소 주소:{0} \\n\".format(addr))"
      ]
    }
  ],
  "metadata": {
    "colab": {
      "provenance": []
    },
    "kernelspec": {
      "display_name": "base",
      "language": "python",
      "name": "python3"
    },
    "language_info": {
      "codemirror_mode": {
        "name": "ipython",
        "version": 3
      },
      "file_extension": ".py",
      "mimetype": "text/x-python",
      "name": "python",
      "nbconvert_exporter": "python",
      "pygments_lexer": "ipython3",
      "version": "3.12.7"
    }
  },
  "nbformat": 4,
  "nbformat_minor": 0
}

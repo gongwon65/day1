{
  "cells": [
    {
      "cell_type": "markdown",
      "id": "97ecff92",
      "metadata": {
        "id": "97ecff92"
      },
      "source": [
        "# (실습) 실전 예제: 붓꽃 데이터 분석"
      ]
    },
    {
      "cell_type": "code",
      "execution_count": 298,
      "id": "52aeb464",
      "metadata": {},
      "outputs": [],
      "source": [
        "import platform\n",
        "import matplotlib as mpl\n",
        "\n",
        "# 윈도우 설정\n",
        "if platform.system() == 'Windows':\n",
        "    try:\n",
        "        font_path = \"C:/Windows/Fonts/malgun.ttf\"  # '맑은 고딕' 폰트를 사용\n",
        "        font = mpl.font_manager.FontProperties(fname=font_path).get_name()\n",
        "        plt.rc('font', family=font)\n",
        "    except FileNotFoundError:\n",
        "        print(\"폰트 파일을 찾을 수 없습니다. 다른 경로를 확인하세요.\")\n",
        "# 우분투/구글 코랩 설정\n",
        "elif platform.system() == 'Linux':\n",
        "    # 우분투/구글코랩의 경우 아래 명령문이 최소 한번 실행되어야 함\n",
        "    # !sudo apt-get install -y fonts-nanum*\n",
        "    # !fc-cache -fv\n",
        "\n",
        "    font = \"NanumBarunGothic\"\n",
        "    if not any(map(lambda ft: ft.name == font, mpl.font_manager.fontManager.ttflist)):\n",
        "        mpl.font_manager.fontManager.addfont(\"/usr/share/fonts/truetype/nanum/NanumBarunGothic.ttf\")\n",
        "    plt.rc(\"font\", family=font)\n",
        "    plt.rc(\"axes\", unicode_minus=False)"
      ]
    },
    {
      "cell_type": "code",
      "execution_count": 299,
      "id": "83c36ad1",
      "metadata": {
        "id": "83c36ad1"
      },
      "outputs": [],
      "source": [
        "# 넘파이\n",
        "import numpy as np\n",
        "\n",
        "# 램덤 시드\n",
        "np.random.seed(12345)\n",
        "\n",
        "# 어레이 사용되는 부동소수점들의 정확도 지정\n",
        "np.set_printoptions(precision=4, suppress=True)"
      ]
    },
    {
      "cell_type": "code",
      "execution_count": 300,
      "id": "45cc6114",
      "metadata": {
        "id": "45cc6114"
      },
      "outputs": [],
      "source": [
        "# 파이플롯\n",
        "import matplotlib.pyplot as plt\n",
        "\n",
        "# # 도표 크기 지정\n",
        "plt.rc('figure', figsize=(10, 6))"
      ]
    },
    {
      "cell_type": "markdown",
      "id": "4523eae0",
      "metadata": {
        "id": "4523eae0"
      },
      "source": [
        "아래 코드는 인터넷 데이터 저장소로부터 아이리스(붓꽃) 데이터(`iris.data`)를\n",
        "2차원 넘파이 어레이로 불러온다."
      ]
    },
    {
      "cell_type": "markdown",
      "id": "0b973d49",
      "metadata": {
        "id": "0b973d49"
      },
      "source": [
        "- `np.genfromtxt()` 함수의 `dtype='str'` 키워드 옵션: 부동소수점과 문자열이 함께 포함된 데이터이기에 모두 문자열로 통일해서 불러오는 용도"
      ]
    },
    {
      "cell_type": "code",
      "execution_count": 301,
      "id": "f44d0a1e",
      "metadata": {
        "id": "f44d0a1e"
      },
      "outputs": [],
      "source": [
        "import numpy as np\n",
        "\n",
        "# 아이리스(붓꽃) 데이터 불러오기\n",
        "url = 'https://archive.ics.uci.edu/ml/machine-learning-databases/iris/iris.data'\n",
        "iris = np.genfromtxt(url, delimiter=',', dtype='str')"
      ]
    },
    {
      "cell_type": "markdown",
      "id": "4d45917c",
      "metadata": {
        "id": "4d45917c"
      },
      "source": [
        "`iris.data` 파일에는 아래 형식의 데이터가 150개 들어 있다.\n",
        "\n",
        "```python\n",
        "5.1,3.5,1.4,0.2,Iris-setosa\n",
        "```\n",
        "\n",
        "하나의 데이터에 사용된 값들은 하나의 아이리스(붓꽃)에 대한 꽃잎, 꽃받침과 관련된 특성(features)과 품종을 나타내며,\n",
        "보다 구체적으로 아래 순서를 따른다.\n",
        "\n",
        "```\n",
        "꽃받침 길이, 꽃받침 너비, 꽃잎 길이, 꽃잎 너비, 품종\n",
        "```"
      ]
    },
    {
      "cell_type": "code",
      "execution_count": 302,
      "id": "8bb7c2f9",
      "metadata": {
        "id": "8bb7c2f9",
        "outputId": "405b5cb6-864b-4eb8-bd62-3c672b8338fc"
      },
      "outputs": [
        {
          "data": {
            "text/plain": [
              "(150, 5)"
            ]
          },
          "execution_count": 302,
          "metadata": {},
          "output_type": "execute_result"
        }
      ],
      "source": [
        "iris.shape"
      ]
    },
    {
      "cell_type": "markdown",
      "id": "c0484899",
      "metadata": {
        "id": "c0484899"
      },
      "source": [
        "길이와 너비를 저장하는 특성들은 원래 숫자이지만 위 코드는 문자열로 불러왔다.\n",
        "처음 5개 데이터를 확인하면 다음과 같다.\n",
        "\n",
        "__참고:__ `'<U15'`는 길이가 최대 15인 유니코드 문자열 자료형을 나타낸다."
      ]
    },
    {
      "cell_type": "code",
      "execution_count": 303,
      "id": "3f1f98ba",
      "metadata": {
        "id": "3f1f98ba",
        "outputId": "167a1f4b-4d0a-456e-96ca-d143758d3f1e"
      },
      "outputs": [
        {
          "data": {
            "text/plain": [
              "array([['5.1', '3.5', '1.4', '0.2', 'Iris-setosa'],\n",
              "       ['4.9', '3.0', '1.4', '0.2', 'Iris-setosa'],\n",
              "       ['4.7', '3.2', '1.3', '0.2', 'Iris-setosa'],\n",
              "       ['4.6', '3.1', '1.5', '0.2', 'Iris-setosa'],\n",
              "       ['5.0', '3.6', '1.4', '0.2', 'Iris-setosa']], dtype='<U15')"
            ]
          },
          "execution_count": 303,
          "metadata": {},
          "output_type": "execute_result"
        }
      ],
      "source": [
        "iris[:5]"
      ]
    },
    {
      "cell_type": "markdown",
      "id": "5bda5d05",
      "metadata": {
        "id": "5bda5d05"
      },
      "source": [
        "수치형 데이터와 품종 데이터를 분리해서 각각 (150,4), (150,) 모양의 어레이를 생성하자.\n",
        "이때 수치형 데이터는 `'f8'`, 즉 `'float64'` 자료형을 사용하도록 한다."
      ]
    },
    {
      "cell_type": "code",
      "execution_count": 304,
      "id": "f0a6a0a4",
      "metadata": {
        "id": "f0a6a0a4"
      },
      "outputs": [
        {
          "data": {
            "text/plain": [
              "array(['Iris-setosa', 'Iris-setosa', 'Iris-setosa', 'Iris-setosa',\n",
              "       'Iris-setosa', 'Iris-setosa', 'Iris-setosa', 'Iris-setosa',\n",
              "       'Iris-setosa', 'Iris-setosa', 'Iris-setosa', 'Iris-setosa',\n",
              "       'Iris-setosa', 'Iris-setosa', 'Iris-setosa', 'Iris-setosa',\n",
              "       'Iris-setosa', 'Iris-setosa', 'Iris-setosa', 'Iris-setosa',\n",
              "       'Iris-setosa', 'Iris-setosa', 'Iris-setosa', 'Iris-setosa',\n",
              "       'Iris-setosa', 'Iris-setosa', 'Iris-setosa', 'Iris-setosa',\n",
              "       'Iris-setosa', 'Iris-setosa', 'Iris-setosa', 'Iris-setosa',\n",
              "       'Iris-setosa', 'Iris-setosa', 'Iris-setosa', 'Iris-setosa',\n",
              "       'Iris-setosa', 'Iris-setosa', 'Iris-setosa', 'Iris-setosa',\n",
              "       'Iris-setosa', 'Iris-setosa', 'Iris-setosa', 'Iris-setosa',\n",
              "       'Iris-setosa', 'Iris-setosa', 'Iris-setosa', 'Iris-setosa',\n",
              "       'Iris-setosa', 'Iris-setosa', 'Iris-versicolor', 'Iris-versicolor',\n",
              "       'Iris-versicolor', 'Iris-versicolor', 'Iris-versicolor',\n",
              "       'Iris-versicolor', 'Iris-versicolor', 'Iris-versicolor',\n",
              "       'Iris-versicolor', 'Iris-versicolor', 'Iris-versicolor',\n",
              "       'Iris-versicolor', 'Iris-versicolor', 'Iris-versicolor',\n",
              "       'Iris-versicolor', 'Iris-versicolor', 'Iris-versicolor',\n",
              "       'Iris-versicolor', 'Iris-versicolor', 'Iris-versicolor',\n",
              "       'Iris-versicolor', 'Iris-versicolor', 'Iris-versicolor',\n",
              "       'Iris-versicolor', 'Iris-versicolor', 'Iris-versicolor',\n",
              "       'Iris-versicolor', 'Iris-versicolor', 'Iris-versicolor',\n",
              "       'Iris-versicolor', 'Iris-versicolor', 'Iris-versicolor',\n",
              "       'Iris-versicolor', 'Iris-versicolor', 'Iris-versicolor',\n",
              "       'Iris-versicolor', 'Iris-versicolor', 'Iris-versicolor',\n",
              "       'Iris-versicolor', 'Iris-versicolor', 'Iris-versicolor',\n",
              "       'Iris-versicolor', 'Iris-versicolor', 'Iris-versicolor',\n",
              "       'Iris-versicolor', 'Iris-versicolor', 'Iris-versicolor',\n",
              "       'Iris-versicolor', 'Iris-versicolor', 'Iris-versicolor',\n",
              "       'Iris-virginica', 'Iris-virginica', 'Iris-virginica',\n",
              "       'Iris-virginica', 'Iris-virginica', 'Iris-virginica',\n",
              "       'Iris-virginica', 'Iris-virginica', 'Iris-virginica',\n",
              "       'Iris-virginica', 'Iris-virginica', 'Iris-virginica',\n",
              "       'Iris-virginica', 'Iris-virginica', 'Iris-virginica',\n",
              "       'Iris-virginica', 'Iris-virginica', 'Iris-virginica',\n",
              "       'Iris-virginica', 'Iris-virginica', 'Iris-virginica',\n",
              "       'Iris-virginica', 'Iris-virginica', 'Iris-virginica',\n",
              "       'Iris-virginica', 'Iris-virginica', 'Iris-virginica',\n",
              "       'Iris-virginica', 'Iris-virginica', 'Iris-virginica',\n",
              "       'Iris-virginica', 'Iris-virginica', 'Iris-virginica',\n",
              "       'Iris-virginica', 'Iris-virginica', 'Iris-virginica',\n",
              "       'Iris-virginica', 'Iris-virginica', 'Iris-virginica',\n",
              "       'Iris-virginica', 'Iris-virginica', 'Iris-virginica',\n",
              "       'Iris-virginica', 'Iris-virginica', 'Iris-virginica',\n",
              "       'Iris-virginica', 'Iris-virginica', 'Iris-virginica',\n",
              "       'Iris-virginica', 'Iris-virginica'], dtype='<U15')"
            ]
          },
          "execution_count": 304,
          "metadata": {},
          "output_type": "execute_result"
        }
      ],
      "source": [
        "iris_features = iris[:,:4].astype('f8')\n",
        "iris_labels = iris[:, 4]\n",
        "iris_labels\n"
      ]
    },
    {
      "cell_type": "code",
      "execution_count": 305,
      "id": "ef1b835d",
      "metadata": {
        "id": "ef1b835d",
        "outputId": "98954893-b3e9-49a0-f5aa-d524490e228a"
      },
      "outputs": [
        {
          "data": {
            "text/plain": [
              "array([[5.1, 3.5, 1.4, 0.2],\n",
              "       [4.9, 3. , 1.4, 0.2],\n",
              "       [4.7, 3.2, 1.3, 0.2],\n",
              "       [4.6, 3.1, 1.5, 0.2],\n",
              "       [5. , 3.6, 1.4, 0.2]])"
            ]
          },
          "execution_count": 305,
          "metadata": {},
          "output_type": "execute_result"
        }
      ],
      "source": [
        "iris_features[:5]"
      ]
    },
    {
      "cell_type": "markdown",
      "id": "51420ffa",
      "metadata": {
        "id": "51420ffa"
      },
      "source": [
        "150개의 데이터는 아래 세 개의 품종으로 구분되며, 각각 50개씩 아래 언급된 순서대로 구분되어 있다.\n",
        "\n",
        "```\n",
        "'Iris-setosa', 'Iris-versicolor', 'Iris-virginica'\n",
        "```\n",
        "\n",
        "즉, 0번, 50번, 100번부터 각 품종의 데이터가 시작된다."
      ]
    },
    {
      "cell_type": "code",
      "execution_count": 306,
      "id": "ec1e3d75",
      "metadata": {
        "id": "ec1e3d75",
        "outputId": "667349ef-aba9-4159-a1ef-ba0e2e23d209"
      },
      "outputs": [
        {
          "data": {
            "text/plain": [
              "array(['Iris-setosa', 'Iris-versicolor', 'Iris-virginica'], dtype='<U15')"
            ]
          },
          "execution_count": 306,
          "metadata": {},
          "output_type": "execute_result"
        }
      ],
      "source": [
        "iris_labels[::50]"
      ]
    },
    {
      "cell_type": "code",
      "execution_count": 307,
      "id": "2bc9ae96",
      "metadata": {
        "id": "2bc9ae96",
        "outputId": "54c8fd39-2a2b-4a9a-8dac-9cc41ff7e0bc"
      },
      "outputs": [
        {
          "data": {
            "text/plain": [
              "array(['Iris-setosa', 'Iris-setosa', 'Iris-setosa', 'Iris-setosa',\n",
              "       'Iris-setosa'], dtype='<U15')"
            ]
          },
          "execution_count": 307,
          "metadata": {},
          "output_type": "execute_result"
        }
      ],
      "source": [
        "iris_labels[:5]"
      ]
    },
    {
      "cell_type": "code",
      "execution_count": 308,
      "id": "35fa2b46",
      "metadata": {
        "id": "35fa2b46",
        "outputId": "801f1ea5-781e-4b58-d78a-06df5b62fde9"
      },
      "outputs": [
        {
          "data": {
            "text/plain": [
              "array(['Iris-versicolor', 'Iris-versicolor', 'Iris-versicolor',\n",
              "       'Iris-versicolor', 'Iris-versicolor'], dtype='<U15')"
            ]
          },
          "execution_count": 308,
          "metadata": {},
          "output_type": "execute_result"
        }
      ],
      "source": [
        "iris_labels[50:55]"
      ]
    },
    {
      "cell_type": "code",
      "execution_count": 309,
      "id": "fd477f1b",
      "metadata": {
        "id": "fd477f1b",
        "outputId": "3d3ac819-3cdb-45af-91a5-b02a013ca1f2"
      },
      "outputs": [
        {
          "data": {
            "text/plain": [
              "array(['Iris-virginica', 'Iris-virginica', 'Iris-virginica',\n",
              "       'Iris-virginica', 'Iris-virginica'], dtype='<U15')"
            ]
          },
          "execution_count": 309,
          "metadata": {},
          "output_type": "execute_result"
        }
      ],
      "source": [
        "iris_labels[100:105]"
      ]
    },
    {
      "cell_type": "markdown",
      "id": "707f09a7",
      "metadata": {
        "id": "707f09a7"
      },
      "source": [
        "**문제 1**"
      ]
    },
    {
      "cell_type": "markdown",
      "id": "bcca0683",
      "metadata": {
        "id": "bcca0683"
      },
      "source": [
        "꽃잎 길이(2번 열)가 1.5보다 크거나 꽃받침 길이(0번 열)가 5.0보다 작은 데이터만 추출하라."
      ]
    },
    {
      "cell_type": "code",
      "execution_count": 310,
      "id": "9a6320ee",
      "metadata": {
        "id": "9a6320ee"
      },
      "outputs": [
        {
          "data": {
            "text/plain": [
              "array([[4.9, 3. , 1.4, 0.2],\n",
              "       [4.7, 3.2, 1.3, 0.2],\n",
              "       [4.6, 3.1, 1.5, 0.2],\n",
              "       [5.4, 3.9, 1.7, 0.4],\n",
              "       [4.6, 3.4, 1.4, 0.3],\n",
              "       [4.4, 2.9, 1.4, 0.2],\n",
              "       [4.9, 3.1, 1.5, 0.1],\n",
              "       [4.8, 3.4, 1.6, 0.2],\n",
              "       [4.8, 3. , 1.4, 0.1],\n",
              "       [4.3, 3. , 1.1, 0.1],\n",
              "       [5.7, 3.8, 1.7, 0.3],\n",
              "       [5.4, 3.4, 1.7, 0.2],\n",
              "       [4.6, 3.6, 1. , 0.2],\n",
              "       [5.1, 3.3, 1.7, 0.5],\n",
              "       [4.8, 3.4, 1.9, 0.2],\n",
              "       [5. , 3. , 1.6, 0.2],\n",
              "       [5. , 3.4, 1.6, 0.4],\n",
              "       [4.7, 3.2, 1.6, 0.2],\n",
              "       [4.8, 3.1, 1.6, 0.2],\n",
              "       [4.9, 3.1, 1.5, 0.1],\n",
              "       [4.9, 3.1, 1.5, 0.1],\n",
              "       [4.4, 3. , 1.3, 0.2],\n",
              "       [4.5, 2.3, 1.3, 0.3],\n",
              "       [4.4, 3.2, 1.3, 0.2],\n",
              "       [5. , 3.5, 1.6, 0.6],\n",
              "       [5.1, 3.8, 1.9, 0.4],\n",
              "       [4.8, 3. , 1.4, 0.3],\n",
              "       [5.1, 3.8, 1.6, 0.2],\n",
              "       [4.6, 3.2, 1.4, 0.2],\n",
              "       [7. , 3.2, 4.7, 1.4],\n",
              "       [6.4, 3.2, 4.5, 1.5],\n",
              "       [6.9, 3.1, 4.9, 1.5],\n",
              "       [5.5, 2.3, 4. , 1.3],\n",
              "       [6.5, 2.8, 4.6, 1.5],\n",
              "       [5.7, 2.8, 4.5, 1.3],\n",
              "       [6.3, 3.3, 4.7, 1.6],\n",
              "       [4.9, 2.4, 3.3, 1. ],\n",
              "       [6.6, 2.9, 4.6, 1.3],\n",
              "       [5.2, 2.7, 3.9, 1.4],\n",
              "       [5. , 2. , 3.5, 1. ],\n",
              "       [5.9, 3. , 4.2, 1.5],\n",
              "       [6. , 2.2, 4. , 1. ],\n",
              "       [6.1, 2.9, 4.7, 1.4],\n",
              "       [5.6, 2.9, 3.6, 1.3],\n",
              "       [6.7, 3.1, 4.4, 1.4],\n",
              "       [5.6, 3. , 4.5, 1.5],\n",
              "       [5.8, 2.7, 4.1, 1. ],\n",
              "       [6.2, 2.2, 4.5, 1.5],\n",
              "       [5.6, 2.5, 3.9, 1.1],\n",
              "       [5.9, 3.2, 4.8, 1.8],\n",
              "       [6.1, 2.8, 4. , 1.3],\n",
              "       [6.3, 2.5, 4.9, 1.5],\n",
              "       [6.1, 2.8, 4.7, 1.2],\n",
              "       [6.4, 2.9, 4.3, 1.3],\n",
              "       [6.6, 3. , 4.4, 1.4],\n",
              "       [6.8, 2.8, 4.8, 1.4],\n",
              "       [6.7, 3. , 5. , 1.7],\n",
              "       [6. , 2.9, 4.5, 1.5],\n",
              "       [5.7, 2.6, 3.5, 1. ],\n",
              "       [5.5, 2.4, 3.8, 1.1],\n",
              "       [5.5, 2.4, 3.7, 1. ],\n",
              "       [5.8, 2.7, 3.9, 1.2],\n",
              "       [6. , 2.7, 5.1, 1.6],\n",
              "       [5.4, 3. , 4.5, 1.5],\n",
              "       [6. , 3.4, 4.5, 1.6],\n",
              "       [6.7, 3.1, 4.7, 1.5],\n",
              "       [6.3, 2.3, 4.4, 1.3],\n",
              "       [5.6, 3. , 4.1, 1.3],\n",
              "       [5.5, 2.5, 4. , 1.3],\n",
              "       [5.5, 2.6, 4.4, 1.2],\n",
              "       [6.1, 3. , 4.6, 1.4],\n",
              "       [5.8, 2.6, 4. , 1.2],\n",
              "       [5. , 2.3, 3.3, 1. ],\n",
              "       [5.6, 2.7, 4.2, 1.3],\n",
              "       [5.7, 3. , 4.2, 1.2],\n",
              "       [5.7, 2.9, 4.2, 1.3],\n",
              "       [6.2, 2.9, 4.3, 1.3],\n",
              "       [5.1, 2.5, 3. , 1.1],\n",
              "       [5.7, 2.8, 4.1, 1.3],\n",
              "       [6.3, 3.3, 6. , 2.5],\n",
              "       [5.8, 2.7, 5.1, 1.9],\n",
              "       [7.1, 3. , 5.9, 2.1],\n",
              "       [6.3, 2.9, 5.6, 1.8],\n",
              "       [6.5, 3. , 5.8, 2.2],\n",
              "       [7.6, 3. , 6.6, 2.1],\n",
              "       [4.9, 2.5, 4.5, 1.7],\n",
              "       [7.3, 2.9, 6.3, 1.8],\n",
              "       [6.7, 2.5, 5.8, 1.8],\n",
              "       [7.2, 3.6, 6.1, 2.5],\n",
              "       [6.5, 3.2, 5.1, 2. ],\n",
              "       [6.4, 2.7, 5.3, 1.9],\n",
              "       [6.8, 3. , 5.5, 2.1],\n",
              "       [5.7, 2.5, 5. , 2. ],\n",
              "       [5.8, 2.8, 5.1, 2.4],\n",
              "       [6.4, 3.2, 5.3, 2.3],\n",
              "       [6.5, 3. , 5.5, 1.8],\n",
              "       [7.7, 3.8, 6.7, 2.2],\n",
              "       [7.7, 2.6, 6.9, 2.3],\n",
              "       [6. , 2.2, 5. , 1.5],\n",
              "       [6.9, 3.2, 5.7, 2.3],\n",
              "       [5.6, 2.8, 4.9, 2. ],\n",
              "       [7.7, 2.8, 6.7, 2. ],\n",
              "       [6.3, 2.7, 4.9, 1.8],\n",
              "       [6.7, 3.3, 5.7, 2.1],\n",
              "       [7.2, 3.2, 6. , 1.8],\n",
              "       [6.2, 2.8, 4.8, 1.8],\n",
              "       [6.1, 3. , 4.9, 1.8],\n",
              "       [6.4, 2.8, 5.6, 2.1],\n",
              "       [7.2, 3. , 5.8, 1.6],\n",
              "       [7.4, 2.8, 6.1, 1.9],\n",
              "       [7.9, 3.8, 6.4, 2. ],\n",
              "       [6.4, 2.8, 5.6, 2.2],\n",
              "       [6.3, 2.8, 5.1, 1.5],\n",
              "       [6.1, 2.6, 5.6, 1.4],\n",
              "       [7.7, 3. , 6.1, 2.3],\n",
              "       [6.3, 3.4, 5.6, 2.4],\n",
              "       [6.4, 3.1, 5.5, 1.8],\n",
              "       [6. , 3. , 4.8, 1.8],\n",
              "       [6.9, 3.1, 5.4, 2.1],\n",
              "       [6.7, 3.1, 5.6, 2.4],\n",
              "       [6.9, 3.1, 5.1, 2.3],\n",
              "       [5.8, 2.7, 5.1, 1.9],\n",
              "       [6.8, 3.2, 5.9, 2.3],\n",
              "       [6.7, 3.3, 5.7, 2.5],\n",
              "       [6.7, 3. , 5.2, 2.3],\n",
              "       [6.3, 2.5, 5. , 1.9],\n",
              "       [6.5, 3. , 5.2, 2. ],\n",
              "       [6.2, 3.4, 5.4, 2.3],\n",
              "       [5.9, 3. , 5.1, 1.8]])"
            ]
          },
          "execution_count": 310,
          "metadata": {},
          "output_type": "execute_result"
        }
      ],
      "source": [
        "# None을 적절한 부울 표현식으로 대체하라.\n",
        "\n",
        "mask = (iris_features[:,2] > 1.5) | (iris_features[:,0]<5)\n",
        "iris_features[mask]\n",
        "\n"
      ]
    },
    {
      "cell_type": "markdown",
      "id": "bc8df63e",
      "metadata": {
        "id": "bc8df63e"
      },
      "source": [
        "**문제 2**"
      ]
    },
    {
      "cell_type": "markdown",
      "id": "41628dd8",
      "metadata": {
        "id": "41628dd8"
      },
      "source": [
        "꽃받침 길이(0번 열)와 꽃잎 길이(2번 열) 사이의 상관관계를 계산하라.\n",
        "\n",
        "힌트: 넘파이의 적절한 함수를 활용한다. 상관계수에 대한 설명은 [위키백과: 상관분석](https://ko.wikipedia.org/wiki/상관_분석)을 참고한다."
      ]
    },
    {
      "cell_type": "code",
      "execution_count": 311,
      "id": "bdf34647",
      "metadata": {},
      "outputs": [],
      "source": [
        "def dotV(v, w):\n",
        "    assert len(v) == len(w), \"벡터들의 길이가 동일해야 함\"\"\"\n",
        "\n",
        "    return sum(v_i * w_i for v_i, w_i in zip(v, w))\n",
        "\n",
        "def dev_mean(xs):\n",
        "    \"\"\"평균값과의 차이 계산\"\"\"\n",
        "    mu = np.mean(xs)\n",
        "    return [x - mu for x in xs]\n",
        "\n",
        "def sum_of_squares(v):\n",
        "    \"\"\"반환값: v_1 * v_1 + ... + v_n * v_n\"\"\"\n",
        "    return dotV(v, v)\n",
        "def var(xs):\n",
        "    \"\"\"\n",
        "    분산값 계산. 단, 2개 이상의 데이터가 있어야 함.\n",
        "    \"\"\"\n",
        "    \n",
        "    assert len(xs) >= 2, \"두 개 이상의 데이터 필요\"\n",
        "\n",
        "    n = len(xs)\n",
        "    deviations = dev_mean(xs)\n",
        "    deviation_sum = sum_of_squares(deviations)\n",
        "    return deviation_sum / (n - 1)\n",
        "import math\n",
        "\n",
        "def std(xs):\n",
        "    return math.sqrt(var(xs))\n",
        "def cov(xs, ys):\n",
        "    assert len(xs) == len(ys), \"xs와 ys의 길이가 같아야 함.\"\n",
        "\n",
        "    return dotV(dev_mean(xs), dev_mean(ys)) / (len(xs) - 1)\n",
        "def corrcoef(xs, ys):\n",
        "    assert len(xs) == len(ys), \"xs와 ys의 길이가 같아야 함.\"\n",
        "\n",
        "    stdev_x = std(xs) # xs의 표준편차\n",
        "    stdev_y = std(ys) # ys의 표준편차\n",
        "\n",
        "    if stdev_x > 0 and stdev_y > 0:\n",
        "        return cov(xs, ys) / (stdev_x * stdev_y)\n",
        "    else:\n",
        "        return 0 "
      ]
    },
    {
      "cell_type": "code",
      "execution_count": 312,
      "id": "90beda34",
      "metadata": {
        "id": "90beda34"
      },
      "outputs": [
        {
          "data": {
            "text/plain": [
              "0.8717541573048718"
            ]
          },
          "execution_count": 312,
          "metadata": {},
          "output_type": "execute_result"
        }
      ],
      "source": [
        "# 적절한 넘파이 함수를 호출하라.\n",
        "def corrcoef(xs, ys):\n",
        "    assert len(xs) == len(ys), \"xs와 ys의 길이가 같아야 함.\"\n",
        "\n",
        "    stdev_x = std(xs) # xs의 표준편차\n",
        "    stdev_y = std(ys) # ys의 표준편차\n",
        "\n",
        "    if stdev_x > 0 and stdev_y > 0:\n",
        "        return cov(xs, ys) / (stdev_x * stdev_y)\n",
        "    else:\n",
        "        return 0 \n",
        "corrcoef(iris_features[:,0], iris_features[:,2])"
      ]
    },
    {
      "cell_type": "markdown",
      "id": "b97ffc00",
      "metadata": {
        "id": "b97ffc00"
      },
      "source": [
        "**문제 3**"
      ]
    },
    {
      "cell_type": "markdown",
      "id": "b6699dd6",
      "metadata": {
        "id": "b6699dd6"
      },
      "source": [
        "아래 식으로 계산된 값을 갖는 새로운 열(column)이 추가된 2차원 어레이  `iris_features_added`를 생성하라.\n",
        "\n",
        "$$\\frac{\\text{원주율} \\times \\text{꽃잎길이} \\times \\text{꽃받침길이}^2}{3} $$\n",
        "\n",
        "힌트: `np.hstack()` 함수를 활용할 수 있다."
      ]
    },
    {
      "cell_type": "code",
      "execution_count": 313,
      "id": "48627edc",
      "metadata": {
        "id": "48627edc"
      },
      "outputs": [
        {
          "data": {
            "text/plain": [
              "array([[  5.1   ,   3.5   ,   1.4   ,   0.2   ,  38.1327],\n",
              "       [  4.9   ,   3.    ,   1.4   ,   0.2   ,  35.2005],\n",
              "       [  4.7   ,   3.2   ,   1.3   ,   0.2   ,  30.0724],\n",
              "       [  4.6   ,   3.1   ,   1.5   ,   0.2   ,  33.2381],\n",
              "       [  5.    ,   3.6   ,   1.4   ,   0.2   ,  36.6519],\n",
              "       [  5.4   ,   3.9   ,   1.7   ,   0.4   ,  51.9117],\n",
              "       [  4.6   ,   3.4   ,   1.4   ,   0.3   ,  31.0222],\n",
              "       [  5.    ,   3.4   ,   1.5   ,   0.2   ,  39.2699],\n",
              "       [  4.4   ,   2.9   ,   1.4   ,   0.2   ,  28.3832],\n",
              "       [  4.9   ,   3.1   ,   1.5   ,   0.1   ,  37.7148],\n",
              "       [  5.4   ,   3.7   ,   1.5   ,   0.2   ,  45.8044],\n",
              "       [  4.8   ,   3.4   ,   1.6   ,   0.2   ,  38.6039],\n",
              "       [  4.8   ,   3.    ,   1.4   ,   0.1   ,  33.7784],\n",
              "       [  4.3   ,   3.    ,   1.1   ,   0.1   ,  21.299 ],\n",
              "       [  5.8   ,   4.    ,   1.2   ,   0.2   ,  42.2733],\n",
              "       [  5.7   ,   4.4   ,   1.5   ,   0.4   ,  51.0352],\n",
              "       [  5.4   ,   3.9   ,   1.3   ,   0.4   ,  39.6972],\n",
              "       [  5.1   ,   3.5   ,   1.4   ,   0.3   ,  38.1327],\n",
              "       [  5.7   ,   3.8   ,   1.7   ,   0.3   ,  57.8399],\n",
              "       [  5.1   ,   3.8   ,   1.5   ,   0.3   ,  40.8564],\n",
              "       [  5.4   ,   3.4   ,   1.7   ,   0.2   ,  51.9117],\n",
              "       [  5.1   ,   3.7   ,   1.5   ,   0.4   ,  40.8564],\n",
              "       [  4.6   ,   3.6   ,   1.    ,   0.2   ,  22.1587],\n",
              "       [  5.1   ,   3.3   ,   1.7   ,   0.5   ,  46.3039],\n",
              "       [  4.8   ,   3.4   ,   1.9   ,   0.2   ,  45.8421],\n",
              "       [  5.    ,   3.    ,   1.6   ,   0.2   ,  41.8879],\n",
              "       [  5.    ,   3.4   ,   1.6   ,   0.4   ,  41.8879],\n",
              "       [  5.2   ,   3.5   ,   1.5   ,   0.2   ,  42.4743],\n",
              "       [  5.2   ,   3.4   ,   1.4   ,   0.2   ,  39.6427],\n",
              "       [  4.7   ,   3.2   ,   1.6   ,   0.2   ,  37.0122],\n",
              "       [  4.8   ,   3.1   ,   1.6   ,   0.2   ,  38.6039],\n",
              "       [  5.4   ,   3.4   ,   1.5   ,   0.4   ,  45.8044],\n",
              "       [  5.2   ,   4.1   ,   1.5   ,   0.1   ,  42.4743],\n",
              "       [  5.5   ,   4.2   ,   1.4   ,   0.2   ,  44.3488],\n",
              "       [  4.9   ,   3.1   ,   1.5   ,   0.1   ,  37.7148],\n",
              "       [  5.    ,   3.2   ,   1.2   ,   0.2   ,  31.4159],\n",
              "       [  5.5   ,   3.5   ,   1.3   ,   0.2   ,  41.181 ],\n",
              "       [  4.9   ,   3.1   ,   1.5   ,   0.1   ,  37.7148],\n",
              "       [  4.4   ,   3.    ,   1.3   ,   0.2   ,  26.3559],\n",
              "       [  5.1   ,   3.4   ,   1.5   ,   0.2   ,  40.8564],\n",
              "       [  5.    ,   3.5   ,   1.3   ,   0.3   ,  34.0339],\n",
              "       [  4.5   ,   2.3   ,   1.3   ,   0.3   ,  27.5675],\n",
              "       [  4.4   ,   3.2   ,   1.3   ,   0.2   ,  26.3559],\n",
              "       [  5.    ,   3.5   ,   1.6   ,   0.6   ,  41.8879],\n",
              "       [  5.1   ,   3.8   ,   1.9   ,   0.4   ,  51.7515],\n",
              "       [  4.8   ,   3.    ,   1.4   ,   0.3   ,  33.7784],\n",
              "       [  5.1   ,   3.8   ,   1.6   ,   0.2   ,  43.5802],\n",
              "       [  4.6   ,   3.2   ,   1.4   ,   0.2   ,  31.0222],\n",
              "       [  5.3   ,   3.7   ,   1.5   ,   0.2   ,  44.1237],\n",
              "       [  5.    ,   3.3   ,   1.4   ,   0.2   ,  36.6519],\n",
              "       [  7.    ,   3.2   ,   4.7   ,   1.4   , 241.1696],\n",
              "       [  6.4   ,   3.2   ,   4.5   ,   1.5   , 193.0195],\n",
              "       [  6.9   ,   3.1   ,   4.9   ,   1.5   , 244.2997],\n",
              "       [  5.5   ,   2.3   ,   4.    ,   1.3   , 126.7109],\n",
              "       [  6.5   ,   2.8   ,   4.6   ,   1.5   , 203.5228],\n",
              "       [  5.7   ,   2.8   ,   4.5   ,   1.3   , 153.1055],\n",
              "       [  6.3   ,   3.3   ,   4.7   ,   1.6   , 195.3474],\n",
              "       [  4.9   ,   2.4   ,   3.3   ,   1.    ,  82.9726],\n",
              "       [  6.6   ,   2.9   ,   4.6   ,   1.3   , 209.8333],\n",
              "       [  5.2   ,   2.7   ,   3.9   ,   1.4   , 110.4333],\n",
              "       [  5.    ,   2.    ,   3.5   ,   1.    ,  91.6298],\n",
              "       [  5.9   ,   3.    ,   4.2   ,   1.5   , 153.1024],\n",
              "       [  6.    ,   2.2   ,   4.    ,   1.    , 150.7964],\n",
              "       [  6.1   ,   2.9   ,   4.7   ,   1.4   , 183.1412],\n",
              "       [  5.6   ,   2.9   ,   3.6   ,   1.3   , 118.2244],\n",
              "       [  6.7   ,   3.1   ,   4.4   ,   1.4   , 206.8383],\n",
              "       [  5.6   ,   3.    ,   4.5   ,   1.5   , 147.7805],\n",
              "       [  5.8   ,   2.7   ,   4.1   ,   1.    , 144.4337],\n",
              "       [  6.2   ,   2.2   ,   4.5   ,   1.5   , 181.1442],\n",
              "       [  5.6   ,   2.5   ,   3.9   ,   1.1   , 128.0764],\n",
              "       [  5.9   ,   3.2   ,   4.8   ,   1.8   , 174.9741],\n",
              "       [  6.1   ,   2.8   ,   4.    ,   1.3   , 155.8649],\n",
              "       [  6.3   ,   2.5   ,   4.9   ,   1.5   , 203.66  ],\n",
              "       [  6.1   ,   2.8   ,   4.7   ,   1.2   , 183.1412],\n",
              "       [  6.4   ,   2.9   ,   4.3   ,   1.3   , 184.4408],\n",
              "       [  6.6   ,   3.    ,   4.4   ,   1.4   , 200.7101],\n",
              "       [  6.8   ,   2.8   ,   4.8   ,   1.4   , 232.4276],\n",
              "       [  6.7   ,   3.    ,   5.    ,   1.7   , 235.0435],\n",
              "       [  6.    ,   2.9   ,   4.5   ,   1.5   , 169.646 ],\n",
              "       [  5.7   ,   2.6   ,   3.5   ,   1.    , 119.0821],\n",
              "       [  5.5   ,   2.4   ,   3.8   ,   1.1   , 120.3754],\n",
              "       [  5.5   ,   2.4   ,   3.7   ,   1.    , 117.2076],\n",
              "       [  5.8   ,   2.7   ,   3.9   ,   1.2   , 137.3881],\n",
              "       [  6.    ,   2.7   ,   5.1   ,   1.6   , 192.2655],\n",
              "       [  5.4   ,   3.    ,   4.5   ,   1.5   , 137.4133],\n",
              "       [  6.    ,   3.4   ,   4.5   ,   1.6   , 169.646 ],\n",
              "       [  6.7   ,   3.1   ,   4.7   ,   1.5   , 220.9409],\n",
              "       [  6.3   ,   2.3   ,   4.4   ,   1.3   , 182.8784],\n",
              "       [  5.6   ,   3.    ,   4.1   ,   1.3   , 134.6445],\n",
              "       [  5.5   ,   2.5   ,   4.    ,   1.3   , 126.7109],\n",
              "       [  5.5   ,   2.6   ,   4.4   ,   1.2   , 139.382 ],\n",
              "       [  6.1   ,   3.    ,   4.6   ,   1.4   , 179.2446],\n",
              "       [  5.8   ,   2.6   ,   4.    ,   1.2   , 140.9109],\n",
              "       [  5.    ,   2.3   ,   3.3   ,   1.    ,  86.3938],\n",
              "       [  5.6   ,   2.7   ,   4.2   ,   1.3   , 137.9285],\n",
              "       [  5.7   ,   3.    ,   4.2   ,   1.2   , 142.8985],\n",
              "       [  5.7   ,   2.9   ,   4.2   ,   1.3   , 142.8985],\n",
              "       [  6.2   ,   2.9   ,   4.3   ,   1.3   , 173.0934],\n",
              "       [  5.1   ,   2.5   ,   3.    ,   1.1   ,  81.7128],\n",
              "       [  5.7   ,   2.8   ,   4.1   ,   1.3   , 139.4961],\n",
              "       [  6.3   ,   3.3   ,   6.    ,   2.5   , 249.3796],\n",
              "       [  5.8   ,   2.7   ,   5.1   ,   1.9   , 179.6614],\n",
              "       [  7.1   ,   3.    ,   5.9   ,   2.1   , 311.4564],\n",
              "       [  6.3   ,   2.9   ,   5.6   ,   1.8   , 232.7543],\n",
              "       [  6.5   ,   3.    ,   5.8   ,   2.2   , 256.6158],\n",
              "       [  7.6   ,   3.    ,   6.6   ,   2.1   , 399.2085],\n",
              "       [  4.9   ,   2.5   ,   4.5   ,   1.7   , 113.1445],\n",
              "       [  7.3   ,   2.9   ,   6.3   ,   1.8   , 351.5725],\n",
              "       [  6.7   ,   2.5   ,   5.8   ,   1.8   , 272.6504],\n",
              "       [  7.2   ,   3.6   ,   6.1   ,   2.5   , 331.149 ],\n",
              "       [  6.5   ,   3.2   ,   5.1   ,   2.    , 225.6449],\n",
              "       [  6.4   ,   2.7   ,   5.3   ,   1.9   , 227.334 ],\n",
              "       [  6.8   ,   3.    ,   5.5   ,   2.1   , 266.3233],\n",
              "       [  5.7   ,   2.5   ,   5.    ,   2.    , 170.1172],\n",
              "       [  5.8   ,   2.8   ,   5.1   ,   2.4   , 179.6614],\n",
              "       [  6.4   ,   3.2   ,   5.3   ,   2.3   , 227.334 ],\n",
              "       [  6.5   ,   3.    ,   5.5   ,   1.8   , 243.3425],\n",
              "       [  7.7   ,   3.8   ,   6.7   ,   2.2   , 415.9919],\n",
              "       [  7.7   ,   2.6   ,   6.9   ,   2.3   , 428.4096],\n",
              "       [  6.    ,   2.2   ,   5.    ,   1.5   , 188.4956],\n",
              "       [  6.9   ,   3.2   ,   5.7   ,   2.3   , 284.1853],\n",
              "       [  5.6   ,   2.8   ,   4.9   ,   2.    , 160.9166],\n",
              "       [  7.7   ,   2.8   ,   6.7   ,   2.    , 415.9919],\n",
              "       [  6.3   ,   2.7   ,   4.9   ,   1.8   , 203.66  ],\n",
              "       [  6.7   ,   3.3   ,   5.7   ,   2.1   , 267.9496],\n",
              "       [  7.2   ,   3.2   ,   6.    ,   1.8   , 325.7203],\n",
              "       [  6.2   ,   2.8   ,   4.8   ,   1.8   , 193.2205],\n",
              "       [  6.1   ,   3.    ,   4.9   ,   1.8   , 190.9345],\n",
              "       [  6.4   ,   2.8   ,   5.6   ,   2.1   , 240.202 ],\n",
              "       [  7.2   ,   3.    ,   5.8   ,   1.6   , 314.863 ],\n",
              "       [  7.4   ,   2.8   ,   6.1   ,   1.9   , 349.8017],\n",
              "       [  7.9   ,   3.8   ,   6.4   ,   2.    , 418.2758],\n",
              "       [  6.4   ,   2.8   ,   5.6   ,   2.2   , 240.202 ],\n",
              "       [  6.3   ,   2.8   ,   5.1   ,   1.5   , 211.9727],\n",
              "       [  6.1   ,   2.6   ,   5.6   ,   1.4   , 218.2108],\n",
              "       [  7.7   ,   3.    ,   6.1   ,   2.3   , 378.7389],\n",
              "       [  6.3   ,   3.4   ,   5.6   ,   2.4   , 232.7543],\n",
              "       [  6.4   ,   3.1   ,   5.5   ,   1.8   , 235.9127],\n",
              "       [  6.    ,   3.    ,   4.8   ,   1.8   , 180.9557],\n",
              "       [  6.9   ,   3.1   ,   5.4   ,   2.1   , 269.2282],\n",
              "       [  6.7   ,   3.1   ,   5.6   ,   2.4   , 263.2487],\n",
              "       [  6.9   ,   3.1   ,   5.1   ,   2.3   , 254.2711],\n",
              "       [  5.8   ,   2.7   ,   5.1   ,   1.9   , 179.6614],\n",
              "       [  6.8   ,   3.2   ,   5.9   ,   2.3   , 285.6922],\n",
              "       [  6.7   ,   3.3   ,   5.7   ,   2.5   , 267.9496],\n",
              "       [  6.7   ,   3.    ,   5.2   ,   2.3   , 244.4452],\n",
              "       [  6.3   ,   2.5   ,   5.    ,   1.9   , 207.8164],\n",
              "       [  6.5   ,   3.    ,   5.2   ,   2.    , 230.0693],\n",
              "       [  6.2   ,   3.4   ,   5.4   ,   2.3   , 217.3731],\n",
              "       [  5.9   ,   3.    ,   5.1   ,   1.8   , 185.91  ]])"
            ]
          },
          "execution_count": 313,
          "metadata": {},
          "output_type": "execute_result"
        }
      ],
      "source": [
        "# pass와 None을 각각 적절한 코드와 표현식으로 대체하라.\n",
        "iris_add = (np.pi * iris_features[:, 2] * (iris_features[:, 0]**2)) / 3\n",
        "iris_features_added = np.hstack((iris_features,iris_add[:,np.newaxis]))\n",
        "iris_features_added\n",
        "\n"
      ]
    },
    {
      "cell_type": "code",
      "execution_count": 314,
      "id": "57fbd892",
      "metadata": {
        "id": "57fbd892"
      },
      "outputs": [
        {
          "data": {
            "text/plain": [
              "array([[ 5.1   ,  3.5   ,  1.4   ,  0.2   , 38.1327],\n",
              "       [ 4.9   ,  3.    ,  1.4   ,  0.2   , 35.2005],\n",
              "       [ 4.7   ,  3.2   ,  1.3   ,  0.2   , 30.0724],\n",
              "       [ 4.6   ,  3.1   ,  1.5   ,  0.2   , 33.2381],\n",
              "       [ 5.    ,  3.6   ,  1.4   ,  0.2   , 36.6519]])"
            ]
          },
          "execution_count": 314,
          "metadata": {},
          "output_type": "execute_result"
        }
      ],
      "source": [
        "# 아래 주석을 해제하고 실행하라.\n",
        "\n",
        "assert iris_features_added.shape == (150, 5)\n",
        "iris_features_added[:5]"
      ]
    },
    {
      "cell_type": "markdown",
      "id": "4d4b4f93",
      "metadata": {
        "id": "4d4b4f93"
      },
      "source": [
        "**문제 4**"
      ]
    },
    {
      "cell_type": "markdown",
      "id": "ffedb587",
      "metadata": {
        "id": "ffedb587"
      },
      "source": [
        "`Iris_versicolor` 품종에 해당하는 데이터만 `iris_features`로부터 추출하라."
      ]
    },
    {
      "cell_type": "code",
      "execution_count": 315,
      "id": "523d1d75",
      "metadata": {
        "id": "523d1d75"
      },
      "outputs": [
        {
          "data": {
            "text/plain": [
              "array([[7. , 3.2, 4.7, 1.4],\n",
              "       [6.4, 3.2, 4.5, 1.5],\n",
              "       [6.9, 3.1, 4.9, 1.5],\n",
              "       [5.5, 2.3, 4. , 1.3],\n",
              "       [6.5, 2.8, 4.6, 1.5],\n",
              "       [5.7, 2.8, 4.5, 1.3],\n",
              "       [6.3, 3.3, 4.7, 1.6],\n",
              "       [4.9, 2.4, 3.3, 1. ],\n",
              "       [6.6, 2.9, 4.6, 1.3],\n",
              "       [5.2, 2.7, 3.9, 1.4],\n",
              "       [5. , 2. , 3.5, 1. ],\n",
              "       [5.9, 3. , 4.2, 1.5],\n",
              "       [6. , 2.2, 4. , 1. ],\n",
              "       [6.1, 2.9, 4.7, 1.4],\n",
              "       [5.6, 2.9, 3.6, 1.3],\n",
              "       [6.7, 3.1, 4.4, 1.4],\n",
              "       [5.6, 3. , 4.5, 1.5],\n",
              "       [5.8, 2.7, 4.1, 1. ],\n",
              "       [6.2, 2.2, 4.5, 1.5],\n",
              "       [5.6, 2.5, 3.9, 1.1],\n",
              "       [5.9, 3.2, 4.8, 1.8],\n",
              "       [6.1, 2.8, 4. , 1.3],\n",
              "       [6.3, 2.5, 4.9, 1.5],\n",
              "       [6.1, 2.8, 4.7, 1.2],\n",
              "       [6.4, 2.9, 4.3, 1.3],\n",
              "       [6.6, 3. , 4.4, 1.4],\n",
              "       [6.8, 2.8, 4.8, 1.4],\n",
              "       [6.7, 3. , 5. , 1.7],\n",
              "       [6. , 2.9, 4.5, 1.5],\n",
              "       [5.7, 2.6, 3.5, 1. ],\n",
              "       [5.5, 2.4, 3.8, 1.1],\n",
              "       [5.5, 2.4, 3.7, 1. ],\n",
              "       [5.8, 2.7, 3.9, 1.2],\n",
              "       [6. , 2.7, 5.1, 1.6],\n",
              "       [5.4, 3. , 4.5, 1.5],\n",
              "       [6. , 3.4, 4.5, 1.6],\n",
              "       [6.7, 3.1, 4.7, 1.5],\n",
              "       [6.3, 2.3, 4.4, 1.3],\n",
              "       [5.6, 3. , 4.1, 1.3],\n",
              "       [5.5, 2.5, 4. , 1.3],\n",
              "       [5.5, 2.6, 4.4, 1.2],\n",
              "       [6.1, 3. , 4.6, 1.4],\n",
              "       [5.8, 2.6, 4. , 1.2],\n",
              "       [5. , 2.3, 3.3, 1. ],\n",
              "       [5.6, 2.7, 4.2, 1.3],\n",
              "       [5.7, 3. , 4.2, 1.2],\n",
              "       [5.7, 2.9, 4.2, 1.3],\n",
              "       [6.2, 2.9, 4.3, 1.3],\n",
              "       [5.1, 2.5, 3. , 1.1],\n",
              "       [5.7, 2.8, 4.1, 1.3]])"
            ]
          },
          "execution_count": 315,
          "metadata": {},
          "output_type": "execute_result"
        }
      ],
      "source": [
        "# None을 적절한 부울 표현식으로 대체하라.\n",
        "\n",
        "mask = iris_labels == 'Iris-versicolor'\n",
        "iris_features[mask]"
      ]
    },
    {
      "cell_type": "markdown",
      "id": "dc332748",
      "metadata": {
        "id": "dc332748"
      },
      "source": [
        "**문제 5**"
      ]
    },
    {
      "cell_type": "markdown",
      "id": "17a8b3f7",
      "metadata": {
        "id": "17a8b3f7"
      },
      "source": [
        "꽃받침 길이(0번 열)의 평균값(mean), 중앙값(median), 표준편차(standard deviation)를 구하라."
      ]
    },
    {
      "cell_type": "code",
      "execution_count": 316,
      "id": "4d122a6e",
      "metadata": {
        "id": "4d122a6e"
      },
      "outputs": [
        {
          "name": "stdout",
          "output_type": "stream",
          "text": [
            "5.843333333333334\n",
            "5.8\n",
            "0.8253012917851409\n"
          ]
        }
      ],
      "source": [
        "# None을 적절한 표현식으로 대체하라.\n",
        "\n",
        "petal_length_mean = np.mean(iris_features[:,0])\n",
        "petal_length_median = np.median(iris_features[:,0])\n",
        "petal_length_std = np.std(iris_features[:,0])\n",
        "\n",
        "print(petal_length_mean, petal_length_median, petal_length_std, sep='\\n')"
      ]
    },
    {
      "cell_type": "markdown",
      "id": "a2c3c9e4",
      "metadata": {
        "id": "a2c3c9e4"
      },
      "source": [
        "**문제 6**"
      ]
    },
    {
      "cell_type": "markdown",
      "id": "11d0a4d8",
      "metadata": {
        "id": "11d0a4d8"
      },
      "source": [
        "세 개의 품종 별 꽃받침 너비(1번 열)의 평균값을 계산하여\n",
        "변수 `iris_kind_sepal_length`가 아래 사전을 가리키도록 하라.\n",
        "\n",
        "```\n",
        "{'Iris-setosa':3.418,\n",
        " 'Iris-versicolor':2.77,\n",
        " 'Iris-virginica':2.974}\n",
        "```"
      ]
    },
    {
      "cell_type": "code",
      "execution_count": 317,
      "id": "4845447a",
      "metadata": {
        "id": "4845447a"
      },
      "outputs": [
        {
          "data": {
            "text/plain": [
              "{'Iris-setosa': 3.418, 'Iris-versicolor': 2.77, 'Iris-virginica': 2.974}"
            ]
          },
          "execution_count": 317,
          "metadata": {},
          "output_type": "execute_result"
        }
      ],
      "source": [
        "# pass와 None을 각각 적절한 코드와 표현식으로 대체하라.\n",
        "\n",
        "setosa = iris_labels == 'Iris-setosa'\n",
        "versicolor = iris_labels == 'Iris-versicolor'\n",
        "virginica = iris_labels == 'Iris-virginica'\n",
        "iris_setosa = iris_features[setosa]\n",
        "iris_versicolor = iris_features[versicolor]\n",
        "iris_virginica = iris_features[virginica]\n",
        "setosa_s_l = np.mean(iris_setosa[:,1])\n",
        "versicolor_s_l = np.mean(iris_versicolor[:,1])\n",
        "virginica_s_l = np.mean(iris_virginica[:,1])\n",
        "\n",
        "\n",
        "\n",
        "iris_kind_sepal_length = {'Iris-setosa':setosa_s_l, 'Iris-versicolor':round(versicolor_s_l,3), 'Iris-virginica':virginica_s_l}\n",
        "\n",
        "iris_kind_sepal_length"
      ]
    },
    {
      "cell_type": "code",
      "execution_count": 318,
      "id": "e9a8f3b3",
      "metadata": {
        "id": "e9a8f3b3"
      },
      "outputs": [],
      "source": [
        "assert (iris_kind_sepal_length == {'Iris-setosa':3.418,\n",
        "                                   'Iris-versicolor':2.77,\n",
        "                                   'Iris-virginica':2.974})"
      ]
    },
    {
      "cell_type": "markdown",
      "id": "e3715123",
      "metadata": {
        "id": "e3715123"
      },
      "source": [
        "**문제 7**"
      ]
    },
    {
      "cell_type": "markdown",
      "id": "2a89d2c6",
      "metadata": {
        "id": "2a89d2c6"
      },
      "source": [
        "`iris_features`에 사용된 모든 값을 특성별로 정규화(normalization)하라.\n",
        "\n",
        "힌트: 꽃잎 너비 등 하나의 특성에 속하는 값을 모두 0과 1사이의 값으로 변환하는 작업을 정규화(normalization)라 한다.\n",
        "정규화에 대한 설명은 [정규화/표준화](https://rucrazia.tistory.com/90)를 참고하라."
      ]
    },
    {
      "cell_type": "code",
      "execution_count": 319,
      "id": "aefce832",
      "metadata": {
        "id": "aefce832"
      },
      "outputs": [],
      "source": [
        "# None을 적절한 부울 표현식으로 대체하라.\n",
        "min = iris_features.min(axis=0, keepdims=True)\n",
        "max = iris_features.max(axis=0, keepdims=True)\n",
        "\n",
        "iris_features_normalized = (iris_features - min) / (max - min)\n",
        "\n"
      ]
    },
    {
      "cell_type": "markdown",
      "id": "214ef2f8",
      "metadata": {
        "id": "214ef2f8"
      },
      "source": [
        "아래 코드는 수정하지 마세요!!!"
      ]
    },
    {
      "cell_type": "code",
      "execution_count": 320,
      "id": "c6c01fbf",
      "metadata": {
        "id": "c6c01fbf"
      },
      "outputs": [],
      "source": [
        "sol = np.array([[0.22222222, 0.625     , 0.06779661, 0.04166667],\n",
        "                [0.16666667, 0.41666667, 0.06779661, 0.04166667],\n",
        "                [0.11111111, 0.5       , 0.05084746, 0.04166667],\n",
        "                [0.08333333, 0.45833333, 0.08474576, 0.04166667],\n",
        "                [0.19444444, 0.66666667, 0.06779661, 0.04166667]])\n",
        "\n",
        "assert ~(iris_features_normalized.min(axis=0).all())\n",
        "assert (iris_features_normalized.max(axis=0).all())\n",
        "assert np.allclose(iris_features_normalized[:5], sol)"
      ]
    },
    {
      "cell_type": "markdown",
      "id": "d3c1a73a",
      "metadata": {
        "id": "d3c1a73a"
      },
      "source": [
        "**문제 8**"
      ]
    },
    {
      "cell_type": "markdown",
      "id": "18411e15",
      "metadata": {
        "id": "18411e15"
      },
      "source": [
        "`iris_features`에 사용된 모든 값을 특성별로 표준화(standardization)하라.\n",
        "\n",
        "힌트: 꽃잎 너비 등 하나의 특성에 속하는 값들의 평균값은 0, 표준편차는 1이 되도록 항목을 변환하는 작업을 표준화(standardization)라 한다.\n",
        "표준화에 대한 설명은 [정규화/표준화](https://rucrazia.tistory.com/90)를 참고하라."
      ]
    },
    {
      "cell_type": "code",
      "execution_count": 321,
      "id": "2f960ff4",
      "metadata": {
        "id": "2f960ff4"
      },
      "outputs": [],
      "source": [
        "# None을 적절한 부울 표현식으로 대체하라.\n",
        "mean = iris_features.mean(axis=0,keepdims=True)\n",
        "std = iris_features.std(axis=0,keepdims=True)\n",
        "\n",
        "iris_features_standardized = (iris_features - mean) / std"
      ]
    },
    {
      "cell_type": "code",
      "execution_count": 322,
      "id": "c29ef50d",
      "metadata": {
        "id": "c29ef50d"
      },
      "outputs": [
        {
          "data": {
            "text/plain": [
              "array([[-0.9007,  1.0321, -1.3413, -1.313 ],\n",
              "       [-1.143 , -0.125 , -1.3413, -1.313 ],\n",
              "       [-1.3854,  0.3378, -1.3981, -1.313 ],\n",
              "       [-1.5065,  0.1064, -1.2844, -1.313 ],\n",
              "       [-1.0218,  1.2635, -1.3413, -1.313 ]])"
            ]
          },
          "execution_count": 322,
          "metadata": {},
          "output_type": "execute_result"
        }
      ],
      "source": [
        "# 아래 주석을 해제하고 실행하라.\n",
        "\n",
        "iris_features_standardized[:5]"
      ]
    },
    {
      "cell_type": "markdown",
      "id": "aeda9ea9",
      "metadata": {
        "id": "aeda9ea9"
      },
      "source": [
        "**문제 9**"
      ]
    },
    {
      "cell_type": "markdown",
      "id": "6b0a1648",
      "metadata": {
        "id": "6b0a1648"
      },
      "source": [
        "아래 코드는 붓꽃 데이터의 산점도를 품종에 따라 다른 모양과 색을 갖는 산점도를 그린다."
      ]
    },
    {
      "cell_type": "code",
      "execution_count": 328,
      "id": "74ab7c53",
      "metadata": {
        "id": "74ab7c53"
      },
      "outputs": [
        {
          "data": {
            "text/plain": [
              "array([[0., 0., 0., ..., 0., 0., 0.],\n",
              "       [0., 0., 0., ..., 0., 0., 0.],\n",
              "       [0., 0., 0., ..., 0., 0., 0.],\n",
              "       ...,\n",
              "       [0., 0., 0., ..., 0., 0., 0.],\n",
              "       [0., 0., 0., ..., 0., 0., 0.],\n",
              "       [0., 0., 0., ..., 0., 0., 0.]])"
            ]
          },
          "execution_count": 328,
          "metadata": {},
          "output_type": "execute_result"
        }
      ],
      "source": [
        "X = iris_features[:, 2] # 꽃잎 길이\n",
        "Y = iris_features[:, 3] # 꽃잎 너비\n",
        "\n",
        "points_x = np.arange(0, 7.01, 0.02)\n",
        "points_y = np.arange(0, 3.51, 0.02)\n",
        "xs, ys = np.meshgrid(points_x, points_y)\n",
        "\n",
        "Z = np.zeros(xs.shape)\n",
        "Z"
      ]
    },
    {
      "cell_type": "code",
      "execution_count": 324,
      "id": "562073be",
      "metadata": {
        "id": "562073be",
        "outputId": "1a5ffb8e-454b-4a67-84a2-ee6b6879cfaa"
      },
      "outputs": [
        {
          "data": {
            "image/png": "[encoded data removed]",
            "text/plain": [
              "<Figure size 800x400 with 1 Axes>"
            ]
          },
          "metadata": {},
          "output_type": "display_data"
        }
      ],
      "source": [
        "plt.figure(figsize=(8, 4))\n",
        "\n",
        "# 등고선을 색으로 구분\n",
        "plt.contourf(xs, ys, Z, alpha=0.1, cmap='Purples')\n",
        "\n",
        "# 붓꽃 데이터 산점도\n",
        "plt.plot(X[iris_labels == 'Iris-setosa'], Y[iris_labels == 'Iris-setosa'], 'm+', label='Iris setosa')\n",
        "plt.plot(X[iris_labels == 'Iris-versicolor'], Y[iris_labels == 'Iris-versicolor'], 'ys', label='Iris versicolor')\n",
        "plt.plot(X[iris_labels == 'Iris-virginica'], Y[iris_labels == 'Iris-virginica'], 'b^',  label='Iris setosa')\n",
        "\n",
        "plt.xlabel(\"Petal length\")\n",
        "plt.ylabel(\"Petal width\")\n",
        "plt.legend(loc=\"upper left\")\n",
        "plt.axis([0, 7.0, 0, 3])\n",
        "\n",
        "# plt.grid()\n",
        "plt.show()"
      ]
    },
    {
      "cell_type": "markdown",
      "id": "2bfa61fe",
      "metadata": {
        "id": "2bfa61fe"
      },
      "source": [
        "위 코드에 사용된 2차원 어레이 `Z`를 수정하여 아래 산점도를 그리는 코드를 작성하려 한다."
      ]
    },
    {
      "cell_type": "markdown",
      "id": "76a357b6",
      "metadata": {
        "id": "76a357b6"
      },
      "source": [
        "<p><div align=\"center\"><img src=\"https://raw.githubusercontent.com/codingalzi/datapy/master/jupyter-book//images/iris-classification.png\" style=\"width:70%;\"></div></p>"
      ]
    },
    {
      "cell_type": "markdown",
      "id": "2e40c325",
      "metadata": {
        "id": "2e40c325"
      },
      "source": [
        "이를 위해 영역을 구분하는 두 개의 직선은 다음 두 개의 직선 방정식을 이용한다.\n",
        "\n",
        "```\n",
        "y = x + 3\n",
        "y = x + 6.6\n",
        "```"
      ]
    },
    {
      "cell_type": "markdown",
      "id": "0dd90755",
      "metadata": {
        "id": "0dd90755"
      },
      "source": [
        "**질문**"
      ]
    },
    {
      "cell_type": "markdown",
      "id": "9737bfea",
      "metadata": {
        "id": "9737bfea"
      },
      "source": [
        "아래 코드는 세 개의 영역을 구분하는 세 개의 마스크를 지정한다.\n",
        "`None`을 모두 적절한 어레이 논리식으로 대체하라."
      ]
    },
    {
      "cell_type": "code",
      "execution_count": null,
      "id": "37878127",
      "metadata": {
        "id": "37878127"
      },
      "outputs": [],
      "source": [
        "mask1 = xs-3 <= ys\n",
        "mask2 = (xs-3 > ys) & (xs-6.6 < ys)\n",
        "mask3 = xs-6.6 >= ys\n",
        "#왜 -는 되는데 +는 안되는거야 ;;; 짜증나네"
      ]
    },
    {
      "cell_type": "markdown",
      "id": "81c9eb79",
      "metadata": {
        "id": "81c9eb79"
      },
      "source": [
        "정해진 마스크에 따라 등고선 어레이 `Z`의 값을 0, 1, 2 중에 하나로 지정한다."
      ]
    },
    {
      "cell_type": "code",
      "execution_count": 350,
      "id": "9f9143de",
      "metadata": {
        "id": "9f9143de"
      },
      "outputs": [],
      "source": [
        "Z[mask1] = 0\n",
        "Z[mask2] = 1\n",
        "Z[mask3] = 2\n"
      ]
    },
    {
      "cell_type": "markdown",
      "id": "67eb6b21",
      "metadata": {
        "id": "67eb6b21"
      },
      "source": [
        "수정된 등고선 어레이 `Z`를 이용하여 산점도를 그린다."
      ]
    },
    {
      "cell_type": "code",
      "execution_count": 351,
      "id": "d5aa7edf",
      "metadata": {
        "id": "d5aa7edf",
        "outputId": "bf03598d-2248-405c-a0ef-0a57b5160a3d"
      },
      "outputs": [
        {
          "data": {
            "image/png": "[encoded data removed]",
            "text/plain": [
              "<Figure size 800x400 with 1 Axes>"
            ]
          },
          "metadata": {},
          "output_type": "display_data"
        }
      ],
      "source": [
        "plt.figure(figsize=(8, 4))\n",
        "\n",
        "# 등고선을 색으로 구분\n",
        "plt.contourf(xs, ys, Z, alpha=0.1, cmap='Purples')\n",
        "\n",
        "# 붓꽃 데이터 산점도\n",
        "plt.plot(X[iris_labels == 'Iris-setosa'], Y[iris_labels == 'Iris-setosa'], 'm+', label='Iris setosa')\n",
        "plt.plot(X[iris_labels == 'Iris-versicolor'], Y[iris_labels == 'Iris-versicolor'], 'ys', label='Iris versicolor')\n",
        "plt.plot(X[iris_labels == 'Iris-virginica'], Y[iris_labels == 'Iris-virginica'], 'b^',  label='Iris setosa')\n",
        "\n",
        "plt.xlabel(\"Petal length\")\n",
        "plt.ylabel(\"Petal width\")\n",
        "plt.legend(loc=\"upper left\")\n",
        "plt.axis([0, 7.0, 0, 3])\n",
        "\n",
        "# plt.grid()\n",
        "plt.show()"
      ]
    }
  ],
  "metadata": {
    "colab": {
      "provenance": []
    },
    "kernelspec": {
      "display_name": "base",
      "language": "python",
      "name": "python3"
    },
    "language_info": {
      "codemirror_mode": {
        "name": "ipython",
        "version": 3
      },
      "file_extension": ".py",
      "mimetype": "text/x-python",
      "name": "python",
      "nbconvert_exporter": "python",
      "pygments_lexer": "ipython3",
      "version": "3.12.3"
    }
  },
  "nbformat": 4,
  "nbformat_minor": 5
}

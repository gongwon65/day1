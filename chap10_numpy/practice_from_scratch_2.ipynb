{
  "cells": [
    {
      "cell_type": "markdown",
      "id": "4ba112a7",
      "metadata": {
        "id": "4ba112a7"
      },
      "source": [
        "# (실습) 통계 기초"
      ]
    },
    {
      "cell_type": "markdown",
      "id": "9bf97162",
      "metadata": {
        "id": "9bf97162"
      },
      "source": [
        "**참고**"
      ]
    },
    {
      "cell_type": "markdown",
      "id": "0889b335",
      "metadata": {
        "id": "0889b335"
      },
      "source": [
        "[통계 기초](https://codingalzi.github.io/datapy/from_scratch_2.html)에\n",
        "정의된 다음 함수들을 활용할 수 있다.\n",
        "\n",
        "- mean\n",
        "- median\n",
        "- quantile\n",
        "- mode\n",
        "- data_range\n",
        "- iqr\n",
        "- var\n",
        "- std\n",
        "- cov\n",
        "- corrcoef"
      ]
    },
    {
      "cell_type": "markdown",
      "id": "95d60690",
      "metadata": {
        "id": "95d60690"
      },
      "source": [
        "**필수 모듈**"
      ]
    },
    {
      "cell_type": "markdown",
      "id": "0a656de8",
      "metadata": {
        "id": "0a656de8"
      },
      "source": [
        "`matplotlib.pyplot`은 막대그래프, 히스토그램, 산점도 등 데이터를 그래프로 시각화할 때 필요한\n",
        "다양한 함수를 제공하는 모듈이다."
      ]
    },
    {
      "cell_type": "code",
      "execution_count": null,
      "id": "c60ea8ae",
      "metadata": {},
      "outputs": [],
      "source": []
    },
    {
      "cell_type": "code",
      "execution_count": 31,
      "id": "f5458c79",
      "metadata": {
        "id": "f5458c79"
      },
      "outputs": [],
      "source": [
        "import matplotlib.pyplot as plt\n",
        "\n",
        "# 그래프 설정\n",
        "plt.rc('figure', figsize=(10, 6))  # 그래프 크기 지정"
      ]
    },
    {
      "cell_type": "code",
      "execution_count": 32,
      "id": "ff6eed7c",
      "metadata": {
        "id": "ff6eed7c"
      },
      "outputs": [],
      "source": [
        "import platform\n",
        "import matplotlib as mpl\n",
        "\n",
        "# 윈도우 설정\n",
        "if platform.system() == 'Windows':\n",
        "    try:\n",
        "        font_path = \"C:/Windows/Fonts/malgun.ttf\"  # '맑은 고딕' 폰트를 사용\n",
        "        font = mpl.font_manager.FontProperties(fname=font_path).get_name()\n",
        "        plt.rc('font', family=font)\n",
        "    except FileNotFoundError:\n",
        "        print(\"폰트 파일을 찾을 수 없습니다. 다른 경로를 확인하세요.\")\n",
        "# 우분투/구글 코랩 설정\n",
        "elif platform.system() == 'Linux':\n",
        "    # 우분투/구글코랩의 경우 아래 명령문이 최소 한번 실행되어야 함\n",
        "    # !sudo apt-get install -y fonts-nanum*\n",
        "    # !fc-cache -fv\n",
        "\n",
        "    font = \"NanumBarunGothic\"\n",
        "    if not any(map(lambda ft: ft.name == font, mpl.font_manager.fontManager.ttflist)):\n",
        "        mpl.font_manager.fontManager.addfont(\"/usr/share/fonts/truetype/nanum/NanumBarunGothic.ttf\")\n",
        "    plt.rc(\"font\", family=font)\n",
        "    plt.rc(\"axes\", unicode_minus=False)"
      ]
    },
    {
      "cell_type": "markdown",
      "id": "451e25d5",
      "metadata": {
        "id": "451e25d5"
      },
      "source": [
        "## 데이터 준비"
      ]
    },
    {
      "cell_type": "markdown",
      "id": "5aa9f34e",
      "metadata": {
        "id": "5aa9f34e"
      },
      "source": [
        "영산강에 설치된 승천보에서 측정한 두 개의 데이터셋이다.\n",
        "\n",
        "- `chl_a`: 녹조 발생의 주요 요인인 클로로필-A의 수치 100개\n",
        "- `flow`: 보에서 방출되는 시간당 방류량 수치 100개\n",
        "\n",
        "두 데이터셋의 인덱스는 수질(water quality)을 가리키며,\n",
        "높은 숫자일 수록 수질은 나쁘다."
      ]
    },
    {
      "cell_type": "code",
      "execution_count": 33,
      "id": "b07f5968",
      "metadata": {
        "id": "b07f5968"
      },
      "outputs": [],
      "source": [
        "# 클로로필-A 수치 100개\n",
        "\n",
        "chl_a = [51, 51, 53, 53, 54, 55, 57, 57, 59, 60,\n",
        "         61, 62, 63, 64, 65, 66, 67, 67, 67, 69,\n",
        "         70, 71, 71, 72, 73, 75, 75, 76, 77, 79,\n",
        "         81, 81, 83, 83, 85, 86, 87, 88, 88, 88,\n",
        "         89, 89, 90, 91, 92, 95, 96, 96, 97, 98,\n",
        "         98, 98, 99, 101, 101, 102, 102, 103, 104, 104,\n",
        "         104, 104, 105, 106, 107, 108, 110, 111, 111, 112,\n",
        "         112, 112, 113, 114, 114, 116, 116, 116, 117, 118,\n",
        "         118, 118, 118, 119, 120, 120, 121, 122, 125, 120,\n",
        "         121, 121, 121, 122, 122, 122, 122, 124, 125, 124]"
      ]
    },
    {
      "cell_type": "code",
      "execution_count": 34,
      "id": "7d6a2b0c",
      "metadata": {
        "id": "7d6a2b0c"
      },
      "outputs": [],
      "source": [
        "# 시간당 방류량 수치 100개\n",
        "\n",
        "flow = [25, 25, 24, 24, 22, 22, 21, 21, 20, 20,\n",
        "        19, 19, 19, 18, 18, 18, 17, 17, 17, 16,\n",
        "        16, 16, 17, 16, 17, 17, 16, 16, 16, 16,\n",
        "        16, 16, 16, 16, 16, 15, 15, 15, 15, 15,\n",
        "        15, 14, 15, 14, 14, 13, 13, 13, 13, 13,\n",
        "        13, 13, 13, 13, 13, 13, 12, 12, 12, 12,\n",
        "        12, 12, 52, 11, 11, 11, 11, 11, 12, 12,\n",
        "        12, 12, 12, 11, 12, 12, 12, 11, 11, 11,\n",
        "        11, 11, 11, 11, 11, 11, 11, 11, 11, 10,\n",
        "        9, 9, 9, 9, 9, 9, 9, 49, 9, 9]"
      ]
    },
    {
      "cell_type": "markdown",
      "id": "4057b988",
      "metadata": {
        "id": "4057b988"
      },
      "source": [
        "**문제**"
      ]
    },
    {
      "cell_type": "markdown",
      "id": "dcf9d30b",
      "metadata": {
        "id": "dcf9d30b"
      },
      "source": [
        "각각의 데이터셋 크기가 100임을 확인하라.\n",
        "\n",
        "힌트: `len()` 함수"
      ]
    },
    {
      "cell_type": "code",
      "execution_count": 35,
      "id": "f4251f45",
      "metadata": {
        "id": "f4251f45"
      },
      "outputs": [
        {
          "name": "stdout",
          "output_type": "stream",
          "text": [
            "100 100\n"
          ]
        }
      ],
      "source": [
        "print(len(chl_a), len(flow))"
      ]
    },
    {
      "cell_type": "markdown",
      "id": "f5dc3aac",
      "metadata": {
        "id": "f5dc3aac"
      },
      "source": [
        "**문제**"
      ]
    },
    {
      "cell_type": "markdown",
      "id": "5423885b",
      "metadata": {
        "id": "5423885b"
      },
      "source": [
        "가장 높은 클로로필-A의 수치는 얼마인가?"
      ]
    },
    {
      "cell_type": "code",
      "execution_count": 36,
      "id": "b38ff228",
      "metadata": {
        "id": "b38ff228"
      },
      "outputs": [],
      "source": [
        "chl_a_max = max(chl_a)"
      ]
    },
    {
      "cell_type": "markdown",
      "id": "050234f0",
      "metadata": {
        "id": "050234f0"
      },
      "source": [
        "**문제**"
      ]
    },
    {
      "cell_type": "markdown",
      "id": "af256b34",
      "metadata": {
        "id": "af256b34"
      },
      "source": [
        "가장 낮은 시간당 방류량 수치는 얼마인가?"
      ]
    },
    {
      "cell_type": "code",
      "execution_count": 37,
      "id": "ebf50466",
      "metadata": {
        "id": "ebf50466"
      },
      "outputs": [],
      "source": [
        "chl_a_min = min(flow)"
      ]
    },
    {
      "cell_type": "markdown",
      "id": "fb8a227d",
      "metadata": {
        "id": "fb8a227d"
      },
      "source": [
        "## 데이터 살펴보기"
      ]
    },
    {
      "cell_type": "markdown",
      "id": "37e7ef28",
      "metadata": {
        "id": "37e7ef28"
      },
      "source": [
        "**문제**"
      ]
    },
    {
      "cell_type": "markdown",
      "id": "00a80a4a",
      "metadata": {
        "id": "00a80a4a"
      },
      "source": [
        "클로로필-A 데이터에 포함된 값들의 빈도를 막대그래프로 그려라.\n",
        "\n",
        "힌트: `from collections import Counter`"
      ]
    },
    {
      "cell_type": "code",
      "execution_count": 93,
      "id": "ab5989fa",
      "metadata": {
        "id": "ab5989fa"
      },
      "outputs": [
        {
          "name": "stdout",
          "output_type": "stream",
          "text": [
            "Counter({122: 5, 104: 4, 118: 4, 121: 4, 67: 3, 88: 3, 98: 3, 112: 3, 116: 3, 120: 3, 51: 2, 53: 2, 57: 2, 71: 2, 75: 2, 81: 2, 83: 2, 89: 2, 96: 2, 101: 2, 102: 2, 111: 2, 114: 2, 125: 2, 124: 2, 54: 1, 55: 1, 59: 1, 60: 1, 61: 1, 62: 1, 63: 1, 64: 1, 65: 1, 66: 1, 69: 1, 70: 1, 72: 1, 73: 1, 76: 1, 77: 1, 79: 1, 85: 1, 86: 1, 87: 1, 90: 1, 91: 1, 92: 1, 95: 1, 97: 1, 99: 1, 103: 1, 105: 1, 106: 1, 107: 1, 108: 1, 110: 1, 113: 1, 117: 1, 119: 1})\n"
          ]
        },
        {
          "data": {
            "image/png": "[encoded data removed]",
            "text/plain": [
              "<Figure size 1000x600 with 1 Axes>"
            ]
          },
          "metadata": {},
          "output_type": "display_data"
        }
      ],
      "source": [
        "from collections import Counter\n",
        "chl_a_data = Counter(chl_a)\n",
        "print(chl_a_data)\n",
        "xs = range(126)\n",
        "ys = [chl_a_data[x] for x in xs]\n",
        "plt.bar(xs,ys)\n",
        "plt.axis([50, 125, 0, 5]) \n",
        "plt.show()"
      ]
    },
    {
      "cell_type": "markdown",
      "id": "1f41759e",
      "metadata": {
        "id": "1f41759e"
      },
      "source": [
        "## 중심 경향성과 평균"
      ]
    },
    {
      "cell_type": "markdown",
      "id": "18f4effa",
      "metadata": {
        "id": "18f4effa"
      },
      "source": [
        "**문제**"
      ]
    },
    {
      "cell_type": "markdown",
      "id": "b354d2bf",
      "metadata": {
        "id": "b354d2bf"
      },
      "source": [
        "방류량의 평균값을 계산하라."
      ]
    },
    {
      "cell_type": "code",
      "execution_count": 102,
      "id": "1ddbe386",
      "metadata": {
        "id": "1ddbe386"
      },
      "outputs": [
        {
          "data": {
            "text/plain": [
              "14.93"
            ]
          },
          "execution_count": 102,
          "metadata": {},
          "output_type": "execute_result"
        }
      ],
      "source": [
        "import numpy as np\n",
        "flow_mean = np.mean(flow)\n",
        "flow_mean"
      ]
    },
    {
      "cell_type": "markdown",
      "id": "86a72482",
      "metadata": {
        "id": "86a72482"
      },
      "source": [
        "**문제**"
      ]
    },
    {
      "cell_type": "markdown",
      "id": "16dc162e",
      "metadata": {
        "id": "16dc162e"
      },
      "source": [
        "방류량의 중앙값을 계산하라."
      ]
    },
    {
      "cell_type": "code",
      "execution_count": 103,
      "id": "93814d67",
      "metadata": {
        "id": "93814d67"
      },
      "outputs": [],
      "source": [
        "flow_median = np.median(flow)"
      ]
    },
    {
      "cell_type": "markdown",
      "id": "2a9785dc",
      "metadata": {
        "id": "2a9785dc"
      },
      "source": [
        "**문제**"
      ]
    },
    {
      "cell_type": "markdown",
      "id": "b72a49d8",
      "metadata": {
        "id": "b72a49d8"
      },
      "source": [
        "방류량의 최빈값을 계산하라."
      ]
    },
    {
      "cell_type": "code",
      "execution_count": 104,
      "id": "57bbd378",
      "metadata": {
        "id": "57bbd378"
      },
      "outputs": [
        {
          "data": {
            "text/plain": [
              "{11}"
            ]
          },
          "execution_count": 104,
          "metadata": {},
          "output_type": "execute_result"
        }
      ],
      "source": [
        "def mode(xs):\n",
        "    \"\"\"\n",
        "    최빈값\n",
        "    \"\"\"\n",
        "    # Counter 객체 생성\n",
        "    counts = Counter(xs)\n",
        "    # 키값의 최댓값 확인\n",
        "    max_count = max(counts.values())\n",
        "    # 최대 키값을 갖는 키들의 집합\n",
        "    modes = {x_i for x_i, count in counts.items() if count == max_count}\n",
        "    return modes\n",
        "mode(flow)"
      ]
    },
    {
      "cell_type": "markdown",
      "id": "8b501a41",
      "metadata": {
        "id": "8b501a41"
      },
      "source": [
        "**문제**"
      ]
    },
    {
      "cell_type": "markdown",
      "id": "30081d43",
      "metadata": {
        "id": "30081d43"
      },
      "source": [
        "방류량의 제1, 제3 사분위수를 계산하라."
      ]
    },
    {
      "cell_type": "code",
      "execution_count": 105,
      "id": "7ce74e81",
      "metadata": {
        "id": "7ce74e81"
      },
      "outputs": [
        {
          "name": "stdout",
          "output_type": "stream",
          "text": [
            "11.0 16.0\n"
          ]
        }
      ],
      "source": [
        "print(np.quantile(flow,0.25),np.quantile(flow,0.75))"
      ]
    },
    {
      "cell_type": "markdown",
      "id": "3d9a6797",
      "metadata": {
        "id": "3d9a6797"
      },
      "source": [
        "## 산포도와 분산"
      ]
    },
    {
      "cell_type": "markdown",
      "id": "453df3b1",
      "metadata": {
        "id": "453df3b1"
      },
      "source": [
        "**문제**"
      ]
    },
    {
      "cell_type": "markdown",
      "id": "2dc793d1",
      "metadata": {
        "id": "2dc793d1"
      },
      "source": [
        "클로로필-A 데이터의 범위를 계산하라."
      ]
    },
    {
      "cell_type": "code",
      "execution_count": 49,
      "id": "23bd71d0",
      "metadata": {
        "id": "23bd71d0"
      },
      "outputs": [
        {
          "data": {
            "text/plain": [
              "116"
            ]
          },
          "execution_count": 49,
          "metadata": {},
          "output_type": "execute_result"
        }
      ],
      "source": [
        "chl_a_range = chl_a_max-chl_a_min\n",
        "chl_a_range"
      ]
    },
    {
      "cell_type": "markdown",
      "id": "1deb85f8",
      "metadata": {
        "id": "1deb85f8"
      },
      "source": [
        "**문제**"
      ]
    },
    {
      "cell_type": "markdown",
      "id": "f30911df",
      "metadata": {
        "id": "f30911df"
      },
      "source": [
        "클로로필-A 데이터의 분산을 계산하라."
      ]
    },
    {
      "cell_type": "code",
      "execution_count": 108,
      "id": "e2d6f8d7",
      "metadata": {},
      "outputs": [
        {
          "data": {
            "text/plain": [
              "511.9195959595961"
            ]
          },
          "execution_count": 108,
          "metadata": {},
          "output_type": "execute_result"
        }
      ],
      "source": [
        "def dotV(v, w):\n",
        "    assert len(v) == len(w), \"벡터들의 길이가 동일해야 함\"\"\"\n",
        "\n",
        "    return sum(v_i * w_i for v_i, w_i in zip(v, w))\n",
        "\n",
        "def dev_mean(xs):\n",
        "    \"\"\"평균값과의 차이 계산\"\"\"\n",
        "    mu = np.mean(xs)\n",
        "    return [x - mu for x in xs]\n",
        "\n",
        "def sum_of_squares(v):\n",
        "    \"\"\"반환값: v_1 * v_1 + ... + v_n * v_n\"\"\"\n",
        "    return dotV(v, v)\n",
        "def var(xs):\n",
        "    \"\"\"\n",
        "    분산값 계산. 단, 2개 이상의 데이터가 있어야 함.\n",
        "    \"\"\"\n",
        "    \n",
        "    assert len(xs) >= 2, \"두 개 이상의 데이터 필요\"\n",
        "\n",
        "    n = len(xs)\n",
        "    deviations = dev_mean(xs)\n",
        "    deviation_sum = sum_of_squares(deviations)\n",
        "    return deviation_sum / (n - 1)\n",
        "var(chl_a)"
      ]
    },
    {
      "cell_type": "code",
      "execution_count": 109,
      "id": "bd2353aa",
      "metadata": {
        "id": "bd2353aa"
      },
      "outputs": [
        {
          "data": {
            "text/plain": [
              "511.9195959595961"
            ]
          },
          "execution_count": 109,
          "metadata": {},
          "output_type": "execute_result"
        }
      ],
      "source": [
        "chl_a_var = sum((chl_a - np.mean(chl_a))**2) / (len(chl_a)-1)\n",
        "chl_a_var\n",
        "#np.var(chl_a)"
      ]
    },
    {
      "cell_type": "markdown",
      "id": "f6b300c9",
      "metadata": {
        "id": "f6b300c9"
      },
      "source": [
        "**문제**"
      ]
    },
    {
      "cell_type": "markdown",
      "id": "9a156e8b",
      "metadata": {
        "id": "9a156e8b"
      },
      "source": [
        "클로로필-A 데이터의 표준편차를 계산하라."
      ]
    },
    {
      "cell_type": "code",
      "execution_count": 110,
      "id": "7a2e8f19",
      "metadata": {
        "id": "7a2e8f19"
      },
      "outputs": [
        {
          "data": {
            "text/plain": [
              "22.51222778847087"
            ]
          },
          "execution_count": 110,
          "metadata": {},
          "output_type": "execute_result"
        }
      ],
      "source": [
        "chl_a_std = np.std(chl_a)\n",
        "chl_a_std"
      ]
    },
    {
      "cell_type": "markdown",
      "id": "d73b2b11",
      "metadata": {
        "id": "d73b2b11"
      },
      "source": [
        "## 선형 상관관계"
      ]
    },
    {
      "cell_type": "markdown",
      "id": "da835ea6",
      "metadata": {
        "id": "da835ea6"
      },
      "source": [
        "**문제**"
      ]
    },
    {
      "cell_type": "markdown",
      "id": "2190b90e",
      "metadata": {
        "id": "2190b90e"
      },
      "source": [
        "클로로필-A와 시간당 방류량 사이의 공분산을 계산하고\n",
        "두 데이터 사이의 상관관계를 설명하라."
      ]
    },
    {
      "cell_type": "code",
      "execution_count": 112,
      "id": "d26483a4",
      "metadata": {},
      "outputs": [
        {
          "data": {
            "text/plain": [
              "-66.88868686868692"
            ]
          },
          "execution_count": 112,
          "metadata": {},
          "output_type": "execute_result"
        }
      ],
      "source": [
        "def cov(xs, ys):\n",
        "    assert len(xs) == len(ys), \"xs와 ys의 길이가 같아야 함.\"\n",
        "\n",
        "    return dotV(dev_mean(xs), dev_mean(ys)) / (len(xs) - 1)\n",
        "cov(chl_a, flow)"
      ]
    },
    {
      "cell_type": "code",
      "execution_count": null,
      "id": "0dc70d6b",
      "metadata": {
        "id": "0dc70d6b"
      },
      "outputs": [
        {
          "data": {
            "text/plain": [
              "94.80808080808076"
            ]
          },
          "execution_count": 111,
          "metadata": {},
          "output_type": "execute_result"
        }
      ],
      "source": []
    },
    {
      "cell_type": "markdown",
      "id": "719162e0",
      "metadata": {
        "id": "719162e0"
      },
      "source": [
        "**문제**"
      ]
    },
    {
      "cell_type": "markdown",
      "id": "38a364fc",
      "metadata": {
        "id": "38a364fc"
      },
      "source": [
        "클로로필-A와 시간당 방류량 사이의 피어슨 상관계수를 계산하고\n",
        "두 데이터 사이의 선형 상관관계를 설명하라."
      ]
    },
    {
      "cell_type": "code",
      "execution_count": 113,
      "id": "1aef423c",
      "metadata": {
        "id": "1aef423c"
      },
      "outputs": [
        {
          "data": {
            "text/plain": [
              "-0.46812514830997753"
            ]
          },
          "execution_count": 113,
          "metadata": {},
          "output_type": "execute_result"
        }
      ],
      "source": [
        "def corrcoef(xs, ys):\n",
        "    assert len(xs) == len(ys), \"xs와 ys의 길이가 같아야 함.\"\n",
        "\n",
        "    stdev_x = np.std(xs) # xs의 표준편차\n",
        "    stdev_y = np.std(ys) # ys의 표준편차\n",
        "\n",
        "    if stdev_x > 0 and stdev_y > 0:\n",
        "        return cov(xs, ys) / (stdev_x * stdev_y)\n",
        "    else:\n",
        "        return 0    # 표준편차가 0인 데이터셋과의 선형 상관관계는 없음.\n",
        "\n",
        "corrcoef(chl_a, flow)"
      ]
    },
    {
      "cell_type": "markdown",
      "id": "e3df3dc0",
      "metadata": {
        "id": "e3df3dc0"
      },
      "source": [
        "## 이상치"
      ]
    },
    {
      "cell_type": "markdown",
      "id": "0396b3f7",
      "metadata": {
        "id": "0396b3f7"
      },
      "source": [
        "**산점도**"
      ]
    },
    {
      "cell_type": "markdown",
      "id": "ce0db165",
      "metadata": {
        "id": "ce0db165"
      },
      "source": [
        "x축을 방류량, y축을 클로로필-A 수치로 지정한 다음 산점도를 그려보자."
      ]
    },
    {
      "cell_type": "code",
      "execution_count": 73,
      "id": "e1082a1a",
      "metadata": {
        "id": "e1082a1a",
        "outputId": "de2adaa6-23cb-4cea-999c-449ecee7840e"
      },
      "outputs": [
        {
          "data": {
            "image/png": "[encoded data removed]",
            "text/plain": [
              "<Figure size 1000x600 with 1 Axes>"
            ]
          },
          "metadata": {},
          "output_type": "display_data"
        }
      ],
      "source": [
        "plt.scatter(flow, chl_a)\n",
        "\n",
        "# 그래프 설정\n",
        "plt.xlabel(\"방류량\")           # x축 눈금 설명\n",
        "plt.ylabel(\"클로로필-A\")       # y축 눈금 설명\n",
        "plt.show()"
      ]
    },
    {
      "cell_type": "markdown",
      "id": "81fdd2f3",
      "metadata": {
        "id": "81fdd2f3"
      },
      "source": [
        "**문제**"
      ]
    },
    {
      "cell_type": "markdown",
      "id": "fe1b7c70",
      "metadata": {
        "id": "fe1b7c70"
      },
      "source": [
        "위 산점도에 따르면 두 개의 이상치가 존재한다.\n",
        "어떤 데이터가 이상치인지 설명하라."
      ]
    },
    {
      "cell_type": "markdown",
      "id": "161908a9",
      "metadata": {
        "id": "161908a9"
      },
      "source": [
        "방류량이 증가할 수록 클로로필-A 수치가 떨어지는 게 일반적이다. 하지만 방류량이 40이상임에도 불구하고 클로로필-A 수치가 높은 두 개의 데이터는 일반적인 경향과 많이 어긋난다. 따라서 이 두 데이터를 이상치로 간주할 수 있다."
      ]
    },
    {
      "cell_type": "markdown",
      "id": "5a45e5c2",
      "metadata": {
        "id": "5a45e5c2"
      },
      "source": [
        "**문제**"
      ]
    },
    {
      "cell_type": "markdown",
      "id": "34b67544",
      "metadata": {
        "id": "34b67544"
      },
      "source": [
        "클로로필-A 데이터와 방수량 두 데이터셋 모두에서\n",
        "이상치에 해당하는 두 개의 값을 제거한다."
      ]
    },
    {
      "cell_type": "code",
      "execution_count": 115,
      "id": "d8f25dab",
      "metadata": {},
      "outputs": [
        {
          "data": {
            "text/plain": [
              "[62, 97]"
            ]
          },
          "execution_count": 115,
          "metadata": {},
          "output_type": "execute_result"
        }
      ],
      "source": [
        "over40_index = []\n",
        "\n",
        "for i in range(100):\n",
        "    if flow[i] >= 40:\n",
        "        over40_index.append(i)\n",
        "        \n",
        "over40_index\n"
      ]
    },
    {
      "cell_type": "code",
      "execution_count": 117,
      "id": "3e97166c",
      "metadata": {
        "id": "3e97166c"
      },
      "outputs": [],
      "source": [
        "# None을 적절한 표현식으로 대체할 것.\n",
        "new_chl_a = []\n",
        "\n",
        "for i in range(100):\n",
        "    if i in over40_index:\n",
        "        continue\n",
        "    \n",
        "    new_chl_a.append(chl_a[i])"
      ]
    },
    {
      "cell_type": "code",
      "execution_count": 118,
      "id": "36cc9fbd",
      "metadata": {
        "id": "36cc9fbd"
      },
      "outputs": [],
      "source": [
        "# None을 적절한 표현식으로 대체할 것.\n",
        "new_flow = []\n",
        "\n",
        "for i in range(100):\n",
        "    if i in over40_index:\n",
        "        continue\n",
        "    \n",
        "    new_flow.append(flow[i])\n"
      ]
    },
    {
      "cell_type": "markdown",
      "id": "72704922",
      "metadata": {
        "id": "72704922"
      },
      "source": [
        "이상치를 제거한 두 데이터셋을 이용하여 산점도를 다시 그려라."
      ]
    },
    {
      "cell_type": "code",
      "execution_count": 119,
      "id": "726c25fa",
      "metadata": {
        "id": "726c25fa",
        "outputId": "5bc23f71-bcf6-4a49-a0b2-a98909df2a89"
      },
      "outputs": [
        {
          "data": {
            "image/png": "[encoded data removed]",
            "text/plain": [
              "<Figure size 1000x600 with 1 Axes>"
            ]
          },
          "metadata": {},
          "output_type": "display_data"
        }
      ],
      "source": [
        "plt.scatter(new_flow, new_chl_a)\n",
        "\n",
        "# 그래프 설정\n",
        "plt.xlabel(\"방류량\")           # x축 눈금 설명\n",
        "plt.ylabel(\"클로로필-A\")       # y축 눈금 설명\n",
        "plt.show()"
      ]
    },
    {
      "cell_type": "markdown",
      "id": "60027bf2",
      "metadata": {
        "id": "60027bf2"
      },
      "source": [
        "**문제**"
      ]
    },
    {
      "cell_type": "markdown",
      "id": "8002b022",
      "metadata": {
        "id": "8002b022"
      },
      "source": [
        "이상치를 제거하기 이전과 이후의 데이터셋을 이용하여 아래 값들이 어떻게 달라졌는지 설명하라.\n",
        "\n",
        "- 평균값, 중앙값, 최빈값\n",
        "- 범위, 사분범위, 분산, 표준편차\n",
        "- 공분산, 피어슨 상관계수"
      ]
    },
    {
      "cell_type": "markdown",
      "id": "c65f2a3d",
      "metadata": {
        "id": "c65f2a3d"
      },
      "source": [
        "평균: 평균은 조금씩 줄어들었다. 이유는 상대적으로 큰 두 이상치가 제거되었기 때문이다. 하지만 데이터 수가 많아서 평균값은 크게 줄지는 않는다\n",
        "중위수: 중위수는 거의 변화 없다. 즉, 중위수는 이상치에 둔감하다.\n",
        "최빈값: 최빈값 또한 변화 없다. 이상치의 빈도가 일반적으로 높지 않아서 최빈값에 영향을 주지 않는다.\n",
        "범위: 이상치를 제거하면 방류량의 범위가 크게 줄어든다.\n",
        "사분범위: 사분범위는 변화가 없다. 즉, 사분범위는 이상치에 둔감하다.\n",
        "표준편차, 분산: 방류량의 분산과 표준편차가 크게 줄어들었다. 즉, 이상치의 영향이 없어져서 데이터의 분산 정도가 크게 줄어들었다.\n",
        "공분산, 상관계수: 이상치를 제거하니 공분산과 상관계수의 절대값이 커졌다. 즉, 두 데이터의 음의 상관관계가 더 명확해졌다."
      ]
    },
    {
      "cell_type": "code",
      "execution_count": null,
      "id": "b0582e55",
      "metadata": {},
      "outputs": [],
      "source": []
    }
  ],
  "metadata": {
    "colab": {
      "provenance": []
    },
    "kernelspec": {
      "display_name": "base",
      "language": "python",
      "name": "python3"
    },
    "language_info": {
      "codemirror_mode": {
        "name": "ipython",
        "version": 3
      },
      "file_extension": ".py",
      "mimetype": "text/x-python",
      "name": "python",
      "nbconvert_exporter": "python",
      "pygments_lexer": "ipython3",
      "version": "3.12.3"
    }
  },
  "nbformat": 4,
  "nbformat_minor": 5
}

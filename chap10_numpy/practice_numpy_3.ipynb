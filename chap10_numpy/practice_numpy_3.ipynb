{
  "cells": [
    {
      "cell_type": "markdown",
      "metadata": {
        "id": "fKuNcG_2Z416"
      },
      "source": [
        "# (실습) 어레이 중심 프로그래밍"
      ]
    },
    {
      "cell_type": "markdown",
      "metadata": {
        "id": "70E0_ZzpZ417"
      },
      "source": [
        "**주의사항**\n",
        "\n",
        "- `None`은 적절한 표현식으로 대체한다.\n",
        "- `Pass`는 적절한 명령문으로 대체한다."
      ]
    },
    {
      "cell_type": "code",
      "execution_count": 1,
      "metadata": {
        "id": "J71Fcvihxzi9"
      },
      "outputs": [],
      "source": [
        "import numpy as np\n",
        "import matplotlib.pyplot as plt"
      ]
    },
    {
      "cell_type": "markdown",
      "metadata": {
        "id": "J_YPdR-pZ418"
      },
      "source": [
        "**문제 1**"
      ]
    },
    {
      "cell_type": "markdown",
      "metadata": {
        "id": "uTqOJriSZ418"
      },
      "source": [
        "길이가 같은 두 개의 랜덤 벡터 `A`, `B`가 다음과 같이 주어졌다."
      ]
    },
    {
      "cell_type": "code",
      "execution_count": 2,
      "metadata": {
        "id": "GoxXdIKiZ419",
        "outputId": "a53b95bc-7b3f-4603-cd4e-92321f0effb9"
      },
      "outputs": [
        {
          "data": {
            "text/plain": [
              "array([1, 1, 1, 1, 0])"
            ]
          },
          "execution_count": 2,
          "metadata": {},
          "output_type": "execute_result"
        }
      ],
      "source": [
        "A = np.random.randint(0,2,5)\n",
        "A"
      ]
    },
    {
      "cell_type": "code",
      "execution_count": 3,
      "metadata": {
        "id": "7pXDgsLrZ41-",
        "outputId": "4bdb7ed0-3cfa-4da8-f2fa-b7c7c2032328"
      },
      "outputs": [
        {
          "data": {
            "text/plain": [
              "array([1, 1, 1, 0, 1])"
            ]
          },
          "execution_count": 3,
          "metadata": {},
          "output_type": "execute_result"
        }
      ],
      "source": [
        "B = np.random.randint(0,2,5)\n",
        "B"
      ]
    },
    {
      "cell_type": "markdown",
      "metadata": {
        "id": "JjmtmJSzZ41-"
      },
      "source": [
        "(1) 두 벡터의 모든 항목이 동일한지 여부를 판단하라.\n",
        "단, `all()` 메서드를 이용한다."
      ]
    },
    {
      "cell_type": "code",
      "execution_count": null,
      "metadata": {
        "id": "Ng0yaqB_Z41-"
      },
      "outputs": [
        {
          "name": "stdout",
          "output_type": "stream",
          "text": [
            "False\n"
          ]
        }
      ],
      "source": [
        "Z = (A == B).all()"
      ]
    },
    {
      "cell_type": "markdown",
      "metadata": {
        "id": "7iN8VkFvZ41_"
      },
      "source": [
        "아래 코드는 수정하지 마세요!!!"
      ]
    },
    {
      "cell_type": "code",
      "execution_count": 5,
      "metadata": {
        "id": "rTUXLYq3Z41_"
      },
      "outputs": [],
      "source": [
        "Y = ((A==B).sum() == len(A))\n",
        "assert Z == Y"
      ]
    },
    {
      "cell_type": "markdown",
      "metadata": {
        "id": "wDlrPVGIZ41_"
      },
      "source": [
        "(2) 최소 한 개 이상의 항목이 동일한 인덱스에 위치하는지 여부를 판단하라.\n",
        "단, `any()` 메서드를 이용한다."
      ]
    },
    {
      "cell_type": "code",
      "execution_count": 7,
      "metadata": {
        "id": "inMvNEVfZ41_"
      },
      "outputs": [],
      "source": [
        "Z = (A == B).any()"
      ]
    },
    {
      "cell_type": "markdown",
      "metadata": {
        "id": "jTnFg-egZ42A"
      },
      "source": [
        "아래 코드는 수정하지 마세요!!!"
      ]
    },
    {
      "cell_type": "code",
      "execution_count": 8,
      "metadata": {
        "id": "0PPuiO8pZ42A"
      },
      "outputs": [],
      "source": [
        "Y = ((A==B).sum() > 0)\n",
        "assert Z == Y"
      ]
    },
    {
      "cell_type": "markdown",
      "metadata": {
        "id": "fvSpDjmlZ42A"
      },
      "source": [
        "**문제 2**"
      ]
    },
    {
      "cell_type": "markdown",
      "metadata": {
        "id": "1_1hSoxWZ42A"
      },
      "source": [
        "`np.random.rand()` 함수는 `[0, 1)` 구간에서 균등 분포를\n",
        "따르는 부동소수점을 무작위로 선택하여 지정된 모양의 어레이를 생성한다."
      ]
    },
    {
      "cell_type": "code",
      "execution_count": 130,
      "metadata": {
        "colab": {
          "base_uri": "https://localhost:8080/"
        },
        "id": "3y-9_C7cfMnc",
        "outputId": "4a6ee8f3-f274-48fc-a9f9-1fa558133ff2"
      },
      "outputs": [
        {
          "data": {
            "text/plain": [
              "array([[0.77132064, 0.02075195],\n",
              "       [0.63364823, 0.74880388],\n",
              "       [0.49850701, 0.22479665],\n",
              "       [0.19806286, 0.76053071],\n",
              "       [0.16911084, 0.08833981],\n",
              "       [0.68535982, 0.95339335],\n",
              "       [0.00394827, 0.51219226],\n",
              "       [0.81262096, 0.61252607],\n",
              "       [0.72175532, 0.29187607],\n",
              "       [0.91777412, 0.71457578]])"
            ]
          },
          "execution_count": 130,
          "metadata": {},
          "output_type": "execute_result"
        }
      ],
      "source": [
        "np.random.seed(10)\n",
        "\n",
        "Z = np.random.rand(10, 2)\n",
        "Z"
      ]
    },
    {
      "cell_type": "markdown",
      "metadata": {
        "id": "vOhBKQ5dZ42A"
      },
      "source": [
        "변수 `Z`가 가리키는 벡터의 항목 중에서 열별 최댓값을 -1로 대체하라.\n",
        "\n",
        "힌트: `max()` 어레이 메서드, 부울 인덱싱"
      ]
    },
    {
      "cell_type": "code",
      "execution_count": 139,
      "metadata": {
        "id": "5u6sTVRyZ42B"
      },
      "outputs": [
        {
          "name": "stdout",
          "output_type": "stream",
          "text": [
            "[[False False]\n",
            " [False False]\n",
            " [False False]\n",
            " [False False]\n",
            " [False False]\n",
            " [False  True]\n",
            " [False False]\n",
            " [False False]\n",
            " [False False]\n",
            " [ True False]]\n"
          ]
        },
        {
          "data": {
            "text/plain": [
              "array([[ 0.77132064,  0.02075195],\n",
              "       [ 0.63364823,  0.74880388],\n",
              "       [ 0.49850701,  0.22479665],\n",
              "       [ 0.19806286,  0.76053071],\n",
              "       [ 0.16911084,  0.08833981],\n",
              "       [ 0.68535982, -1.        ],\n",
              "       [ 0.00394827,  0.51219226],\n",
              "       [ 0.81262096,  0.61252607],\n",
              "       [ 0.72175532,  0.29187607],\n",
              "       [-1.        ,  0.71457578]])"
            ]
          },
          "execution_count": 139,
          "metadata": {},
          "output_type": "execute_result"
        }
      ],
      "source": [
        "mask = Z >= Z.max(axis=0)\n",
        "print(mask)\n",
        "Z[mask] = -1\n",
        "Z"
      ]
    },
    {
      "cell_type": "markdown",
      "metadata": {
        "id": "OsRPNOQqZ42B"
      },
      "source": [
        "아래 코드는 수정하지 마세요!!!"
      ]
    },
    {
      "cell_type": "code",
      "execution_count": 140,
      "metadata": {
        "id": "DiS-bXfDZ42B"
      },
      "outputs": [],
      "source": [
        "assert (Z.min(axis=0)==-1).all()"
      ]
    },
    {
      "cell_type": "markdown",
      "metadata": {
        "id": "zco9PhmhZ42B"
      },
      "source": [
        "**문제 3**"
      ]
    },
    {
      "cell_type": "markdown",
      "metadata": {
        "id": "uiMXoZhXZ42B"
      },
      "source": [
        "`np.random.uniform()` 함수는 지정된 구간에서 지정된 개수의 부동소수점을 균등 분포를 따르면서 무작위로 선택해서\n",
        "1차원 어레이를 생성한다."
      ]
    },
    {
      "cell_type": "code",
      "execution_count": 154,
      "metadata": {
        "id": "FlSYjNyxZ42B",
        "outputId": "ba33e456-7831-4028-e570-ecb9a4227c96"
      },
      "outputs": [
        {
          "data": {
            "text/plain": [
              "array([0.77132064, 0.02075195, 0.63364823, 0.74880388, 0.49850701,\n",
              "       0.22479665, 0.19806286, 0.76053071, 0.16911084, 0.08833981])"
            ]
          },
          "execution_count": 154,
          "metadata": {},
          "output_type": "execute_result"
        }
      ],
      "source": [
        "np.random.seed(10)\n",
        "\n",
        "Z = np.random.uniform(0, 1, 10)\n",
        "Z"
      ]
    },
    {
      "cell_type": "markdown",
      "metadata": {
        "id": "nTrjP2xaZ42B"
      },
      "source": [
        "변수 `Z`가 가리키는 어레이에 포함된 항목 중에서 항목들의 평균값에 가장 가까운 값을\n",
        "`min_mean` 변수가 가리키도록 하라.\n",
        "단, `argimin()` 메서드와 `np.abs()` 함수를 이용한다."
      ]
    },
    {
      "cell_type": "code",
      "execution_count": 155,
      "metadata": {
        "id": "W2BkMXRcZ42C"
      },
      "outputs": [
        {
          "name": "stdout",
          "output_type": "stream",
          "text": [
            "0.4985070123025904\n"
          ]
        }
      ],
      "source": [
        "min_mean = Z[(np.abs(0.5-Z)).argmin()]\n",
        "print(min_mean)"
      ]
    },
    {
      "cell_type": "markdown",
      "metadata": {
        "id": "8rMciKc0Z42C"
      },
      "source": [
        "아래 코드는 수정하지 마세요!!!"
      ]
    },
    {
      "cell_type": "code",
      "execution_count": 156,
      "metadata": {
        "id": "RmuvQ8lZZ42C"
      },
      "outputs": [],
      "source": [
        "assert round(min_mean, 3) == 0.499"
      ]
    },
    {
      "cell_type": "markdown",
      "metadata": {
        "id": "js2R1yjRZ42C"
      },
      "source": [
        "**문제 4**"
      ]
    },
    {
      "cell_type": "markdown",
      "metadata": {
        "id": "xD7M8a9wZ42C"
      },
      "source": [
        "2차원 어레이가 다음가 같이 주어졌다."
      ]
    },
    {
      "cell_type": "code",
      "execution_count": 172,
      "metadata": {
        "colab": {
          "base_uri": "https://localhost:8080/"
        },
        "id": "tNDBy-aSZ42C",
        "outputId": "4a6ee8f3-f274-48fc-a9f9-1fa558133ff2"
      },
      "outputs": [
        {
          "data": {
            "text/plain": [
              "array([[0.03995921, 0.42949218],\n",
              "       [0.31492687, 0.63649114],\n",
              "       [0.34634715, 0.04309736],\n",
              "       [0.87991517, 0.76324059],\n",
              "       [0.87809664, 0.41750914],\n",
              "       [0.60557756, 0.51346663],\n",
              "       [0.59783665, 0.26221566],\n",
              "       [0.30087131, 0.02539978],\n",
              "       [0.30306256, 0.24207588],\n",
              "       [0.55757819, 0.56550702]])"
            ]
          },
          "execution_count": 172,
          "metadata": {},
          "output_type": "execute_result"
        }
      ],
      "source": [
        "Z = np.random.rand(10, 2)\n",
        "Z"
      ]
    },
    {
      "cell_type": "markdown",
      "metadata": {
        "id": "eEWpPLvLZ42C"
      },
      "source": [
        "변수 `Z`가 가리키는 어레이를 정규화 하라.\n",
        "즉, 항목들의 평균은 0, 표준편차는 1이 되도록 한다.\n",
        "단, `mean()`과 `std()` 메서드를 이용한다."
      ]
    },
    {
      "cell_type": "code",
      "execution_count": 175,
      "metadata": {
        "id": "qMnshZ5lU-Iy"
      },
      "outputs": [
        {
          "data": {
            "text/plain": [
              "array([[-1.59176143, -0.02668306],\n",
              "       [-0.48698731,  0.80500419],\n",
              "       [-0.36074588, -1.57915288],\n",
              "       [ 1.78304127,  1.31426227],\n",
              "       [ 1.77573471, -0.07482889],\n",
              "       [ 0.6807986 ,  0.31071225],\n",
              "       [ 0.64969689, -0.69877215],\n",
              "       [-0.54346021, -1.65025877],\n",
              "       [-0.53465613, -0.77969044],\n",
              "       [ 0.48794513,  0.51980185]])"
            ]
          },
          "execution_count": 175,
          "metadata": {},
          "output_type": "execute_result"
        }
      ],
      "source": [
        "Z= (Z - Z.mean())/Z.std()\n",
        "Z"
      ]
    },
    {
      "cell_type": "markdown",
      "metadata": {
        "id": "vrix1VvIZ42D"
      },
      "source": [
        "아래 코드는 수정하지 마세요!!!"
      ]
    },
    {
      "cell_type": "code",
      "execution_count": 176,
      "metadata": {
        "id": "a_QWiuUIZ42D"
      },
      "outputs": [],
      "source": [
        "assert round(Z.mean(), 1) == 0.0\n",
        "assert round(Z.std(), 1) == 1.0"
      ]
    },
    {
      "cell_type": "markdown",
      "metadata": {
        "id": "n2Z5QRHAZ42D"
      },
      "source": [
        "**텍스트 파일 다운로드 후 활용**"
      ]
    },
    {
      "cell_type": "markdown",
      "metadata": {
        "id": "9YPpNl8mZ42D"
      },
      "source": [
        "`data_path`가 가리키는 인터넷 주소에 아래 내용의 파일이 저장되어 있다.\n",
        "\n",
        "```python\n",
        "1,  2,  3,  4,  5\n",
        "6,  7,  8,  9, 10\n",
        "11, 12, 13, 14, 15\n",
        "```"
      ]
    },
    {
      "cell_type": "code",
      "execution_count": null,
      "metadata": {
        "id": "vdHzk44CZ42D"
      },
      "outputs": [],
      "source": [
        "data_path = \"https://raw.githubusercontent.com/codingalzi/datapy/master/practices/data/exc_data_import.txt\""
      ]
    },
    {
      "cell_type": "markdown",
      "metadata": {
        "id": "W5BFMnOaZ42H"
      },
      "source": [
        "**문제 5**"
      ]
    },
    {
      "cell_type": "markdown",
      "metadata": {
        "id": "nz0SBq2gZ42H"
      },
      "source": [
        "위 파일을 불러와 아래 모양의 2차원 어레이를 생성하라.\n",
        "\n",
        "힌트: `np.genfromtxt()` 함수와 `delimiter` 키워드 매개변수"
      ]
    },
    {
      "cell_type": "markdown",
      "metadata": {
        "id": "2mknWinUZ42H"
      },
      "source": [
        "```python\n",
        "array([[ 1,  2,  3,  4,  5],\n",
        "       [ 6,  7,  8,  9, 10],\n",
        "       [11, 12, 13, 14, 15]])\n",
        "```"
      ]
    },
    {
      "cell_type": "code",
      "execution_count": 190,
      "metadata": {
        "id": "27xqLJY0Z42H"
      },
      "outputs": [
        {
          "data": {
            "text/plain": [
              "array([[ 1.,  2.,  3.,  4.,  5.],\n",
              "       [ 6.,  7.,  8.,  9., 10.],\n",
              "       [11., 12., 13., 14., 15.]])"
            ]
          },
          "execution_count": 190,
          "metadata": {},
          "output_type": "execute_result"
        }
      ],
      "source": [
        "Z = np.genfromtxt('practice_numpu_3_2.txt',delimiter=',')\n",
        "Z"
      ]
    },
    {
      "cell_type": "markdown",
      "metadata": {
        "id": "R1RZ0pl4Z42H"
      },
      "source": [
        "아래 코드는 수정하지 마세요!!!"
      ]
    },
    {
      "cell_type": "code",
      "execution_count": 191,
      "metadata": {
        "id": "pBdD6ARBZ42I"
      },
      "outputs": [],
      "source": [
        "assert (Z == np.array([[ 1,  2,  3,  4,  5],\n",
        "                        [ 6,  7,  8,  9, 10],\n",
        "                        [11, 12, 13, 14, 15]])).all()"
      ]
    },
    {
      "cell_type": "markdown",
      "metadata": {
        "id": "8b_fAovLZ42I"
      },
      "source": [
        "**문제 6**"
      ]
    },
    {
      "cell_type": "markdown",
      "metadata": {
        "id": "ZdKGh_sgZ42I"
      },
      "source": [
        "`Z`에 `np.divmod()` 함수를 적용하라. 단 7로 나눈 몫과 나머지로 이루어진 어레이를 생성해야 한다."
      ]
    },
    {
      "cell_type": "code",
      "execution_count": 193,
      "metadata": {
        "id": "QjsteTFcZ42I"
      },
      "outputs": [
        {
          "data": {
            "text/plain": [
              "(array([[0., 0., 0., 0., 0.],\n",
              "        [0., 1., 1., 1., 1.],\n",
              "        [1., 1., 1., 2., 2.]]),\n",
              " array([[1., 2., 3., 4., 5.],\n",
              "        [6., 0., 1., 2., 3.],\n",
              "        [4., 5., 6., 0., 1.]]))"
            ]
          },
          "execution_count": 193,
          "metadata": {},
          "output_type": "execute_result"
        }
      ],
      "source": [
        "Zmod = np.divmod(Z,7)\n",
        "Zmod"
      ]
    },
    {
      "cell_type": "markdown",
      "metadata": {
        "id": "o-UGFHrLZ42I"
      },
      "source": [
        "아래 코드는 수정하지 마세요!!!"
      ]
    },
    {
      "cell_type": "code",
      "execution_count": 194,
      "metadata": {
        "id": "OLtKP-HjZ42I"
      },
      "outputs": [],
      "source": [
        "assert (Zmod[0] == np.array([[0, 0, 0, 0, 0],\n",
        "                              [0, 1, 1, 1, 1],\n",
        "                              [1, 1, 1, 2, 2]])).all()\n",
        "\n",
        "assert (Zmod[1] == np.array([[1, 2, 3, 4, 5],\n",
        "                              [6, 0, 1, 2, 3],\n",
        "                              [4, 5, 6, 0, 1]])).all()"
      ]
    },
    {
      "cell_type": "markdown",
      "metadata": {
        "id": "LqkK5VJ1Z42I"
      },
      "source": [
        "**문제 7**"
      ]
    },
    {
      "cell_type": "markdown",
      "metadata": {
        "id": "1GTgy5W4Z42I"
      },
      "source": [
        "변수 `Z`가 가리키는 어레이에 7로 나누어 떨어지는 항목의 수를 `n_mod7_0` 변수가 가리키도록 하라.\n",
        "단, `Zmod`와 `sum()` 메서드를 이용한다."
      ]
    },
    {
      "cell_type": "code",
      "execution_count": null,
      "metadata": {
        "id": "RnDAqA2IZ42J"
      },
      "outputs": [
        {
          "data": {
            "text/plain": [
              "array([1., 2., 2., 3., 3.])"
            ]
          },
          "execution_count": 195,
          "metadata": {},
          "output_type": "execute_result"
        }
      ],
      "source": [
        "n_mod7_0 = sum()\n",
        "n_mod7_0"
      ]
    },
    {
      "cell_type": "markdown",
      "metadata": {
        "id": "-OwzmtoZZ42J"
      },
      "source": [
        "아래 코드는 수정하지 마세요!!!"
      ]
    },
    {
      "cell_type": "code",
      "execution_count": null,
      "metadata": {
        "id": "I_YdAROtZ42J"
      },
      "outputs": [],
      "source": [
        "assert n_mod7_0 == 2"
      ]
    },
    {
      "cell_type": "markdown",
      "metadata": {
        "id": "NpMuudX2Z42J"
      },
      "source": [
        "**문제 8**"
      ]
    },
    {
      "cell_type": "markdown",
      "metadata": {
        "id": "IDbkqzIFZ42J"
      },
      "source": [
        "변수 `Z`가 가리키는 어레이에 7로 나눴을 때 나머지가 3인 항목만으로 이루어진 1차원 어레이를 `n_mod7_3` 변수가 가리키도록 하라.\n",
        "단, `Zmod`와 부울 인덱싱을 활용한다."
      ]
    },
    {
      "cell_type": "code",
      "execution_count": null,
      "metadata": {
        "id": "U733acE7Z42J"
      },
      "outputs": [],
      "source": [
        "n_mod7_3 = None"
      ]
    },
    {
      "cell_type": "markdown",
      "metadata": {
        "id": "h_RKJ2F_Z42K"
      },
      "source": [
        "아래 코드는 수정하지 마세요!!!"
      ]
    },
    {
      "cell_type": "code",
      "execution_count": null,
      "metadata": {
        "id": "vTLNyMjIZ42K"
      },
      "outputs": [],
      "source": [
        "assert (n_mod7_3 == np.array([ 3, 10])).all()"
      ]
    },
    {
      "cell_type": "markdown",
      "metadata": {
        "id": "u_XLnJpKZ42K"
      },
      "source": [
        "**문제 9**"
      ]
    },
    {
      "cell_type": "markdown",
      "metadata": {
        "id": "BFf1m8J7Z42K"
      },
      "source": [
        "다음 어레이를 이용한다."
      ]
    },
    {
      "cell_type": "code",
      "execution_count": null,
      "metadata": {
        "id": "LfrrqBGzZ42K",
        "outputId": "63ba5460-d257-43f2-a0e4-6728ce929d25"
      },
      "outputs": [
        {
          "data": {
            "text/plain": [
              "array([[11, 34,  2],\n",
              "       [47,  3,  7],\n",
              "       [35, 40, 16],\n",
              "       [16,  2, 15]])"
            ]
          },
          "execution_count": 22,
          "metadata": {},
          "output_type": "execute_result"
        }
      ],
      "source": [
        "np.random.seed(1235)\n",
        "\n",
        "Z = np.random.randint(0,50,(4, 3))\n",
        "Z"
      ]
    },
    {
      "cell_type": "markdown",
      "metadata": {
        "id": "xO6LRgBVZ42L"
      },
      "source": [
        "1번 열에 위치한 값들의 순서대로 행을 재배치한 어레이를 변수 `X`가 가리키도록 하라.\n",
        "단, `argsort()` 메서드와 인덱싱, 슬라이싱, 팬시 인덱싱을 사용한다."
      ]
    },
    {
      "cell_type": "code",
      "execution_count": null,
      "metadata": {
        "id": "mazQmbg7Z42L"
      },
      "outputs": [],
      "source": [
        "X = None"
      ]
    },
    {
      "cell_type": "markdown",
      "metadata": {
        "id": "sZ0iVqKuZ42L"
      },
      "source": [
        "아래 코드는 수정하지 마세요!!!"
      ]
    },
    {
      "cell_type": "code",
      "execution_count": null,
      "metadata": {
        "id": "nKalAYQjZ42L"
      },
      "outputs": [],
      "source": [
        "assert (X == np.array([[16,  2, 15],\n",
        "                        [47,  3,  7],\n",
        "                        [11, 34,  2],\n",
        "                        [35, 40, 16]])).all()"
      ]
    },
    {
      "cell_type": "markdown",
      "metadata": {
        "id": "ImACNJFWZ42L"
      },
      "source": [
        "**문제 10**"
      ]
    },
    {
      "cell_type": "markdown",
      "metadata": {
        "id": "Hjbbq2faZ42M"
      },
      "source": [
        "아래와 같은 그래프를 그리는 코드를 완성하라.\n",
        "단, `np.sin()`, `np.cos()` 두 유니버설 함수를 이용한다."
      ]
    },
    {
      "cell_type": "markdown",
      "metadata": {
        "id": "dd6wEmz5Z42M"
      },
      "source": [
        "<div align=\"center\"><img src=\"https://raw.githubusercontent.com/codingalzi/datapy/master/jupyter-book/images/sine-cosine.png?raw=true\" style=\"width:400px;\"></div>"
      ]
    },
    {
      "cell_type": "code",
      "execution_count": null,
      "metadata": {
        "id": "MT5fR3KuZ42M"
      },
      "outputs": [],
      "source": [
        "x = np.arange(0, 3 * np.pi, 0.1)\n",
        "y_sin = None\n",
        "y_cos = None\n",
        "\n",
        "plt.plot(x, y_sin)\n",
        "plt.plot(x, y_cos)\n",
        "plt.xlabel('x axis')\n",
        "plt.ylabel('y axis')\n",
        "plt.legend(['sine', 'cosine'])\n",
        "\n",
        "plt.show()"
      ]
    }
  ],
  "metadata": {
    "colab": {
      "provenance": []
    },
    "kernelspec": {
      "display_name": "base",
      "language": "python",
      "name": "python3"
    },
    "language_info": {
      "codemirror_mode": {
        "name": "ipython",
        "version": 3
      },
      "file_extension": ".py",
      "mimetype": "text/x-python",
      "name": "python",
      "nbconvert_exporter": "python",
      "pygments_lexer": "ipython3",
      "version": "3.12.3"
    }
  },
  "nbformat": 4,
  "nbformat_minor": 0
}

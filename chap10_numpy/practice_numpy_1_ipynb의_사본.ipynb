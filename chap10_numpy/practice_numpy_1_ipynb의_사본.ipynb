{
  "cells": [
    {
      "cell_type": "markdown",
      "metadata": {
        "colab_type": "text",
        "id": "view-in-github"
      },
      "source": [
        "<a href=\"https://colab.research.google.com/github/gongwon65/day1/blob/master/practice_numpy_1_ipynb%EC%9D%98_%EC%82%AC%EB%B3%B8.ipynb\" target=\"_parent\"><img src=\"https://colab.research.google.com/assets/colab-badge.svg\" alt=\"Open In Colab\"/></a>"
      ]
    },
    {
      "cell_type": "markdown",
      "metadata": {
        "id": "YFE7AP7vOyLp"
      },
      "source": [
        "# (실습) 넘파이 어레이"
      ]
    },
    {
      "cell_type": "markdown",
      "metadata": {
        "id": "cU0DivUQOyLq"
      },
      "source": [
        "**주의사항**\n",
        "\n",
        "- `None`은 적절한 표현식으로 대체한다.\n",
        "- `Pass`는 적절한 명령문으로 대체한다."
      ]
    },
    {
      "cell_type": "markdown",
      "metadata": {
        "id": "7L70DiC9OyLq"
      },
      "source": [
        "## numpy 모듈"
      ]
    },
    {
      "cell_type": "markdown",
      "metadata": {
        "id": "hV4vrTa1OyLr"
      },
      "source": [
        "**문제 1**"
      ]
    },
    {
      "cell_type": "markdown",
      "metadata": {
        "id": "1Rk3MCirx-gA"
      },
      "source": [
        "아래 코드를 설명하라."
      ]
    },
    {
      "cell_type": "code",
      "execution_count": 1,
      "metadata": {
        "id": "J71Fcvihxzi9"
      },
      "outputs": [],
      "source": [
        "import numpy as np"
      ]
    },
    {
      "cell_type": "markdown",
      "metadata": {
        "id": "1e8DF-_fOyLs"
      },
      "source": [
        "`코드설명`: numpy모듈을 별칭np로 부른다."
      ]
    },
    {
      "cell_type": "markdown",
      "metadata": {
        "id": "4luOJsM_OyLs"
      },
      "source": [
        "아래 코드는 수정하지 마세요!!!"
      ]
    },
    {
      "cell_type": "code",
      "execution_count": 2,
      "metadata": {
        "colab": {
          "base_uri": "https://localhost:8080/",
          "height": 35
        },
        "id": "pXMIfvi9yHG5",
        "outputId": "3f753563-a15b-47c0-ab3b-d9eca689e0fc"
      },
      "outputs": [
        {
          "data": {
            "text/plain": [
              "'1.26.4'"
            ]
          },
          "execution_count": 2,
          "metadata": {},
          "output_type": "execute_result"
        }
      ],
      "source": [
        "np.__version__"
      ]
    },
    {
      "cell_type": "markdown",
      "metadata": {
        "id": "syQkfPzROyLt"
      },
      "source": [
        "**문제 2**"
      ]
    },
    {
      "cell_type": "markdown",
      "metadata": {
        "id": "O6fkUR6QOyLt"
      },
      "source": [
        "아래 코드의 기능을 설명하라"
      ]
    },
    {
      "cell_type": "code",
      "execution_count": 3,
      "metadata": {
        "id": "0-uBd5j2OyLt"
      },
      "outputs": [],
      "source": [
        "np.random.seed(42)"
      ]
    },
    {
      "cell_type": "markdown",
      "metadata": {
        "id": "Qmm445uwOyLu"
      },
      "source": [
        "`코드설명`: 난수를 생성할 때 사용되는 시드를 42로 지정한다."
      ]
    },
    {
      "cell_type": "markdown",
      "metadata": {
        "id": "7_ldOoiVOyLu"
      },
      "source": [
        "**문제 3**"
      ]
    },
    {
      "cell_type": "markdown",
      "metadata": {
        "id": "3BUbq40gOyLu"
      },
      "source": [
        "부동소수점으로 구성된 어레이의 항목은 기본적으로 소수점 이하 8자리까지 출력한다."
      ]
    },
    {
      "cell_type": "code",
      "execution_count": 4,
      "metadata": {
        "colab": {
          "base_uri": "https://localhost:8080/"
        },
        "id": "1pij2N2QOyLu",
        "outputId": "2cc2e34d-d012-476f-922e-6a4dfe0b38c5"
      },
      "outputs": [
        {
          "data": {
            "text/plain": [
              "array([[0.37454012, 0.95071431, 0.73199394, ..., 0.09767211, 0.68423303,\n",
              "        0.44015249],\n",
              "       [0.12203823, 0.49517691, 0.03438852, ..., 0.07404465, 0.35846573,\n",
              "        0.11586906],\n",
              "       [0.86310343, 0.62329813, 0.33089802, ..., 0.18657006, 0.892559  ,\n",
              "        0.53934224],\n",
              "       ...,\n",
              "       [0.81783422, 0.12020906, 0.5444891 , ..., 0.89803055, 0.2434823 ,\n",
              "        0.92703454],\n",
              "       [0.06026739, 0.93443603, 0.35162269, ..., 0.41102847, 0.8398613 ,\n",
              "        0.90002312],\n",
              "       [0.35342138, 0.23687056, 0.78052552, ..., 0.07941937, 0.08565825,\n",
              "        0.89419087]])"
            ]
          },
          "execution_count": 4,
          "metadata": {},
          "output_type": "execute_result"
        }
      ],
      "source": [
        "Z = np.random.random((40,40))\n",
        "Z"
      ]
    },
    {
      "cell_type": "markdown",
      "metadata": {
        "id": "gsQ2r1RIOyLu"
      },
      "source": [
        "`np.set_printoptions()` 의 기능을 다음 두 개의 예를 이용하여 설명하라."
      ]
    },
    {
      "cell_type": "code",
      "execution_count": 5,
      "metadata": {
        "id": "OGQdLr7DOyLu"
      },
      "outputs": [],
      "source": [
        "np.set_printoptions(precision=4)"
      ]
    },
    {
      "cell_type": "code",
      "execution_count": null,
      "metadata": {
        "colab": {
          "base_uri": "https://localhost:8080/"
        },
        "id": "-aOL8TFjOyLv",
        "outputId": "5bff27b2-20dd-4ab4-c596-2e0818a9692a"
      },
      "outputs": [
        {
          "data": {
            "text/plain": [
              "array([[0.3745, 0.9507, 0.732 , ..., 0.0977, 0.6842, 0.4402],\n",
              "       [0.122 , 0.4952, 0.0344, ..., 0.074 , 0.3585, 0.1159],\n",
              "       [0.8631, 0.6233, 0.3309, ..., 0.1866, 0.8926, 0.5393],\n",
              "       ...,\n",
              "       [0.8178, 0.1202, 0.5445, ..., 0.898 , 0.2435, 0.927 ],\n",
              "       [0.0603, 0.9344, 0.3516, ..., 0.411 , 0.8399, 0.9   ],\n",
              "       [0.3534, 0.2369, 0.7805, ..., 0.0794, 0.0857, 0.8942]])"
            ]
          },
          "execution_count": 15,
          "metadata": {},
          "output_type": "execute_result"
        }
      ],
      "source": [
        "Z"
      ]
    },
    {
      "cell_type": "code",
      "execution_count": 6,
      "metadata": {
        "id": "Yn9WWqjqOyLv"
      },
      "outputs": [],
      "source": [
        "np.set_printoptions(precision=6)"
      ]
    },
    {
      "cell_type": "code",
      "execution_count": 7,
      "metadata": {
        "colab": {
          "base_uri": "https://localhost:8080/"
        },
        "id": "LytO_m46OyLv",
        "outputId": "77557971-c708-465d-b473-f20f1b8f86c3"
      },
      "outputs": [
        {
          "data": {
            "text/plain": [
              "array([[0.37454 , 0.950714, 0.731994, ..., 0.097672, 0.684233, 0.440152],\n",
              "       [0.122038, 0.495177, 0.034389, ..., 0.074045, 0.358466, 0.115869],\n",
              "       [0.863103, 0.623298, 0.330898, ..., 0.18657 , 0.892559, 0.539342],\n",
              "       ...,\n",
              "       [0.817834, 0.120209, 0.544489, ..., 0.898031, 0.243482, 0.927035],\n",
              "       [0.060267, 0.934436, 0.351623, ..., 0.411028, 0.839861, 0.900023],\n",
              "       [0.353421, 0.236871, 0.780526, ..., 0.079419, 0.085658, 0.894191]])"
            ]
          },
          "execution_count": 7,
          "metadata": {},
          "output_type": "execute_result"
        }
      ],
      "source": [
        "Z"
      ]
    },
    {
      "cell_type": "markdown",
      "metadata": {
        "id": "4PMxoMn1OyLv"
      },
      "source": [
        "`코드설명`: np의 소수점 자릿수 출력설정을 바꾼다. 디폴트의 경우 소수점 이하 8자리, 전자의 경우 4자리, 후자의 경우 6자리가 출력된다."
      ]
    },
    {
      "cell_type": "markdown",
      "metadata": {
        "id": "wrKcYGUeOyLv"
      },
      "source": [
        "아래 코드는 기본 옵션값으로 되돌린다. 수정하지 마세요."
      ]
    },
    {
      "cell_type": "code",
      "execution_count": 8,
      "metadata": {
        "id": "JA1mW6x-OyLv"
      },
      "outputs": [],
      "source": [
        "np.set_printoptions(precision=8)"
      ]
    },
    {
      "cell_type": "markdown",
      "metadata": {
        "id": "C4UKX7NROyLv"
      },
      "source": [
        "## 1차원 어레이"
      ]
    },
    {
      "cell_type": "markdown",
      "metadata": {
        "id": "-6PAouxkOyLv"
      },
      "source": [
        "**문제 1**"
      ]
    },
    {
      "cell_type": "markdown",
      "metadata": {
        "id": "D52rYqifyYtK"
      },
      "source": [
        "크기가 10이고 모든 항목이 0인 1차원 어레이를\n",
        "변수 `Z`가 가리키도록 하라.\n",
        "단, `np.zeros()` 함수를 반드시 이용한다."
      ]
    },
    {
      "cell_type": "code",
      "execution_count": 63,
      "metadata": {
        "id": "9a2qagIByT5-"
      },
      "outputs": [],
      "source": [
        "# None을 적절한 표현식으로 대체하라.\n",
        "Z = np.zeros(10)"
      ]
    },
    {
      "cell_type": "markdown",
      "metadata": {
        "id": "Hr2LQrX8OyLw"
      },
      "source": [
        "아래 코드는 수정하지 마세요!!!"
      ]
    },
    {
      "cell_type": "code",
      "execution_count": 64,
      "metadata": {
        "id": "voCNt1dHOyLw"
      },
      "outputs": [],
      "source": [
        "assert (Z == np.array([0., 0., 0., 0., 0., 0., 0., 0., 0., 0.])).all()"
      ]
    },
    {
      "cell_type": "markdown",
      "metadata": {
        "id": "Sthc8NZwOyLw"
      },
      "source": [
        "**문제 2**"
      ]
    },
    {
      "cell_type": "markdown",
      "metadata": {
        "id": "Bly_H3ozyaSd"
      },
      "source": [
        "변수 `Z`가 10에서 49까지의 정수 중에서 짝수로만 구성된 1차원 어레이를 가리키도록 하라.\n",
        "단, `np.arange()` 함수를 반드시 이용한다."
      ]
    },
    {
      "cell_type": "code",
      "execution_count": 65,
      "metadata": {
        "id": "0VkfsWyPKvcE"
      },
      "outputs": [],
      "source": [
        "# None을 적절한 표현식으로 대체하라.\n",
        "Z = np.arange(10,50,2)"
      ]
    },
    {
      "cell_type": "markdown",
      "metadata": {
        "id": "XXGDODUhOyLw"
      },
      "source": [
        "아래 코드는 수정하지 마세요!!!"
      ]
    },
    {
      "cell_type": "code",
      "execution_count": 66,
      "metadata": {
        "id": "tHecP_HROyLw"
      },
      "outputs": [],
      "source": [
        "assert (Z == np.array([10, 12, 14, 16, 18, 20, 22, 24, 26, 28, 30, 32, 34, 36, 38, 40, 42,\n",
        "                        44, 46, 48])).all()"
      ]
    },
    {
      "cell_type": "markdown",
      "metadata": {
        "id": "oYhzoR8GOyLx"
      },
      "source": [
        "**문제 3**"
      ]
    },
    {
      "cell_type": "markdown",
      "metadata": {
        "id": "I0WM-tC-OyLx"
      },
      "source": [
        "변수 `Z`가 아래와 같이 선언되었다."
      ]
    },
    {
      "cell_type": "code",
      "execution_count": 67,
      "metadata": {
        "colab": {
          "base_uri": "https://localhost:8080/"
        },
        "id": "HP5gmgHDOyLx",
        "outputId": "e1e0b919-4525-4e47-8be1-acdb3d1da1e6"
      },
      "outputs": [
        {
          "data": {
            "text/plain": [
              "array([2, 3, 1, 0, 4])"
            ]
          },
          "execution_count": 67,
          "metadata": {},
          "output_type": "execute_result"
        }
      ],
      "source": [
        "Z = np.array([2, 3, 1, 0, 4])\n",
        "Z"
      ]
    },
    {
      "cell_type": "markdown",
      "metadata": {
        "id": "367iGdAVOyLx"
      },
      "source": [
        "변수 `Z`의 항목을 정렬하라.\n",
        "단, sort() 메서드를 활용한다."
      ]
    },
    {
      "cell_type": "code",
      "execution_count": 68,
      "metadata": {
        "id": "1h1OwOchOyL5"
      },
      "outputs": [],
      "source": [
        "# None을 적절한 표현식으로 대체하라.\n",
        "Z.sort()"
      ]
    },
    {
      "cell_type": "markdown",
      "metadata": {
        "id": "1pngxos0OyL5"
      },
      "source": [
        "아래 코드는 수정하지 마세요!!!"
      ]
    },
    {
      "cell_type": "code",
      "execution_count": 69,
      "metadata": {
        "id": "Nc6qohKHOyL6"
      },
      "outputs": [],
      "source": [
        "assert (Z == np.arange(5)).all()"
      ]
    },
    {
      "cell_type": "markdown",
      "metadata": {
        "id": "3dKk2h0uOyL6"
      },
      "source": [
        "**문제 4**"
      ]
    },
    {
      "cell_type": "markdown",
      "metadata": {
        "id": "pGWgBPJ0OyL6"
      },
      "source": [
        "변수 `Z`가 크기 30이며 무작위로 생성된 1차원 어레이를 가리키도록 하라.\n",
        "또한 포함된 항목들의 평균값을 계산하라.\n",
        "단, 어레이의 항목은 0과 1 사이의 임의의 부동소수점으로 구성되어야 한다.\n",
        "`np.random.random()` 함수, `mean()` 어레이 메서드를 반드시 이용한다."
      ]
    },
    {
      "cell_type": "code",
      "execution_count": 70,
      "metadata": {
        "id": "7YhfGbYoOyL6"
      },
      "outputs": [],
      "source": [
        "# None을 적절한 표현식으로 대체하라.\n",
        "Z = np.random.random(30) # 0~1 사이의 난수 생성\n",
        "Z_mean = Z.mean()"
      ]
    },
    {
      "cell_type": "markdown",
      "metadata": {
        "id": "mP9nEBIlOyL6"
      },
      "source": [
        "아래 코드는 수정하지 마세요!!!"
      ]
    },
    {
      "cell_type": "code",
      "execution_count": 71,
      "metadata": {
        "colab": {
          "base_uri": "https://localhost:8080/"
        },
        "id": "ZyG_YKv7OyL6",
        "outputId": "5a1203e6-199a-4c0c-8d26-e497c44b0f69"
      },
      "outputs": [
        {
          "name": "stdout",
          "output_type": "stream",
          "text": [
            "1차원 어레이 평균값: 0.5274843769736939\n"
          ]
        }
      ],
      "source": [
        "assert (Z.shape == (30,))\n",
        "print(f\"1차원 어레이 평균값: {Z_mean}\")"
      ]
    },
    {
      "cell_type": "markdown",
      "metadata": {
        "id": "iT5z4ErEOyL6"
      },
      "source": [
        "**문제 5**"
      ]
    },
    {
      "cell_type": "markdown",
      "metadata": {
        "id": "pocSZJSY-y56"
      },
      "source": [
        "1차원 어레이가 다음과 같이 주어졌다."
      ]
    },
    {
      "cell_type": "code",
      "execution_count": 72,
      "metadata": {
        "id": "NXZ6awgqOyL7"
      },
      "outputs": [],
      "source": [
        "Z = np.arange(1, 4)"
      ]
    },
    {
      "cell_type": "markdown",
      "metadata": {
        "id": "lv0dm01FOyL7"
      },
      "source": [
        "(1) 아래 표현식의 계산 결과를 설명하라."
      ]
    },
    {
      "cell_type": "code",
      "execution_count": 73,
      "metadata": {
        "colab": {
          "base_uri": "https://localhost:8080/"
        },
        "id": "ZMAOCK-mZVbd",
        "outputId": "75147660-4cd4-4072-fc0c-c760946e3e52"
      },
      "outputs": [
        {
          "data": {
            "text/plain": [
              "array([1, 4, 9])"
            ]
          },
          "execution_count": 73,
          "metadata": {},
          "output_type": "execute_result"
        }
      ],
      "source": [
        "Z*Z"
      ]
    },
    {
      "cell_type": "markdown",
      "metadata": {
        "id": "GRZq4VO4OyL7"
      },
      "source": [
        "`코드설명`: Z 어레이 각 객체가 제곱됨.\n",
        "\n"
      ]
    },
    {
      "cell_type": "markdown",
      "metadata": {
        "id": "hJrfyC5pOyL7"
      },
      "source": [
        "(2) 아래 표현식의 계산 결과를 설명하라."
      ]
    },
    {
      "cell_type": "code",
      "execution_count": 74,
      "metadata": {
        "colab": {
          "base_uri": "https://localhost:8080/"
        },
        "id": "gI0SsBIXOyL7",
        "outputId": "3e668c33-0622-4ef6-9628-dbade07a5661"
      },
      "outputs": [
        {
          "data": {
            "text/plain": [
              "array([ 1,  4, 27])"
            ]
          },
          "execution_count": 74,
          "metadata": {},
          "output_type": "execute_result"
        }
      ],
      "source": [
        "Z**Z"
      ]
    },
    {
      "cell_type": "markdown",
      "metadata": {
        "id": "wzHVnid2OyL8"
      },
      "source": [
        "`코드설명`:객체를 지수승함."
      ]
    },
    {
      "cell_type": "markdown",
      "metadata": {
        "id": "LR7NJXBgOyL8"
      },
      "source": [
        "(3) 아래 표현식의 계산 결과를 설명하라."
      ]
    },
    {
      "cell_type": "code",
      "execution_count": 75,
      "metadata": {
        "colab": {
          "base_uri": "https://localhost:8080/"
        },
        "id": "CJfJkqQ8ZhZI",
        "outputId": "a4e81466-84a3-43a6-a08e-91980f842f07"
      },
      "outputs": [
        {
          "data": {
            "text/plain": [
              "array([False, False, False])"
            ]
          },
          "execution_count": 75,
          "metadata": {},
          "output_type": "execute_result"
        }
      ],
      "source": [
        "Z < -Z"
      ]
    },
    {
      "cell_type": "markdown",
      "metadata": {
        "id": "RAf62uuGOyL8"
      },
      "source": [
        "`코드설명`: 항목별 크기 비교교"
      ]
    },
    {
      "cell_type": "markdown",
      "metadata": {
        "id": "IkCKJliWOyL8"
      },
      "source": [
        "(4) 아래 표현식의 계산 결과를 설명하라."
      ]
    },
    {
      "cell_type": "code",
      "execution_count": 76,
      "metadata": {
        "colab": {
          "base_uri": "https://localhost:8080/"
        },
        "id": "wYc9wQ29ZoHt",
        "outputId": "98fb67f0-f264-452f-89d2-19302346ff8a"
      },
      "outputs": [
        {
          "data": {
            "text/plain": [
              "array([1., 2., 3.])"
            ]
          },
          "execution_count": 76,
          "metadata": {},
          "output_type": "execute_result"
        }
      ],
      "source": [
        "Z/1/1"
      ]
    },
    {
      "cell_type": "markdown",
      "metadata": {
        "id": "lPjb1KqhOyL8"
      },
      "source": [
        "`코드설명`: 항목별 2번 나눗셈을 진행행."
      ]
    },
    {
      "cell_type": "markdown",
      "metadata": {
        "id": "KccoqVuoOyL8"
      },
      "source": [
        "**문제 6**"
      ]
    },
    {
      "cell_type": "markdown",
      "metadata": {
        "id": "di-kWWnHOyL8"
      },
      "source": [
        "변수 `Z`가 아래 모양의 어레이를 가리키도록 하라.\n",
        "단, `np.linspace()` 함수와 `endpoint` 키워드 인자를 이용한다.\n",
        "\n",
        "```\n",
        "[0. , 0.1, 0.2, 0.3, 0.4, 0.5, 0.6, 0.7, 0.8, 0.9]\n",
        "```"
      ]
    },
    {
      "cell_type": "code",
      "execution_count": 90,
      "metadata": {
        "id": "y1MfWHq4OyL9"
      },
      "outputs": [],
      "source": [
        "# None을 적절한 표현식으로 대체하라.\n",
        "Z = np.linspace(0., 1., 10, endpoint=0) \n",
        "#False시 1을 포함 안함, True시 1을 포함함."
      ]
    },
    {
      "cell_type": "markdown",
      "metadata": {
        "id": "l6v632fjOyL9"
      },
      "source": [
        "아래 코드는 수정하지 마세요!!!"
      ]
    },
    {
      "cell_type": "code",
      "execution_count": 78,
      "metadata": {
        "id": "JeSbE6HKOyL9"
      },
      "outputs": [],
      "source": [
        "assert np.isclose(Z, np.array([0. , 0.1, 0.2, 0.3, 0.4, 0.5, 0.6, 0.7, 0.8, 0.9])).all()"
      ]
    },
    {
      "cell_type": "markdown",
      "metadata": {
        "id": "_ddfV6sZOyL9"
      },
      "source": [
        "**문제 7**"
      ]
    },
    {
      "cell_type": "markdown",
      "metadata": {
        "id": "lWmRyyQQOyL9",
        "lines_to_next_cell": 0
      },
      "source": [
        "아래 코드의 실행결과를 설명하라."
      ]
    },
    {
      "cell_type": "code",
      "execution_count": null,
      "metadata": {
        "colab": {
          "base_uri": "https://localhost:8080/"
        },
        "id": "FrxcGVF1OyL9",
        "outputId": "9be615c8-1893-4b96-89da-8e11be995103"
      },
      "outputs": [
        {
          "name": "stdout",
          "output_type": "stream",
          "text": [
            "[[0. 0. 0. 0. 0. 0. 0. 0. 0. 0.]\n",
            " [0. 0. 0. 0. 0. 0. 0. 0. 0. 0.]\n",
            " [0. 0. 0. 0. 0. 0. 0. 0. 0. 0.]\n",
            " [0. 0. 0. 0. 0. 0. 0. 0. 0. 0.]\n",
            " [0. 0. 0. 0. 0. 0. 0. 0. 0. 0.]\n",
            " [0. 0. 0. 0. 0. 0. 0. 0. 0. 0.]\n",
            " [0. 0. 0. 0. 0. 0. 0. 0. 0. 0.]\n",
            " [0. 0. 0. 0. 0. 0. 0. 0. 0. 0.]\n",
            " [0. 0. 0. 0. 0. 0. 0. 0. 0. 0.]\n",
            " [0. 0. 0. 0. 0. 0. 0. 0. 0. 0.]]\n",
            "800 bytes\n"
          ]
        }
      ],
      "source": [
        "Z = np.zeros((10,10))\n",
        "print(\"%d bytes\" % (Z.size * Z.itemsize))"
      ]
    },
    {
      "cell_type": "markdown",
      "metadata": {
        "id": "wQ4DjyilOyL9"
      },
      "source": [
        "`코드설명`: 행10 열10 총 100size, float64 각8바이트트 | 결과값 = 800 bytes"
      ]
    },
    {
      "cell_type": "markdown",
      "metadata": {
        "id": "1UVeu3OWOyL9"
      },
      "source": [
        "**문제 8**"
      ]
    },
    {
      "cell_type": "markdown",
      "metadata": {
        "id": "dVffUWDAOyL9"
      },
      "source": [
        "다음 리스트에서 0이 아닌 항목들의 인덱스로 구성된 어레이를 한줄 코드로 생성하라.\n",
        "단. `np.nonzero()` 함수를 활용한다."
      ]
    },
    {
      "cell_type": "code",
      "execution_count": 80,
      "metadata": {
        "id": "Oz7DDuPYOyL-"
      },
      "outputs": [],
      "source": [
        "Z = [1, 2, 0, 0, 4, 0]"
      ]
    },
    {
      "cell_type": "code",
      "execution_count": null,
      "metadata": {
        "id": "Lycd67RpOyL-"
      },
      "outputs": [
        {
          "name": "stdout",
          "output_type": "stream",
          "text": [
            "(array([], dtype=int64), array([], dtype=int64))\n"
          ]
        }
      ],
      "source": [
        "# None을 적절한 표현식으로 대체하라.\n",
        "\n",
        "non_zeros = np.nonzero(Z) #nonzero인 인덱스 반환"
      ]
    },
    {
      "cell_type": "markdown",
      "metadata": {
        "id": "roFYzy-rOyL-"
      },
      "source": [
        "아래 코드는 수정하지 마세요!!!"
      ]
    },
    {
      "cell_type": "code",
      "execution_count": 82,
      "metadata": {
        "id": "pDgA6fd6OyL-"
      },
      "outputs": [],
      "source": [
        "assert (non_zeros == np.array([0, 1, 4])).all()"
      ]
    },
    {
      "cell_type": "markdown",
      "metadata": {
        "id": "J4OKimI7OyL-"
      },
      "source": [
        "**문제 9**"
      ]
    },
    {
      "cell_type": "markdown",
      "metadata": {
        "id": "oWcGVwjmOyL-"
      },
      "source": [
        "두 개의 1차원 어레이가 다음과 같이 주어졌다."
      ]
    },
    {
      "cell_type": "code",
      "execution_count": 83,
      "metadata": {
        "id": "IfmkhwuuOyL-"
      },
      "outputs": [],
      "source": [
        "A = np.ones(3)*1\n",
        "B = np.ones(3)*2"
      ]
    },
    {
      "cell_type": "markdown",
      "metadata": {
        "id": "nX6uZC9XOyL-"
      },
      "source": [
        "아래 코드의 실행 결과를 설명하라."
      ]
    },
    {
      "cell_type": "code",
      "execution_count": 84,
      "metadata": {
        "colab": {
          "base_uri": "https://localhost:8080/"
        },
        "id": "0pXvft-9OyL_",
        "outputId": "172473a8-eeca-4957-b11c-07dc9909ab3b"
      },
      "outputs": [
        {
          "data": {
            "text/plain": [
              "array([-1.5, -1.5, -1.5])"
            ]
          },
          "execution_count": 84,
          "metadata": {},
          "output_type": "execute_result"
        }
      ],
      "source": [
        "(A+B)*(-A/2)"
      ]
    },
    {
      "cell_type": "markdown",
      "metadata": {
        "id": "uZ_RWkZ4OyL_"
      },
      "source": [
        "`코드설명`: (1+2)*(-0.5) = -1.5"
      ]
    },
    {
      "cell_type": "code",
      "execution_count": 85,
      "metadata": {
        "colab": {
          "base_uri": "https://localhost:8080/"
        },
        "id": "DukM3DVNOyL_",
        "outputId": "d19fa94f-7502-4eed-d128-e303b0f22c02"
      },
      "outputs": [
        {
          "data": {
            "text/plain": [
              "array([3., 3., 3.])"
            ]
          },
          "execution_count": 85,
          "metadata": {},
          "output_type": "execute_result"
        }
      ],
      "source": [
        "np.add(A,B,out=B)"
      ]
    },
    {
      "cell_type": "markdown",
      "metadata": {
        "id": "ZlCItFw8OyL_"
      },
      "source": [
        "`코드설명`: A와 B를 더하고 그 값을 B에다 덮어씌움"
      ]
    },
    {
      "cell_type": "code",
      "execution_count": 86,
      "metadata": {
        "colab": {
          "base_uri": "https://localhost:8080/"
        },
        "id": "xG6doR7zOyL_",
        "outputId": "9fe46aa3-e0c2-48d0-b64e-1a22a29267ae"
      },
      "outputs": [
        {
          "data": {
            "text/plain": [
              "array([0.5, 0.5, 0.5])"
            ]
          },
          "execution_count": 86,
          "metadata": {},
          "output_type": "execute_result"
        }
      ],
      "source": [
        "np.divide(A,2,out=A)"
      ]
    },
    {
      "cell_type": "markdown",
      "metadata": {
        "id": "H_WzwXEwOyL_"
      },
      "source": [
        "`코드설명`: A를 2로 나누고 그 값을 A에 저장"
      ]
    },
    {
      "cell_type": "code",
      "execution_count": 87,
      "metadata": {
        "colab": {
          "base_uri": "https://localhost:8080/"
        },
        "id": "ZQxQEniYOyMA",
        "outputId": "6e3386ca-12cc-4fab-ec6e-789869614cc1"
      },
      "outputs": [
        {
          "data": {
            "text/plain": [
              "array([-0.5, -0.5, -0.5])"
            ]
          },
          "execution_count": 87,
          "metadata": {},
          "output_type": "execute_result"
        }
      ],
      "source": [
        "np.negative(A,out=A)"
      ]
    },
    {
      "cell_type": "markdown",
      "metadata": {
        "id": "8Vga7y_4OyMA"
      },
      "source": [
        "`코드설명`: A의 부호를 반전시키고 그 값을 A에 저장"
      ]
    },
    {
      "cell_type": "code",
      "execution_count": 88,
      "metadata": {
        "colab": {
          "base_uri": "https://localhost:8080/"
        },
        "id": "TiBvC4t1OyMA",
        "outputId": "bee5726e-2f9f-4e32-845c-0c96bdf53531"
      },
      "outputs": [
        {
          "data": {
            "text/plain": [
              "array([-1.5, -1.5, -1.5])"
            ]
          },
          "execution_count": 88,
          "metadata": {},
          "output_type": "execute_result"
        }
      ],
      "source": [
        "np.multiply(A,B,out=A)"
      ]
    },
    {
      "cell_type": "markdown",
      "metadata": {
        "id": "5JnEzfg0OyMA"
      },
      "source": [
        "`코드설명`: A와 B를 곱한 뒤 A에 저장"
      ]
    },
    {
      "cell_type": "markdown",
      "metadata": {
        "id": "amf5y49nOyMA"
      },
      "source": [
        "## 2차원 어레이"
      ]
    },
    {
      "cell_type": "markdown",
      "metadata": {
        "id": "bYCCl6MqOyMA"
      },
      "source": [
        "**문제 1**"
      ]
    },
    {
      "cell_type": "markdown",
      "metadata": {
        "id": "uay5ubQCOyMA"
      },
      "source": [
        "변수 `Z`가 (5, 5) 모양의 2차원 어레이를 가리키도록 하라.\n",
        "단, 어레이의 항목은 0과 1 사이의 임의의 부동소수점으로 구성되어야 한다.\n",
        "또한 `np.random.random()` 함수를 이용한다."
      ]
    },
    {
      "cell_type": "code",
      "execution_count": null,
      "metadata": {
        "id": "IpqpLrE0OyMA"
      },
      "outputs": [],
      "source": [
        "# None을 적절한 표현식으로 대체하라.\n",
        "Z = np.random.random((5,5))"
      ]
    },
    {
      "cell_type": "markdown",
      "metadata": {
        "id": "BJH_s2VROyMA"
      },
      "source": [
        "아래 코드는 수정하지 마세요!!!"
      ]
    },
    {
      "cell_type": "code",
      "execution_count": null,
      "metadata": {
        "id": "ki6INi3SOyMA"
      },
      "outputs": [],
      "source": [
        "assert (Z.shape == (5, 5))\n",
        "assert (Z.dtype == np.float64)"
      ]
    },
    {
      "cell_type": "markdown",
      "metadata": {
        "id": "VkbTOfcBOyMB"
      },
      "source": [
        "**문제 2**"
      ]
    },
    {
      "cell_type": "markdown",
      "metadata": {
        "id": "K3IRP0_yzg5h"
      },
      "source": [
        "변수 `Z`가 0에서 8까지의 정수로 이루어진 (3, 3) 모양의 2차원 어레이를 가리키도록 하라.\n",
        "단, `np.arange()` 함수와 `reshape()` 어레이 메서드를 반드시 이용한다."
      ]
    },
    {
      "cell_type": "code",
      "execution_count": 99,
      "metadata": {
        "id": "3TnVoMehK1vg"
      },
      "outputs": [],
      "source": [
        "# None을 적절한 표현식으로 대체하라.\n",
        "Z = np.arange(9).reshape(3,3)"
      ]
    },
    {
      "cell_type": "markdown",
      "metadata": {
        "id": "ibvA4ZJ7OyMB"
      },
      "source": [
        "아래 코드는 수정하지 마세요!!!"
      ]
    },
    {
      "cell_type": "code",
      "execution_count": 100,
      "metadata": {
        "id": "IMpB0FymOyMB"
      },
      "outputs": [],
      "source": [
        "assert (Z == np.array([[0, 1, 2],\n",
        "                       [3, 4, 5],\n",
        "                       [6, 7, 8]])).all()"
      ]
    },
    {
      "cell_type": "markdown",
      "metadata": {
        "id": "SnfNBJg-OyMB"
      },
      "source": [
        "**문제 3**"
      ]
    },
    {
      "cell_type": "markdown",
      "metadata": {
        "id": "v3eFpNJsOyMB"
      },
      "source": [
        "변수 `Z`가 (3, 3) 모양의 2차원 어레이를 가리키도록 하라.\n",
        "단, 2차원 어레이의 대각선 상은 1이고 나머지는 0이어야 한다.\n",
        "또한 `np.eye()` 함수를 반드시 이용한다."
      ]
    },
    {
      "cell_type": "code",
      "execution_count": 101,
      "metadata": {
        "id": "hF_WIcFkLDEM"
      },
      "outputs": [],
      "source": [
        "# None을 적절한 표현식으로 대체하라.\n",
        "Z = np.eye(3)"
      ]
    },
    {
      "cell_type": "markdown",
      "metadata": {
        "id": "GD-wh2NDOyMB"
      },
      "source": [
        "아래 코드는 수정하지 마세요!!!"
      ]
    },
    {
      "cell_type": "code",
      "execution_count": 102,
      "metadata": {
        "id": "Ajfqiu_IOyMC"
      },
      "outputs": [],
      "source": [
        "assert (Z == np.array([[1., 0., 0.],\n",
        "                       [0., 1., 0.],\n",
        "                       [0., 0., 1.]])).all"
      ]
    },
    {
      "cell_type": "markdown",
      "metadata": {
        "id": "vwdtiKw8OyMC"
      },
      "source": [
        "**문제 4**"
      ]
    },
    {
      "cell_type": "markdown",
      "metadata": {
        "id": "aZd7JjakOyMC"
      },
      "source": [
        "변수 `Z`가 아래와 같은 (5,5) 모양의 2차원 어레이를 가리키도록 하라.\n",
        "단, `np.arange()` 함수와 `np.diag()` 함수의 `k` 키워드 인자를 반드시 활용한다.\n",
        "\n",
        "```\n",
        "[[0 0 0 0 0]\n",
        " [1 0 0 0 0]\n",
        " [0 2 0 0 0]\n",
        " [0 0 3 0 0]\n",
        " [0 0 0 4 0]]\n",
        "```"
      ]
    },
    {
      "cell_type": "code",
      "execution_count": null,
      "metadata": {
        "id": "yqe6rLXMMbiN"
      },
      "outputs": [],
      "source": [
        "# None을 적절한 표현식으로 대체하라.\n",
        "Z = np.diag(1+np.arange(4), k=-1) #1부터 시작 k는 대각선의 위치. 2차원 어레이 생성성"
      ]
    },
    {
      "cell_type": "markdown",
      "metadata": {
        "id": "xvCLGLtPOyMC"
      },
      "source": [
        "아래 코드는 수정하지 마세요!!!"
      ]
    },
    {
      "cell_type": "code",
      "execution_count": 106,
      "metadata": {
        "id": "ndSpJ_FdOyMC"
      },
      "outputs": [],
      "source": [
        "assert (Z == np.array([[0, 0, 0, 0, 0],\n",
        "                        [1, 0, 0, 0, 0],\n",
        "                        [0, 2, 0, 0, 0],\n",
        "                        [0, 0, 3, 0, 0],\n",
        "                        [0, 0, 0, 4, 0]])).all()"
      ]
    },
    {
      "cell_type": "markdown",
      "metadata": {
        "id": "qRR_GBxLOyMC"
      },
      "source": [
        "**문제 5**"
      ]
    },
    {
      "cell_type": "markdown",
      "metadata": {
        "id": "YVUUBjpzOyMD"
      },
      "source": [
        "변수 `Z`가 아래와 같은 (5, 5) 모양의 2차원 어레이를 가리키도록 하라.\n",
        "단, `np.zeros()` 함수, `np.arange()` 함수, 2차원 어레이 덧셈을 이용한다.\n",
        "\n",
        "```\n",
        "[[0. 1. 2. 3. 4.]\n",
        " [0. 1. 2. 3. 4.]\n",
        " [0. 1. 2. 3. 4.]\n",
        " [0. 1. 2. 3. 4.]\n",
        " [0. 1. 2. 3. 4.]]\n",
        "```"
      ]
    },
    {
      "cell_type": "code",
      "execution_count": 110,
      "metadata": {
        "id": "1eXRQS31czdk"
      },
      "outputs": [],
      "source": [
        "# None을 적절한 표현식으로 대체하라.\n",
        "Z = np.zeros((5,5)) + np.arange(5)"
      ]
    },
    {
      "cell_type": "markdown",
      "metadata": {
        "id": "DoD4Fl36OyMD"
      },
      "source": [
        "아래 코드는 수정하지 마세요!!!"
      ]
    },
    {
      "cell_type": "code",
      "execution_count": 111,
      "metadata": {
        "id": "MGuHK6GBOyMD"
      },
      "outputs": [],
      "source": [
        "assert (Z == np.array([[0., 1., 2., 3., 4.],\n",
        "                        [0., 1., 2., 3., 4.],\n",
        "                        [0., 1., 2., 3., 4.],\n",
        "                        [0., 1., 2., 3., 4.],\n",
        "                        [0., 1., 2., 3., 4.]])).all()"
      ]
    },
    {
      "cell_type": "markdown",
      "metadata": {
        "id": "VGiXIq9hOyMD"
      },
      "source": [
        "**문제 6**"
      ]
    },
    {
      "cell_type": "markdown",
      "metadata": {
        "id": "pGvCRAmGOyMD"
      },
      "source": [
        "아래 3x3 단위 행렬에 해당하는 2차원 어레이를 한줄 코드로 생성하라.\n",
        "단, `np.eye()` 함수를 이용한다.\n",
        "\n",
        "```\n",
        "[[1. 0. 0.]\n",
        " [0. 1. 0.]\n",
        " [0. 0. 1.]]\n",
        "```"
      ]
    },
    {
      "cell_type": "code",
      "execution_count": 115,
      "metadata": {
        "id": "4Gs3Q-4xOyMD"
      },
      "outputs": [
        {
          "name": "stdout",
          "output_type": "stream",
          "text": [
            "[[1. 0. 0.]\n",
            " [0. 1. 0.]\n",
            " [0. 0. 1.]]\n"
          ]
        }
      ],
      "source": [
        "# None을 적절한 표현식으로 대체하라.\n",
        "Z = np.eye(3)\n",
        "print(Z)"
      ]
    },
    {
      "cell_type": "markdown",
      "metadata": {
        "id": "TezGcmzcOyMD"
      },
      "source": [
        "아래 코드는 수정하지 마세요!!!"
      ]
    },
    {
      "cell_type": "code",
      "execution_count": 116,
      "metadata": {
        "id": "-jgKk7XMOyME"
      },
      "outputs": [],
      "source": [
        "assert (Z == np.array([[1., 0., 0.],\n",
        "                       [0., 1., 0.],\n",
        "                       [0., 0., 1.]])).all()"
      ]
    },
    {
      "cell_type": "markdown",
      "metadata": {
        "id": "CbZuovTWOyME"
      },
      "source": [
        "**문제 7**"
      ]
    },
    {
      "cell_type": "markdown",
      "metadata": {
        "id": "gS8EqX2_OyME"
      },
      "source": [
        "무작위 수로 구성된 (5, 5) 모양의 2차원 어레이가 다음과 같다."
      ]
    },
    {
      "cell_type": "code",
      "execution_count": null,
      "metadata": {
        "id": "_gXvf9a1OyME"
      },
      "outputs": [],
      "source": [
        "#지정한 범위로 값을 조정하는 것: 정규화, -1~1 또는 0~1 대부분이 후자 \n",
        "#대원칙: 인공지능은 학습전에 데이터가 정규화 되어있어야 한다. (안되어있어도 되지만 성능이 딸림)\n",
        "Z = np.random.random((5, 5))"
      ]
    },
    {
      "cell_type": "markdown",
      "metadata": {
        "id": "_wOaw8-pOyME"
      },
      "source": [
        "변수 `Z`가 가리키는 2차원 어레이에 대해 min-max 크기조정(정규화)을 적용하라.\n",
        "\n",
        "min-max 크기조정(정규화)은 항목의 모든 값을 아래 식을 통해 0과 1 사이의 부동소수점으로 변환한다. $max$와 $min$은 각각 최대 항목과 최소 항목을 가리킨다.\n",
        "\n",
        "$$\n",
        "\\frac{x-min}{max - min}\n",
        "$$"
      ]
    },
    {
      "cell_type": "code",
      "execution_count": 117,
      "metadata": {
        "id": "EtrJ68hxOyME"
      },
      "outputs": [],
      "source": [
        "# None을 적절한 표현식으로 대체하라.\n",
        "Z = (Z-Z.min())/(Z.max()-Z.min())"
      ]
    },
    {
      "cell_type": "markdown",
      "metadata": {
        "id": "aysXLWelOyME"
      },
      "source": [
        "아래 코드는 수정하지 마세요!!!"
      ]
    },
    {
      "cell_type": "code",
      "execution_count": 118,
      "metadata": {
        "id": "erpagDN3OyMF"
      },
      "outputs": [],
      "source": [
        "assert (Z.max() == 1 and Z.min() == 0)"
      ]
    },
    {
      "cell_type": "markdown",
      "metadata": {
        "id": "BIZ5a6d1OyMF"
      },
      "source": [
        "## 3차원 어레이"
      ]
    },
    {
      "cell_type": "markdown",
      "metadata": {
        "id": "TZ6F5ajTOyMF"
      },
      "source": [
        "**문제 1**"
      ]
    },
    {
      "cell_type": "markdown",
      "metadata": {
        "id": "0LWpC_0tOyMF"
      },
      "source": [
        "(1) 변수 `Z`가 (3, 3, 3) 모양의 3차원 어레이를 가리키도록 하라.\n",
        "단, 어레이의 항목은 0과 1 사이의 임의의 부동소수점으로 구성되어야 한다.\n",
        "또한 `np.random.random()` 함수를 이용한다."
      ]
    },
    {
      "cell_type": "code",
      "execution_count": 121,
      "metadata": {
        "id": "v-K8hejPLP11"
      },
      "outputs": [
        {
          "name": "stdout",
          "output_type": "stream",
          "text": [
            "[[[0.93738807 0.04317374 0.16481482]\n",
            "  [0.13172877 0.72597991 0.81778533]\n",
            "  [0.21351137 0.50585269 0.84070303]]\n",
            "\n",
            " [[0.73280154 0.54223721 0.59034769]\n",
            "  [0.50836055 0.29754845 0.56502199]\n",
            "  [0.6888853  0.87332292 0.63629135]]\n",
            "\n",
            " [[0.76112154 0.16007163 0.46155747]\n",
            "  [0.00933162 0.24667886 0.72646172]\n",
            "  [0.99180995 0.0991781  0.40149432]]]\n"
          ]
        }
      ],
      "source": [
        "# None을 적절한 표현식으로 대체하라.\n",
        "Z = np.random.random((3,3,3))\n",
        "print(Z)"
      ]
    },
    {
      "cell_type": "markdown",
      "metadata": {
        "id": "g2BmezW1OyMF"
      },
      "source": [
        "아래 코드는 수정하지 마세요!!!"
      ]
    },
    {
      "cell_type": "code",
      "execution_count": 122,
      "metadata": {
        "id": "-HhiC-EtOyMF"
      },
      "outputs": [],
      "source": [
        "assert (Z.shape == (3, 3, 3))\n",
        "assert (Z.dtype == 'f8')"
      ]
    },
    {
      "cell_type": "markdown",
      "metadata": {
        "id": "X-WPXvetOyMF"
      },
      "source": [
        "(2) `Z`에 포함된 항목들 중에서 최댓값과 최솟값의 차이를 구하라.\n",
        "단, `maximum`, `mininum` 두 변수가 각각 최댓값과 최솟값을 가리키도록 하며,\n",
        "`max()`와 `min()` 어레이 메서드를 이용한다."
      ]
    },
    {
      "cell_type": "code",
      "execution_count": 123,
      "metadata": {
        "id": "a1m55XFTOyMF"
      },
      "outputs": [],
      "source": [
        "# None을 적절한 표현식으로 대체하라.\n",
        "maximum = Z.max()\n",
        "minimum = Z.min()"
      ]
    },
    {
      "cell_type": "markdown",
      "metadata": {
        "id": "AcPT2ivaOyMF"
      },
      "source": [
        "아래 코드는 수정하지 마세요!!!"
      ]
    },
    {
      "cell_type": "code",
      "execution_count": 124,
      "metadata": {
        "id": "b8frwtZSOyMG"
      },
      "outputs": [
        {
          "name": "stdout",
          "output_type": "stream",
          "text": [
            "최댓값과 최솟값의 차이: 0.9824783315222702\n"
          ]
        }
      ],
      "source": [
        "print(f\"최댓값과 최솟값의 차이: {maximum - minimum}\")"
      ]
    },
    {
      "cell_type": "markdown",
      "metadata": {
        "id": "X7YxBUxUOyMG"
      },
      "source": [
        "## `dtype` 종류"
      ]
    },
    {
      "cell_type": "markdown",
      "metadata": {
        "id": "o91_XRoTOyMG"
      },
      "source": [
        "**문제 1**"
      ]
    },
    {
      "cell_type": "markdown",
      "metadata": {
        "id": "6-e53NFPOyMG"
      },
      "source": [
        "아래 두 코드의 실행결과를 설명하라."
      ]
    },
    {
      "cell_type": "code",
      "execution_count": 125,
      "metadata": {
        "id": "4kdMrHjaOyMG"
      },
      "outputs": [
        {
          "name": "stdout",
          "output_type": "stream",
          "text": [
            "-128\n",
            "127\n",
            "-2147483648\n",
            "2147483647\n",
            "-9223372036854775808\n",
            "9223372036854775807\n"
          ]
        }
      ],
      "source": [
        "for dtype in [np.int8, np.int32, np.int64]:\n",
        "    print(np.iinfo(dtype).min)\n",
        "    print(np.iinfo(dtype).max)"
      ]
    },
    {
      "cell_type": "markdown",
      "metadata": {
        "id": "lGvmNg6fOyMG"
      },
      "source": [
        "`코드설명`: 정수형 자료형에 허용되는 비트수에 따른 최소값과 최대값. #2^8=256 이기에 0포함 255. -128~127까지"
      ]
    },
    {
      "cell_type": "code",
      "execution_count": 126,
      "metadata": {
        "id": "mDJbld3GOyMG"
      },
      "outputs": [
        {
          "name": "stdout",
          "output_type": "stream",
          "text": [
            "-3.4028235e+38\n",
            "3.4028235e+38\n",
            "1.1920929e-07\n",
            "-1.7976931348623157e+308\n",
            "1.7976931348623157e+308\n",
            "2.220446049250313e-16\n"
          ]
        }
      ],
      "source": [
        "for dtype in [np.float32, np.float64]:\n",
        "    print(np.finfo(dtype).min)\n",
        "    print(np.finfo(dtype).max)\n",
        "    print(np.finfo(dtype).eps)"
      ]
    },
    {
      "cell_type": "markdown",
      "metadata": {
        "id": "lus0EX0XOyMG"
      },
      "source": [
        "`코드설명`: 부동소수점 자료형에 허용되는 비트수에 따른 최소값과 최대값값"
      ]
    },
    {
      "cell_type": "markdown",
      "metadata": {
        "id": "J7DDj7mqOyMG"
      },
      "source": [
        "**문제 2**"
      ]
    },
    {
      "cell_type": "markdown",
      "metadata": {
        "id": "EBPnv58oOyMH"
      },
      "source": [
        "부동소수점으로 구성된 1차원 어레이가 아래와 같이 주어졌다."
      ]
    },
    {
      "cell_type": "code",
      "execution_count": 129,
      "metadata": {
        "id": "05H43PlsOyMH"
      },
      "outputs": [
        {
          "name": "stdout",
          "output_type": "stream",
          "text": [
            "[99.63343    36.83095    44.861065   72.20709    88.619576   59.304432\n",
            " 39.15257    41.262184   69.56181     0.32182637]\n"
          ]
        }
      ],
      "source": [
        "Z = (np.random.rand(10)*100).astype(np.float32)\n",
        "print(Z)"
      ]
    },
    {
      "cell_type": "markdown",
      "metadata": {
        "id": "jpqF8YtEOyMH"
      },
      "source": [
        "변수 `Y`가 변수 `Z`가 가리키는 1차원 어레이의 dtype이 `int32`로 형변환된 1차원 어레이를 가리키도록 하라.\n",
        "단, `astype()` 메서드를 이용한다."
      ]
    },
    {
      "cell_type": "code",
      "execution_count": 131,
      "metadata": {
        "id": "FpQlwDKhOyMH"
      },
      "outputs": [
        {
          "name": "stdout",
          "output_type": "stream",
          "text": [
            "[99 36 44 72 88 59 39 41 69  0]\n"
          ]
        }
      ],
      "source": [
        "# None을 적절한 표현식으로 대체하라.\n",
        "Y = Z.astype(np.int32)\n",
        "print(Y)"
      ]
    },
    {
      "cell_type": "markdown",
      "metadata": {
        "id": "7DEMdHPzOyMH"
      },
      "source": [
        "아래 코드는 수정하지 마세요!!!"
      ]
    },
    {
      "cell_type": "code",
      "execution_count": 132,
      "metadata": {
        "id": "ng954JCHOyMH"
      },
      "outputs": [],
      "source": [
        "assert (Y.shape == (10,))\n",
        "assert (Y.dtype == np.int32)"
      ]
    },
    {
      "cell_type": "markdown",
      "metadata": {
        "id": "tl5oP_yWOyMH"
      },
      "source": [
        "**문제 3**"
      ]
    },
    {
      "cell_type": "markdown",
      "metadata": {
        "id": "zMjJQFI_OyMH"
      },
      "source": [
        "변수 `Z`가 아래와 같이 무작위로 생성된 길이가 10인 1차원 어레이를 가리킨다."
      ]
    },
    {
      "cell_type": "code",
      "execution_count": 133,
      "metadata": {
        "id": "7YalJSBaOyMH"
      },
      "outputs": [
        {
          "data": {
            "text/plain": [
              "array([6.19589337, 3.5549301 , 7.94197331, 0.9299064 , 5.88202267,\n",
              "       4.8097289 , 6.42325526, 0.64853594, 5.79983787, 5.61484588])"
            ]
          },
          "execution_count": 133,
          "metadata": {},
          "output_type": "execute_result"
        }
      ],
      "source": [
        "Z = np.random.uniform(0,10,10) #0부터10사이 숫자를 10개 생성\n",
        "Z"
      ]
    },
    {
      "cell_type": "markdown",
      "metadata": {
        "id": "Yjzu4D5gOyMH"
      },
      "source": [
        "(1) 나머지 연산자(`%`)를 이용하여 정수로만 구성된 어레이 `Y`를 생성하라."
      ]
    },
    {
      "cell_type": "code",
      "execution_count": 134,
      "metadata": {
        "id": "8_pXHsFgOyMI"
      },
      "outputs": [],
      "source": [
        "# None을 적절한 표현식으로 대체하라.\n",
        "Y = Z - Z%1"
      ]
    },
    {
      "cell_type": "markdown",
      "metadata": {
        "id": "r1VCd1-tOyMI"
      },
      "source": [
        "아래 코드는 수정하지 마세요!!!"
      ]
    },
    {
      "cell_type": "code",
      "execution_count": null,
      "metadata": {
        "id": "k9Pu6LByOyMI"
      },
      "outputs": [],
      "source": [
        "assert (Y == Z.astype(np.int32)).all()"
      ]
    },
    {
      "cell_type": "markdown",
      "metadata": {
        "id": "Tu1gMWUaOyMI"
      },
      "source": [
        "(2) 몫 연산자(`//`)를 이용하여 정수로만 구성된 어레이 `Y`를 생성하라."
      ]
    },
    {
      "cell_type": "code",
      "execution_count": 135,
      "metadata": {
        "id": "oRcUD_7_OyMI"
      },
      "outputs": [],
      "source": [
        "# None을 적절한 표현식으로 대체하라.\n",
        "Y = Z//1"
      ]
    },
    {
      "cell_type": "markdown",
      "metadata": {
        "id": "ZjPBA24GOyMI"
      },
      "source": [
        "아래 코드는 수정하지 마세요!!!"
      ]
    },
    {
      "cell_type": "code",
      "execution_count": null,
      "metadata": {
        "id": "z_rsrscCOyMI"
      },
      "outputs": [],
      "source": [
        "assert (Y == Z.astype(np.int32)).all()"
      ]
    },
    {
      "cell_type": "markdown",
      "metadata": {
        "id": "D6z48hSSOyMI"
      },
      "source": [
        "(3) 내림 함수 `np.floor()` 함수를 이용하여 정수로만 구성된 어레이 `Y`를 생성하라."
      ]
    },
    {
      "cell_type": "code",
      "execution_count": 136,
      "metadata": {
        "id": "MiGdJotROyMI"
      },
      "outputs": [
        {
          "name": "stdout",
          "output_type": "stream",
          "text": [
            "[6. 3. 7. 0. 5. 4. 6. 0. 5. 5.]\n"
          ]
        }
      ],
      "source": [
        "# None을 적절한 표현식으로 대체하라.\n",
        "Y = np.floor(Z)\n",
        "print(Y)"
      ]
    },
    {
      "cell_type": "markdown",
      "metadata": {
        "id": "VFLn2IpROyMI"
      },
      "source": [
        "아래 코드는 수정하지 마세요!!!"
      ]
    },
    {
      "cell_type": "code",
      "execution_count": 137,
      "metadata": {
        "id": "1gPiZOe4OyMJ"
      },
      "outputs": [],
      "source": [
        "assert (Y == Z.astype(np.int32)).all()"
      ]
    },
    {
      "cell_type": "markdown",
      "metadata": {
        "id": "7bKLoCOvOyMJ"
      },
      "source": [
        "(4) `np.trunc()` 함수를 이용하여 정수로만 구성된 어레이 `Y`를 생성하라."
      ]
    },
    {
      "cell_type": "code",
      "execution_count": 139,
      "metadata": {
        "id": "PR8Cks6qOyMJ"
      },
      "outputs": [
        {
          "name": "stdout",
          "output_type": "stream",
          "text": [
            "[6. 3. 7. 0. 5. 4. 6. 0. 5. 5.]\n"
          ]
        }
      ],
      "source": [
        "# None을 적절한 표현식으로 대체하라.\n",
        "Y = np.trunc(Z)\n",
        "print(Y)"
      ]
    },
    {
      "cell_type": "markdown",
      "metadata": {
        "id": "63LH6VofOyMJ"
      },
      "source": [
        "아래 코드는 수정하지 마세요!!!"
      ]
    },
    {
      "cell_type": "code",
      "execution_count": 140,
      "metadata": {
        "id": "onBGPGYnOyMJ"
      },
      "outputs": [],
      "source": [
        "assert (Y == Z.astype(np.int32)).all()"
      ]
    }
  ],
  "metadata": {
    "colab": {
      "include_colab_link": true,
      "provenance": []
    },
    "kernelspec": {
      "display_name": "base",
      "language": "python",
      "name": "python3"
    },
    "language_info": {
      "codemirror_mode": {
        "name": "ipython",
        "version": 3
      },
      "file_extension": ".py",
      "mimetype": "text/x-python",
      "name": "python",
      "nbconvert_exporter": "python",
      "pygments_lexer": "ipython3",
      "version": "3.12.7"
    }
  },
  "nbformat": 4,
  "nbformat_minor": 0
}
